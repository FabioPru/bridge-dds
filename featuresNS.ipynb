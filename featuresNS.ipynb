{
 "cells": [
  {
   "cell_type": "markdown",
   "metadata": {},
   "source": [
    "# Library & I/O + rules of Bridge"
   ]
  },
  {
   "cell_type": "markdown",
   "metadata": {},
   "source": [
    "## Libary"
   ]
  },
  {
   "cell_type": "code",
   "execution_count": 1,
   "metadata": {
    "ExecuteTime": {
     "end_time": "2019-06-27T21:48:17.228548Z",
     "start_time": "2019-06-27T21:48:16.090753Z"
    }
   },
   "outputs": [],
   "source": [
    "from sklearn.experimental import enable_hist_gradient_boosting"
   ]
  },
  {
   "cell_type": "code",
   "execution_count": 2,
   "metadata": {
    "ExecuteTime": {
     "end_time": "2019-06-27T21:48:21.799685Z",
     "start_time": "2019-06-27T21:48:17.238817Z"
    }
   },
   "outputs": [
    {
     "name": "stdout",
     "output_type": "stream",
     "text": [
      "All libraries set-up and ready to go!\n"
     ]
    }
   ],
   "source": [
    "# Imports\n",
    "import numpy as np\n",
    "import pandas as pd\n",
    "import matplotlib.pyplot as plt\n",
    "import seaborn as sns\n",
    "import tensorflow as tf\n",
    "import xgboost as xgb\n",
    "import time\n",
    "\n",
    "from sklearn import base, neural_network, neighbors, feature_extraction, datasets, linear_model, metrics, model_selection, preprocessing, svm, ensemble, decomposition, feature_extraction, utils\n",
    "\n",
    "# Configs\n",
    "%config InlineBackend.figure_format ='retina'\n",
    "%matplotlib inline\n",
    "\n",
    "# Cython\n",
    "%load_ext Cython\n",
    "#!python\n",
    "#cython: language_level=3\n",
    "\n",
    "print(\"All libraries set-up and ready to go!\")"
   ]
  },
  {
   "cell_type": "code",
   "execution_count": 3,
   "metadata": {
    "ExecuteTime": {
     "end_time": "2019-06-27T21:48:21.821613Z",
     "start_time": "2019-06-27T21:48:21.817891Z"
    }
   },
   "outputs": [],
   "source": [
    "np.set_printoptions(precision=1, edgeitems=10)"
   ]
  },
  {
   "cell_type": "code",
   "execution_count": 4,
   "metadata": {
    "ExecuteTime": {
     "end_time": "2019-06-27T21:48:21.837092Z",
     "start_time": "2019-06-27T21:48:21.831669Z"
    }
   },
   "outputs": [],
   "source": [
    "from warnings import filterwarnings\n",
    "filterwarnings('ignore')"
   ]
  },
  {
   "cell_type": "markdown",
   "metadata": {},
   "source": [
    "## Rules and constants of Bridge"
   ]
  },
  {
   "cell_type": "code",
   "execution_count": 5,
   "metadata": {
    "ExecuteTime": {
     "end_time": "2019-06-27T21:48:21.857157Z",
     "start_time": "2019-06-27T21:48:21.851895Z"
    }
   },
   "outputs": [],
   "source": [
    "suits = 'cdhs'\n",
    "strains = ['NT', 's', 'h', 'd', 'c']\n",
    "levels = '01234567'\n",
    "card_vals = 'AKQJT98765432'\n",
    "\n",
    "deck = [c+s for s in suits for c in card_vals]\n",
    "\n",
    "played_from = ['S', 'E', 'N', 'W']\n",
    "players = ['N', 'S']"
   ]
  },
  {
   "cell_type": "code",
   "execution_count": 6,
   "metadata": {
    "ExecuteTime": {
     "end_time": "2019-06-27T21:48:21.885145Z",
     "start_time": "2019-06-27T21:48:21.870010Z"
    }
   },
   "outputs": [],
   "source": [
    "useful_contracts = sorted(['3NT', '4s', '4h', '5d', '5c'] + [l + s for s in strains for l in '67'])"
   ]
  },
  {
   "cell_type": "code",
   "execution_count": 7,
   "metadata": {
    "ExecuteTime": {
     "end_time": "2019-06-27T21:48:21.917815Z",
     "start_time": "2019-06-27T21:48:21.894120Z"
    }
   },
   "outputs": [],
   "source": [
    "#penalties[0] = NV; penalties[1] = Vul\n",
    "\n",
    "penalties = [[0, -50, -150, -400, -800, -1100, -1400, -1700, -2000, -2300, -2600, -2900, -3200, -3500],\n",
    "             [0, -100, -350, -700, -1100, -1400, -1700, -2000, -2300, -2600, -2900, -3200, -3500, -3800]]\n",
    "\n",
    "base_scores = [[[0, 60, 60, 310, 310, 310, 810, 1310],\n",
    "               [0, 50, 50, 50, 300, 300, 800, 1300],\n",
    "               [0, 50, 50, 50, 300, 300, 800, 1300],\n",
    "               [0, 50, 50, 50, 50, 300, 800, 1300],\n",
    "               [0, 50, 50, 50, 50, 300, 800, 1300]],\n",
    "               \n",
    "               [[0, 60, 60, 510, 510, 510, 1260, 2010],\n",
    "               [0, 50, 50, 50, 500, 500, 1250, 2000],\n",
    "               [0, 50, 50, 50, 500, 500, 1250, 2000],\n",
    "               [0, 50, 50, 50, 50, 500, 1250, 2000],\n",
    "               [0, 50, 50, 50, 50, 500, 1250, 2000]]]\n",
    "\n",
    "incr = [30, 30, 30, 20, 20]"
   ]
  },
  {
   "cell_type": "code",
   "execution_count": 8,
   "metadata": {
    "ExecuteTime": {
     "end_time": "2019-06-27T21:48:21.953272Z",
     "start_time": "2019-06-27T21:48:21.945567Z"
    }
   },
   "outputs": [],
   "source": [
    "def score(contr, made, vul=0.5):\n",
    "    diff = int(made) - int(contr[0])\n",
    "    if diff < 0:\n",
    "        return (vul) * penalties[1][-diff] + (1 - vul) * penalties[0][-diff]\n",
    "    else:\n",
    "        str_i = strains.index(contr[1:])\n",
    "        return made * incr[str_i] + (vul) * base_scores[1][str_i][int(contr[0])] + (1 - vul) * base_scores[0][str_i][int(contr[0])]\n"
   ]
  },
  {
   "cell_type": "code",
   "execution_count": 9,
   "metadata": {
    "ExecuteTime": {
     "end_time": "2019-06-27T21:48:21.977378Z",
     "start_time": "2019-06-27T21:48:21.968954Z"
    }
   },
   "outputs": [
    {
     "data": {
      "text/plain": [
       "-400"
      ]
     },
     "execution_count": 9,
     "metadata": {},
     "output_type": "execute_result"
    }
   ],
   "source": [
    "score('2NT', -1, 0)"
   ]
  },
  {
   "cell_type": "markdown",
   "metadata": {},
   "source": [
    "### IMP table"
   ]
  },
  {
   "cell_type": "code",
   "execution_count": 27,
   "metadata": {
    "ExecuteTime": {
     "end_time": "2019-06-27T21:50:16.850176Z",
     "start_time": "2019-06-27T21:50:16.844337Z"
    }
   },
   "outputs": [],
   "source": [
    "IMPscale = [15, 45, 85, 125, 165, 215, 265, 315, 365, 425, 495, 595, 745, 895, 1095, 1295, 1495, 1745, 1995, 2245, 2495, 2995, 3495, 3995, 99999]\n",
    "\n",
    "def points_to_IMPs(pt_diff):\n",
    "    if pt_diff < 0:\n",
    "        return -points_to_IMPs(-pt_diff)\n",
    "    for j in range(0, len(IMPscale)):\n",
    "        if pt_diff < IMPscale[j]:\n",
    "            return j"
   ]
  },
  {
   "cell_type": "code",
   "execution_count": 28,
   "metadata": {
    "ExecuteTime": {
     "end_time": "2019-06-27T21:50:25.916649Z",
     "start_time": "2019-06-27T21:50:25.906735Z"
    }
   },
   "outputs": [],
   "source": [
    "def row_eval(idx, contract1, contract2, vul=0.5):\n",
    "    out1 = []; out2 = []; diff = 0\n",
    "    s1, s2 = strains.index(contract1[1:]), strains.index(contract2[1:])\n",
    "    row = pr[idx]\n",
    "    for tricks in range(0, 14):\n",
    "        if pr[idx][s1][tricks] > 0:\n",
    "            out1.append([tricks, int(pr[idx][s1][tricks])])\n",
    "        if pr[idx][s2][tricks] > 0:\n",
    "            out2.append([tricks, int(pr[idx][s2][tricks])])\n",
    "    for i in out1:\n",
    "        for j in out2:\n",
    "            diff += i[1] * j[1] * points_to_IMPs(score(contract1, i[0] - 6, vul) - score(contract2, j[0] - 6, vul))\n",
    "    return diff / (dd_samples ** 2)"
   ]
  },
  {
   "cell_type": "markdown",
   "metadata": {},
   "source": [
    "### Valid bid sequences"
   ]
  },
  {
   "cell_type": "code",
   "execution_count": 12,
   "metadata": {
    "ExecuteTime": {
     "end_time": "2019-06-27T21:48:22.045551Z",
     "start_time": "2019-06-27T21:48:22.042000Z"
    }
   },
   "outputs": [],
   "source": [
    "bids = [l+s for l in '123' for s in 'cdhsN'] + ['4c']"
   ]
  },
  {
   "cell_type": "code",
   "execution_count": 13,
   "metadata": {
    "ExecuteTime": {
     "end_time": "2019-06-27T21:48:22.059636Z",
     "start_time": "2019-06-27T21:48:22.049460Z"
    }
   },
   "outputs": [],
   "source": [
    "in_s = ['(1d)']\n",
    "sequences = []\n",
    "for idx in range(len(in_s) + 1, len(bids)):\n",
    "    new_s = sequences\n",
    "    for s in sequences + [in_s]:\n",
    "        if s[-1][1:3] != bids[idx-1]:\n",
    "            new_s.append(s + [bids[idx-1], \"(\" + bids[idx] + \")\",])\n",
    "    sequences = new_s\n",
    "\n",
    "strong_club_seq = [['(1c)'] + s[1:-1] + ['(P)'] for s in sequences if (s[-2] == bids[-2]) or (s[-2] == bids[-3])]"
   ]
  },
  {
   "cell_type": "code",
   "execution_count": 14,
   "metadata": {
    "ExecuteTime": {
     "end_time": "2019-06-27T21:48:22.079514Z",
     "start_time": "2019-06-27T21:48:22.073220Z"
    }
   },
   "outputs": [
    {
     "data": {
      "text/plain": [
       "377"
      ]
     },
     "execution_count": 14,
     "metadata": {},
     "output_type": "execute_result"
    }
   ],
   "source": [
    "len(strong_club_seq)"
   ]
  },
  {
   "cell_type": "markdown",
   "metadata": {},
   "source": [
    "## I/O"
   ]
  },
  {
   "cell_type": "code",
   "execution_count": 15,
   "metadata": {
    "ExecuteTime": {
     "end_time": "2019-06-27T21:48:22.125662Z",
     "start_time": "2019-06-27T21:48:22.121342Z"
    }
   },
   "outputs": [],
   "source": [
    "dd_samples = 20"
   ]
  },
  {
   "cell_type": "code",
   "execution_count": 16,
   "metadata": {
    "ExecuteTime": {
     "end_time": "2019-06-27T21:48:22.410207Z",
     "start_time": "2019-06-27T21:48:22.128934Z"
    }
   },
   "outputs": [
    {
     "name": "stdout",
     "output_type": "stream",
     "text": [
      "Read  632880  samples\n"
     ]
    }
   ],
   "source": [
    "f = open(\"dNS.txt\", \"r\")\n",
    "deals = f.read().split(\"\\n\")\n",
    "del deals[-1]\n",
    "f.close\n",
    "print(\"Read \", len(deals), \" samples\")"
   ]
  },
  {
   "cell_type": "code",
   "execution_count": 17,
   "metadata": {
    "ExecuteTime": {
     "end_time": "2019-06-27T21:48:22.646157Z",
     "start_time": "2019-06-27T21:48:22.414495Z"
    }
   },
   "outputs": [],
   "source": [
    "d = [{} for _ in range(0, len(deals) // 10)]\n",
    "for i in range(0, len(deals) // 10):\n",
    "    d[i]['text'] = deals[10*i][2:18] + ' ' + deals[10*i][36:52]\n",
    "    \n",
    "df = pd.DataFrame(data = d)"
   ]
  },
  {
   "cell_type": "markdown",
   "metadata": {},
   "source": [
    "# Creating hands etc"
   ]
  },
  {
   "cell_type": "code",
   "execution_count": 18,
   "metadata": {
    "ExecuteTime": {
     "end_time": "2019-06-27T21:48:24.711054Z",
     "start_time": "2019-06-27T21:48:23.477070Z"
    }
   },
   "outputs": [],
   "source": [
    "hands = [{} for _ in range(0, int(len(deals) // 10))]\n",
    "\n",
    "for i in range(0, int(len(deals) // 10)):\n",
    "    for pl_id in range(0, len(players)):\n",
    "        cs = 0; l = []\n",
    "        for c in deals[10*i][2 + 34*pl_id:18 + 34 * pl_id]:\n",
    "            if c == '.':\n",
    "                cs += 1\n",
    "            else:\n",
    "                card = c + suits[cs]\n",
    "                l.append(card)\n",
    "        hands[i][players[pl_id]] = l"
   ]
  },
  {
   "cell_type": "code",
   "execution_count": 19,
   "metadata": {
    "ExecuteTime": {
     "end_time": "2019-06-27T21:48:25.265046Z",
     "start_time": "2019-06-27T21:48:25.260772Z"
    }
   },
   "outputs": [],
   "source": [
    "def decodeHex(x):\n",
    "    if x == 'A':\n",
    "        return 10.0\n",
    "    if x == 'B':\n",
    "        return 11.0\n",
    "    if x == 'C':\n",
    "        return 12.0\n",
    "    if x == 'D':\n",
    "        return 13.0\n",
    "    return float(x)"
   ]
  },
  {
   "cell_type": "code",
   "execution_count": 20,
   "metadata": {
    "ExecuteTime": {
     "end_time": "2019-06-27T21:48:38.877081Z",
     "start_time": "2019-06-27T21:48:25.808880Z"
    }
   },
   "outputs": [],
   "source": [
    "winners = [[] for _ in range(0, int(len(deals) // 10))]\n",
    "\n",
    "for i in range(0, int(len(deals) // 10)):\n",
    "    winners[i] = [{} for _ in range(0, len(strains))]\n",
    "    for strain_idx in range(0, len(strains)):\n",
    "        winners[i][strain_idx] = {played_from[pl]: [13 - decodeHex(deals[10*i+j][70 + 4*strain_idx + pl]) for j in range(0,10)] for pl in range(0, len(played_from))}"
   ]
  },
  {
   "cell_type": "code",
   "execution_count": 21,
   "metadata": {
    "ExecuteTime": {
     "end_time": "2019-06-27T21:48:42.289162Z",
     "start_time": "2019-06-27T21:48:42.282811Z"
    }
   },
   "outputs": [
    {
     "data": {
      "text/plain": [
       "[12.0, 12.0, 12.0, 12.0, 12.0, 12.0, 11.0, 12.0, 12.0, 12.0]"
      ]
     },
     "execution_count": 21,
     "metadata": {},
     "output_type": "execute_result"
    }
   ],
   "source": [
    "winners[0][0]['N']"
   ]
  },
  {
   "cell_type": "markdown",
   "metadata": {},
   "source": [
    "# Probabilities of contracts making off DD sample / y engineering"
   ]
  },
  {
   "cell_type": "markdown",
   "metadata": {},
   "source": [
    "## Computing p_"
   ]
  },
  {
   "cell_type": "code",
   "execution_count": 22,
   "metadata": {
    "ExecuteTime": {
     "end_time": "2019-06-27T21:48:54.989830Z",
     "start_time": "2019-06-27T21:48:45.581848Z"
    }
   },
   "outputs": [],
   "source": [
    "pr = [[] for _ in range(0, int(len(deals) // 10))]\n",
    "\n",
    "for i in range(0, int(len(deals) // 10)):\n",
    "    pr[i] = [[0 for _ in range(0, 14)] for _ in range(0, len(deck))]\n",
    "    for strain_idx in range(0, len(strains)):\n",
    "        for n in winners[i][strain_idx]['N'] + winners[i][strain_idx]['S']:\n",
    "            pr[i][strain_idx][int(n)] += 1 \n"
   ]
  },
  {
   "cell_type": "code",
   "execution_count": 23,
   "metadata": {
    "ExecuteTime": {
     "end_time": "2019-06-27T21:49:03.148184Z",
     "start_time": "2019-06-27T21:49:03.140628Z"
    }
   },
   "outputs": [
    {
     "data": {
      "text/plain": [
       "[0, 0, 0, 0, 0, 0, 0, 0, 0, 0, 0, 7, 13, 0]"
      ]
     },
     "execution_count": 23,
     "metadata": {},
     "output_type": "execute_result"
    }
   ],
   "source": [
    "pr[0][0]"
   ]
  },
  {
   "cell_type": "code",
   "execution_count": 24,
   "metadata": {
    "ExecuteTime": {
     "end_time": "2019-06-27T21:49:11.455758Z",
     "start_time": "2019-06-27T21:49:11.451792Z"
    }
   },
   "outputs": [],
   "source": [
    "# old: total point EV\n",
    "\n",
    "#for j in range(0, 5):\n",
    "#    for n in range(1, 8):\n",
    "#        df['ev_' + str(n) + strains[j]] = 0\n",
    "#        for m in range(0, 8):\n",
    "#            df['ev_' + str(n) + strains[j]] += df['p_' + str(m) + strains[j]] * score(str(n) + strains[j], m, 0.5) / 20"
   ]
  },
  {
   "cell_type": "code",
   "execution_count": 25,
   "metadata": {
    "ExecuteTime": {
     "end_time": "2019-06-27T21:49:19.751153Z",
     "start_time": "2019-06-27T21:49:19.746591Z"
    }
   },
   "outputs": [],
   "source": [
    "#useful_cols = ['N', 'S'] + ['p_' + l + s for l in levels for s in strains] + ['ev_' + c for c in useful_contracts]\n",
    "#df = df[useful_cols]"
   ]
  },
  {
   "cell_type": "markdown",
   "metadata": {},
   "source": [
    "## Best contract and IMP difference"
   ]
  },
  {
   "cell_type": "code",
   "execution_count": 29,
   "metadata": {
    "ExecuteTime": {
     "end_time": "2019-06-27T21:51:13.865991Z",
     "start_time": "2019-06-27T21:50:35.090876Z"
    },
    "code_folding": []
   },
   "outputs": [],
   "source": [
    "####### DO NOT RUN #######\n",
    "## TAKES 1 sec/1000 samples [1 min]\n",
    "\n",
    "best_c = ['3NT' for _ in range(0, len(df))]\n",
    "\n",
    "for i in range(0, len(df)):\n",
    "    bestc = '3NT'\n",
    "    for c in useful_contracts:\n",
    "        if row_eval(i, bestc, c) < 0:\n",
    "            bestc = c\n",
    "    best_c[i] = bestc\n",
    "\n",
    "df['best_c'] = best_c"
   ]
  },
  {
   "cell_type": "code",
   "execution_count": 30,
   "metadata": {
    "ExecuteTime": {
     "end_time": "2019-06-27T21:52:00.517268Z",
     "start_time": "2019-06-27T21:51:22.226003Z"
    }
   },
   "outputs": [],
   "source": [
    "imp_diffs = [[0 for _ in range(0, len(useful_contracts))] for _ in range(0, len(df))]\n",
    "\n",
    "####### DO NOT RUN #######\n",
    "## TAKES 1 sec/1000 samples [1 min]\n",
    "\n",
    "for i in range(0, len(df)):\n",
    "    bestc = df.at[i, 'best_c']\n",
    "    for c_idx in range(0, len(useful_contracts)):\n",
    "        imp_diffs[i][c_idx] = (-1) * row_eval(i, bestc, useful_contracts[c_idx])\n"
   ]
  },
  {
   "cell_type": "code",
   "execution_count": 31,
   "metadata": {
    "ExecuteTime": {
     "end_time": "2019-06-27T21:52:09.147944Z",
     "start_time": "2019-06-27T21:52:09.114347Z"
    }
   },
   "outputs": [],
   "source": [
    "imp_diff_3NT = np.array([imp_diffs[i][0] for i in range(0, len(df))])"
   ]
  },
  {
   "cell_type": "markdown",
   "metadata": {},
   "source": [
    "# Feature eng"
   ]
  },
  {
   "cell_type": "code",
   "execution_count": null,
   "metadata": {
    "ExecuteTime": {
     "start_time": "2019-06-27T21:50:29.615Z"
    }
   },
   "outputs": [],
   "source": [
    "# Takes insanely long to run??\n",
    "\n",
    "side = [[] for _ in range(0, len(df))]\n",
    "\n",
    "for i in range(0, len(df)):\n",
    "    side[i] = [0 for _ in range(0, len(df))]\n",
    "    for j in range(0, len(deck)):\n",
    "        for pl in ['N', 'S']:\n",
    "            if deck[j] in hands[i][pl]:\n",
    "                side[i][j] = 1\n",
    "\n",
    "is_NS = np.array(side)"
   ]
  },
  {
   "cell_type": "code",
   "execution_count": null,
   "metadata": {
    "ExecuteTime": {
     "start_time": "2019-06-27T21:50:29.767Z"
    }
   },
   "outputs": [],
   "source": [
    "is_NS[0]"
   ]
  },
  {
   "cell_type": "markdown",
   "metadata": {},
   "source": [
    "# Running and comparing models"
   ]
  },
  {
   "cell_type": "markdown",
   "metadata": {},
   "source": [
    "## Wrapper"
   ]
  },
  {
   "cell_type": "code",
   "execution_count": null,
   "metadata": {
    "ExecuteTime": {
     "start_time": "2019-06-27T21:50:31.902Z"
    }
   },
   "outputs": [],
   "source": [
    "def train_eval(models,\n",
    "               features=[(is_NS, '52-vector with 0/1 if it belongs to NS')], \n",
    "               targets=[(imp_diff_3NT, 'IMP-difference for playing 3NT vs best c')]):\n",
    "    \n",
    "    if not isinstance(models, list):\n",
    "        models = [models]\n",
    "    \n",
    "    for X, f_desc in features:\n",
    "        print (\"Features: \" + f_desc + \"\\n\")\n",
    "        for y, t_desc in targets:\n",
    "            print (\"    Targets: \" + t_desc)\n",
    "            ts = time.time(); accuracies = []\n",
    "            X_tr, X_ts, y_tr, y_ts = model_selection.train_test_split(X, y, test_size=0.2, random_state=1)\n",
    "            \n",
    "            for m_d in models:\n",
    "                if 'desc' not in m_d:\n",
    "                    m_d['desc'] = 'unknown m '\n",
    "                for kw in 'bfp':\n",
    "                    if kw+'_args' not in m_d:\n",
    "                        m_d[kw+'_args'] = {}\n",
    "                \n",
    "                if isinstance(m_d['m'], base.BaseEstimator):\n",
    "                    m = m_d['m']\n",
    "                else:\n",
    "                    # Model has to be built\n",
    "                    m = m_d['m'](input_s=X_tr.shape[1], **m_d['b_args'])\n",
    "                \n",
    "                ts = time.time()\n",
    "                m.fit(X_tr, y_tr, **m_d['f_args'])\n",
    "                print (\"        M: \" + m_d['desc'] + \" # \", end='')\n",
    "                y_pred = m.predict(X_ts, **m_d['p_args'])\n",
    "                y_tr_pred = m.predict(X_tr, **m_d['p_args'])\n",
    "                #print (\"P:\",  y_pred, end='')\n",
    "                print (\" test MAE: \" + \"{0:.2f}\".format(metrics.mean_absolute_error(y_ts, y_pred)), end='' )\n",
    "                print (\" - tr MAE: \" + \"{0:.2f}\".format(metrics.mean_absolute_error(y_tr, y_tr_pred)), end='' )\n",
    "                print (\" T: \" + \"{0:.1f}\".format(time.time() - ts) + \"s\")\n",
    "                "
   ]
  },
  {
   "cell_type": "code",
   "execution_count": null,
   "metadata": {},
   "outputs": [],
   "source": []
  }
 ],
 "metadata": {
  "kernelspec": {
   "display_name": "Python 3",
   "language": "python",
   "name": "python3"
  },
  "language_info": {
   "codemirror_mode": {
    "name": "ipython",
    "version": 3
   },
   "file_extension": ".py",
   "mimetype": "text/x-python",
   "name": "python",
   "nbconvert_exporter": "python",
   "pygments_lexer": "ipython3",
   "version": "3.7.3"
  },
  "toc": {
   "base_numbering": 1,
   "nav_menu": {},
   "number_sections": true,
   "sideBar": true,
   "skip_h1_title": false,
   "title_cell": "Table of Contents",
   "title_sidebar": "Contents",
   "toc_cell": false,
   "toc_position": {},
   "toc_section_display": true,
   "toc_window_display": false
  },
  "varInspector": {
   "cols": {
    "lenName": 16,
    "lenType": 16,
    "lenVar": 40
   },
   "kernels_config": {
    "python": {
     "delete_cmd_postfix": "",
     "delete_cmd_prefix": "del ",
     "library": "var_list.py",
     "varRefreshCmd": "print(var_dic_list())"
    },
    "r": {
     "delete_cmd_postfix": ") ",
     "delete_cmd_prefix": "rm(",
     "library": "var_list.r",
     "varRefreshCmd": "cat(var_dic_list()) "
    }
   },
   "types_to_exclude": [
    "module",
    "function",
    "builtin_function_or_method",
    "instance",
    "_Feature"
   ],
   "window_display": false
  }
 },
 "nbformat": 4,
 "nbformat_minor": 2
}
