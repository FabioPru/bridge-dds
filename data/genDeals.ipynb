{
 "cells": [
  {
   "cell_type": "code",
   "execution_count": 42,
   "metadata": {
    "ExecuteTime": {
     "end_time": "2019-06-11T13:27:50.478089Z",
     "start_time": "2019-06-11T13:27:50.473421Z"
    }
   },
   "outputs": [],
   "source": [
    "cards = \"ABCDE98765432\"\n",
    "suits = \"shdc\""
   ]
  },
  {
   "cell_type": "code",
   "execution_count": 43,
   "metadata": {
    "ExecuteTime": {
     "end_time": "2019-06-11T13:27:50.573567Z",
     "start_time": "2019-06-11T13:27:50.563569Z"
    }
   },
   "outputs": [],
   "source": [
    "def fix(x):\n",
    "    if x == 'A':\n",
    "        return 'T'\n",
    "    if x == 'B':\n",
    "        return 'J'\n",
    "    if x == 'C':\n",
    "        return 'Q'\n",
    "    if x == 'D':\n",
    "        return 'K'\n",
    "    if x == 'E':\n",
    "        return 'A'\n",
    "    return x"
   ]
  },
  {
   "cell_type": "code",
   "execution_count": 44,
   "metadata": {
    "ExecuteTime": {
     "end_time": "2019-06-11T13:27:50.841334Z",
     "start_time": "2019-06-11T13:27:50.832645Z"
    }
   },
   "outputs": [],
   "source": [
    "deck = []\n",
    "for c in cards:\n",
    "    for s in suits:\n",
    "        deck.append(c+s)"
   ]
  },
  {
   "cell_type": "code",
   "execution_count": 45,
   "metadata": {
    "ExecuteTime": {
     "end_time": "2019-06-11T13:27:51.424671Z",
     "start_time": "2019-06-11T13:27:51.416735Z"
    }
   },
   "outputs": [],
   "source": [
    "import random, sys\n"
   ]
  },
  {
   "cell_type": "code",
   "execution_count": 52,
   "metadata": {
    "ExecuteTime": {
     "end_time": "2019-06-11T13:29:31.448442Z",
     "start_time": "2019-06-11T13:29:31.383413Z"
    }
   },
   "outputs": [
    {
     "name": "stdout",
     "output_type": "stream",
     "text": [
      "N:AKJ.T6.5432.9753 Q852.A53.KJ986.8 6.QJ942.AT7.AKQT T9743.K87.Q.J642\n",
      "N:AKJ73.AK9.T76.AJ Q965.543.K852.64 T42.QJT72.A3.T73 8.86.QJ94.KQ9852\n",
      "N:T6.K82.975.KT842 J87.75.KJT6.A753 K9432.AJT6.Q43.J AQ5.Q943.A82.Q96\n",
      "N:752.AT82.QJ9.Q98 K3.3.AK763.J7642 A4.KQJ654.54.AK3 QJT986.97.T82.T5\n",
      "N:J62.A962.J7.KJ72 AT54.T543.KT96.6 KQ987.Q7.Q842.AT 3.KJ8.A53.Q98543\n",
      "N:QT.T542.QJ5.QJ65 K87.K73.AK932.84 6432.AQ86.74.K32 AJ95.J9.T86.AT97\n",
      "N:75.J76.QT6432.64 Q864.Q93.A.QJT87 J9.T54.J975.A952 AKT32.AK82.K8.K3\n",
      "N:A2.72.A7654.AK74 9653.KQ3.QT9.J85 KJ4.A86.KJ8.Q962 QT87.JT954.32.T3\n",
      "N:AK.QT94.A76.K852 QJ842.A82.83.QJ6 973.KJ75.QT95.T9 T65.63.KJ42.A743\n",
      "N:5.JT973.AT6.T864 2.AQ542.J73.QJ95 KQJ63.K.Q98.A732 AT9874.86.K542.K\n"
     ]
    }
   ],
   "source": [
    "for t in range(0, 10):\n",
    "\n",
    "    random.shuffle(deck)\n",
    "\n",
    "    p = [[], [], [], []]\n",
    "    for i in range(0,4):\n",
    "        for s in suits:\n",
    "            ps = ''\n",
    "            for j in range(13 * i, 13 * (i + 1)):\n",
    "                if deck[j][1] == s:\n",
    "                    ps += deck[j][0]\n",
    "            ps = sorted(ps, reverse=True)\n",
    "            p[i] += ps\n",
    "            if s != \"c\":\n",
    "                p[i] += [\".\"]\n",
    "\n",
    "    for i in range(0, 4):\n",
    "        if i == 0:\n",
    "            sys.stdout.write('N:')\n",
    "        else:\n",
    "            sys.stdout.write(' ')\n",
    "        for j in p[i]:\n",
    "            sys.stdout.write(fix(j))\n",
    "    sys.stdout.write(\"\\n\")"
   ]
  },
  {
   "cell_type": "code",
   "execution_count": null,
   "metadata": {},
   "outputs": [],
   "source": []
  }
 ],
 "metadata": {
  "kernelspec": {
   "display_name": "Python 2",
   "language": "python",
   "name": "python2"
  },
  "language_info": {
   "codemirror_mode": {
    "name": "ipython",
    "version": 2
   },
   "file_extension": ".py",
   "mimetype": "text/x-python",
   "name": "python",
   "nbconvert_exporter": "python",
   "pygments_lexer": "ipython2",
   "version": "2.7.16"
  },
  "toc": {
   "base_numbering": 1,
   "nav_menu": {},
   "number_sections": true,
   "sideBar": true,
   "skip_h1_title": false,
   "title_cell": "Table of Contents",
   "title_sidebar": "Contents",
   "toc_cell": false,
   "toc_position": {},
   "toc_section_display": true,
   "toc_window_display": false
  },
  "varInspector": {
   "cols": {
    "lenName": 16,
    "lenType": 16,
    "lenVar": 40
   },
   "kernels_config": {
    "python": {
     "delete_cmd_postfix": "",
     "delete_cmd_prefix": "del ",
     "library": "var_list.py",
     "varRefreshCmd": "print(var_dic_list())"
    },
    "r": {
     "delete_cmd_postfix": ") ",
     "delete_cmd_prefix": "rm(",
     "library": "var_list.r",
     "varRefreshCmd": "cat(var_dic_list()) "
    }
   },
   "types_to_exclude": [
    "module",
    "function",
    "builtin_function_or_method",
    "instance",
    "_Feature"
   ],
   "window_display": false
  }
 },
 "nbformat": 4,
 "nbformat_minor": 2
}
