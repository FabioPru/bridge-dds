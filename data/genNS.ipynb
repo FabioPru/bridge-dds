{
 "cells": [
  {
   "cell_type": "code",
   "execution_count": 2,
   "metadata": {
    "ExecuteTime": {
     "end_time": "2019-06-12T20:57:32.467526Z",
     "start_time": "2019-06-12T20:57:32.464281Z"
    }
   },
   "outputs": [],
   "source": [
    "cards = \"ABCDE98765432\"\n",
    "suits = \"shdc\""
   ]
  },
  {
   "cell_type": "code",
   "execution_count": 3,
   "metadata": {
    "ExecuteTime": {
     "end_time": "2019-06-12T20:57:32.687459Z",
     "start_time": "2019-06-12T20:57:32.683271Z"
    }
   },
   "outputs": [],
   "source": [
    "def fix(x):\n",
    "    if x == 'A':\n",
    "        return 'T'\n",
    "    if x == 'B':\n",
    "        return 'J'\n",
    "    if x == 'C':\n",
    "        return 'Q'\n",
    "    if x == 'D':\n",
    "        return 'K'\n",
    "    if x == 'E':\n",
    "        return 'A'\n",
    "    return x"
   ]
  },
  {
   "cell_type": "code",
   "execution_count": 4,
   "metadata": {
    "ExecuteTime": {
     "end_time": "2019-06-12T20:57:32.887224Z",
     "start_time": "2019-06-12T20:57:32.883810Z"
    }
   },
   "outputs": [],
   "source": [
    "deck = []\n",
    "for c in cards:\n",
    "    for s in suits:\n",
    "        deck.append(c+s)"
   ]
  },
  {
   "cell_type": "code",
   "execution_count": 5,
   "metadata": {
    "ExecuteTime": {
     "end_time": "2019-06-12T20:57:33.088795Z",
     "start_time": "2019-06-12T20:57:33.085564Z"
    }
   },
   "outputs": [],
   "source": [
    "import random, sys\n"
   ]
  },
  {
   "cell_type": "code",
   "execution_count": 8,
   "metadata": {
    "ExecuteTime": {
     "end_time": "2019-06-18T14:25:50.865094Z",
     "start_time": "2019-06-18T14:25:50.402234Z"
    },
    "code_folding": []
   },
   "outputs": [
    {
     "name": "stdout",
     "output_type": "stream",
     "text": [
      "100\n",
      "AQ93.A42.A9873.A T7654.J86.J4.KJ3 J82.Q9.QT.QT9765 K.KT753.K652.842\n",
      "AQ93.A42.A9873.A T765.KJT76.J64.8 J82.Q9.QT.QT9765 K4.853.K52.KJ432\n",
      "AQ93.A42.A9873.A KT65.KT873.K4.84 J82.Q9.QT.QT9765 74.J65.J652.KJ32\n",
      "AQ93.A42.A9873.A 654.KJ76.J2.J832 J82.Q9.QT.QT9765 KT7.T853.K654.K4\n",
      "AQ93.A42.A9873.A T75.KT863.65.J43 J82.Q9.QT.QT9765 K64.J75.KJ42.K82\n",
      "AQ93.A42.A9873.A T5.K3.KJ65.J8432 J82.Q9.QT.QT9765 K764.JT8765.42.K\n",
      "AQ93.A42.A9873.A K75.T7653.J62.32 J82.Q9.QT.QT9765 T64.KJ8.K54.KJ84\n",
      "AQ93.A42.A9873.A KT64.J853.52.842 J82.Q9.QT.QT9765 75.KT76.KJ64.KJ3\n",
      "AQ93.A42.A9873.A KT6.T8753.654.K4 J82.Q9.QT.QT9765 754.KJ6.KJ2.J832\n",
      "AQ93.A42.A9873.A T76.T87.654.K432 J82.Q9.QT.QT9765 K54.KJ653.KJ2.J8\n",
      "AQ93.A42.A9873.A 765.K73.K642.K84 J82.Q9.QT.QT9765 KT4.JT865.J5.J32\n",
      "AQ93.A42.A9873.A K754.KT83.654.K4 J82.Q9.QT.QT9765 T6.J765.KJ2.J832\n",
      "AQ93.A42.A9873.A KT4.K75.KJ64.J32 J82.Q9.QT.QT9765 765.JT863.52.K84\n",
      "AQ93.A42.A9873.A K74.T8653.KJ6.K4 J82.Q9.QT.QT9765 T65.KJ7.542.J832\n",
      "AQ93.A42.A9873.A K765.JT73.K2.J83 J82.Q9.QT.QT9765 T4.K865.J654.K42\n",
      "AQ93.A42.A9873.A 754.J73.652.K832 J82.Q9.QT.QT9765 KT6.KT865.KJ4.J4\n",
      "AQ93.A42.A9873.A 764.JT653.5.K832 J82.Q9.QT.QT9765 KT5.K87.KJ642.J4\n",
      "AQ93.A42.A9873.A K.KJT6.KJ642.J42 J82.Q9.QT.QT9765 T7654.8753.5.K83\n",
      "AQ93.A42.A9873.A T7.KJ65.KJ542.K8 J82.Q9.QT.QT9765 K654.T873.6.J432\n",
      "AQ93.A42.A9873.A T64.K8763.J5.J32 J82.Q9.QT.QT9765 K75.JT5.K642.K84\n",
      "Q.A8762.AQ2.AT75 AJ54.KJT54.T9.J6 T9863.3.K4.Q8432 K72.Q9.J87653.K9\n",
      "Q.A8762.AQ2.AT75 J72.KJT9.T976.96 T9863.3.K4.Q8432 AK54.Q54.J853.KJ\n",
      "Q.A8762.AQ2.AT75 J2.QT9.JT9653.J9 T9863.3.K4.Q8432 AK754.KJ54.87.K6\n",
      "Q.A8762.AQ2.AT75 AKJ72.J4.J753.KJ T9863.3.K4.Q8432 54.KQT95.T986.96\n",
      "Q.A8762.AQ2.AT75 AJ7.T95.T73.KJ96 T9863.3.K4.Q8432 K542.KQJ4.J9865.\n",
      "Q.A8762.AQ2.AT75 A7.KQJ954.JT9.96 T9863.3.K4.Q8432 KJ542.T.87653.KJ\n",
      "Q.A8762.AQ2.AT75 A74.K4.JT975.J96 T9863.3.K4.Q8432 KJ52.QJT95.863.K\n",
      "Q.A8762.AQ2.AT75 K75.KQJ5.JT983.9 T9863.3.K4.Q8432 AJ42.T94.765.KJ6\n",
      "Q.A8762.AQ2.AT75 AKJ75.5.T873.J96 T9863.3.K4.Q8432 42.KQJT94.J965.K\n",
      "Q.A8762.AQ2.AT75 AKJ4.KJ54.985.K6 T9863.3.K4.Q8432 752.QT9.JT763.J9\n",
      "Q.A8762.AQ2.AT75 AJ72.QJ9.T8765.K T9863.3.K4.Q8432 K54.KT54.J93.J96\n",
      "Q.A8762.AQ2.AT75 KJ52.KJT54.T93.6 T9863.3.K4.Q8432 A74.Q9.J8765.KJ9\n",
      "Q.A8762.AQ2.AT75 754.KQJT.J65.K96 T9863.3.K4.Q8432 AKJ2.954.T9873.J\n",
      "Q.A8762.AQ2.AT75 AJ5.QT954.865.K9 T9863.3.K4.Q8432 K742.KJ.JT973.J6\n",
      "Q.A8762.AQ2.AT75 KJ52.KQJ95.T9.J6 T9863.3.K4.Q8432 A74.T4.J87653.K9\n",
      "Q.A8762.AQ2.AT75 K75.54.JT87653.9 T9863.3.K4.Q8432 AJ42.KQJT9.9.KJ6\n",
      "Q.A8762.AQ2.AT75 AJ754.K9.9876.K9 T9863.3.K4.Q8432 K2.QJT54.JT53.J6\n",
      "Q.A8762.AQ2.AT75 AK54.KQ9.JT8653. T9863.3.K4.Q8432 J72.JT54.97.KJ96\n",
      "Q.A8762.AQ2.AT75 J75.K4.9765.KJ96 T9863.3.K4.Q8432 AK42.QJT95.JT83.\n",
      "Q.A8762.AQ2.AT75 72.KQ94.J985.K96 T9863.3.K4.Q8432 AKJ54.JT5.T763.J\n",
      "AQ5.A.J74.AK6543 6.KQJ7.86.QJT987 T743.9542.AKT3.2 KJ982.T863.Q952.\n",
      "AQ5.A.J74.AK6543 K6.JT873.982.QJ8 T743.9542.AKT3.2 J982.KQ6.Q65.T97\n",
      "AQ5.A.J74.AK6543 K6.KJT873.652.97 T743.9542.AKT3.2 J982.Q6.Q98.QJT8\n",
      "AQ5.A.J74.AK6543 82.KQJT83.96.Q97 T743.9542.AKT3.2 KJ96.76.Q852.JT8\n",
      "AQ5.A.J74.AK6543 J92.JT83.Q2.QJT8 T743.9542.AKT3.2 K86.KQ76.9865.97\n",
      "AQ5.A.J74.AK6543 J986.Q73.Q982.QJ T743.9542.AKT3.2 K2.KJT86.65.T987\n",
      "AQ5.A.J74.AK6543 62.KQJT6.Q62.JT7 T743.9542.AKT3.2 KJ98.873.985.Q98\n",
      "AQ5.A.J74.AK6543 J2.QJT8.86.QT987 T743.9542.AKT3.2 K986.K763.Q952.J\n",
      "AQ5.A.J74.AK6543 J862.Q.Q986.QT87 T743.9542.AKT3.2 K9.KJT8763.52.J9\n",
      "AQ5.A.J74.AK6543 K986.Q7.Q96.QJT7 T743.9542.AKT3.2 J2.KJT863.852.98\n",
      "AQ5.A.J74.AK6543 KJ982.K83.965.QJ T743.9542.AKT3.2 6.QJT76.Q82.T987\n",
      "AQ5.A.J74.AK6543 KJ986.KQJ7.652.7 T743.9542.AKT3.2 2.T863.Q98.QJT98\n",
      "AQ5.A.J74.AK6543 92.KT73.985.T987 T743.9542.AKT3.2 KJ86.QJ86.Q62.QJ\n",
      "AQ5.A.J74.AK6543 J862.QT76.Q98.QJ T743.9542.AKT3.2 K9.KJ83.652.T987\n",
      "AQ5.A.J74.AK6543 982.JT83.852.T87 T743.9542.AKT3.2 KJ6.KQ76.Q96.QJ9\n",
      "AQ5.A.J74.AK6543 KJ62.JT.8652.QJ8 T743.9542.AKT3.2 98.KQ8763.Q9.T97\n",
      "AQ5.A.J74.AK6543 K862.KQJ.852.JT7 T743.9542.AKT3.2 J9.T8763.Q96.Q98\n",
      "AQ5.A.J74.AK6543 9.KJT63.Q85.QJ97 T743.9542.AKT3.2 KJ862.Q87.962.T8\n",
      "AQ5.A.J74.AK6543 98.T763.Q8.QJ987 T743.9542.AKT3.2 KJ62.KQJ8.9652.T\n",
      "AQ5.A.J74.AK6543 KJ98.KJT73.5.QJ9 T743.9542.AKT3.2 62.Q86.Q9862.T87\n",
      "A54.JT.AJ4.AK643 QT7.AK742.KQT3.Q K98.9863.8752.J2 J632.Q5.96.T9875\n",
      "A54.JT.AJ4.AK643 J.K754.KQT63.987 K98.9863.8752.J2 QT7632.AQ2.9.QT5\n",
      "A54.JT.AJ4.AK643 QJ2.A542.KQT3.Q5 K98.9863.8752.J2 T763.KQ7.96.T987\n",
      "A54.JT.AJ4.AK643 J3.4.K963.QT9875 K98.9863.8752.J2 QT762.AKQ752.QT.\n",
      "A54.JT.AJ4.AK643 762.KQ74.KQ63.Q8 K98.9863.8752.J2 QJT3.A52.T9.T975\n",
      "A54.JT.AJ4.AK643 QJ762.74.KT.QT85 K98.9863.8752.J2 T3.AKQ52.Q963.97\n",
      "A54.JT.AJ4.AK643 QJ3.AKQ75.Q9.QT8 K98.9863.8752.J2 T762.42.KT63.975\n",
      "A54.JT.AJ4.AK643 QJT6.KQ.KQT6.Q75 K98.9863.8752.J2 732.A7542.93.T98\n",
      "A54.JT.AJ4.AK643 QJT7.AQ75.T3.Q95 K98.9863.8752.J2 632.K42.KQ96.T87\n",
      "A54.JT.AJ4.AK643 J732.K74.QT3.QT5 K98.9863.8752.J2 QT6.AQ52.K96.987\n",
      "A54.JT.AJ4.AK643 QJT.AK54.KQ3.QT5 K98.9863.8752.J2 7632.Q72.T96.987\n",
      "A54.JT.AJ4.AK643 763.K72.KQ93.875 K98.9863.8752.J2 QJT2.AQ54.T6.QT9\n",
      "A54.JT.AJ4.AK643 QT62.AQ7542.KT.9 K98.9863.8752.J2 J73.K.Q963.QT875\n",
      "A54.JT.AJ4.AK643 QJ62.542.QT3.Q95 K98.9863.8752.J2 T73.AKQ7.K96.T87\n",
      "A54.JT.AJ4.AK643 QJT73.A.KT6.Q985 K98.9863.8752.J2 62.KQ7542.Q93.T7\n",
      "A54.JT.AJ4.AK643 J72.KQ5.96.QT985 K98.9863.8752.J2 QT63.A742.KQT3.7\n",
      "A54.JT.AJ4.AK643 QJT763.75.KQT.T9 K98.9863.8752.J2 2.AKQ42.963.Q875\n",
      "A54.JT.AJ4.AK643 J72.A5.KT93.T987 K98.9863.8752.J2 QT63.KQ742.Q6.Q5\n",
      "A54.JT.AJ4.AK643 QT762.AKQ.KQ3.Q8 K98.9863.8752.J2 J3.7542.T96.T975\n",
      "A54.JT.AJ4.AK643 2.AKQ5.KQT3.9875 K98.9863.8752.J2 QJT763.742.96.QT\n",
      "AQ4.KJT.K.AKQ764 9852.A95.973.J85 KT63.743.AT65.T2 J7.Q862.QJ842.93\n",
      "AQ4.KJT.K.AKQ764 J98.A986.942.853 KT63.743.AT65.T2 752.Q52.QJ873.J9\n",
      "AQ4.KJT.K.AKQ764 J5.A985.942.J853 KT63.743.AT65.T2 9872.Q62.QJ873.9\n",
      "AQ4.KJT.K.AKQ764 J982.Q2.QJ843.98 KT63.743.AT65.T2 75.A9865.972.J53\n",
      "AQ4.KJT.K.AKQ764 9875.Q6.Q7432.85 KT63.743.AT65.T2 J2.A9852.J98.J93\n",
      "AQ4.KJT.K.AKQ764 9875.9852.J74.83 KT63.743.AT65.T2 J2.AQ6.Q9832.J95\n",
      "AQ4.KJT.K.AKQ764 975.Q9652.972.J3 KT63.743.AT65.T2 J82.A8.QJ843.985\n",
      "AQ4.KJT.K.AKQ764 J5.9.QJ98732.985 KT63.743.AT65.T2 9872.AQ8652.4.J3\n",
      "AQ4.KJT.K.AKQ764 9752.Q652.Q84.95 KT63.743.AT65.T2 J8.A98.J9732.J83\n",
      "AQ4.KJT.K.AKQ764 97.AQ9652.Q9.J95 KT63.743.AT65.T2 J852.8.J87432.83\n",
      "AQ4.KJT.K.AKQ764 J5.A986.Q9432.93 KT63.743.AT65.T2 9872.Q52.J87.J85\n",
      "AQ4.KJT.K.AKQ764 J7.A8652.Q932.98 KT63.743.AT65.T2 9852.Q9.J874.J53\n",
      "AQ4.KJT.K.AKQ764 J852.96.J9832.95 KT63.743.AT65.T2 97.AQ852.Q74.J83\n",
      "AQ4.KJT.K.AKQ764 92.952.J8732.J93 KT63.743.AT65.T2 J875.AQ86.Q94.85\n",
      "AQ4.KJT.K.AKQ764 75.A96.8742.J983 KT63.743.AT65.T2 J982.Q852.QJ93.5\n",
      "AQ4.KJT.K.AKQ764 J987.62.QJ987.93 KT63.743.AT65.T2 52.AQ985.432.J85\n",
      "AQ4.KJT.K.AKQ764 9852.AQ8.8743.85 KT63.743.AT65.T2 J7.9652.QJ92.J93\n",
      "AQ4.KJT.K.AKQ764 J95.A85.QJ843.98 KT63.743.AT65.T2 872.Q962.972.J53\n",
      "AQ4.KJT.K.AKQ764 J95.A8652.Q93.53 KT63.743.AT65.T2 872.Q9.J8742.J98\n",
      "AQ4.KJT.K.AKQ764 J875.A6.J8743.98 KT63.743.AT65.T2 92.Q9852.Q92.J53\n"
     ]
    }
   ],
   "source": [
    "cards = \"ABCDE98765432\"\n",
    "suits = \"shdc\"\n",
    "\n",
    "def fix(x):\n",
    "    if x == 'A':\n",
    "        return 'T'\n",
    "    if x == 'B':\n",
    "        return 'J'\n",
    "    if x == 'C':\n",
    "        return 'Q'\n",
    "    if x == 'D':\n",
    "        return 'K'\n",
    "    if x == 'E':\n",
    "        return 'A'\n",
    "    return x\n",
    "\n",
    "def HCP(deck):\n",
    "    cnt = 0\n",
    "    for c in deck:\n",
    "        if c[0] == 'E':\n",
    "            cnt += 4\n",
    "        if c[0] == 'D':\n",
    "            cnt += 3\n",
    "        if c[0] == 'C':\n",
    "            cnt += 2\n",
    "        if c[0] == 'B':\n",
    "            cnt += 1\n",
    "    return cnt\n",
    "\n",
    "deck = []\n",
    "for c in cards:\n",
    "    for s in suits:\n",
    "        deck.append(c+s)\n",
    "\n",
    "import random, sys\n",
    "\n",
    "print (100)\n",
    "\n",
    "for t in range(0, 100):\n",
    "\n",
    "    if (t % 20) == 0:\n",
    "        random.shuffle(deck)\n",
    "        while ((HCP(deck[:13]) < 16) or (HCP(deck[26:39]) > 8)):\n",
    "            random.shuffle(deck)\n",
    "        \n",
    "    d1 = deck[:13] + deck[26:39]\n",
    "    d2 = deck[13:26] + deck[39:]\n",
    "    random.shuffle(d2)\n",
    "    deck = d1[:13] + d2[:13] + d1[13:] + d2[13:]\n",
    "\n",
    "    p = [[], [], [], []]\n",
    "    for i in range(0,4):\n",
    "        for s in suits:\n",
    "            ps = ''\n",
    "            for j in range(13 * i, 13 * (i + 1)):\n",
    "                if deck[j][1] == s:\n",
    "                    ps += deck[j][0]\n",
    "            ps = sorted(ps, reverse=True)\n",
    "            p[i] += ps\n",
    "            if s != \"c\":\n",
    "                p[i] += [\".\"]\n",
    "\n",
    "    for i in range(0, 4):\n",
    "        if i == 0:\n",
    "            sys.stdout.write('')\n",
    "        else:\n",
    "            sys.stdout.write(' ')\n",
    "        for j in p[i]:\n",
    "            sys.stdout.write(fix(j))\n",
    "    sys.stdout.write(\"\\n\")"
   ]
  },
  {
   "cell_type": "code",
   "execution_count": null,
   "metadata": {},
   "outputs": [],
   "source": []
  }
 ],
 "metadata": {
  "kernelspec": {
   "display_name": "Python 3",
   "language": "python",
   "name": "python3"
  },
  "language_info": {
   "codemirror_mode": {
    "name": "ipython",
    "version": 3
   },
   "file_extension": ".py",
   "mimetype": "text/x-python",
   "name": "python",
   "nbconvert_exporter": "python",
   "pygments_lexer": "ipython3",
   "version": "3.6.8"
  },
  "toc": {
   "base_numbering": 1,
   "nav_menu": {},
   "number_sections": true,
   "sideBar": true,
   "skip_h1_title": false,
   "title_cell": "Table of Contents",
   "title_sidebar": "Contents",
   "toc_cell": false,
   "toc_position": {},
   "toc_section_display": true,
   "toc_window_display": false
  },
  "varInspector": {
   "cols": {
    "lenName": 16,
    "lenType": 16,
    "lenVar": 40
   },
   "kernels_config": {
    "python": {
     "delete_cmd_postfix": "",
     "delete_cmd_prefix": "del ",
     "library": "var_list.py",
     "varRefreshCmd": "print(var_dic_list())"
    },
    "r": {
     "delete_cmd_postfix": ") ",
     "delete_cmd_prefix": "rm(",
     "library": "var_list.r",
     "varRefreshCmd": "cat(var_dic_list()) "
    }
   },
   "types_to_exclude": [
    "module",
    "function",
    "builtin_function_or_method",
    "instance",
    "_Feature"
   ],
   "window_display": false
  }
 },
 "nbformat": 4,
 "nbformat_minor": 2
}
