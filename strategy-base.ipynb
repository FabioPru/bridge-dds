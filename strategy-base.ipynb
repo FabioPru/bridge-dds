{
 "cells": [
  {
   "cell_type": "code",
   "execution_count": 364,
   "metadata": {
    "ExecuteTime": {
     "end_time": "2019-07-26T21:18:37.108316Z",
     "start_time": "2019-07-26T21:18:36.128526Z"
    }
   },
   "outputs": [],
   "source": [
    "# Load Bridge helper classes\n",
    "%run helpers/bridge.ipynb\n",
    "%run helpers/load-data.ipynb\n",
    "%run helpers/train-eval-utils.ipynb"
   ]
  },
  {
   "cell_type": "code",
   "execution_count": null,
   "metadata": {
    "ExecuteTime": {
     "start_time": "2019-07-26T21:18:38.810Z"
    }
   },
   "outputs": [],
   "source": [
    "# Loads & precomputes all the data, takes about 5min\n",
    "data = load_deals()"
   ]
  },
  {
   "cell_type": "markdown",
   "metadata": {},
   "source": [
    "# Helpers"
   ]
  },
  {
   "cell_type": "code",
   "execution_count": 226,
   "metadata": {
    "ExecuteTime": {
     "end_time": "2019-07-26T17:47:34.973870Z",
     "start_time": "2019-07-26T17:47:34.968000Z"
    }
   },
   "outputs": [],
   "source": [
    "class Strategy(object):\n",
    "    \n",
    "    def __init__(self, function):\n",
    "        # Takes as an input a function from (Hand, Bidding) -> bid\n",
    "        self.fn = function\n",
    "        \n",
    "    def step(self, hand, bidding):\n",
    "        # In case the bid is invalid, automatically substitute for PASS (idk)\n",
    "        bid = self.fn(hand, bidding)\n",
    "        if isinstance(bid, str):\n",
    "            bid = valid_bids.index(bid)\n",
    "        if 0 < bid <= len(contracts) and bid > bidding.last_bid():\n",
    "            return bidding.add(self.fn(hand, bidding))\n",
    "        return bidding.add(0)"
   ]
  },
  {
   "cell_type": "code",
   "execution_count": 121,
   "metadata": {
    "ExecuteTime": {
     "end_time": "2019-07-26T15:23:10.606718Z",
     "start_time": "2019-07-26T15:23:10.600907Z"
    }
   },
   "outputs": [],
   "source": [
    "def gen_sequence(deal, s1, s2=Strategy(pass_function), s3=None, s4=None):\n",
    "    seq = Bidding()\n",
    "    if s3 is None:\n",
    "        s3 = s1\n",
    "    if s4 is None:\n",
    "        s4 = s2\n",
    "    sgs = [s1, s2, s3, s4]\n",
    "    while not seq.done:\n",
    "        cur_pl = len(seq) % 4\n",
    "        seq = sgs[cur_pl].step(deal.hands[cur_pl], seq)\n",
    "    return seq"
   ]
  },
  {
   "cell_type": "code",
   "execution_count": 322,
   "metadata": {
    "ExecuteTime": {
     "end_time": "2019-07-26T20:48:22.247585Z",
     "start_time": "2019-07-26T20:48:22.241025Z"
    }
   },
   "outputs": [],
   "source": [
    "def eval_strategy(list_of_deals, strategy, enemy_s=Strategy(pass_function), strategyS=None,\n",
    "                  with_opps=True):\n",
    "    if not isinstance(list_of_deals, list):\n",
    "        list_of_deals = [list_of_deals]\n",
    "    rt = 0\n",
    "    for d in list_of_deals:\n",
    "        seq = gen_sequence(d, strategy, enemy_s, strategyS)\n",
    "        res, side = seq.result()\n",
    "        rt += d.ev(res, side, with_opps=with_opps)\n",
    "    return rt / len(list_of_deals)"
   ]
  },
  {
   "cell_type": "code",
   "execution_count": null,
   "metadata": {},
   "outputs": [],
   "source": []
  },
  {
   "cell_type": "markdown",
   "metadata": {},
   "source": [
    "# Examples"
   ]
  },
  {
   "cell_type": "code",
   "execution_count": null,
   "metadata": {},
   "outputs": [],
   "source": [
    "# Full knowledge"
   ]
  },
  {
   "cell_type": "markdown",
   "metadata": {},
   "source": [
    "## One hand places the contract"
   ]
  },
  {
   "cell_type": "code",
   "execution_count": 219,
   "metadata": {
    "ExecuteTime": {
     "end_time": "2019-07-26T17:42:43.936056Z",
     "start_time": "2019-07-26T17:42:43.932039Z"
    }
   },
   "outputs": [],
   "source": [
    "def const_function(contr):\n",
    "    def fn(hand, bidding):\n",
    "        return contr\n",
    "    return fn"
   ]
  },
  {
   "cell_type": "code",
   "execution_count": null,
   "metadata": {},
   "outputs": [],
   "source": [
    "def pass_function(hand, bidding):\n",
    "    return const_function('PASS')"
   ]
  },
  {
   "cell_type": "code",
   "execution_count": 230,
   "metadata": {
    "ExecuteTime": {
     "end_time": "2019-07-26T17:48:37.615257Z",
     "start_time": "2019-07-26T17:48:37.609856Z"
    }
   },
   "outputs": [],
   "source": [
    "def hcp_function(start=15, step=3):\n",
    "    def fn(hand, bidding):\n",
    "        ft = hand.features()\n",
    "        if ft['hcp'] >= start:\n",
    "            lev = min(7, (ft['hcp'] - start) / step + 1)\n",
    "            return str(int(lev)) + 'NT'\n",
    "        return 'PASS'\n",
    "    return fn"
   ]
  },
  {
   "cell_type": "code",
   "execution_count": 210,
   "metadata": {
    "ExecuteTime": {
     "end_time": "2019-07-26T16:04:07.394013Z",
     "start_time": "2019-07-26T16:04:07.387783Z"
    }
   },
   "outputs": [],
   "source": [
    "def suit_function(start=15, step=3):\n",
    "    def fn(hand, bidding):\n",
    "        ft = hand.features()\n",
    "        if ft['hcp'] >= start:\n",
    "            lev = min(7, (ft['hcp'] - start) / step + 1)\n",
    "            strain = 'NT'\n",
    "            bst_len = 4\n",
    "            for s in suits:\n",
    "                if ft[s + '_len'] >= bst_len:\n",
    "                    strain = s\n",
    "                    bst_len = ft[s + '_len']\n",
    "            return str(int(lev)) + strain\n",
    "            #return const_function(str(int(lev)) + strain)(hand, bidding)\n",
    "        return 'PASS'\n",
    "    return fn"
   ]
  },
  {
   "cell_type": "code",
   "execution_count": null,
   "metadata": {},
   "outputs": [],
   "source": [
    "# Try to make a NN learn the best contract with_opps"
   ]
  },
  {
   "cell_type": "code",
   "execution_count": 358,
   "metadata": {
    "ExecuteTime": {
     "end_time": "2019-07-26T21:11:50.841829Z",
     "start_time": "2019-07-26T21:11:50.811069Z"
    }
   },
   "outputs": [],
   "source": [
    "X = [d.hands[0].feature_array() for d in data[:10 ** 4]] #only N hand\n",
    "\n",
    "# Winners in a particular strain played from N\n",
    "y = [d.precompute().best_contract(with_opps=True) for d in data[:10 ** 4]]"
   ]
  },
  {
   "cell_type": "code",
   "execution_count": null,
   "metadata": {},
   "outputs": [],
   "source": []
  },
  {
   "cell_type": "code",
   "execution_count": 362,
   "metadata": {
    "ExecuteTime": {
     "end_time": "2019-07-26T21:17:06.758039Z",
     "start_time": "2019-07-26T21:17:06.748623Z"
    }
   },
   "outputs": [
    {
     "data": {
      "text/plain": [
       "['7s',\n",
       " '3s',\n",
       " '3s',\n",
       " '4s',\n",
       " '4NT',\n",
       " '1s',\n",
       " '4h',\n",
       " '5s',\n",
       " '5NT',\n",
       " '3d',\n",
       " '3d',\n",
       " '3NT',\n",
       " '6h',\n",
       " '4d',\n",
       " '7s',\n",
       " '6d',\n",
       " '2c',\n",
       " '3c',\n",
       " '4h',\n",
       " '4NT',\n",
       " '7NT',\n",
       " '5h',\n",
       " '4d',\n",
       " '3NT',\n",
       " '2NT',\n",
       " '5NT',\n",
       " '3d',\n",
       " '3s',\n",
       " '4h',\n",
       " '5s',\n",
       " '2c',\n",
       " '6d',\n",
       " '2d',\n",
       " '6d',\n",
       " '4h',\n",
       " '7s',\n",
       " '5d',\n",
       " '4s',\n",
       " '3s',\n",
       " '5h',\n",
       " '6NT',\n",
       " '4h',\n",
       " '5h',\n",
       " '4NT',\n",
       " '5h',\n",
       " '3NT',\n",
       " '2NT',\n",
       " '3NT',\n",
       " '4d',\n",
       " '7NT',\n",
       " '4NT',\n",
       " '3h',\n",
       " '3NT',\n",
       " '5NT',\n",
       " '7s',\n",
       " '6NT',\n",
       " '2h',\n",
       " '3h',\n",
       " '3NT',\n",
       " '5c',\n",
       " '2h',\n",
       " '1s',\n",
       " '5h',\n",
       " '3h',\n",
       " '3s',\n",
       " '4h',\n",
       " '4NT',\n",
       " '3s',\n",
       " '5h',\n",
       " '2s',\n",
       " '6NT',\n",
       " '3NT',\n",
       " '4c',\n",
       " '3c',\n",
       " '3h',\n",
       " '4s',\n",
       " '3h',\n",
       " '4h',\n",
       " '3d',\n",
       " '2d',\n",
       " '3d',\n",
       " '3NT',\n",
       " '3h',\n",
       " '3NT',\n",
       " '5NT',\n",
       " '3c',\n",
       " '3h',\n",
       " '5NT',\n",
       " '4c',\n",
       " '4h',\n",
       " '7s',\n",
       " '6NT',\n",
       " '3s',\n",
       " '4h',\n",
       " '6NT',\n",
       " '4c',\n",
       " '4NT',\n",
       " '5h',\n",
       " '4d',\n",
       " '5d',\n",
       " '4c',\n",
       " '3d',\n",
       " '6d',\n",
       " '6s',\n",
       " '4h',\n",
       " '3NT',\n",
       " '2c',\n",
       " '5d',\n",
       " '3h',\n",
       " '2NT',\n",
       " '2s',\n",
       " '3h',\n",
       " '5c',\n",
       " '1s',\n",
       " '4s',\n",
       " '4s',\n",
       " '6h',\n",
       " '3h',\n",
       " '4NT',\n",
       " '5d',\n",
       " '3c',\n",
       " '5d',\n",
       " '1s',\n",
       " '4h',\n",
       " '3NT',\n",
       " '4NT',\n",
       " '1NT',\n",
       " '2d',\n",
       " '7s',\n",
       " '6d',\n",
       " '4h',\n",
       " '4h',\n",
       " '5s',\n",
       " '4s',\n",
       " '2NT',\n",
       " '7NT',\n",
       " '2d',\n",
       " '4NT',\n",
       " '2d',\n",
       " '3c',\n",
       " '4NT',\n",
       " '4d',\n",
       " '5NT',\n",
       " '5c',\n",
       " '4c',\n",
       " '3NT',\n",
       " '6s',\n",
       " '1s',\n",
       " '3s',\n",
       " '4NT',\n",
       " '5s',\n",
       " '1NT',\n",
       " '5h',\n",
       " '3h',\n",
       " '2s',\n",
       " '3s',\n",
       " '1d',\n",
       " '4NT',\n",
       " '2h',\n",
       " '5d',\n",
       " '3d',\n",
       " '5h',\n",
       " '3NT',\n",
       " '3c',\n",
       " '5c',\n",
       " '5NT',\n",
       " '4NT',\n",
       " '5h',\n",
       " '1s',\n",
       " '4h',\n",
       " '4h',\n",
       " '4NT',\n",
       " '6d',\n",
       " '5s',\n",
       " '1h',\n",
       " '3s',\n",
       " '5c',\n",
       " '6h',\n",
       " '6s',\n",
       " '4s',\n",
       " '5NT',\n",
       " '2NT',\n",
       " '5c',\n",
       " '3d',\n",
       " '4s',\n",
       " '7NT',\n",
       " '7h',\n",
       " '5NT',\n",
       " '4NT',\n",
       " '4s',\n",
       " '4s',\n",
       " '3d',\n",
       " '3c',\n",
       " '6h',\n",
       " '6d',\n",
       " '4h',\n",
       " '4h',\n",
       " '4s',\n",
       " '3NT',\n",
       " '2h',\n",
       " '4s',\n",
       " '4h',\n",
       " '3c',\n",
       " '5NT',\n",
       " '5s',\n",
       " '3d',\n",
       " '3s',\n",
       " '6d',\n",
       " '2NT',\n",
       " '7h',\n",
       " '2d',\n",
       " '3NT',\n",
       " '3h',\n",
       " '4d',\n",
       " '5s',\n",
       " '6d',\n",
       " '3d',\n",
       " '3s',\n",
       " '4h',\n",
       " '2c',\n",
       " '2NT',\n",
       " '7d',\n",
       " '1s',\n",
       " '3NT',\n",
       " '4d',\n",
       " '7s',\n",
       " '3d',\n",
       " '6d',\n",
       " '4s',\n",
       " '5s',\n",
       " '2h',\n",
       " '3c',\n",
       " '2NT',\n",
       " 'PASS',\n",
       " '3h',\n",
       " '3d',\n",
       " '1s',\n",
       " '4s',\n",
       " '1h',\n",
       " '3NT',\n",
       " '1NT',\n",
       " '5NT',\n",
       " '3NT',\n",
       " '4h',\n",
       " '7d',\n",
       " '7s',\n",
       " '5NT',\n",
       " '7NT',\n",
       " '3NT',\n",
       " '3s',\n",
       " '3c',\n",
       " '3d',\n",
       " '4c',\n",
       " '3d',\n",
       " '2NT',\n",
       " '3c',\n",
       " '3c',\n",
       " '3c',\n",
       " '3d',\n",
       " '5d',\n",
       " '4NT',\n",
       " '4NT',\n",
       " '5NT',\n",
       " '4s',\n",
       " '3s',\n",
       " '2s',\n",
       " '2s',\n",
       " '6NT',\n",
       " '4h',\n",
       " '3c',\n",
       " '4s',\n",
       " '2s',\n",
       " '7h',\n",
       " '3h',\n",
       " '5c',\n",
       " '3h',\n",
       " '4NT',\n",
       " '3d',\n",
       " '2h',\n",
       " '4d',\n",
       " '4NT',\n",
       " '4c',\n",
       " '2s',\n",
       " '4d',\n",
       " '3NT',\n",
       " '4h',\n",
       " '7s',\n",
       " '5NT',\n",
       " '4NT',\n",
       " '3c',\n",
       " '3h',\n",
       " '4s',\n",
       " '3NT',\n",
       " '4s',\n",
       " '3h',\n",
       " '4s',\n",
       " '3c',\n",
       " '5h',\n",
       " '1NT',\n",
       " '3c',\n",
       " 'PASS',\n",
       " '2h',\n",
       " '6d',\n",
       " '6c',\n",
       " '2h',\n",
       " '3c',\n",
       " '4NT',\n",
       " '5s',\n",
       " '4s',\n",
       " '5d',\n",
       " '4NT',\n",
       " '2s',\n",
       " '4NT',\n",
       " '5h',\n",
       " '3h',\n",
       " '3NT',\n",
       " '3d',\n",
       " '4s',\n",
       " '2d',\n",
       " '4d',\n",
       " '5h',\n",
       " '4h',\n",
       " '2s',\n",
       " '3d',\n",
       " '6s',\n",
       " '7NT',\n",
       " '4NT',\n",
       " '6s',\n",
       " '3NT',\n",
       " '5NT',\n",
       " '2NT',\n",
       " '6d',\n",
       " '4h',\n",
       " '5s',\n",
       " '5d',\n",
       " '1c',\n",
       " '2s',\n",
       " '7d',\n",
       " '4h',\n",
       " '6d',\n",
       " '2NT',\n",
       " '2s',\n",
       " '1NT',\n",
       " '5c',\n",
       " '4s',\n",
       " '4d',\n",
       " '2c',\n",
       " '7s',\n",
       " '1h',\n",
       " '1c',\n",
       " '4h',\n",
       " '2NT',\n",
       " '7NT',\n",
       " '6c',\n",
       " '3s',\n",
       " '3h',\n",
       " '4NT',\n",
       " '2s',\n",
       " '3h',\n",
       " '4NT',\n",
       " '2s',\n",
       " '4s',\n",
       " '4h',\n",
       " '3d',\n",
       " '4s',\n",
       " '1d',\n",
       " '1h',\n",
       " '3h',\n",
       " '5NT',\n",
       " '6NT',\n",
       " '6s',\n",
       " '6s',\n",
       " '2NT',\n",
       " '1s',\n",
       " '5d',\n",
       " '5h',\n",
       " '2h',\n",
       " '6s',\n",
       " '2d',\n",
       " '7s',\n",
       " '2NT',\n",
       " '3h',\n",
       " '4d',\n",
       " '3h',\n",
       " '4h',\n",
       " '4NT',\n",
       " '5d',\n",
       " '4d',\n",
       " '3NT',\n",
       " '2s',\n",
       " '3c',\n",
       " '4NT',\n",
       " '3s',\n",
       " '3h',\n",
       " '7h',\n",
       " '7NT',\n",
       " '3d',\n",
       " '5NT',\n",
       " '5NT',\n",
       " '6NT',\n",
       " '2NT',\n",
       " '7c',\n",
       " '3d',\n",
       " '5NT',\n",
       " '2s',\n",
       " '3s',\n",
       " '6d',\n",
       " '6h',\n",
       " '4h',\n",
       " '4NT',\n",
       " '4s',\n",
       " '4NT',\n",
       " '4d',\n",
       " '3s',\n",
       " '4h',\n",
       " '4s',\n",
       " '1s',\n",
       " '2s',\n",
       " '3s',\n",
       " '2NT',\n",
       " '4s',\n",
       " '3s',\n",
       " '2NT',\n",
       " '4NT',\n",
       " '2d',\n",
       " 'PASS',\n",
       " '7NT',\n",
       " '3c',\n",
       " '3c',\n",
       " '4h',\n",
       " '3s',\n",
       " '4s',\n",
       " '6c',\n",
       " '4d',\n",
       " '3d',\n",
       " '4NT',\n",
       " '4s',\n",
       " '6h',\n",
       " '5s',\n",
       " '7d',\n",
       " '3h',\n",
       " '2s',\n",
       " '5s',\n",
       " '3d',\n",
       " '5h',\n",
       " '7s',\n",
       " '5d',\n",
       " '7s',\n",
       " '7NT',\n",
       " '5h',\n",
       " '3s',\n",
       " '4NT',\n",
       " '5NT',\n",
       " '2NT',\n",
       " '4c',\n",
       " '4s',\n",
       " '3s',\n",
       " '2NT',\n",
       " '4d',\n",
       " '4s',\n",
       " '4h',\n",
       " '5h',\n",
       " '2s',\n",
       " '6NT',\n",
       " '5h',\n",
       " '4s',\n",
       " '3s',\n",
       " '5h',\n",
       " '4d',\n",
       " '2NT',\n",
       " '3h',\n",
       " '4h',\n",
       " '4h',\n",
       " '1h',\n",
       " '7NT',\n",
       " '2c',\n",
       " '3NT',\n",
       " '3c',\n",
       " 'PASS',\n",
       " '3NT',\n",
       " '2s',\n",
       " '2h',\n",
       " '1h',\n",
       " '2s',\n",
       " '6d',\n",
       " '2s',\n",
       " '3NT',\n",
       " '3h',\n",
       " '3s',\n",
       " '5NT',\n",
       " '4s',\n",
       " '7h',\n",
       " '4s',\n",
       " '3s',\n",
       " '4d',\n",
       " '4NT',\n",
       " '2d',\n",
       " '6NT',\n",
       " '5NT',\n",
       " '3h']"
      ]
     },
     "execution_count": 362,
     "metadata": {},
     "output_type": "execute_result"
    }
   ],
   "source": [
    "y[500:]"
   ]
  },
  {
   "cell_type": "markdown",
   "metadata": {},
   "source": [
    "## One hand describes, other places"
   ]
  },
  {
   "cell_type": "code",
   "execution_count": null,
   "metadata": {},
   "outputs": [],
   "source": [
    "def base_function(hand, bidding):\n",
    "    # if other hand has not described\n",
    "    \n",
    "    # if other hand has described"
   ]
  },
  {
   "cell_type": "markdown",
   "metadata": {},
   "source": [
    "# TO RUN TONIGHT"
   ]
  },
  {
   "cell_type": "code",
   "execution_count": null,
   "metadata": {
    "ExecuteTime": {
     "start_time": "2019-07-26T21:18:56.992Z"
    }
   },
   "outputs": [],
   "source": [
    "# Running time: 1hr\n",
    "# Finds best values for bs, step for the hcp function\n",
    "bsf = -100\n",
    "for start in range(65, 90):\n",
    "    for step in range(25, 50):\n",
    "        if bsf < eval_strategy(data, Strategy(hcp_function(start / 5, step / 10))):\n",
    "            bs, bstep = start / 5, step / 10\n",
    "\n",
    "print (bs, bstep)"
   ]
  },
  {
   "cell_type": "code",
   "execution_count": null,
   "metadata": {
    "ExecuteTime": {
     "start_time": "2019-07-26T21:18:59.556Z"
    }
   },
   "outputs": [],
   "source": [
    "def suit_function(start=15, step=3):\n",
    "    def fn(hand, bidding):\n",
    "        if hand.features()['hcp'] >= start:\n",
    "            lev = min(7, (hand.features()['hcp'] - start) / step + 1)\n",
    "            strain = 'NT'\n",
    "            bst_len = 5\n",
    "            for s in suits:\n",
    "                if hand.features()[s + '_len'] >= bst_len:\n",
    "                    strain = s\n",
    "                    bst_len = hand.features()[s + '_len']\n",
    "            return const_function(str(int(lev)) + strain)(hand, bidding)\n",
    "        return 'PASS'\n",
    "    return fn"
   ]
  },
  {
   "cell_type": "code",
   "execution_count": null,
   "metadata": {
    "ExecuteTime": {
     "start_time": "2019-07-26T21:19:15.248Z"
    }
   },
   "outputs": [],
   "source": [
    "# Running time: 3hr\n",
    "# Finds best values for bs, step for the SUIT fn with 5\n",
    "bsf = -100\n",
    "for start in range(30, 70):\n",
    "    for step in range(15, ):\n",
    "        if bsf < eval_strategy(data, Strategy(suit_function(start / 5, step / 10))):\n",
    "            bs, bstep = start / 5, step / 10\n",
    "\n",
    "print (bs, bstep)"
   ]
  },
  {
   "cell_type": "code",
   "execution_count": null,
   "metadata": {
    "ExecuteTime": {
     "start_time": "2019-07-26T21:19:16.840Z"
    }
   },
   "outputs": [],
   "source": [
    "def suit_function(start=15, step=3):\n",
    "    def fn(hand, bidding):\n",
    "        if hand.features()['hcp'] >= start:\n",
    "            lev = min(7, (hand.features()['hcp'] - start) / step + 1)\n",
    "            strain = 'NT'\n",
    "            bst_len = 5\n",
    "            for s in suits:\n",
    "                if hand.features()[s + '_len'] >= bst_len:\n",
    "                    strain = s\n",
    "                    bst_len = hand.features()[s + '_len']\n",
    "            return const_function(str(int(lev)) + strain)(hand, bidding)\n",
    "        return 'PASS'\n",
    "    return fn"
   ]
  },
  {
   "cell_type": "code",
   "execution_count": null,
   "metadata": {
    "ExecuteTime": {
     "start_time": "2019-07-26T21:19:22.172Z"
    }
   },
   "outputs": [],
   "source": [
    "# Running time: 3hr\n",
    "# Finds best values for bs, step for the SUIT fn with 4\n",
    "bsf = -100\n",
    "for start in range(30, 70):\n",
    "    for step in range(15, 50):\n",
    "        if bsf < eval_strategy(data, Strategy(suit_function(start / 5, step / 10))):\n",
    "            bs, bstep = start / 5, step / 10\n",
    "\n",
    "print (bs, bstep)"
   ]
  },
  {
   "cell_type": "code",
   "execution_count": null,
   "metadata": {},
   "outputs": [],
   "source": []
  },
  {
   "cell_type": "code",
   "execution_count": 328,
   "metadata": {
    "ExecuteTime": {
     "end_time": "2019-07-26T20:48:39.209048Z",
     "start_time": "2019-07-26T20:48:39.111836Z"
    }
   },
   "outputs": [
    {
     "data": {
      "text/plain": [
       "-4.458"
      ]
     },
     "execution_count": 328,
     "metadata": {},
     "output_type": "execute_result"
    }
   ],
   "source": [
    "eval_strategy(data[:5000], Strategy(pass_function), with_opps=True)"
   ]
  },
  {
   "cell_type": "code",
   "execution_count": 329,
   "metadata": {
    "ExecuteTime": {
     "end_time": "2019-07-26T20:48:42.674295Z",
     "start_time": "2019-07-26T20:48:42.353548Z"
    }
   },
   "outputs": [
    {
     "data": {
      "text/plain": [
       "-4.233"
      ]
     },
     "execution_count": 329,
     "metadata": {},
     "output_type": "execute_result"
    }
   ],
   "source": [
    "eval_strategy(data[:5000], Strategy(hcp_function()), with_opps=True)"
   ]
  },
  {
   "cell_type": "code",
   "execution_count": 330,
   "metadata": {
    "ExecuteTime": {
     "end_time": "2019-07-26T20:48:45.759433Z",
     "start_time": "2019-07-26T20:48:45.105305Z"
    }
   },
   "outputs": [
    {
     "data": {
      "text/plain": [
       "-4.176"
      ]
     },
     "execution_count": 330,
     "metadata": {},
     "output_type": "execute_result"
    }
   ],
   "source": [
    "eval_strategy(data[:5000], Strategy(suit_function()), with_opps=True)"
   ]
  },
  {
   "cell_type": "code",
   "execution_count": null,
   "metadata": {},
   "outputs": [],
   "source": []
  }
 ],
 "metadata": {
  "kernelspec": {
   "display_name": "Python 3",
   "language": "python",
   "name": "python3"
  },
  "language_info": {
   "codemirror_mode": {
    "name": "ipython",
    "version": 3
   },
   "file_extension": ".py",
   "mimetype": "text/x-python",
   "name": "python",
   "nbconvert_exporter": "python",
   "pygments_lexer": "ipython3",
   "version": "3.7.3"
  },
  "toc": {
   "base_numbering": 1,
   "nav_menu": {},
   "number_sections": true,
   "sideBar": true,
   "skip_h1_title": false,
   "title_cell": "Table of Contents",
   "title_sidebar": "Contents",
   "toc_cell": false,
   "toc_position": {},
   "toc_section_display": true,
   "toc_window_display": false
  }
 },
 "nbformat": 4,
 "nbformat_minor": 2
}
