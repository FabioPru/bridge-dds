{
 "cells": [
  {
   "cell_type": "code",
   "execution_count": 1,
   "metadata": {
    "ExecuteTime": {
     "end_time": "2019-07-30T19:51:09.412029Z",
     "start_time": "2019-07-30T19:51:05.268113Z"
    }
   },
   "outputs": [
    {
     "name": "stderr",
     "output_type": "stream",
     "text": [
      "Using TensorFlow backend.\n"
     ]
    }
   ],
   "source": [
    "import matplotlib.pyplot as plt\n",
    "import seaborn as sns\n",
    "# Configs\n",
    "%config InlineBackend.figure_format ='retina'\n",
    "%matplotlib inline\n",
    "\n",
    "from sklearn.experimental import enable_hist_gradient_boosting\n",
    "from sklearn import externals, base, neural_network, neighbors, feature_extraction, datasets, linear_model, metrics, model_selection, preprocessing, svm, ensemble, decomposition, feature_extraction, utils\n",
    "\n",
    "import keras\n",
    "import scipy"
   ]
  },
  {
   "cell_type": "code",
   "execution_count": 76,
   "metadata": {
    "ExecuteTime": {
     "end_time": "2019-07-30T20:45:34.882017Z",
     "start_time": "2019-07-30T20:45:16.093497Z"
    }
   },
   "outputs": [],
   "source": [
    "# Load Bridge helper classes\n",
    "%run helpers/bridge.ipynb\n",
    "%run helpers/load-data.ipynb\n",
    "%run helpers/train-eval-utils.ipynb"
   ]
  },
  {
   "cell_type": "code",
   "execution_count": 77,
   "metadata": {
    "ExecuteTime": {
     "end_time": "2019-07-30T20:45:37.820976Z",
     "start_time": "2019-07-30T20:45:34.884709Z"
    }
   },
   "outputs": [],
   "source": [
    "myd = Deal()"
   ]
  },
  {
   "cell_type": "code",
   "execution_count": 78,
   "metadata": {
    "ExecuteTime": {
     "end_time": "2019-07-30T20:45:37.830326Z",
     "start_time": "2019-07-30T20:45:37.824340Z"
    }
   },
   "outputs": [
    {
     "data": {
      "text/plain": [
       "'A9654.5.AKQ63.K5 QT732.A93.T98.T7 K.QJT874.J4.Q843 J8.K62.752.AJ962'"
      ]
     },
     "execution_count": 78,
     "metadata": {},
     "output_type": "execute_result"
    }
   ],
   "source": [
    "myd.pbn"
   ]
  },
  {
   "cell_type": "code",
   "execution_count": 79,
   "metadata": {
    "ExecuteTime": {
     "end_time": "2019-07-30T20:45:37.848381Z",
     "start_time": "2019-07-30T20:45:37.834710Z"
    }
   },
   "outputs": [
    {
     "data": {
      "text/plain": [
       "[{'N': 8, 'E': 8, 'S': 7, 'W': 8},\n",
       " {'N': 8, 'E': 8, 'S': 8, 'W': 8},\n",
       " {'N': 9, 'E': 10, 'S': 10, 'W': 10},\n",
       " {'N': 10, 'E': 10, 'S': 10, 'W': 10},\n",
       " {'N': 8, 'E': 8, 'S': 7, 'W': 8}]"
      ]
     },
     "execution_count": 79,
     "metadata": {},
     "output_type": "execute_result"
    }
   ],
   "source": [
    "myd.wnrs"
   ]
  },
  {
   "cell_type": "code",
   "execution_count": 80,
   "metadata": {
    "ExecuteTime": {
     "end_time": "2019-07-30T20:45:38.497936Z",
     "start_time": "2019-07-30T20:45:37.852976Z"
    }
   },
   "outputs": [
    {
     "data": {
      "text/plain": [
       "[{'S': 8.0, 'E': 9.0, 'N': 8.0, 'W': 9.0},\n",
       " {'S': 8.0, 'E': 8.0, 'N': 8.0, 'W': 8.0},\n",
       " {'S': 10.0, 'E': 10.0, 'N': 10.0, 'W': 10.0},\n",
       " {'S': 9.0, 'E': 10.0, 'N': 9.0, 'W': 10.0},\n",
       " {'S': 7.0, 'E': 8.0, 'N': 7.0, 'W': 8.0}]"
      ]
     },
     "execution_count": 80,
     "metadata": {},
     "output_type": "execute_result"
    }
   ],
   "source": [
    "myd.solve().wnrs"
   ]
  },
  {
   "cell_type": "code",
   "execution_count": 83,
   "metadata": {
    "ExecuteTime": {
     "end_time": "2019-07-30T20:48:13.209737Z",
     "start_time": "2019-07-30T20:48:01.077134Z"
    }
   },
   "outputs": [
    {
     "name": "stdout",
     "output_type": "stream",
     "text": [
      "         9978743 function calls (9946743 primitive calls) in 12.006 seconds\n",
      "\n",
      "   Ordered by: standard name\n",
      "\n",
      "   ncalls  tottime  percall  cumtime  percall filename:lineno(function)\n",
      "    52000    0.018    0.000    0.018    0.000 <ipython-input-76-078efab8578b>:36(pos)\n",
      "   183645    0.065    0.000    0.065    0.000 <ipython-input-76-078efab8578b>:43(__lt__)\n",
      "    52000    0.142    0.000    0.204    0.000 <ipython-input-76-078efab8578b>:7(__new__)\n",
      "    20000    0.282    0.000    0.282    0.000 <ipython-input-76-2e4ff5113e48>:1(round_p)\n",
      "   280000    0.452    0.000    0.466    0.000 <ipython-input-76-3507402eb63e>:1(score_contract)\n",
      "    16000    0.017    0.000    0.017    0.000 <ipython-input-76-bda48e7a1639>:100(<listcomp>)\n",
      "   210000    0.469    0.000    1.041    0.000 <ipython-input-76-bda48e7a1639>:125(comp_score)\n",
      "     1000    0.168    0.000    1.209    0.001 <ipython-input-76-bda48e7a1639>:139(fill_score)\n",
      "     1000    0.479    0.000    0.874    0.001 <ipython-input-76-bda48e7a1639>:147(compute_sacs)\n",
      "     1000    0.004    0.000    0.004    0.000 <ipython-input-76-bda48e7a1639>:151(<listcomp>)\n",
      "     1000    0.192    0.000    0.482    0.000 <ipython-input-76-bda48e7a1639>:158(compute_best_contract)\n",
      "  1052000    0.423    0.000    0.490    0.000 <ipython-input-76-bda48e7a1639>:176(score)\n",
      "     1000    0.044    0.000    0.249    0.000 <ipython-input-76-bda48e7a1639>:20(<listcomp>)\n",
      "     1000    0.016    0.000    0.645    0.001 <ipython-input-76-bda48e7a1639>:22(<listcomp>)\n",
      "     1000    0.001    0.000    0.001    0.000 <ipython-input-76-bda48e7a1639>:33(<listcomp>)\n",
      "     1000    0.054    0.000   12.028    0.012 <ipython-input-76-bda48e7a1639>:5(__init__)\n",
      "     1000    0.288    0.000   10.928    0.011 <ipython-input-76-bda48e7a1639>:78(precompute)\n",
      "     1000    0.001    0.000    0.001    0.000 <ipython-input-76-bda48e7a1639>:81(<listcomp>)\n",
      "     1000    0.004    0.000    0.050    0.000 <ipython-input-76-bda48e7a1639>:83(<listcomp>)\n",
      "     4000    0.005    0.000    0.005    0.000 <ipython-input-76-bda48e7a1639>:85(<listcomp>)\n",
      "     4000    0.006    0.000    0.006    0.000 <ipython-input-76-d802d75309bf>:140(<listcomp>)\n",
      "     4000    0.011    0.000    0.046    0.000 <ipython-input-76-d802d75309bf>:144(feature_array)\n",
      "     4000    0.016    0.000    0.023    0.000 <ipython-input-76-d802d75309bf>:16(<listcomp>)\n",
      "     4000    0.019    0.000    0.036    0.000 <ipython-input-76-d802d75309bf>:28(<listcomp>)\n",
      "     4000    0.236    0.000    0.316    0.000 <ipython-input-76-d802d75309bf>:44(compute_features)\n",
      "     4000    0.104    0.000    0.542    0.000 <ipython-input-76-d802d75309bf>:8(__init__)\n",
      "    16000    0.030    0.000    0.030    0.000 <ipython-input-76-d802d75309bf>:83(<listcomp>)\n",
      "        1    0.033    0.033   12.061   12.061 <ipython-input-82-4463af436557>:1(foo)\n",
      "        1    0.000    0.000   12.061   12.061 <string>:1(<module>)\n",
      "     4000    0.004    0.000    0.007    0.000 <string>:1(__new__)\n",
      "     1000    0.001    0.000    0.013    0.000 _methods.py:42(_any)\n",
      "     2000    0.002    0.000    0.002    0.000 base.py:1190(isspmatrix)\n",
      "     2000    0.002    0.000    0.002    0.000 base_layer.py:189(built)\n",
      "     2000    0.006    0.000    0.012    0.000 c_api_util.py:32(__init__)\n",
      "     2000    0.005    0.000    0.008    0.000 c_api_util.py:35(__del__)\n",
      "     4000    0.013    0.000    0.024    0.000 context.py:180(push)\n",
      "     4000    0.005    0.000    0.008    0.000 context.py:196(pop)\n",
      "     8000    0.017    0.000    0.017    0.000 context.py:401(_mode)\n",
      "     8000    0.005    0.000    0.005    0.000 context.py:694(context_switches)\n",
      "    12000    0.005    0.000    0.005    0.000 context.py:716(context)\n",
      "     4000    0.007    0.000    0.020    0.000 context.py:759(graph_mode)\n",
      "12000/4000    0.013    0.000    0.143    0.000 contextlib.py:107(__enter__)\n",
      "12000/4000    0.023    0.000    0.098    0.000 contextlib.py:116(__exit__)\n",
      "    12000    0.015    0.000    0.051    0.000 contextlib.py:237(helper)\n",
      "    12000    0.031    0.000    0.037    0.000 contextlib.py:81(__init__)\n",
      "     2000    0.003    0.000    0.003    0.000 dtypes.py:126(as_numpy_dtype)\n",
      "     2000    0.002    0.000    0.003    0.000 dtypes.py:668(as_dtype)\n",
      "     2000    0.006    0.000    0.018    0.000 errors_impl.py:518(__enter__)\n",
      "     2000    0.017    0.000    0.030    0.000 errors_impl.py:522(__exit__)\n",
      "     2000    0.003    0.000    0.004    0.000 generic_utils.py:447(to_list)\n",
      "     2000    0.002    0.000    0.003    0.000 generic_utils.py:470(unpack_singleton)\n",
      "     2000    0.009    0.000    0.049    0.000 generic_utils.py:499(slice_arrays)\n",
      "     2000    0.035    0.000    0.035    0.000 generic_utils.py:526(<listcomp>)\n",
      "     2000    0.005    0.000    0.008    0.000 network.py:429(uses_learning_phase)\n",
      "     2000    0.002    0.000    0.002    0.000 network.py:433(<listcomp>)\n",
      "     4000    0.011    0.000    0.043    0.000 network.py:435(stateful)\n",
      "     4000    0.012    0.000    0.023    0.000 network.py:437(<listcomp>)\n",
      "     1000    0.003    0.000    0.013    0.000 numeric.py:175(ones)\n",
      "     2000    0.003    0.000    0.026    0.000 numeric.py:469(asarray)\n",
      "     8000    0.006    0.000    0.019    0.000 ops.py:155(is_dense_tensor_like)\n",
      "     4000    0.003    0.000    0.003    0.000 ops.py:3213(building_function)\n",
      "     2000    0.002    0.000    0.002    0.000 ops.py:334(dtype)\n",
      "     4000    0.011    0.000    0.038    0.000 ops.py:3694(as_default)\n",
      "     4000    0.126    0.000    0.128    0.000 ops.py:3805(get_collection)\n",
      "     8000    0.009    0.000    0.011    0.000 ops.py:5039(get_default)\n",
      "     8000    0.015    0.000    0.023    0.000 ops.py:5056(get_controller)\n",
      "     4000    0.009    0.000    0.015    0.000 ops.py:5126(get_default_session)\n",
      "     4000    0.007    0.000    0.012    0.000 ops.py:5226(get_default)\n",
      "     8000    0.067    0.000    0.222    0.000 ops.py:5246(get_controller)\n",
      "     4000    0.006    0.000    0.018    0.000 ops.py:5594(get_default_graph)\n",
      "     4000    0.009    0.000    0.155    0.000 ops.py:5951(get_collection)\n",
      "    51000    0.055    0.000    0.082    0.000 random.py:224(_randbelow)\n",
      "     1000    0.036    0.000    0.118    0.000 random.py:264(shuffle)\n",
      "     4000    0.007    0.000    0.008    0.000 sequential.py:95(layers)\n",
      "     2000    0.036    0.000    2.688    0.001 session.py:1429(__call__)\n",
      "     4000    0.003    0.000    0.003    0.000 session.py:746(graph)\n",
      "     4000    1.377    0.000    4.211    0.001 tensorflow_backend.py:156(get_session)\n",
      "     2000    0.089    0.000    4.817    0.002 tensorflow_backend.py:2632(_call)\n",
      "     2000    0.073    0.000    7.121    0.004 tensorflow_backend.py:2696(__call__)\n",
      "     4000    0.003    0.000    0.009    0.000 tensorflow_backend.py:2698(<genexpr>)\n",
      "     2000    0.003    0.000    0.005    0.000 tensorflow_backend.py:311(is_sparse)\n",
      "     8000    0.017    0.000    0.039    0.000 tensorflow_backend.py:479(is_tensor)\n",
      "     2000    0.023    0.000    7.473    0.004 training.py:1115(predict)\n",
      "     2000    0.002    0.000    0.003    0.000 training.py:539(_make_predict_function)\n",
      "     2000    0.003    0.000    0.010    0.000 training.py:556(_uses_dynamic_learning_phase)\n",
      "     2000    0.023    0.000    0.118    0.000 training.py:643(_standardize_user_data)\n",
      "     2000    0.001    0.000    0.001    0.000 training.py:728(<genexpr>)\n",
      "     2000    0.074    0.000    7.304    0.004 training_arrays.py:224(predict_loop)\n",
      "     2000    0.006    0.000    0.021    0.000 training_utils.py:16(standardize_single_array)\n",
      "     2000    0.027    0.000    0.060    0.000 training_utils.py:32(standardize_input_data)\n",
      "     2000    0.005    0.000    0.009    0.000 training_utils.py:359(make_batches)\n",
      "     2000    0.003    0.000    0.004    0.000 training_utils.py:370(<listcomp>)\n",
      "     2000    0.007    0.000    0.021    0.000 training_utils.py:529(check_num_samples)\n",
      "     4000    0.003    0.000    0.010    0.000 training_utils.py:565(<genexpr>)\n",
      "     2000    0.003    0.000    0.024    0.000 training_utils.py:92(<listcomp>)\n",
      "     4000    0.011    0.000    0.167    0.000 variables.py:2694(global_variables)\n",
      "    56000    0.021    0.000    0.021    0.000 {built-in method __new__ of type object at 0x10beb9778}\n",
      "     2000    0.003    0.000    0.003    0.000 {built-in method _pywrap_tensorflow_internal.TF_DeleteStatus}\n",
      "     2000    0.006    0.000    0.006    0.000 {built-in method _pywrap_tensorflow_internal.TF_GetCode}\n",
      "     2000    0.006    0.000    0.006    0.000 {built-in method _pywrap_tensorflow_internal.TF_NewStatus}\n",
      "     2000    2.604    0.001    2.604    0.001 {built-in method _pywrap_tensorflow_internal.TF_SessionRunCallable}\n",
      "    12000    0.011    0.000    0.031    0.000 {built-in method builtins.any}\n",
      "        1    0.000    0.000   12.061   12.061 {built-in method builtins.exec}\n",
      "  5276000    2.373    0.000    2.373    0.000 {built-in method builtins.getattr}\n",
      "    42000    0.021    0.000    0.021    0.000 {built-in method builtins.hasattr}\n",
      "   198000    0.055    0.000    0.055    0.000 {built-in method builtins.isinstance}\n",
      "   599149    0.073    0.000    0.073    0.000 {built-in method builtins.len}\n",
      "   630000    0.191    0.000    0.191    0.000 {built-in method builtins.max}\n",
      "   245149    0.084    0.000    0.084    0.000 {built-in method builtins.min}\n",
      "24000/8000    0.020    0.000    0.228    0.000 {built-in method builtins.next}\n",
      "    12000    0.056    0.000    0.121    0.000 {built-in method builtins.sorted}\n",
      "     2000    0.009    0.000    0.009    0.000 {built-in method numpy.arange}\n",
      "    31000    0.192    0.000    0.192    0.000 {built-in method numpy.array}\n",
      "     1000    0.010    0.000    0.010    0.000 {built-in method numpy.concatenate}\n",
      "     1000    0.006    0.000    0.006    0.000 {built-in method numpy.copyto}\n",
      "     1000    0.003    0.000    0.003    0.000 {built-in method numpy.empty}\n",
      "     7000    0.029    0.000    0.029    0.000 {built-in method numpy.zeros}\n",
      "     1000    0.002    0.000    0.015    0.000 {method 'any' of 'numpy.ndarray' objects}\n",
      "    78000    0.017    0.000    0.017    0.000 {method 'append' of 'list' objects}\n",
      "    51000    0.006    0.000    0.006    0.000 {method 'bit_length' of 'int' objects}\n",
      "        1    0.000    0.000    0.000    0.000 {method 'disable' of '_lsprof.Profiler' objects}\n",
      "    20000    0.046    0.000    0.046    0.000 {method 'flatten' of 'numpy.ndarray' objects}\n",
      "     6000    0.003    0.000    0.003    0.000 {method 'get' of 'dict' objects}\n",
      "    76780    0.020    0.000    0.020    0.000 {method 'getrandbits' of '_random.Random' objects}\n",
      "   334016    0.095    0.000    0.095    0.000 {method 'index' of 'list' objects}\n",
      "     5000    0.004    0.000    0.004    0.000 {method 'join' of 'str' objects}\n",
      "     8000    0.009    0.000    0.009    0.000 {method 'pop' of 'list' objects}\n",
      "     1000    0.012    0.000    0.012    0.000 {method 'reduce' of 'numpy.ufunc' objects}\n",
      "    16000    0.011    0.000    0.011    0.000 {method 'split' of 'str' objects}\n",
      "     2000    0.003    0.000    0.003    0.000 {method 'tolist' of 'numpy.ndarray' objects}\n",
      "     4000    0.001    0.000    0.001    0.000 {method 'values' of 'dict' objects}\n",
      "\n",
      "\n"
     ]
    }
   ],
   "source": [
    "import cProfile\n",
    "cProfile.run('foo()')\n"
   ]
  },
  {
   "cell_type": "code",
   "execution_count": 82,
   "metadata": {
    "ExecuteTime": {
     "end_time": "2019-07-30T20:47:58.446339Z",
     "start_time": "2019-07-30T20:47:58.442568Z"
    }
   },
   "outputs": [],
   "source": [
    "def foo():\n",
    "    # 20x speedup if you don't use original DDS\n",
    "    for _ in range(1000):\n",
    "        Deal()"
   ]
  },
  {
   "cell_type": "markdown",
   "metadata": {},
   "source": [
    "# Helpers"
   ]
  },
  {
   "cell_type": "code",
   "execution_count": 716,
   "metadata": {
    "ExecuteTime": {
     "end_time": "2019-07-27T20:20:56.114283Z",
     "start_time": "2019-07-27T20:20:56.108171Z"
    }
   },
   "outputs": [],
   "source": [
    "def gen_sequence(deal, s1, s2=System(pass_function), s3=None, s4=None):\n",
    "    seq = Bidding()\n",
    "    if s3 is None:\n",
    "        s3 = s1\n",
    "    if s4 is None:\n",
    "        s4 = s2\n",
    "    sgs = [s1, s2, s3, s4]\n",
    "    while not seq.done:\n",
    "        cur_pl = len(seq) % 4\n",
    "        seq = sgs[cur_pl].step(deal.hands[cur_pl], seq)\n",
    "    return seq"
   ]
  },
  {
   "cell_type": "markdown",
   "metadata": {},
   "source": [
    "# Examples"
   ]
  },
  {
   "cell_type": "code",
   "execution_count": 692,
   "metadata": {
    "ExecuteTime": {
     "end_time": "2019-07-27T20:09:10.467522Z",
     "start_time": "2019-07-27T20:09:10.464597Z"
    }
   },
   "outputs": [],
   "source": [
    "# Full knowledge ~ Theoretical limit"
   ]
  },
  {
   "cell_type": "code",
   "execution_count": 864,
   "metadata": {
    "ExecuteTime": {
     "end_time": "2019-07-29T20:25:28.291312Z",
     "start_time": "2019-07-29T20:23:58.038427Z"
    }
   },
   "outputs": [],
   "source": [
    "X = np.array([d.N.feature_array() + d.S.feature_array() for d in data] * no_samples) #only N hand\n"
   ]
  },
  {
   "cell_type": "code",
   "execution_count": 693,
   "metadata": {
    "ExecuteTime": {
     "end_time": "2019-07-27T20:09:11.490597Z",
     "start_time": "2019-07-27T20:09:11.487413Z"
    }
   },
   "outputs": [],
   "source": [
    "# TODO"
   ]
  },
  {
   "cell_type": "code",
   "execution_count": 872,
   "metadata": {
    "ExecuteTime": {
     "end_time": "2019-07-29T20:35:48.468739Z",
     "start_time": "2019-07-29T20:35:48.464578Z"
    }
   },
   "outputs": [],
   "source": [
    "model = neural_network.MLPClassifier(hidden_layer_sizes=(256, 256, 256, 256,), \n",
    "                                     max_iter=5, \n",
    "                                     #early_stopping=True, tol=1e-6\n",
    "                                    )"
   ]
  },
  {
   "cell_type": "code",
   "execution_count": 873,
   "metadata": {
    "ExecuteTime": {
     "end_time": "2019-07-29T20:56:36.728732Z",
     "start_time": "2019-07-29T20:35:48.654301Z"
    }
   },
   "outputs": [
    {
     "name": "stderr",
     "output_type": "stream",
     "text": [
      "/Applications/miniconda3/lib/python3.7/site-packages/sklearn/neural_network/multilayer_perceptron.py:566: ConvergenceWarning: Stochastic Optimizer: Maximum iterations (5) reached and the optimization hasn't converged yet.\n",
      "  % self.max_iter, ConvergenceWarning)\n"
     ]
    },
    {
     "data": {
      "text/plain": [
       "MLPClassifier(activation='relu', alpha=0.0001, batch_size='auto', beta_1=0.9,\n",
       "              beta_2=0.999, early_stopping=False, epsilon=1e-08,\n",
       "              hidden_layer_sizes=(256, 256, 256, 256), learning_rate='constant',\n",
       "              learning_rate_init=0.001, max_iter=5, momentum=0.9,\n",
       "              n_iter_no_change=10, nesterovs_momentum=True, power_t=0.5,\n",
       "              random_state=None, shuffle=True, solver='adam', tol=0.0001,\n",
       "              validation_fraction=0.1, verbose=False, warm_start=False)"
      ]
     },
     "execution_count": 873,
     "metadata": {},
     "output_type": "execute_result"
    }
   ],
   "source": [
    "model.fit(X, y) # 3min\n"
   ]
  },
  {
   "cell_type": "code",
   "execution_count": 874,
   "metadata": {
    "ExecuteTime": {
     "end_time": "2019-07-29T20:58:55.386921Z",
     "start_time": "2019-07-29T20:58:54.045674Z"
    }
   },
   "outputs": [
    {
     "data": {
      "text/plain": [
       "0.3764"
      ]
     },
     "execution_count": 874,
     "metadata": {},
     "output_type": "execute_result"
    }
   ],
   "source": [
    "model.score(X[:10000], y[:10000])"
   ]
  },
  {
   "cell_type": "code",
   "execution_count": 875,
   "metadata": {
    "ExecuteTime": {
     "end_time": "2019-07-29T20:59:04.743474Z",
     "start_time": "2019-07-29T20:59:01.677802Z"
    }
   },
   "outputs": [
    {
     "data": {
      "text/plain": [
       "-6.949"
      ]
     },
     "execution_count": 875,
     "metadata": {},
     "output_type": "execute_result"
    }
   ],
   "source": [
    "System(system_from_model(model)).evaluate(data[:1000])"
   ]
  },
  {
   "cell_type": "markdown",
   "metadata": {},
   "source": [
    "## One hand places the contract"
   ]
  },
  {
   "cell_type": "markdown",
   "metadata": {
    "heading_collapsed": true
   },
   "source": [
    "### Basic things"
   ]
  },
  {
   "cell_type": "code",
   "execution_count": 694,
   "metadata": {
    "ExecuteTime": {
     "end_time": "2019-07-27T20:09:12.290927Z",
     "start_time": "2019-07-27T20:09:12.287152Z"
    },
    "hidden": true
   },
   "outputs": [],
   "source": [
    "def const_function(contr):\n",
    "    def fn(hand, bidding):\n",
    "        return contr\n",
    "    return fn"
   ]
  },
  {
   "cell_type": "code",
   "execution_count": 719,
   "metadata": {
    "ExecuteTime": {
     "end_time": "2019-07-27T20:21:59.474551Z",
     "start_time": "2019-07-27T20:21:59.470996Z"
    },
    "hidden": true
   },
   "outputs": [],
   "source": [
    "def pass_function(hand, bidding):\n",
    "    return 'PASS'"
   ]
  },
  {
   "cell_type": "code",
   "execution_count": 696,
   "metadata": {
    "ExecuteTime": {
     "end_time": "2019-07-27T20:09:14.067876Z",
     "start_time": "2019-07-27T20:09:14.062570Z"
    },
    "hidden": true
   },
   "outputs": [],
   "source": [
    "def hcp_function(start=14.2, step=3.9):\n",
    "    def fn(hand, bidding):\n",
    "        ft = hand.features()\n",
    "        if ft['hcp'] >= start:\n",
    "            lev = min(7, (ft['hcp'] - start) / step + 1)\n",
    "            return str(int(lev)) + 'NT'\n",
    "        return 'PASS'\n",
    "    return fn"
   ]
  },
  {
   "cell_type": "code",
   "execution_count": 697,
   "metadata": {
    "ExecuteTime": {
     "end_time": "2019-07-27T20:09:14.341032Z",
     "start_time": "2019-07-27T20:09:14.333622Z"
    },
    "hidden": true
   },
   "outputs": [],
   "source": [
    "def suit_function(start=12.8, step=2.6):\n",
    "    def fn(hand, bidding):\n",
    "        ft = hand.features()\n",
    "        if ft['hcp'] >= start:\n",
    "            lev = min(7, (ft['hcp'] - start) / step + 1)\n",
    "            strain = 'NT'\n",
    "            bst_len = 4\n",
    "            for s in suits:\n",
    "                if ft[s + '_len'] >= bst_len:\n",
    "                    strain = s\n",
    "                    bst_len = ft[s + '_len']\n",
    "            return str(int(lev)) + strain\n",
    "            #return const_function(str(int(lev)) + strain)(hand, bidding)\n",
    "        return 'PASS'\n",
    "    return fn"
   ]
  },
  {
   "cell_type": "code",
   "execution_count": 698,
   "metadata": {
    "ExecuteTime": {
     "end_time": "2019-07-27T20:09:14.747961Z",
     "start_time": "2019-07-27T20:09:14.743858Z"
    },
    "hidden": true
   },
   "outputs": [],
   "source": [
    "def system_from_model(model):\n",
    "    def fn(hand, bidding):\n",
    "        bid = model.predict(hand.feature_array().reshape(1, -1))[0]\n",
    "        return bid\n",
    "    return fn"
   ]
  },
  {
   "cell_type": "markdown",
   "metadata": {},
   "source": [
    "### Theoretical limit"
   ]
  },
  {
   "cell_type": "code",
   "execution_count": null,
   "metadata": {},
   "outputs": [],
   "source": [
    "# Try to make a NN learn the best contract with_opps"
   ]
  },
  {
   "cell_type": "code",
   "execution_count": 839,
   "metadata": {
    "ExecuteTime": {
     "end_time": "2019-07-29T16:35:34.697580Z",
     "start_time": "2019-07-29T16:24:12.048454Z"
    }
   },
   "outputs": [],
   "source": [
    "no_samples = 5 # 2 min per sample\n",
    "\n",
    "X = np.array([d.hands[0].feature_array() for d in data] * no_samples) #only N hand\n",
    "\n",
    "# Winners in a particular strain played from N\n",
    "y = []\n",
    "for _ in range(no_samples):\n",
    "    y += [contract_to_index[d.sample_contract()]\n",
    "     for d in data]"
   ]
  },
  {
   "cell_type": "code",
   "execution_count": 840,
   "metadata": {
    "ExecuteTime": {
     "end_time": "2019-07-29T16:35:34.819975Z",
     "start_time": "2019-07-29T16:35:34.757967Z"
    }
   },
   "outputs": [],
   "source": [
    "# This model overfits terribly"
   ]
  },
  {
   "cell_type": "code",
   "execution_count": 844,
   "metadata": {
    "ExecuteTime": {
     "end_time": "2019-07-29T16:38:44.606265Z",
     "start_time": "2019-07-29T16:38:44.547701Z"
    }
   },
   "outputs": [],
   "source": [
    "model = neural_network.MLPClassifier(hidden_layer_sizes=(256, 256, 256, 256,), \n",
    "                                     max_iter=25, \n",
    "                                     #early_stopping=True, tol=1e-6\n",
    "                                    )"
   ]
  },
  {
   "cell_type": "code",
   "execution_count": 845,
   "metadata": {
    "ExecuteTime": {
     "end_time": "2019-07-29T19:59:54.445838Z",
     "start_time": "2019-07-29T16:38:47.881666Z"
    }
   },
   "outputs": [
    {
     "name": "stdout",
     "output_type": "stream",
     "text": [
      "22\n"
     ]
    },
    {
     "name": "stderr",
     "output_type": "stream",
     "text": [
      "/Applications/miniconda3/lib/python3.7/site-packages/sklearn/neural_network/multilayer_perceptron.py:568: UserWarning: Training interrupted by user.\n",
      "  warnings.warn(\"Training interrupted by user.\")\n"
     ]
    }
   ],
   "source": [
    "# 1 iter = 2.5 mins\n",
    "model.fit(X, y) # 3min\n",
    "print(model.n_iter_)"
   ]
  },
  {
   "cell_type": "code",
   "execution_count": null,
   "metadata": {},
   "outputs": [],
   "source": []
  },
  {
   "cell_type": "code",
   "execution_count": 854,
   "metadata": {
    "ExecuteTime": {
     "end_time": "2019-07-29T20:02:00.489928Z",
     "start_time": "2019-07-29T20:02:00.383343Z"
    }
   },
   "outputs": [
    {
     "data": {
      "text/plain": [
       "['models/ftarrayN_to_bestc.pkl']"
      ]
     },
     "execution_count": 854,
     "metadata": {},
     "output_type": "execute_result"
    }
   ],
   "source": [
    "from sklearn.externals import joblib\n",
    "joblib.dump(model, 'models/ftarrayN_to_bestc.pkl') "
   ]
  },
  {
   "cell_type": "code",
   "execution_count": 572,
   "metadata": {
    "ExecuteTime": {
     "end_time": "2019-07-27T10:50:38.804665Z",
     "start_time": "2019-07-27T10:50:37.919199Z"
    }
   },
   "outputs": [
    {
     "data": {
      "text/plain": [
       "0.96585"
      ]
     },
     "execution_count": 572,
     "metadata": {},
     "output_type": "execute_result"
    }
   ],
   "source": [
    "# Load the pickle file\n",
    "model_load = joblib.load('models/ftarrayN_to_bestc.pkl') "
   ]
  },
  {
   "cell_type": "code",
   "execution_count": 865,
   "metadata": {
    "ExecuteTime": {
     "end_time": "2019-07-29T20:25:34.213771Z",
     "start_time": "2019-07-29T20:25:28.442979Z"
    }
   },
   "outputs": [
    {
     "data": {
      "text/plain": [
       "-4.286"
      ]
     },
     "execution_count": 865,
     "metadata": {},
     "output_type": "execute_result"
    }
   ],
   "source": [
    "# Care: it's in sample\n",
    "System(system_from_model(model)).evaluate(data[:1000])"
   ]
  },
  {
   "cell_type": "markdown",
   "metadata": {},
   "source": [
    "## One hand describes, other places"
   ]
  },
  {
   "cell_type": "code",
   "execution_count": 754,
   "metadata": {
    "ExecuteTime": {
     "end_time": "2019-07-27T20:29:08.299383Z",
     "start_time": "2019-07-27T20:29:08.283184Z"
    },
    "code_folding": [
     9,
     25
    ]
   },
   "outputs": [],
   "source": [
    "def basic_function(hand, bidding):\n",
    "    bids_made = len(bidding)\n",
    "    ft = hand.features()\n",
    "    \n",
    "    min_opening_str = 10\n",
    "    hcp_step = 4\n",
    "    card_fit_suit = 8\n",
    "    \n",
    "    # if other hand has not described\n",
    "    if bids_made <= 1:\n",
    "        if ft['hcp'] < min_opening_str:\n",
    "            return 'PASS'\n",
    "        else:\n",
    "            # [10, 13] [14, 17] ...\n",
    "            lev = min(7, (ft['hcp'] - min_opening_str) / hcp_step + 1)\n",
    "            # Bids a 5 card suit if it has it, else NT\n",
    "            strain = 'NT'\n",
    "            bst_len = 5\n",
    "            for s in suits:\n",
    "                if ft[s + '_len'] >= bst_len:\n",
    "                    strain = s\n",
    "                    bst_len = ft[s + '_len']\n",
    "            return str(int(lev)) + strain\n",
    "        \n",
    "    # if other hand has described\n",
    "    if 1 < bids_made <= 3:\n",
    "        p_bid = bidding.partner_bids()[0]\n",
    "        # Estimates hcp\n",
    "        if p_bid == 'PASS':\n",
    "            ft['hcp'] += min_opening_str - 3\n",
    "        else:\n",
    "            ft['hcp'] += min_opening_str - 3 + hcp_step * int(p_bid[0])\n",
    "        # Estimates distribution as 3333 or 5222\n",
    "        if p_bid == 'PASS' or p_bid[1:] == 'NT':\n",
    "            for s in suits:\n",
    "                ft[s + '_len'] += 3\n",
    "        else:\n",
    "            for s in suits:\n",
    "                if s == p_bid[1:]:\n",
    "                    ft[s + '_len'] += 5\n",
    "                else:\n",
    "                    ft[s + '_len'] += 2\n",
    "        # Guesses best contract\n",
    "        # strain = s if >= 8 card fit, else NT\n",
    "        strain = 'NT'\n",
    "        bst_len = card_fit_suit\n",
    "        for s in suits:\n",
    "            if ft[s + '_len'] >= bst_len:\n",
    "                strain = s\n",
    "                bst_len = ft[s + '_len']\n",
    "                \n",
    "        # level for NT 19, 22, 25, 28, 31, 34, 37\n",
    "        if strain == 'NT':\n",
    "            level = (ft['hcp'] - 16) // 3\n",
    "        # level for suit depends on length\n",
    "        else:\n",
    "            # hcp + 2*length >= 25 + 16 for game\n",
    "            level = (ft['hcp'] + 2 * ft[strain + '_len'] - 29) // 3\n",
    "        level = min(7, level)\n",
    "\n",
    "        # Principle of suit correction:\n",
    "        #  if p made a bid in a NT strain we might wish to raise the level\n",
    "        #  to change that to a suit\n",
    "        if p_bid == '1NT' or p_bid == '2NT':\n",
    "            if strain != 'NT' and level <= int(p_bid[0]):\n",
    "                level = int(p_bid[0]) + 1\n",
    "            \n",
    "        # for minor suits, correct 4m and 5m to 3NT\n",
    "        if strain in ['c', 'd'] and 4 <= level <= 5:\n",
    "            level = 3; strain = 'NT'\n",
    "        # correct non-slams above game\n",
    "        if strain in ['h', 's'] and level == 5:\n",
    "            level = 4\n",
    "        if strain == 'NT' and 4 <= level <= 5:\n",
    "            level = 3\n",
    "\n",
    "\n",
    "        if level <= 0:\n",
    "            return 'PASS'\n",
    "        else:\n",
    "            return str(level) + strain\n",
    "    \n",
    "    # if other hand has placed the contract\n",
    "    if bids_made >= 4:\n",
    "        return 'PASS'"
   ]
  },
  {
   "cell_type": "code",
   "execution_count": null,
   "metadata": {},
   "outputs": [],
   "source": []
  },
  {
   "cell_type": "markdown",
   "metadata": {},
   "source": [
    "# Evaluations"
   ]
  },
  {
   "cell_type": "code",
   "execution_count": 828,
   "metadata": {
    "ExecuteTime": {
     "end_time": "2019-07-29T15:48:31.157390Z",
     "start_time": "2019-07-29T15:48:19.221885Z"
    }
   },
   "outputs": [
    {
     "data": {
      "text/plain": [
       "-4.547764336291191"
      ]
     },
     "execution_count": 828,
     "metadata": {},
     "output_type": "execute_result"
    }
   ],
   "source": [
    "System(pass_function).evaluate(data)"
   ]
  },
  {
   "cell_type": "code",
   "execution_count": 671,
   "metadata": {
    "ExecuteTime": {
     "end_time": "2019-07-27T19:54:54.364319Z",
     "start_time": "2019-07-27T19:54:27.963469Z"
    }
   },
   "outputs": [
    {
     "data": {
      "text/plain": [
       "-4.334017286610689"
      ]
     },
     "execution_count": 671,
     "metadata": {},
     "output_type": "execute_result"
    }
   ],
   "source": [
    "System(hcp_function()).evaluate(data)"
   ]
  },
  {
   "cell_type": "code",
   "execution_count": 672,
   "metadata": {
    "ExecuteTime": {
     "end_time": "2019-07-27T19:55:24.742246Z",
     "start_time": "2019-07-27T19:54:54.370503Z"
    }
   },
   "outputs": [
    {
     "data": {
      "text/plain": [
       "-4.248439517422304"
      ]
     },
     "execution_count": 672,
     "metadata": {},
     "output_type": "execute_result"
    }
   ],
   "source": [
    "System(suit_function()).evaluate(data)"
   ]
  },
  {
   "cell_type": "code",
   "execution_count": 866,
   "metadata": {
    "ExecuteTime": {
     "end_time": "2019-07-29T20:28:40.467267Z",
     "start_time": "2019-07-29T20:28:03.921364Z"
    }
   },
   "outputs": [
    {
     "data": {
      "text/plain": [
       "-4.673"
      ]
     },
     "execution_count": 866,
     "metadata": {},
     "output_type": "execute_result"
    }
   ],
   "source": [
    "# NN that takes North hand and estimates a contract (IN SAMPLE)\n",
    "model_load = joblib.load('models/ftarrayN_to_bestc.pkl') \n",
    "System(system_from_model(model_load)).evaluate(data[:10000])"
   ]
  },
  {
   "cell_type": "code",
   "execution_count": null,
   "metadata": {},
   "outputs": [],
   "source": []
  },
  {
   "cell_type": "code",
   "execution_count": 673,
   "metadata": {
    "ExecuteTime": {
     "end_time": "2019-07-27T19:56:05.775000Z",
     "start_time": "2019-07-27T19:55:24.748264Z"
    }
   },
   "outputs": [
    {
     "data": {
      "text/plain": [
       "-3.595602687566305"
      ]
     },
     "execution_count": 673,
     "metadata": {},
     "output_type": "execute_result"
    }
   ],
   "source": [
    "System(basic_function).evaluate(data)"
   ]
  },
  {
   "cell_type": "code",
   "execution_count": null,
   "metadata": {},
   "outputs": [],
   "source": []
  },
  {
   "cell_type": "code",
   "execution_count": null,
   "metadata": {},
   "outputs": [],
   "source": []
  },
  {
   "cell_type": "code",
   "execution_count": 755,
   "metadata": {
    "ExecuteTime": {
     "end_time": "2019-07-27T20:29:34.017493Z",
     "start_time": "2019-07-27T20:29:33.621543Z"
    }
   },
   "outputs": [
    {
     "data": {
      "text/plain": [
       "1.011"
      ]
     },
     "execution_count": 755,
     "metadata": {},
     "output_type": "execute_result"
    }
   ],
   "source": [
    "System(basic_function).compare(data[:1000], System(suit_function()))"
   ]
  },
  {
   "cell_type": "code",
   "execution_count": null,
   "metadata": {},
   "outputs": [],
   "source": []
  }
 ],
 "metadata": {
  "kernelspec": {
   "display_name": "Python 3",
   "language": "python",
   "name": "python3"
  },
  "language_info": {
   "codemirror_mode": {
    "name": "ipython",
    "version": 3
   },
   "file_extension": ".py",
   "mimetype": "text/x-python",
   "name": "python",
   "nbconvert_exporter": "python",
   "pygments_lexer": "ipython3",
   "version": "3.7.3"
  },
  "toc": {
   "base_numbering": 1,
   "nav_menu": {},
   "number_sections": true,
   "sideBar": true,
   "skip_h1_title": false,
   "title_cell": "Table of Contents",
   "title_sidebar": "Contents",
   "toc_cell": false,
   "toc_position": {},
   "toc_section_display": true,
   "toc_window_display": false
  }
 },
 "nbformat": 4,
 "nbformat_minor": 2
}
