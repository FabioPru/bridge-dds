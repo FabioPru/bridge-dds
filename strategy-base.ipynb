{
 "cells": [
  {
   "cell_type": "code",
   "execution_count": 658,
   "metadata": {
    "ExecuteTime": {
     "end_time": "2019-07-27T17:27:25.204899Z",
     "start_time": "2019-07-27T17:27:25.176086Z"
    }
   },
   "outputs": [],
   "source": [
    "import matplotlib.pyplot as plt\n",
    "import seaborn as sns\n",
    "# Configs\n",
    "%config InlineBackend.figure_format ='retina'\n",
    "%matplotlib inline\n",
    "\n",
    "from sklearn.experimental import enable_hist_gradient_boosting\n",
    "from sklearn import externals, base, neural_network, neighbors, feature_extraction, datasets, linear_model, metrics, model_selection, preprocessing, svm, ensemble, decomposition, feature_extraction, utils\n",
    "\n",
    "import keras\n"
   ]
  },
  {
   "cell_type": "code",
   "execution_count": 659,
   "metadata": {
    "ExecuteTime": {
     "end_time": "2019-07-27T17:27:25.676322Z",
     "start_time": "2019-07-27T17:27:25.474927Z"
    }
   },
   "outputs": [],
   "source": [
    "# Load Bridge helper classes\n",
    "%run helpers/bridge.ipynb\n",
    "%run helpers/load-data.ipynb\n",
    "%run helpers/train-eval-utils.ipynb"
   ]
  },
  {
   "cell_type": "code",
   "execution_count": 660,
   "metadata": {
    "ExecuteTime": {
     "end_time": "2019-07-27T17:34:54.551007Z",
     "start_time": "2019-07-27T17:27:26.092714Z"
    }
   },
   "outputs": [],
   "source": [
    "# Loads & precomputes all the data, takes about 10min\n",
    "data = load_deals()"
   ]
  },
  {
   "cell_type": "markdown",
   "metadata": {},
   "source": [
    "# Helpers"
   ]
  },
  {
   "cell_type": "code",
   "execution_count": 667,
   "metadata": {
    "ExecuteTime": {
     "end_time": "2019-07-27T19:53:15.909273Z",
     "start_time": "2019-07-27T19:53:15.898163Z"
    }
   },
   "outputs": [],
   "source": [
    "class Strategy(object):\n",
    "    \n",
    "    def __init__(self, function):\n",
    "        # Takes as an input a function from (Hand, Bidding) -> bid\n",
    "        self.fn = function\n",
    "        \n",
    "    def step(self, hand, bidding):\n",
    "        # In case the bid is invalid, automatically substitute for PASS (idk)\n",
    "        bid = self.fn(hand, bidding)\n",
    "        if isinstance(bid, str):\n",
    "            bid = valid_bids.index(bid)\n",
    "        if 0 < bid <= len(contracts) and bid > bidding.last_bid():\n",
    "            return bidding.add(self.fn(hand, bidding))\n",
    "        return bidding.add(0)\n",
    "    \n",
    "    def evaluate(self, list_of_deals, enemy_s=Strategy(pass_function), with_opps=True):\n",
    "        if not isinstance(list_of_deals, list):\n",
    "            list_of_deals = [list_of_deals]\n",
    "        rt = 0\n",
    "        for d in list_of_deals:\n",
    "            seq = gen_sequence(d, self, enemy_s, self)\n",
    "            res, side = seq.result()\n",
    "            rt += d.ev(res, side, with_opps=with_opps)\n",
    "        return rt / len(list_of_deals)"
   ]
  },
  {
   "cell_type": "code",
   "execution_count": 121,
   "metadata": {
    "ExecuteTime": {
     "end_time": "2019-07-26T15:23:10.606718Z",
     "start_time": "2019-07-26T15:23:10.600907Z"
    }
   },
   "outputs": [],
   "source": [
    "def gen_sequence(deal, s1, s2=Strategy(pass_function), s3=None, s4=None):\n",
    "    seq = Bidding()\n",
    "    if s3 is None:\n",
    "        s3 = s1\n",
    "    if s4 is None:\n",
    "        s4 = s2\n",
    "    sgs = [s1, s2, s3, s4]\n",
    "    while not seq.done:\n",
    "        cur_pl = len(seq) % 4\n",
    "        seq = sgs[cur_pl].step(deal.hands[cur_pl], seq)\n",
    "    return seq"
   ]
  },
  {
   "cell_type": "markdown",
   "metadata": {},
   "source": [
    "# Examples"
   ]
  },
  {
   "cell_type": "code",
   "execution_count": null,
   "metadata": {},
   "outputs": [],
   "source": [
    "# Full knowledge ~ Theoretical limit"
   ]
  },
  {
   "cell_type": "code",
   "execution_count": null,
   "metadata": {},
   "outputs": [],
   "source": [
    "# TODO"
   ]
  },
  {
   "cell_type": "markdown",
   "metadata": {},
   "source": [
    "## One hand places the contract"
   ]
  },
  {
   "cell_type": "code",
   "execution_count": 219,
   "metadata": {
    "ExecuteTime": {
     "end_time": "2019-07-26T17:42:43.936056Z",
     "start_time": "2019-07-26T17:42:43.932039Z"
    }
   },
   "outputs": [],
   "source": [
    "def const_function(contr):\n",
    "    def fn(hand, bidding):\n",
    "        return contr\n",
    "    return fn"
   ]
  },
  {
   "cell_type": "code",
   "execution_count": null,
   "metadata": {},
   "outputs": [],
   "source": [
    "def pass_function(hand, bidding):\n",
    "    return const_function('PASS')"
   ]
  },
  {
   "cell_type": "code",
   "execution_count": 651,
   "metadata": {
    "ExecuteTime": {
     "end_time": "2019-07-27T17:26:17.257285Z",
     "start_time": "2019-07-27T17:26:17.251853Z"
    }
   },
   "outputs": [],
   "source": [
    "def hcp_function(start=14.2, step=3.9):\n",
    "    def fn(hand, bidding):\n",
    "        ft = hand.features()\n",
    "        if ft['hcp'] >= start:\n",
    "            lev = min(7, (ft['hcp'] - start) / step + 1)\n",
    "            return str(int(lev)) + 'NT'\n",
    "        return 'PASS'\n",
    "    return fn"
   ]
  },
  {
   "cell_type": "code",
   "execution_count": 650,
   "metadata": {
    "ExecuteTime": {
     "end_time": "2019-07-27T17:25:58.726125Z",
     "start_time": "2019-07-27T17:25:58.719950Z"
    }
   },
   "outputs": [],
   "source": [
    "def suit_function(start=12.8, step=2.6):\n",
    "    def fn(hand, bidding):\n",
    "        ft = hand.features()\n",
    "        if ft['hcp'] >= start:\n",
    "            lev = min(7, (ft['hcp'] - start) / step + 1)\n",
    "            strain = 'NT'\n",
    "            bst_len = 4\n",
    "            for s in suits:\n",
    "                if ft[s + '_len'] >= bst_len:\n",
    "                    strain = s\n",
    "                    bst_len = ft[s + '_len']\n",
    "            return str(int(lev)) + strain\n",
    "            #return const_function(str(int(lev)) + strain)(hand, bidding)\n",
    "        return 'PASS'\n",
    "    return fn"
   ]
  },
  {
   "cell_type": "code",
   "execution_count": 552,
   "metadata": {
    "ExecuteTime": {
     "end_time": "2019-07-27T10:42:21.227976Z",
     "start_time": "2019-07-27T10:42:21.223624Z"
    }
   },
   "outputs": [],
   "source": [
    "def strategy_from_model(model):\n",
    "    def fn(hand, bidding):\n",
    "        bid = model.predict(hand.feature_array().reshape(1, -1))[0]\n",
    "        return bid\n",
    "    return fn"
   ]
  },
  {
   "cell_type": "markdown",
   "metadata": {},
   "source": [
    "### Theoretical limit"
   ]
  },
  {
   "cell_type": "code",
   "execution_count": null,
   "metadata": {},
   "outputs": [],
   "source": [
    "# Try to make a NN learn the best contract with_opps"
   ]
  },
  {
   "cell_type": "code",
   "execution_count": 560,
   "metadata": {
    "ExecuteTime": {
     "end_time": "2019-07-27T10:45:00.661198Z",
     "start_time": "2019-07-27T10:45:00.160528Z"
    }
   },
   "outputs": [],
   "source": [
    "X = np.array([d.hands[0].feature_array() for d in data[:2 * 10 ** 4]]) #only N hand\n",
    "\n",
    "# Winners in a particular strain played from N\n",
    "y = [(['PASS'] + contracts).index(d.best_contract(with_opps=True))\n",
    "     for d in data[:2 * 10 ** 4]]"
   ]
  },
  {
   "cell_type": "code",
   "execution_count": 561,
   "metadata": {
    "ExecuteTime": {
     "end_time": "2019-07-27T10:45:00.670156Z",
     "start_time": "2019-07-27T10:45:00.664330Z"
    }
   },
   "outputs": [],
   "source": [
    "# This model overfits terribly"
   ]
  },
  {
   "cell_type": "code",
   "execution_count": 570,
   "metadata": {
    "ExecuteTime": {
     "end_time": "2019-07-27T10:50:37.885635Z",
     "start_time": "2019-07-27T10:47:48.441886Z"
    }
   },
   "outputs": [
    {
     "name": "stdout",
     "output_type": "stream",
     "text": [
      "141\n"
     ]
    }
   ],
   "source": [
    "model = neural_network.MLPClassifier(hidden_layer_sizes=(256, 256, 256, 256,), \n",
    "                                     max_iter=200, \n",
    "                                     #early_stopping=True, tol=1e-6\n",
    "                                    )\n",
    "model.fit(X, y) # 3min\n",
    "print(model.n_iter_)"
   ]
  },
  {
   "cell_type": "code",
   "execution_count": null,
   "metadata": {},
   "outputs": [],
   "source": []
  },
  {
   "cell_type": "code",
   "execution_count": 571,
   "metadata": {
    "ExecuteTime": {
     "end_time": "2019-07-27T10:50:37.915750Z",
     "start_time": "2019-07-27T10:50:37.889043Z"
    }
   },
   "outputs": [
    {
     "data": {
      "text/plain": [
       "['models/Nhands_to_contracts_with.pkl']"
      ]
     },
     "execution_count": 571,
     "metadata": {},
     "output_type": "execute_result"
    }
   ],
   "source": [
    "from sklearn.externals import joblib\n",
    "joblib.dump(model, 'models/Nhands_to_contracts_with.pkl') "
   ]
  },
  {
   "cell_type": "code",
   "execution_count": 572,
   "metadata": {
    "ExecuteTime": {
     "end_time": "2019-07-27T10:50:38.804665Z",
     "start_time": "2019-07-27T10:50:37.919199Z"
    }
   },
   "outputs": [
    {
     "data": {
      "text/plain": [
       "0.96585"
      ]
     },
     "execution_count": 572,
     "metadata": {},
     "output_type": "execute_result"
    }
   ],
   "source": [
    "# Load the pickle file\n",
    "model_load = joblib.load('models/Nhands_to_contracts_with.pkl') \n",
    "model.score(X, y)"
   ]
  },
  {
   "cell_type": "code",
   "execution_count": 576,
   "metadata": {
    "ExecuteTime": {
     "end_time": "2019-07-27T10:55:00.325797Z",
     "start_time": "2019-07-27T10:55:00.081860Z"
    }
   },
   "outputs": [
    {
     "data": {
      "text/plain": [
       "0.0702"
      ]
     },
     "execution_count": 576,
     "metadata": {},
     "output_type": "execute_result"
    }
   ],
   "source": [
    "# Model overfits terribly\n",
    "model.score(X_ts, y_ts)"
   ]
  },
  {
   "cell_type": "code",
   "execution_count": 573,
   "metadata": {
    "ExecuteTime": {
     "end_time": "2019-07-27T10:51:00.789918Z",
     "start_time": "2019-07-27T10:50:38.808247Z"
    }
   },
   "outputs": [
    {
     "data": {
      "text/plain": [
       "-5.7913"
      ]
     },
     "execution_count": 573,
     "metadata": {},
     "output_type": "execute_result"
    }
   ],
   "source": [
    "eval_strategy(data[:2 * 10 ** 4], Strategy(strategy_from_model(model_load)))"
   ]
  },
  {
   "cell_type": "code",
   "execution_count": 574,
   "metadata": {
    "ExecuteTime": {
     "end_time": "2019-07-27T10:51:06.516919Z",
     "start_time": "2019-07-27T10:51:00.793240Z"
    }
   },
   "outputs": [
    {
     "data": {
      "text/plain": [
       "-10.552"
      ]
     },
     "execution_count": 574,
     "metadata": {},
     "output_type": "execute_result"
    }
   ],
   "source": [
    "eval_strategy(data[2 * 10 ** 4:], Strategy(strategy_from_model(model_load)))"
   ]
  },
  {
   "cell_type": "markdown",
   "metadata": {},
   "source": [
    "## One hand describes, other places"
   ]
  },
  {
   "cell_type": "code",
   "execution_count": 644,
   "metadata": {
    "ExecuteTime": {
     "end_time": "2019-07-27T13:51:18.768122Z",
     "start_time": "2019-07-27T13:51:18.746732Z"
    }
   },
   "outputs": [],
   "source": [
    "def base_function(hand, bidding):\n",
    "    bids_made = len(bidding)\n",
    "    ft = hand.features()\n",
    "    \n",
    "    min_opening_str = 10\n",
    "    hcp_step = 4\n",
    "    card_fit_suit = 8\n",
    "    \n",
    "    # if other hand has not described\n",
    "    if bids_made <= 1:\n",
    "        if ft['hcp'] < min_opening_str:\n",
    "            return 'PASS'\n",
    "        else:\n",
    "            # [10, 13] [14, 17] ...\n",
    "            lev = min(7, (ft['hcp'] - min_opening_str) / hcp_step + 1)\n",
    "            # Bids a 5 card suit if it has it, else NT\n",
    "            strain = 'NT'\n",
    "            bst_len = 5\n",
    "            for s in suits:\n",
    "                if ft[s + '_len'] >= bst_len:\n",
    "                    strain = s\n",
    "                    bst_len = ft[s + '_len']\n",
    "            return str(int(lev)) + strain\n",
    "        \n",
    "    # if other hand has described\n",
    "    if 1 < bids_made <= 3:\n",
    "        p_bid = bidding.partner_bids()[0]\n",
    "        # Estimates hcp\n",
    "        if p_bid == 'PASS':\n",
    "            ft['hcp'] += min_opening_str - 3\n",
    "        else:\n",
    "            ft['hcp'] += min_opening_str - 3 + hcp_step * int(p_bid[0])\n",
    "        # Estimates distribution as 3333 or 5222\n",
    "        if p_bid == 'PASS' or p_bid[1:] == 'NT':\n",
    "            for s in suits:\n",
    "                ft[s + '_len'] += 3\n",
    "        else:\n",
    "            for s in suits:\n",
    "                if s == p_bid[1:]:\n",
    "                    ft[s + '_len'] += 5\n",
    "                else:\n",
    "                    ft[s + '_len'] += 2\n",
    "        # Guesses best contract\n",
    "        # strain = s if >= 8 card fit, else NT\n",
    "        strain = 'NT'\n",
    "        bst_len = card_fit_suit\n",
    "        for s in suits:\n",
    "            if ft[s + '_len'] >= bst_len:\n",
    "                strain = s\n",
    "                bst_len = ft[s + '_len']\n",
    "                \n",
    "        # level for NT 19, 22, 25, 28, 31, 34, 37\n",
    "        if strain == 'NT':\n",
    "            level = (ft['hcp'] - 16) // 3\n",
    "        # level for suit depends on length\n",
    "        else:\n",
    "            # hcp + 2*length >= 25 + 16 for game\n",
    "            level = (ft['hcp'] + 2 * ft[strain + '_len'] - 29) // 3\n",
    "        level = min(7, level)\n",
    "\n",
    "        # Principle of suit correction:\n",
    "        #  if p made a bid in a NT strain we might wish to raise the level\n",
    "        #  to change that to a suit\n",
    "        if p_bid[1:] == 'NT':\n",
    "            if strain != 'NT' and level <= int(p_bid[0]):\n",
    "                level = int(p_bid[0]) + 1\n",
    "            \n",
    "        # for minor suits, correct 4m and 5m to 3NT\n",
    "        if strain in ['c', 'd'] and 4 <= level <= 5:\n",
    "            level = 3; strain = 'NT'\n",
    "        # correct non-slams above game\n",
    "        if strain in ['h', 's'] and level == 5:\n",
    "            level = 4\n",
    "        if strain == 'NT' and 4 <= level <= 5:\n",
    "            level = 3\n",
    "\n",
    "\n",
    "        if level <= 0:\n",
    "            return 'PASS'\n",
    "        else:\n",
    "            return str(level) + strain\n",
    "    \n",
    "    # if other hand has placed the contract\n",
    "    if bids_made >= 4:\n",
    "        return 'PASS'"
   ]
  },
  {
   "cell_type": "code",
   "execution_count": 645,
   "metadata": {
    "ExecuteTime": {
     "end_time": "2019-07-27T13:51:18.782041Z",
     "start_time": "2019-07-27T13:51:18.772506Z"
    }
   },
   "outputs": [
    {
     "name": "stdout",
     "output_type": "stream",
     "text": [
      "T9.Q652.842.AKQ8 K53.KJT84.J3.532 Q8742.3.AK7.J976 AJ6.A97.QT965.T4\n"
     ]
    },
    {
     "data": {
      "text/plain": [
       "N: 1NT - (P) -  2s - (P) - \n",
       "   (P) - (P) - "
      ]
     },
     "execution_count": 645,
     "metadata": {},
     "output_type": "execute_result"
    }
   ],
   "source": [
    "myd = Deal()\n",
    "print(myd.pbn())\n",
    "gen_sequence(myd, Strategy(base_function))"
   ]
  },
  {
   "cell_type": "code",
   "execution_count": 646,
   "metadata": {
    "ExecuteTime": {
     "end_time": "2019-07-27T13:51:18.830621Z",
     "start_time": "2019-07-27T13:51:18.784961Z"
    }
   },
   "outputs": [
    {
     "name": "stdout",
     "output_type": "stream",
     "text": [
      "AKJ852.AKT3..KT9 T3.Q62.5.AQJ8763 Q764.98754.J872. 9.J.AKQT9643.542\n",
      "-13.0\n",
      "N:  3s - (P) - (P) - (P) - \n",
      "   \n",
      "\n",
      "\n",
      "\n",
      "8.K7654.K852.KT8 KQ76.AT2.3.AJ542 AJT932.Q.AQ97.93 54.J983.JT64.Q76\n",
      "-6.0\n",
      "N: (P) - (P) -  3s - (P) - \n",
      "   (P) - (P) - \n",
      "\n",
      "\n",
      "\n",
      "J972.K2.Q963.A75 K853.Q874.A5.KJ2 AQ.AJT93.4.QT843 T64.65.KJT872.96\n",
      "-8.0\n",
      "N: 1NT - (P) -  3h - (P) - \n",
      "   (P) - (P) - \n",
      "\n",
      "\n",
      "\n",
      "J.KQ63.KJ82.K652 AK7.J9.A654.AJ74 T96542.54.T3.T98 Q83.AT872.Q97.Q3\n",
      "-9.0\n",
      "N: 1NT - (P) -  2s - (P) - \n",
      "   (P) - (P) - \n",
      "\n",
      "\n",
      "\n",
      "AKJ976..J876.863 543.86.T954.KJ95 QT8.QT953.AK3.72 2.AKJ742.Q2.AQT4\n",
      "-13.0\n",
      "N: (P) - (P) -  1h - (P) - \n",
      "   (P) - (P) - \n",
      "\n",
      "\n",
      "\n",
      "A.AQJ542.8.AQ643 962.K9763.AJ73.2 543.T8.KQ52.KJ97 KQJT87..T964.T85\n",
      "-12.0\n",
      "N:  2h - (P) - 2NT - (P) - \n",
      "   (P) - (P) - \n",
      "\n",
      "\n",
      "\n",
      "J842.T86.T92.J62 KQT3.KQJ95.843.3 9.A72.AKQJ.AQ987 A765.43.765.KT54\n",
      "-12.0\n",
      "N: (P) - (P) - 3NT - (P) - \n",
      "   (P) - (P) - \n",
      "\n",
      "\n",
      "\n",
      "A742.63.AQT.AQJ6 KQT5.QJ952.J6.K4 J98.K8.9732.8532 63.AT74.K854.T97\n",
      "-9.0\n",
      "N: 2NT - (P) - (P) - (P) - \n",
      "   \n",
      "\n",
      "\n",
      "\n",
      "AT.AJ84.KJ65.QT2 J9762.QT72.3.J84 Q5.K9.AQT98.A763 K843.653.742.K95\n",
      "-11.0\n",
      "N: 2NT - (P) - 3NT - (P) - \n",
      "   (P) - (P) - \n",
      "\n",
      "\n",
      "\n",
      "KJ9.43.T8.KQT962 Q2.QT7.QJ7543.87 A87543.A65.A96.A T6.KJ982.K2.J543\n",
      "-15.0\n",
      "N: (P) - (P) -  4s - (P) - \n",
      "   (P) - (P) - \n",
      "\n",
      "\n",
      "\n",
      "32.J6.AKT96.T765 J8654.T5432.2.Q3 KQ7.A.87543.KJ42 AT9.KQ987.QJ.A98\n",
      "-9.0\n",
      "N: (P) - (P) -  2d - (P) - \n",
      "   (P) - (P) - \n",
      "\n",
      "\n",
      "\n",
      "A9642.QJ82.J9.62 K3.KT753.643.AQJ Q875.A94.AT.KT74 JT.6.KQ8752.9853\n",
      "-6.0\n",
      "N: (P) - (P) - 1NT - (P) - \n",
      "   (P) - (P) - \n",
      "\n",
      "\n",
      "\n",
      "Q.J76.KQT852.AQT 32.AK92.A63.KJ84 KJ98764.QT.J.532 AT5.8543.974.976\n",
      "-12.0\n",
      "N:  2d - (P) -  3s - (P) - \n",
      "   (P) - (P) - \n",
      "\n",
      "\n",
      "\n",
      "J97.AK32.KQT76.A 4.T5.J43.KJT9532 AK86532.74.952.6 QT.QJ986.A8.Q874\n",
      "-14.0\n",
      "N:  2d - (P) -  3s - (P) - \n",
      "   (P) - (P) - \n",
      "\n",
      "\n",
      "\n",
      "JT5.875.KJ93.KQ2 98764.9.865.9854 A3.642.AQT7.AT73 KQ2.AKQJT3.42.J6\n",
      "-8.0\n",
      "N: 1NT - (P) - 3NT - (P) - \n",
      "   (P) - (P) - \n",
      "\n",
      "\n",
      "\n",
      "AQ65.AK4.K43.AK6 K843.65.AQ82.974 JT92.J83.T65.J85 7.QT972.J97.QT32\n",
      "-9.0\n",
      "N: 4NT - (P) - (P) - (P) - \n",
      "   \n",
      "\n",
      "\n",
      "\n",
      "95.KJ982.K8.AKT9 T6.543.J65.86532 AJ83.T76.Q743.J4 KQ742.AQ.AT92.Q7\n",
      "-8.0\n",
      "N:  2h - (P) -  3h - (P) - \n",
      "   (P) - (P) - \n",
      "\n",
      "\n",
      "\n",
      "AJT8.862.82.AJ82 9643.Q9.AT95.K74 KQ2.AKT.Q643.Q53 75.J7543.KJ7.T96\n",
      "-11.0\n",
      "N: 1NT - (P) - 3NT - (P) - \n",
      "   (P) - (P) - \n",
      "\n",
      "\n",
      "\n",
      "Q.KJ85.AKT76.K83 KT72.Q764.95.976 J843.AT9.432.AT5 A965.32.QJ8.QJ42\n",
      "-9.0\n",
      "N:  2d - (P) -  3d - (P) - \n",
      "   (P) - (P) - \n",
      "\n",
      "\n",
      "\n",
      "AQ.K98.J982.AQ53 875432.432.A5.T4 K96.AQJ5.KQT4.J7 JT.T76.763.K9862\n",
      "-12.0\n",
      "N: 2NT - (P) - 3NT - (P) - \n",
      "   (P) - (P) - \n",
      "\n",
      "\n",
      "\n",
      "965.T74.A64.KJ94 KJ843.Q3.QJ.Q852 AT7.KJ86.K7.AT63 Q2.A952.T98532.7\n",
      "-8.0\n",
      "N: (P) - (P) - 2NT - (P) - \n",
      "   (P) - (P) - \n",
      "\n",
      "\n",
      "\n",
      "KQ6.AQ9753.T8.85 T752.4.QJ753.A74 A843.J62.6.KQ963 J9.KT8.AK942.JT2\n",
      "-10.0\n",
      "N:  1h - (P) -  2h - (P) - \n",
      "   (P) - (P) - \n",
      "\n",
      "\n",
      "\n",
      "J842.4.K8764.643 AK95.752.J3.AQT5 QT7.AKQ83.A2.K92 63.JT96.QT95.J87\n",
      "-9.0\n",
      "N: (P) - (P) -  4h - (P) - \n",
      "   (P) - (P) - \n",
      "\n",
      "\n",
      "\n",
      "Q4.QJ.AT76.AJ742 J9872.AT98.J82.K K6.K74.KQ543.Q93 AT53.6532.9.T865\n",
      "-6.0\n",
      "N:  2c - (P) - 3NT - (P) - \n",
      "   (P) - (P) - \n",
      "\n",
      "\n",
      "\n",
      "AJT.85.AJ8.AKT65 K64.AK764.Q76.93 Q9753.T32.T942.7 82.QJ9.K53.QJ842\n",
      "-9.0\n",
      "N:  2c - (P) - (P) - (P) - \n",
      "   \n",
      "\n",
      "\n",
      "\n",
      "AQ.AJ87.KJ93.QT6 T74.42.AQ7.J7543 J86532.QT63.42.8 K9.K95.T865.AK92\n",
      "-8.0\n",
      "N: 2NT - (P) -  3s - (P) - \n",
      "   (P) - (P) - \n",
      "\n",
      "\n",
      "\n",
      "Q63.87.AT9872.A5 975.K3.J64.KT987 KJT.J952.K5.QJ62 A842.AQT64.Q3.43\n",
      "-8.0\n",
      "N:  1d - (P) - 2NT - (P) - \n",
      "   (P) - (P) - \n",
      "\n",
      "\n",
      "\n",
      "KJ.KJ53.AQ64.932 AQ932.AT98.K5.KT T75.62.9872.A765 864.Q74.JT3.QJ84\n",
      "-10.0\n",
      "N: 2NT - (P) - (P) - (P) - \n",
      "   \n",
      "\n",
      "\n",
      "\n",
      "AK.QT854.752.K72 JT9.96.J93.QJ984 Q8765.KJ.AQ4.T65 432.A732.KT86.A3\n",
      "-9.0\n",
      "N:  1h - (P) - 2NT - (P) - \n",
      "   (P) - (P) - \n",
      "\n",
      "\n",
      "\n",
      "KJ53.KJ72.A8.Q53 742.T64.32.K9874 AQT.AQ.KT764.A62 986.9853.QJ95.JT\n",
      "-16.0\n",
      "N: 2NT - (P) -  7d - (P) - \n",
      "   (P) - (P) - \n",
      "\n",
      "\n",
      "\n",
      "J65.T982.A7.AT92 Q72.J654.QJ943.8 AK943.AKQ7.865.J T8.3.KT2.KQ76543\n",
      "-14.0\n",
      "N: (P) - (P) -  3s - (P) - \n",
      "   (P) - (P) - \n",
      "\n",
      "\n",
      "\n",
      "83.T83.AK972.A84 JT5.AJ74.J643.75 AK74.6.QT5.QJ963 Q962.KQ952.8.KT2\n",
      "-9.0\n",
      "N:  1d - (P) -  3d - (P) - \n",
      "   (P) - (P) - \n",
      "\n",
      "\n",
      "\n"
     ]
    }
   ],
   "source": [
    "for idx, d in enumerate(data[:100]):\n",
    "    if eval_strategy(data[idx:idx+1], Strategy(base_function)) < -5:\n",
    "        print (d.pbn())\n",
    "        print (eval_strategy(data[idx:idx+1], Strategy(base_function)))\n",
    "        print (gen_sequence(d, Strategy(base_function)))\n",
    "        print (\"\\n\\n\")"
   ]
  },
  {
   "cell_type": "code",
   "execution_count": null,
   "metadata": {},
   "outputs": [],
   "source": []
  },
  {
   "cell_type": "code",
   "execution_count": null,
   "metadata": {},
   "outputs": [],
   "source": []
  },
  {
   "cell_type": "code",
   "execution_count": null,
   "metadata": {},
   "outputs": [],
   "source": []
  },
  {
   "cell_type": "code",
   "execution_count": 670,
   "metadata": {
    "ExecuteTime": {
     "end_time": "2019-07-27T19:54:11.463653Z",
     "start_time": "2019-07-27T19:54:07.353237Z"
    }
   },
   "outputs": [
    {
     "data": {
      "text/plain": [
       "-4.547764336291191"
      ]
     },
     "execution_count": 670,
     "metadata": {},
     "output_type": "execute_result"
    }
   ],
   "source": [
    "Strategy(pass_function).evaluate(data)"
   ]
  },
  {
   "cell_type": "code",
   "execution_count": 671,
   "metadata": {
    "ExecuteTime": {
     "end_time": "2019-07-27T19:54:54.364319Z",
     "start_time": "2019-07-27T19:54:27.963469Z"
    }
   },
   "outputs": [
    {
     "data": {
      "text/plain": [
       "-4.334017286610689"
      ]
     },
     "execution_count": 671,
     "metadata": {},
     "output_type": "execute_result"
    }
   ],
   "source": [
    "Strategy(hcp_function()).evaluate(data)"
   ]
  },
  {
   "cell_type": "code",
   "execution_count": null,
   "metadata": {
    "ExecuteTime": {
     "start_time": "2019-07-27T19:54:28.233Z"
    }
   },
   "outputs": [],
   "source": [
    "Strategy(suit_function()).evaluate(data)"
   ]
  },
  {
   "cell_type": "code",
   "execution_count": null,
   "metadata": {
    "ExecuteTime": {
     "start_time": "2019-07-27T19:54:28.508Z"
    }
   },
   "outputs": [],
   "source": [
    "Strategy(base_function).evaluate(data)"
   ]
  },
  {
   "cell_type": "code",
   "execution_count": null,
   "metadata": {
    "ExecuteTime": {
     "start_time": "2019-07-27T19:54:29.196Z"
    }
   },
   "outputs": [],
   "source": [
    "len(data)"
   ]
  },
  {
   "cell_type": "code",
   "execution_count": null,
   "metadata": {},
   "outputs": [],
   "source": []
  }
 ],
 "metadata": {
  "kernelspec": {
   "display_name": "Python 3",
   "language": "python",
   "name": "python3"
  },
  "language_info": {
   "codemirror_mode": {
    "name": "ipython",
    "version": 3
   },
   "file_extension": ".py",
   "mimetype": "text/x-python",
   "name": "python",
   "nbconvert_exporter": "python",
   "pygments_lexer": "ipython3",
   "version": "3.7.3"
  },
  "toc": {
   "base_numbering": 1,
   "nav_menu": {},
   "number_sections": true,
   "sideBar": true,
   "skip_h1_title": false,
   "title_cell": "Table of Contents",
   "title_sidebar": "Contents",
   "toc_cell": false,
   "toc_position": {},
   "toc_section_display": true,
   "toc_window_display": false
  }
 },
 "nbformat": 4,
 "nbformat_minor": 2
}
