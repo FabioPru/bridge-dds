{
 "cells": [
  {
   "cell_type": "code",
   "execution_count": 808,
   "metadata": {
    "ExecuteTime": {
     "end_time": "2019-07-29T10:47:50.940133Z",
     "start_time": "2019-07-29T10:47:50.909028Z"
    }
   },
   "outputs": [],
   "source": [
    "import matplotlib.pyplot as plt\n",
    "import seaborn as sns\n",
    "# Configs\n",
    "%config InlineBackend.figure_format ='retina'\n",
    "%matplotlib inline\n",
    "\n",
    "from sklearn.experimental import enable_hist_gradient_boosting\n",
    "from sklearn import externals, base, neural_network, neighbors, feature_extraction, datasets, linear_model, metrics, model_selection, preprocessing, svm, ensemble, decomposition, feature_extraction, utils\n",
    "\n",
    "import keras\n",
    "import scipy"
   ]
  },
  {
   "cell_type": "code",
   "execution_count": 809,
   "metadata": {
    "ExecuteTime": {
     "end_time": "2019-07-29T10:47:51.261083Z",
     "start_time": "2019-07-29T10:47:51.052396Z"
    }
   },
   "outputs": [],
   "source": [
    "# Load Bridge helper classes\n",
    "%run helpers/bridge.ipynb\n",
    "%run helpers/load-data.ipynb\n",
    "%run helpers/train-eval-utils.ipynb"
   ]
  },
  {
   "cell_type": "code",
   "execution_count": 810,
   "metadata": {
    "ExecuteTime": {
     "end_time": "2019-07-29T10:56:28.339162Z",
     "start_time": "2019-07-29T10:47:51.267532Z"
    }
   },
   "outputs": [],
   "source": [
    "# Loads & precomputes all the data, takes about 10min\n",
    "data = load_deals()"
   ]
  },
  {
   "cell_type": "markdown",
   "metadata": {},
   "source": [
    "# Helpers"
   ]
  },
  {
   "cell_type": "code",
   "execution_count": 748,
   "metadata": {
    "ExecuteTime": {
     "end_time": "2019-07-27T20:27:55.232923Z",
     "start_time": "2019-07-27T20:27:55.221576Z"
    }
   },
   "outputs": [],
   "source": [
    "class System(object):\n",
    "    \n",
    "    def __init__(self, function):\n",
    "        # Takes as an input a function from (Hand, Bidding) -> bid\n",
    "        self.fn = function\n",
    "        \n",
    "    def step(self, hand, bidding):\n",
    "        # In case the bid is invalid, automatically substitute for PASS (idk)\n",
    "        bid = self.fn(hand, bidding)\n",
    "        if isinstance(bid, str):\n",
    "            bid = valid_bids.index(bid)\n",
    "        if 0 < bid <= len(contracts) and bid > bidding.last_bid():\n",
    "            return bidding.add(self.fn(hand, bidding))\n",
    "        return bidding.add(0)\n",
    "    \n",
    "    def evaluate(self, list_of_deals, enemy_s=System(pass_function), with_opps=True):\n",
    "        if not isinstance(list_of_deals, list):\n",
    "            list_of_deals = [list_of_deals]\n",
    "        rt = 0\n",
    "        for d in list_of_deals:\n",
    "            seq = gen_sequence(d, self, enemy_s, self)\n",
    "            res, side = seq.result()\n",
    "            rt += d.ev(res, side, with_opps=with_opps)\n",
    "        return rt / len(list_of_deals)\n",
    "    \n",
    "    def compare(self, list_of_deals, enemy_s):\n",
    "        if not isinstance(list_of_deals, list):\n",
    "            list_of_deals = [list_of_deals]\n",
    "        rt = 0\n",
    "        for d in list_of_deals:\n",
    "            seq_1, seq_2 = gen_sequence(d, self, enemy_s), gen_sequence(d, enemy_s, self)\n",
    "            res_1, side_1 = seq_1.result()\n",
    "            res_2, side_2 = seq_2.result()\n",
    "            rt += d.IMP_diff(res_1, res_2, side_1, side_2)\n",
    "        return rt / len(list_of_deals)"
   ]
  },
  {
   "cell_type": "code",
   "execution_count": 716,
   "metadata": {
    "ExecuteTime": {
     "end_time": "2019-07-27T20:20:56.114283Z",
     "start_time": "2019-07-27T20:20:56.108171Z"
    }
   },
   "outputs": [],
   "source": [
    "def gen_sequence(deal, s1, s2=System(pass_function), s3=None, s4=None):\n",
    "    seq = Bidding()\n",
    "    if s3 is None:\n",
    "        s3 = s1\n",
    "    if s4 is None:\n",
    "        s4 = s2\n",
    "    sgs = [s1, s2, s3, s4]\n",
    "    while not seq.done:\n",
    "        cur_pl = len(seq) % 4\n",
    "        seq = sgs[cur_pl].step(deal.hands[cur_pl], seq)\n",
    "    return seq"
   ]
  },
  {
   "cell_type": "markdown",
   "metadata": {},
   "source": [
    "# Examples"
   ]
  },
  {
   "cell_type": "code",
   "execution_count": 692,
   "metadata": {
    "ExecuteTime": {
     "end_time": "2019-07-27T20:09:10.467522Z",
     "start_time": "2019-07-27T20:09:10.464597Z"
    }
   },
   "outputs": [],
   "source": [
    "# Full knowledge ~ Theoretical limit"
   ]
  },
  {
   "cell_type": "code",
   "execution_count": 693,
   "metadata": {
    "ExecuteTime": {
     "end_time": "2019-07-27T20:09:11.490597Z",
     "start_time": "2019-07-27T20:09:11.487413Z"
    }
   },
   "outputs": [],
   "source": [
    "# TODO"
   ]
  },
  {
   "cell_type": "markdown",
   "metadata": {},
   "source": [
    "## One hand places the contract"
   ]
  },
  {
   "cell_type": "code",
   "execution_count": 694,
   "metadata": {
    "ExecuteTime": {
     "end_time": "2019-07-27T20:09:12.290927Z",
     "start_time": "2019-07-27T20:09:12.287152Z"
    }
   },
   "outputs": [],
   "source": [
    "def const_function(contr):\n",
    "    def fn(hand, bidding):\n",
    "        return contr\n",
    "    return fn"
   ]
  },
  {
   "cell_type": "code",
   "execution_count": 719,
   "metadata": {
    "ExecuteTime": {
     "end_time": "2019-07-27T20:21:59.474551Z",
     "start_time": "2019-07-27T20:21:59.470996Z"
    }
   },
   "outputs": [],
   "source": [
    "def pass_function(hand, bidding):\n",
    "    return 'PASS'"
   ]
  },
  {
   "cell_type": "code",
   "execution_count": 696,
   "metadata": {
    "ExecuteTime": {
     "end_time": "2019-07-27T20:09:14.067876Z",
     "start_time": "2019-07-27T20:09:14.062570Z"
    }
   },
   "outputs": [],
   "source": [
    "def hcp_function(start=14.2, step=3.9):\n",
    "    def fn(hand, bidding):\n",
    "        ft = hand.features()\n",
    "        if ft['hcp'] >= start:\n",
    "            lev = min(7, (ft['hcp'] - start) / step + 1)\n",
    "            return str(int(lev)) + 'NT'\n",
    "        return 'PASS'\n",
    "    return fn"
   ]
  },
  {
   "cell_type": "code",
   "execution_count": 697,
   "metadata": {
    "ExecuteTime": {
     "end_time": "2019-07-27T20:09:14.341032Z",
     "start_time": "2019-07-27T20:09:14.333622Z"
    }
   },
   "outputs": [],
   "source": [
    "def suit_function(start=12.8, step=2.6):\n",
    "    def fn(hand, bidding):\n",
    "        ft = hand.features()\n",
    "        if ft['hcp'] >= start:\n",
    "            lev = min(7, (ft['hcp'] - start) / step + 1)\n",
    "            strain = 'NT'\n",
    "            bst_len = 4\n",
    "            for s in suits:\n",
    "                if ft[s + '_len'] >= bst_len:\n",
    "                    strain = s\n",
    "                    bst_len = ft[s + '_len']\n",
    "            return str(int(lev)) + strain\n",
    "            #return const_function(str(int(lev)) + strain)(hand, bidding)\n",
    "        return 'PASS'\n",
    "    return fn"
   ]
  },
  {
   "cell_type": "code",
   "execution_count": 698,
   "metadata": {
    "ExecuteTime": {
     "end_time": "2019-07-27T20:09:14.747961Z",
     "start_time": "2019-07-27T20:09:14.743858Z"
    }
   },
   "outputs": [],
   "source": [
    "def system_from_model(model):\n",
    "    def fn(hand, bidding):\n",
    "        bid = model.predict(hand.feature_array().reshape(1, -1))[0]\n",
    "        return bid\n",
    "    return fn"
   ]
  },
  {
   "cell_type": "markdown",
   "metadata": {},
   "source": [
    "### Theoretical limit"
   ]
  },
  {
   "cell_type": "code",
   "execution_count": null,
   "metadata": {},
   "outputs": [],
   "source": [
    "# Try to make a NN learn the best contract with_opps"
   ]
  },
  {
   "cell_type": "code",
   "execution_count": 819,
   "metadata": {
    "ExecuteTime": {
     "end_time": "2019-07-29T11:04:55.557623Z",
     "start_time": "2019-07-29T11:04:43.840449Z"
    }
   },
   "outputs": [],
   "source": [
    "no_samples = 3 # 1 min per sample\n",
    "\n",
    "X = np.array([d.hands[0].feature_array() for d in data[:2 * 10 ** 4]] * no_samples) #only N hand\n",
    "\n",
    "# Winners in a particular strain played from N\n",
    "y = []\n",
    "for _ in range(no_samples):\n",
    "    y += [contract_to_index[d.sample_contract()]\n",
    "     for d in data[:2 * 10 ** 4]]"
   ]
  },
  {
   "cell_type": "code",
   "execution_count": 561,
   "metadata": {
    "ExecuteTime": {
     "end_time": "2019-07-27T10:45:00.670156Z",
     "start_time": "2019-07-27T10:45:00.664330Z"
    }
   },
   "outputs": [],
   "source": [
    "# This model overfits terribly"
   ]
  },
  {
   "cell_type": "code",
   "execution_count": 826,
   "metadata": {
    "ExecuteTime": {
     "end_time": "2019-07-29T11:07:00.112852Z",
     "start_time": "2019-07-29T11:07:00.105978Z"
    }
   },
   "outputs": [],
   "source": [
    "model = neural_network.MLPClassifier(hidden_layer_sizes=(256, 256, 256, 256,), \n",
    "                                     max_iter=200, \n",
    "                                     #early_stopping=True, tol=1e-6\n",
    "                                    )"
   ]
  },
  {
   "cell_type": "code",
   "execution_count": null,
   "metadata": {
    "ExecuteTime": {
     "start_time": "2019-07-29T11:07:04.105Z"
    }
   },
   "outputs": [],
   "source": [
    "model.fit(X, y) # 3min\n",
    "print(model.n_iter_)"
   ]
  },
  {
   "cell_type": "code",
   "execution_count": null,
   "metadata": {},
   "outputs": [],
   "source": []
  },
  {
   "cell_type": "code",
   "execution_count": 571,
   "metadata": {
    "ExecuteTime": {
     "end_time": "2019-07-27T10:50:37.915750Z",
     "start_time": "2019-07-27T10:50:37.889043Z"
    }
   },
   "outputs": [
    {
     "data": {
      "text/plain": [
       "['models/Nhands_to_contracts_with.pkl']"
      ]
     },
     "execution_count": 571,
     "metadata": {},
     "output_type": "execute_result"
    }
   ],
   "source": [
    "from sklearn.externals import joblib\n",
    "joblib.dump(model, 'models/Nhands_to_contracts_with.pkl') "
   ]
  },
  {
   "cell_type": "code",
   "execution_count": 572,
   "metadata": {
    "ExecuteTime": {
     "end_time": "2019-07-27T10:50:38.804665Z",
     "start_time": "2019-07-27T10:50:37.919199Z"
    }
   },
   "outputs": [
    {
     "data": {
      "text/plain": [
       "0.96585"
      ]
     },
     "execution_count": 572,
     "metadata": {},
     "output_type": "execute_result"
    }
   ],
   "source": [
    "# Load the pickle file\n",
    "model_load = joblib.load('models/Nhands_to_contracts_with.pkl') \n",
    "model.score(X, y)"
   ]
  },
  {
   "cell_type": "code",
   "execution_count": 576,
   "metadata": {
    "ExecuteTime": {
     "end_time": "2019-07-27T10:55:00.325797Z",
     "start_time": "2019-07-27T10:55:00.081860Z"
    }
   },
   "outputs": [
    {
     "data": {
      "text/plain": [
       "0.0702"
      ]
     },
     "execution_count": 576,
     "metadata": {},
     "output_type": "execute_result"
    }
   ],
   "source": [
    "# Model overfits terribly\n",
    "model.score(X_ts, y_ts)"
   ]
  },
  {
   "cell_type": "code",
   "execution_count": 573,
   "metadata": {
    "ExecuteTime": {
     "end_time": "2019-07-27T10:51:00.789918Z",
     "start_time": "2019-07-27T10:50:38.808247Z"
    }
   },
   "outputs": [
    {
     "data": {
      "text/plain": [
       "-5.7913"
      ]
     },
     "execution_count": 573,
     "metadata": {},
     "output_type": "execute_result"
    }
   ],
   "source": [
    "System(system_from_model(model_load)).evaluate(data[2* 10**4:])"
   ]
  },
  {
   "cell_type": "code",
   "execution_count": 574,
   "metadata": {
    "ExecuteTime": {
     "end_time": "2019-07-27T10:51:06.516919Z",
     "start_time": "2019-07-27T10:51:00.793240Z"
    }
   },
   "outputs": [
    {
     "data": {
      "text/plain": [
       "-10.552"
      ]
     },
     "execution_count": 574,
     "metadata": {},
     "output_type": "execute_result"
    }
   ],
   "source": [
    "System(system_from_model(model_load)).evaluate(data[2* 10**4:])"
   ]
  },
  {
   "cell_type": "markdown",
   "metadata": {},
   "source": [
    "## One hand describes, other places"
   ]
  },
  {
   "cell_type": "code",
   "execution_count": 754,
   "metadata": {
    "ExecuteTime": {
     "end_time": "2019-07-27T20:29:08.299383Z",
     "start_time": "2019-07-27T20:29:08.283184Z"
    }
   },
   "outputs": [],
   "source": [
    "def basic_function(hand, bidding):\n",
    "    bids_made = len(bidding)\n",
    "    ft = hand.features()\n",
    "    \n",
    "    min_opening_str = 10\n",
    "    hcp_step = 4\n",
    "    card_fit_suit = 8\n",
    "    \n",
    "    # if other hand has not described\n",
    "    if bids_made <= 1:\n",
    "        if ft['hcp'] < min_opening_str:\n",
    "            return 'PASS'\n",
    "        else:\n",
    "            # [10, 13] [14, 17] ...\n",
    "            lev = min(7, (ft['hcp'] - min_opening_str) / hcp_step + 1)\n",
    "            # Bids a 5 card suit if it has it, else NT\n",
    "            strain = 'NT'\n",
    "            bst_len = 5\n",
    "            for s in suits:\n",
    "                if ft[s + '_len'] >= bst_len:\n",
    "                    strain = s\n",
    "                    bst_len = ft[s + '_len']\n",
    "            return str(int(lev)) + strain\n",
    "        \n",
    "    # if other hand has described\n",
    "    if 1 < bids_made <= 3:\n",
    "        p_bid = bidding.partner_bids()[0]\n",
    "        # Estimates hcp\n",
    "        if p_bid == 'PASS':\n",
    "            ft['hcp'] += min_opening_str - 3\n",
    "        else:\n",
    "            ft['hcp'] += min_opening_str - 3 + hcp_step * int(p_bid[0])\n",
    "        # Estimates distribution as 3333 or 5222\n",
    "        if p_bid == 'PASS' or p_bid[1:] == 'NT':\n",
    "            for s in suits:\n",
    "                ft[s + '_len'] += 3\n",
    "        else:\n",
    "            for s in suits:\n",
    "                if s == p_bid[1:]:\n",
    "                    ft[s + '_len'] += 5\n",
    "                else:\n",
    "                    ft[s + '_len'] += 2\n",
    "        # Guesses best contract\n",
    "        # strain = s if >= 8 card fit, else NT\n",
    "        strain = 'NT'\n",
    "        bst_len = card_fit_suit\n",
    "        for s in suits:\n",
    "            if ft[s + '_len'] >= bst_len:\n",
    "                strain = s\n",
    "                bst_len = ft[s + '_len']\n",
    "                \n",
    "        # level for NT 19, 22, 25, 28, 31, 34, 37\n",
    "        if strain == 'NT':\n",
    "            level = (ft['hcp'] - 16) // 3\n",
    "        # level for suit depends on length\n",
    "        else:\n",
    "            # hcp + 2*length >= 25 + 16 for game\n",
    "            level = (ft['hcp'] + 2 * ft[strain + '_len'] - 29) // 3\n",
    "        level = min(7, level)\n",
    "\n",
    "        # Principle of suit correction:\n",
    "        #  if p made a bid in a NT strain we might wish to raise the level\n",
    "        #  to change that to a suit\n",
    "        if p_bid == '1NT' or p_bid == '2NT':\n",
    "            if strain != 'NT' and level <= int(p_bid[0]):\n",
    "                level = int(p_bid[0]) + 1\n",
    "            \n",
    "        # for minor suits, correct 4m and 5m to 3NT\n",
    "        if strain in ['c', 'd'] and 4 <= level <= 5:\n",
    "            level = 3; strain = 'NT'\n",
    "        # correct non-slams above game\n",
    "        if strain in ['h', 's'] and level == 5:\n",
    "            level = 4\n",
    "        if strain == 'NT' and 4 <= level <= 5:\n",
    "            level = 3\n",
    "\n",
    "\n",
    "        if level <= 0:\n",
    "            return 'PASS'\n",
    "        else:\n",
    "            return str(level) + strain\n",
    "    \n",
    "    # if other hand has placed the contract\n",
    "    if bids_made >= 4:\n",
    "        return 'PASS'"
   ]
  },
  {
   "cell_type": "code",
   "execution_count": null,
   "metadata": {},
   "outputs": [],
   "source": []
  },
  {
   "cell_type": "markdown",
   "metadata": {},
   "source": [
    "# Evaluations"
   ]
  },
  {
   "cell_type": "code",
   "execution_count": null,
   "metadata": {
    "ExecuteTime": {
     "start_time": "2019-07-29T11:08:44.870Z"
    }
   },
   "outputs": [],
   "source": [
    "System(pass_function).evaluate(data)"
   ]
  },
  {
   "cell_type": "code",
   "execution_count": 671,
   "metadata": {
    "ExecuteTime": {
     "end_time": "2019-07-27T19:54:54.364319Z",
     "start_time": "2019-07-27T19:54:27.963469Z"
    }
   },
   "outputs": [
    {
     "data": {
      "text/plain": [
       "-4.334017286610689"
      ]
     },
     "execution_count": 671,
     "metadata": {},
     "output_type": "execute_result"
    }
   ],
   "source": [
    "System(hcp_function()).evaluate(data)"
   ]
  },
  {
   "cell_type": "code",
   "execution_count": 672,
   "metadata": {
    "ExecuteTime": {
     "end_time": "2019-07-27T19:55:24.742246Z",
     "start_time": "2019-07-27T19:54:54.370503Z"
    }
   },
   "outputs": [
    {
     "data": {
      "text/plain": [
       "-4.248439517422304"
      ]
     },
     "execution_count": 672,
     "metadata": {},
     "output_type": "execute_result"
    }
   ],
   "source": [
    "System(suit_function()).evaluate(data)"
   ]
  },
  {
   "cell_type": "code",
   "execution_count": 673,
   "metadata": {
    "ExecuteTime": {
     "end_time": "2019-07-27T19:56:05.775000Z",
     "start_time": "2019-07-27T19:55:24.748264Z"
    }
   },
   "outputs": [
    {
     "data": {
      "text/plain": [
       "-3.595602687566305"
      ]
     },
     "execution_count": 673,
     "metadata": {},
     "output_type": "execute_result"
    }
   ],
   "source": [
    "System(basic_function).evaluate(data)"
   ]
  },
  {
   "cell_type": "code",
   "execution_count": 755,
   "metadata": {
    "ExecuteTime": {
     "end_time": "2019-07-27T20:29:34.017493Z",
     "start_time": "2019-07-27T20:29:33.621543Z"
    }
   },
   "outputs": [
    {
     "data": {
      "text/plain": [
       "1.011"
      ]
     },
     "execution_count": 755,
     "metadata": {},
     "output_type": "execute_result"
    }
   ],
   "source": [
    "System(basic_function).compare(data[:1000], System(suit_function()))"
   ]
  },
  {
   "cell_type": "code",
   "execution_count": null,
   "metadata": {},
   "outputs": [],
   "source": []
  }
 ],
 "metadata": {
  "kernelspec": {
   "display_name": "Python 3",
   "language": "python",
   "name": "python3"
  },
  "language_info": {
   "codemirror_mode": {
    "name": "ipython",
    "version": 3
   },
   "file_extension": ".py",
   "mimetype": "text/x-python",
   "name": "python",
   "nbconvert_exporter": "python",
   "pygments_lexer": "ipython3",
   "version": "3.7.3"
  },
  "toc": {
   "base_numbering": 1,
   "nav_menu": {},
   "number_sections": true,
   "sideBar": true,
   "skip_h1_title": false,
   "title_cell": "Table of Contents",
   "title_sidebar": "Contents",
   "toc_cell": false,
   "toc_position": {},
   "toc_section_display": true,
   "toc_window_display": false
  }
 },
 "nbformat": 4,
 "nbformat_minor": 2
}
