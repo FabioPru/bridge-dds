{
 "cells": [
  {
   "cell_type": "code",
   "execution_count": 32,
   "metadata": {
    "ExecuteTime": {
     "end_time": "2019-07-27T20:39:27.157852Z",
     "start_time": "2019-07-27T20:39:27.134369Z"
    }
   },
   "outputs": [],
   "source": [
    "import random, os\n",
    "import numpy as np\n",
    "import scipy\n",
    "import joblib"
   ]
  },
  {
   "cell_type": "code",
   "execution_count": 4,
   "metadata": {
    "ExecuteTime": {
     "end_time": "2019-07-27T09:48:05.752680Z",
     "start_time": "2019-07-27T09:48:05.749833Z"
    }
   },
   "outputs": [],
   "source": [
    "# Note: the set of features generated for every hand is from lines 27+ of the Hand class"
   ]
  },
  {
   "cell_type": "markdown",
   "metadata": {},
   "source": [
    "# Constants of bridge"
   ]
  },
  {
   "cell_type": "code",
   "execution_count": 5,
   "metadata": {
    "ExecuteTime": {
     "end_time": "2019-07-27T09:48:05.972286Z",
     "start_time": "2019-07-27T09:48:05.965337Z"
    }
   },
   "outputs": [],
   "source": [
    "suits = 'cdhs'\n",
    "card_vals = 'AKQJT98765432'\n",
    "\n",
    "strains = ['NT', 's', 'h', 'd', 'c']\n",
    "levels = '01234567'\n",
    "\n",
    "played_from = ['S', 'E', 'N', 'W']\n",
    "players = ['N', 'S']"
   ]
  },
  {
   "cell_type": "code",
   "execution_count": 6,
   "metadata": {
    "ExecuteTime": {
     "end_time": "2019-07-27T09:48:06.125336Z",
     "start_time": "2019-07-27T09:48:06.118961Z"
    }
   },
   "outputs": [],
   "source": [
    "contracts = [l + s for l in levels[1:] for s in strains[::-1]]\n",
    "useful_contracts = ['3NT', '4s', '4h', '5d', '5c'] + [l + s for l in '67' for s in strains[::-1]]\n",
    "valid_bids = ['PASS'] + contracts + ['X', 'XX']"
   ]
  },
  {
   "cell_type": "code",
   "execution_count": 44,
   "metadata": {
    "ExecuteTime": {
     "end_time": "2019-07-29T11:18:00.696279Z",
     "start_time": "2019-07-29T11:18:00.691384Z"
    }
   },
   "outputs": [],
   "source": [
    "contract_to_index = {}\n",
    "for i, val in enumerate(['PASS'] + contracts):\n",
    "    contract_to_index[val] = i"
   ]
  },
  {
   "cell_type": "code",
   "execution_count": 7,
   "metadata": {
    "ExecuteTime": {
     "end_time": "2019-07-27T09:48:06.271893Z",
     "start_time": "2019-07-27T09:48:06.260467Z"
    }
   },
   "outputs": [],
   "source": [
    "#penalties[0] = NV; penalties[1] = Vul\n",
    "\n",
    "penalties = [[0, -50, -150, -400, -800, -1100, -1400, -1700, -2000, -2300, -2600, -2900, -3200, -3500],\n",
    "             [0, -100, -350, -700, -1100, -1400, -1700, -2000, -2300, -2600, -2900, -3200, -3500, -3800]]\n",
    "\n",
    "base_scores = [[[0, 60, 60, 310, 310, 310, 810, 1310],\n",
    "               [0, 50, 50, 50, 300, 300, 800, 1300],\n",
    "               [0, 50, 50, 50, 300, 300, 800, 1300],\n",
    "               [0, 50, 50, 50, 50, 300, 800, 1300],\n",
    "               [0, 50, 50, 50, 50, 300, 800, 1300]],\n",
    "               \n",
    "               [[0, 60, 60, 510, 510, 510, 1260, 2010],\n",
    "               [0, 50, 50, 50, 500, 500, 1250, 2000],\n",
    "               [0, 50, 50, 50, 500, 500, 1250, 2000],\n",
    "               [0, 50, 50, 50, 50, 500, 1250, 2000],\n",
    "               [0, 50, 50, 50, 50, 500, 1250, 2000]]]\n",
    "\n",
    "incr = [30, 30, 30, 20, 20]"
   ]
  },
  {
   "cell_type": "code",
   "execution_count": 8,
   "metadata": {
    "ExecuteTime": {
     "end_time": "2019-07-27T09:48:06.421230Z",
     "start_time": "2019-07-27T09:48:06.409496Z"
    }
   },
   "outputs": [],
   "source": [
    "def score_contract(contr, made, vul=0.5):\n",
    "    if contr == 'PASS':\n",
    "        return 0\n",
    "    diff = int(made) - int(contr[0])\n",
    "    if diff < 0:\n",
    "        return (vul) * penalties[1][-diff] + (1 - vul) * penalties[0][-diff]\n",
    "    else:\n",
    "        str_i = strains.index(contr[1:])\n",
    "        return made * incr[str_i] + (vul) * base_scores[1][str_i][int(contr[0])] + (1 - vul) * base_scores[0][str_i][int(contr[0])]\n"
   ]
  },
  {
   "cell_type": "code",
   "execution_count": 9,
   "metadata": {
    "ExecuteTime": {
     "end_time": "2019-07-27T09:48:06.566622Z",
     "start_time": "2019-07-27T09:48:06.563398Z"
    }
   },
   "outputs": [],
   "source": [
    "#score_contract('1NT', 3, 0)\n",
    "#    output: 150"
   ]
  },
  {
   "cell_type": "code",
   "execution_count": 10,
   "metadata": {
    "ExecuteTime": {
     "end_time": "2019-07-27T09:48:06.712137Z",
     "start_time": "2019-07-27T09:48:06.703313Z"
    }
   },
   "outputs": [],
   "source": [
    "IMPscale = [15, 45, 85, 125, 165, 215, 265, 315, 365, 425, 495, 595, 745, 895, 1095, 1295, 1495, 1745, 1995, 2245, 2495, 2995, 3495, 3995, 99999]\n",
    "\n",
    "def points_to_IMPs(pt_diff):\n",
    "    if pt_diff < 0:\n",
    "        return -points_to_IMPs(-pt_diff)\n",
    "    for j in range(0, len(IMPscale)):\n",
    "        if pt_diff < IMPscale[j]:\n",
    "            return j"
   ]
  },
  {
   "cell_type": "code",
   "execution_count": 11,
   "metadata": {
    "ExecuteTime": {
     "end_time": "2019-07-27T09:48:06.863313Z",
     "start_time": "2019-07-27T09:48:06.860530Z"
    }
   },
   "outputs": [],
   "source": [
    "#points_to_IMPs(score_contract('3NT', 3, 0) - score_contract('1NT', 3, 0))\n",
    "#    output: 6"
   ]
  },
  {
   "cell_type": "code",
   "execution_count": 12,
   "metadata": {
    "ExecuteTime": {
     "end_time": "2019-07-27T09:48:07.078154Z",
     "start_time": "2019-07-27T09:48:07.074859Z"
    }
   },
   "outputs": [],
   "source": [
    "def IMP_norm(x, lowest):\n",
    "    return np.exp((x - lowest) / 5)"
   ]
  },
  {
   "cell_type": "markdown",
   "metadata": {},
   "source": [
    "# Double dummy solver and utilities"
   ]
  },
  {
   "cell_type": "code",
   "execution_count": 13,
   "metadata": {
    "ExecuteTime": {
     "end_time": "2019-07-27T09:48:07.715469Z",
     "start_time": "2019-07-27T09:48:07.712442Z"
    }
   },
   "outputs": [],
   "source": [
    "# To generate and solve a random deal: Deal().solve()"
   ]
  },
  {
   "cell_type": "code",
   "execution_count": 14,
   "metadata": {
    "ExecuteTime": {
     "end_time": "2019-07-27T09:48:07.941084Z",
     "start_time": "2019-07-27T09:48:07.935892Z"
    }
   },
   "outputs": [],
   "source": [
    "def solveDD(pbn):\n",
    "    #pbn = 'AKJ852.AKT3..KT9 T3.Q62.5.AQJ8763 Q764.98754.J872. 9.J.AKQT9643.542'\n",
    "    os.system('echo \\\"1\\n' + pbn + '\\n\\\" > myd.txt')\n",
    "    out = os.popen('./dds-master/examples/CalcAllTablesPBN < myd.txt').read()\n",
    "    os.system('rm myd.txt')\n",
    "    return out[70:-1]"
   ]
  },
  {
   "cell_type": "code",
   "execution_count": 15,
   "metadata": {
    "ExecuteTime": {
     "end_time": "2019-07-27T09:48:08.121181Z",
     "start_time": "2019-07-27T09:48:08.116158Z"
    }
   },
   "outputs": [],
   "source": [
    "def decode_hex(x):\n",
    "    if x == 'A':\n",
    "        return 10.0\n",
    "    if x == 'B':\n",
    "        return 11.0\n",
    "    if x == 'C':\n",
    "        return 12.0\n",
    "    if x == 'D':\n",
    "        return 13.0\n",
    "    return float(x)"
   ]
  },
  {
   "cell_type": "code",
   "execution_count": 16,
   "metadata": {
    "ExecuteTime": {
     "end_time": "2019-07-27T09:48:08.304808Z",
     "start_time": "2019-07-27T09:48:08.299374Z"
    }
   },
   "outputs": [],
   "source": [
    "def decode_winners(sol):\n",
    "    wnrs = [{} for _ in range(0, len(strains))]\n",
    "    for s_idx in range(len(strains)):\n",
    "        wnrs[s_idx] = {played_from[pl]: 13 - decode_hex(sol[4*s_idx + pl]) \\\n",
    "                        for pl in range(len(played_from))}\n",
    "    return wnrs"
   ]
  },
  {
   "cell_type": "markdown",
   "metadata": {},
   "source": [
    "## Surrogate model"
   ]
  },
  {
   "cell_type": "code",
   "execution_count": 91,
   "metadata": {
    "ExecuteTime": {
     "end_time": "2019-07-29T20:45:26.337223Z",
     "start_time": "2019-07-29T20:45:26.289667Z"
    }
   },
   "outputs": [],
   "source": [
    "model_NT = joblib.load('models/ftarrays_to_dds_NT_keras.pkl') [0]"
   ]
  },
  {
   "cell_type": "code",
   "execution_count": 93,
   "metadata": {
    "ExecuteTime": {
     "end_time": "2019-07-29T20:45:31.848905Z",
     "start_time": "2019-07-29T20:45:31.824670Z"
    }
   },
   "outputs": [
    {
     "data": {
      "text/plain": [
       "array([6.5805894])"
      ]
     },
     "execution_count": 93,
     "metadata": {},
     "output_type": "execute_result"
    }
   ],
   "source": [
    "model_s = joblib.load('models/ftarrays_to_dds_s_keras.pkl') [0]"
   ]
  },
  {
   "cell_type": "code",
   "execution_count": 94,
   "metadata": {
    "ExecuteTime": {
     "end_time": "2019-07-30T19:19:44.733817Z",
     "start_time": "2019-07-30T19:19:44.678551Z"
    }
   },
   "outputs": [],
   "source": [
    "def round_p(x):\n",
    "    if x < 0:\n",
    "        return 0\n",
    "    if x > 13:\n",
    "        return 13\n",
    "    if x - int(x) > 0.5:\n",
    "        return int(x+1)\n",
    "    else:\n",
    "        return int(x)\n",
    "\n",
    "def round_predictions(a):\n",
    "    return np.array([round_p(x) for x in a])"
   ]
  },
  {
   "cell_type": "markdown",
   "metadata": {},
   "source": [
    "# Card class"
   ]
  },
  {
   "cell_type": "code",
   "execution_count": 17,
   "metadata": {
    "ExecuteTime": {
     "end_time": "2019-07-27T09:48:08.727092Z",
     "start_time": "2019-07-27T09:48:08.707019Z"
    }
   },
   "outputs": [],
   "source": [
    "class Card(tuple):\n",
    "    '''Buidable both as Card('Ad'), Card('5', 'd') or Card(12, 3) (2s).\n",
    "    [0] and [1] return integers, .val() and .suit() return 1-length str\n",
    "    '''\n",
    "    \n",
    "    # Represents card as a pair val, suit in [0, 12] x [0, 3]\n",
    "    def __new__(self, *args):\n",
    "        if len(args) == 1:\n",
    "            val, suit = args[0][0], args[0][1]\n",
    "        elif len(args) == 2:\n",
    "            val, suit = args[0], args[1]\n",
    "        else:\n",
    "            raise TypeError('Invalid number of arguments')\n",
    "            \n",
    "        if isinstance(suit, str):\n",
    "            suit = suits.find(suit)\n",
    "            if suit == -1:\n",
    "                raise ValueError(\"Invalid suit\")\n",
    "        if isinstance(val, str):\n",
    "            val = card_vals.find(val)\n",
    "            if val == -1:\n",
    "                raise ValueError(\"Invalid card\")\n",
    "        if type(val) != int or type(suit) != int:\n",
    "            raise TypeError\n",
    "        if val < 0 or val >= len(card_vals) or suit < 0 or suit >= len(suits):\n",
    "            raise ValueError('Value out of bounds')\n",
    "            \n",
    "        return tuple.__new__(self, (val, suit))\n",
    "    \n",
    "    def val(self):\n",
    "        return card_vals[self[0]]\n",
    "    \n",
    "    def suit(self):\n",
    "        return suits[self[1]]\n",
    "    \n",
    "    def pos(self):\n",
    "        #position in deck\n",
    "        return self[0] + 13 * (3 - self[1])\n",
    "    \n",
    "    def __repr__(self):\n",
    "        return self.val() + self.suit()\n",
    "    \n",
    "    def __lt__(self, other):\n",
    "        if self[1] == other[1]:\n",
    "            return self[0] < other[0]\n",
    "        return self[1] > other[1]\n",
    "\n",
    "    def __le__(self, other):\n",
    "        if self[1] == other[1]:\n",
    "            return self[0] <= other[0]\n",
    "        return self[1] > other[1]\n"
   ]
  },
  {
   "cell_type": "code",
   "execution_count": 18,
   "metadata": {
    "ExecuteTime": {
     "end_time": "2019-07-27T09:48:08.955208Z",
     "start_time": "2019-07-27T09:48:08.951304Z"
    }
   },
   "outputs": [],
   "source": [
    "deck = [Card(c, s) for c in range(len(card_vals)) for s in range(len(suits))]\n",
    "deck = sorted(deck)"
   ]
  },
  {
   "cell_type": "markdown",
   "metadata": {},
   "source": [
    "# Hand class"
   ]
  },
  {
   "cell_type": "code",
   "execution_count": 113,
   "metadata": {
    "ExecuteTime": {
     "end_time": "2019-07-30T19:48:49.986889Z",
     "start_time": "2019-07-30T19:48:49.615047Z"
    },
    "code_folding": [
     83,
     85,
     89,
     102
    ],
    "scrolled": true
   },
   "outputs": [],
   "source": [
    "class Hand(object):\n",
    "    '''Accepts either lists of Cards or Cards themselves.\n",
    "    Hand() generates a random hand.\n",
    "    \n",
    "    Attributes: self (tuple of length 13), .cards() (list), .pbn()\n",
    "    '''\n",
    "    \n",
    "    def __init__(self, *args):\n",
    "        cds = []\n",
    "        if args:\n",
    "            for a in args:\n",
    "                if isinstance(a, Card):\n",
    "                    cds.append(a)\n",
    "                else:\n",
    "                    try:\n",
    "                        cds += [c for c in a if isinstance(c, Card)]\n",
    "                    except TypeError:\n",
    "                        raise TypeError('Invalid constructor argument type')\n",
    "            if len(cds) != len(card_vals):\n",
    "                raise ValueError('Too few/many cards (' + str(len(cds)) + ')')\n",
    "        else:\n",
    "            # Generates a random hand\n",
    "            cds = random.sample(deck, len(card_vals))\n",
    "        \n",
    "        self.cds = sorted(cds)\n",
    "        \n",
    "        self.mask = np.zeros(len(deck))\n",
    "        self.mask[[c.pos() for c in self.cds]] = 1\n",
    "        \n",
    "        s = []\n",
    "        c_suit = 3\n",
    "        for c in self.cds:\n",
    "            while c_suit != c[1]:\n",
    "                s.append('.')\n",
    "                c_suit -= 1\n",
    "            s.append(card_vals[c[0]])\n",
    "        while c_suit != 0:\n",
    "            s.append('.')\n",
    "            c_suit -= 1\n",
    "        self.pbn = ''.join(s)\n",
    "\n",
    "        self.features = self.compute_features()\n",
    "        \n",
    "    def compute_features(self):\n",
    "        pbn = self.pbn\n",
    "        ft = {}\n",
    "        hcp = 0; ctrl_p = 0\n",
    "        hcc = [0, 0, 0, 0, 0]\n",
    "        for c in pbn:\n",
    "            if c == \"A\":\n",
    "                hcp += 4; hcc[0] += 1; ctrl_p += 2\n",
    "            if c == \"K\":\n",
    "                hcp += 3; hcc[1] += 1; ctrl_p += 1\n",
    "            if c == \"Q\":\n",
    "                hcp += 2; hcc[2] += 1\n",
    "            if c == \"J\":\n",
    "                hcp += 1; hcc[3] += 1\n",
    "            if c == \"T\":\n",
    "                hcc[4] += 1\n",
    "        ft['hcp'] = hcp\n",
    "        ft['ctrl_p'] = 0\n",
    "        ft['losers'] = 0\n",
    "        ft['dist'] = 0\n",
    "        #for i, x in enumerate(hcc):\n",
    "        #    ft['hcc_' + card_vals[i]] = x\n",
    "        \n",
    "        for i, s in enumerate(suits):\n",
    "            suit = pbn.split('.')[int(len(suits) - 1 - i)]\n",
    "            hns = 0; stop = 0\n",
    "            ft[s + '_len'] = len(suit)\n",
    "            ft[s + '_losers'] = min(4, len(suit))\n",
    "            for h in \"AKQJT\":\n",
    "                ft[s + '_' + h] = 0\n",
    "                if h in suit:\n",
    "                    ft[s + '_' + h] = 1\n",
    "                    hns += 1\n",
    "                    if h == \"A\" or (h == \"K\" and len(suit) > 1) \\\n",
    "                                or (h == \"Q\" and len(suit) > 2):\n",
    "                        stop = 1\n",
    "            ft[s + '_hns'] = hns\n",
    "            ft[s + '_stop'] = stop\n",
    "            # Loser calculations\n",
    "            hm = [ft[s + '_' + h] for h in \"AKQJ\"]\n",
    "            if len(suit) == 0:\n",
    "                ctrl_p += 2\n",
    "            if len(suit) == 1:\n",
    "                ctrl_p += 1\n",
    "                if hm[0] == 1:\n",
    "                    ft[s + '_losers'] = 0\n",
    "            if len(suit) == 2:\n",
    "                if hm[0] == 1:\n",
    "                    if hm[1] == 1:\n",
    "                        # AK\n",
    "                        ft[s + '_losers'] = 0\n",
    "                    elif hm[2] == 1:\n",
    "                        # AQ\n",
    "                        ft[s + '_losers'] = 0.5\n",
    "                elif hm[1] == 1:\n",
    "                    if hm[2] == 1:\n",
    "                        ft[s + '_losers'] = 1\n",
    "                    else:\n",
    "                        ft[s + '_losers'] = 1.5\n",
    "            if len(suit) >= 3:\n",
    "                if hm[0] == 1:\n",
    "                    if hm[1] == 1:\n",
    "                        if hm[2] == 1:\n",
    "                            if hm[3] == 1:\n",
    "                                ft[s + '_losers'] = 0\n",
    "                            else:\n",
    "                                ft[s + '_losers'] = min(1, len(suit) - 3)\n",
    "                        else:\n",
    "                            if hm[3] == 1:\n",
    "                                ft[s + '_losers'] -= 2.5\n",
    "                            else:\n",
    "                                ft[s + '_losers'] -= 2\n",
    "                    else:\n",
    "                        if hm[2] == 1:\n",
    "                            if hm[3] == 1:\n",
    "                                ft[s + '_losers'] -= 2\n",
    "                            else:\n",
    "                                ft[s + '_losers'] -= 1.5\n",
    "                        else:\n",
    "                            ft[s + '_losers'] -= 1\n",
    "                else:\n",
    "                    if hm[1] == 1:\n",
    "                        if hm[2] == 1:\n",
    "                            ft[s + '_losers'] -= 1.5\n",
    "                        else:\n",
    "                            ft[s + '_losers'] -= 0.5\n",
    "                    else:\n",
    "                        if hm[2] == 1:\n",
    "                            if hm[3] == 1:\n",
    "                                ft[s + '_losers'] -= 0.5\n",
    "                            else:\n",
    "                                ft[s + '_losers'] -= 1.5\n",
    "            ft[s + '_losers'] = min(ft[s + '_losers'], 5 - ft[s + '_hns'])\n",
    "            ft['losers'] += ft[s + '_losers']\n",
    "\n",
    "        ft['ctrl_p'] = ctrl_p\n",
    "        dist = sorted([ft[s + '_len'] for s in suits], reverse=True)\n",
    "        ft['dist'] = dist[0] - dist[3] + 0.5 * dist[1] - 4\n",
    "        return ft\n",
    "        \n",
    "    def feature_array(self, swap=0):\n",
    "        # 0 = S trumps, 1 = h, 2 = d, 3 = c\n",
    "        ft = np.array(list(self.features.values()))\n",
    "        for i in range(9):\n",
    "            ft[31+i], ft[31-9*swap+i] = ft[31-9*swap+i], ft[31+i]\n",
    "        return ft\n",
    "\n",
    "    def cards(self):\n",
    "        return self.cds\n",
    "    \n",
    "    def from_pbn(pbn):\n",
    "        c_suit = 3\n",
    "        cds = []\n",
    "        for c in pbn:\n",
    "            if c == '.':\n",
    "                c_suit -= 1\n",
    "            else:\n",
    "                cds.append(Card(c + suits[c_suit]))\n",
    "        return Hand(cds)\n",
    "    \n",
    "    def from_mask(mask):\n",
    "        cds = []\n",
    "        for i, x in enumerate(mask):\n",
    "            if x == 1:\n",
    "                cds.append(deck[i])\n",
    "        return Hand(cds)"
   ]
  },
  {
   "cell_type": "markdown",
   "metadata": {},
   "source": [
    "# Deal class"
   ]
  },
  {
   "cell_type": "code",
   "execution_count": 118,
   "metadata": {
    "ExecuteTime": {
     "end_time": "2019-07-30T19:58:17.792701Z",
     "start_time": "2019-07-30T19:58:17.739207Z"
    }
   },
   "outputs": [],
   "source": [
    "class Deal(object):\n",
    "    '''Accepts four Hands\n",
    "    '''\n",
    "    \n",
    "    def __init__(self, *args):\n",
    "        hds = []\n",
    "        if args:\n",
    "            for a in args:\n",
    "                if isinstance(a, Hand):\n",
    "                    hds.append(a)\n",
    "                else:\n",
    "                    try:\n",
    "                        hds += [c for c in a if isinstance(c, Hand)]\n",
    "                    except TypeError:\n",
    "                        raise TypeError('Invalid constructor argument type')\n",
    "            if len(hds) != len(played_from):\n",
    "                raise ValueError('Too few/many hands (' + str(len(hds)) + ')')\n",
    "        else:\n",
    "            # Generates a random deal\n",
    "            dck = [Card(c, s) for c in range(len(card_vals)) for s in range(len(suits))]\n",
    "            random.shuffle(dck)\n",
    "            hds = [Hand(sorted(dck[len(card_vals) * j: len(card_vals) * (j+1)])) \\\n",
    "                   for j in range(len(played_from))]\n",
    "            \n",
    "        msk_sum = np.zeros(len(deck))\n",
    "        for h in hds:\n",
    "            msk_sum += h.mask\n",
    "        if (msk_sum != np.ones(len(deck))).any():\n",
    "            raise ValueError('Wrong cards supplied')\n",
    "        \n",
    "        self.hands = hds\n",
    "        self.N, self.E, self.S, self.W = hds\n",
    "        self.pbn = ' '.join([h.pbn for h in hds])\n",
    "        \n",
    "        # Fill table with surrogate model\n",
    "        w = [{} for _ in range(0, len(strains))]; v = [0, 0, 0, 0]\n",
    "        \n",
    "        ft_NT = np.array([np.array([self.hands[(i+j) % 4].feature_array() \n",
    "                            for i in range(4)]).flatten()\n",
    "                            for j in range(4)])\n",
    "        v = model_NT.predict(ft_NT)\n",
    "        w[0]['N'], w[0]['E'], w[0]['S'], w[0]['W'] = \\\n",
    "            round_p(v[0]), 13-round_p(v[1]), round_p(v[2]), 13-round_p(v[3])\n",
    "            \n",
    "        for idx, suit in enumerate(suits[::-1]):\n",
    "            ft = np.array([np.array([self.hands[(i+j) % 4].feature_array(swap=idx) \n",
    "                                for i in range(4)]).flatten()\n",
    "                                for j in range(4)])\n",
    "            v = model_s.predict(ft)\n",
    "            w[idx+1]['N'], w[idx+1]['E'], w[idx+1]['S'], w[idx+1]['W'] = \\\n",
    "                round_p(v[0]), 13-round_p(v[1]), round_p(v[2]), 13-round_p(v[3])    \n",
    "        \n",
    "        self.wnrs = w\n",
    "        \n",
    "        self.precompute()\n",
    "    \n",
    "    def __repr__(self):\n",
    "        return self.pbn + '\\n' + \"Best c: \" + str(self.best_c) + \" scoring \" +\\\n",
    "                str(self.score(self.best_c[0])) + \"; with opps \" + str(self.best_c_o)\n",
    "\n",
    "    #### READ / WRITE UTILS\n",
    "    \n",
    "    def from_NS(handN, handS):\n",
    "        msk_left = np.ones(len(deck)) - handN.mask - handS.mask\n",
    "        dck_left = [deck[i] for i, x in enumerate(msk_left) if x == 1]\n",
    "        random.shuffle(dck_left)\n",
    "        return Deal(handN, Hand(dck_left[:13]), handS, Hand(dck_left[13:]))\n",
    "        \n",
    "    def from_pbn(pbn):\n",
    "        len_pbn = (len(card_vals) + 4)\n",
    "        return Deal([Hand.from_pbn(pbn[j * len_pbn:j * len_pbn + 16]) \\\n",
    "                     for j in range(len(played_from))])\n",
    "    \n",
    "    def set_wnrs(self, wnrs):\n",
    "        self.wnrs = wnrs\n",
    "        return self\n",
    "    \n",
    "    def from_line(pbn):\n",
    "        return Deal.from_pbn(pbn[2:69]).set_wnrs(decode_winners(pbn[70:90]))\n",
    "    \n",
    "    def rotate(self, shift=1):\n",
    "        # save results of DDS if available\n",
    "        if hasattr(self, 'wnrs'):\n",
    "            if (shift % 2) == 0:\n",
    "                newwnrs = [{played_from[(played_from.index(it) + shift) % 4]: val \n",
    "                            for it, val in d.items()}\n",
    "                              for d in self.wnrs]\n",
    "            else:\n",
    "                newwnrs = [{played_from[(played_from.index(it) + shift) % 4]: 13 - val \n",
    "                            for it, val in d.items()}\n",
    "                              for d in self.wnrs]                \n",
    "            return Deal([self.hands[(i + shift) % 4] for i in range(4)])\\\n",
    "                    .set_wnrs(newwnrs).precompute()\n",
    "        return Deal([self.hands[(i + shift) % 4] for i in range(4)]).precompute()\n",
    "    \n",
    "    #### SOLVER AND CACHERS\n",
    "    \n",
    "    def precompute(self):\n",
    "        # Fill scores\n",
    "        self.fill_score()\n",
    "        # Compute best NS contract, par score\n",
    "        self.compute_sacs()\n",
    "        self.compute_best_contract()\n",
    "        return self\n",
    "\n",
    "    def solve(self):\n",
    "        '''Fills the .wnrs table'''\n",
    "        sol = solveDD(self.pbn)\n",
    "        self.wnrs = decode_winners(sol)\n",
    "        return self.precompute()\n",
    "    \n",
    "    def comp_score(self, ctr, side='NS', vul=0.5):\n",
    "        # To be played from e.g. north, set side = 'N'\n",
    "        if ctr == 'PASS':\n",
    "            return 0\n",
    "        sum_s = 0\n",
    "        for sd in side:\n",
    "            if sd in 'NS':\n",
    "                s_idx = strains.index(ctr[1:])\n",
    "                sum_s += score_contract(ctr, self.wnrs[s_idx][sd] - 6, vul)\n",
    "            if sd in 'EW':\n",
    "                s_idx = strains.index(ctr[1:])\n",
    "                sum_s -= score_contract(ctr, 7 - self.wnrs[s_idx][sd], vul)                \n",
    "        return sum_s / len(side)\n",
    "    \n",
    "    def fill_score(self, vul=0.5):\n",
    "        self.scores = {'PASS': {'': 0}}\n",
    "        for ctr in contracts:\n",
    "            self.scores[ctr] = {}\n",
    "            for side in ['NS', 'N', 'S', 'EW', 'E', 'W']:\n",
    "                self.scores[ctr][side] = self.comp_score(ctr, side, vul)\n",
    "        return self\n",
    "\n",
    "    def compute_sacs(self, vul=0.5):\n",
    "        #possible_sacs = [(c_idx, self.score(c, 'EW', vul)) \n",
    "        #                 for c_idx, c in enumerate(contracts)\n",
    "        #                 if self.score(c, 'EW', vul) < self.best_s]\n",
    "        best_o_score = [0] + [-9999 for _ in contracts]\n",
    "        for idx, val in enumerate(contracts):\n",
    "            for j in range(idx + 1):\n",
    "                best_o_score[j] = max(best_o_score[j], (-1) * self.score(val, 'EW', vul))\n",
    "        self.sacs = best_o_score\n",
    "        return self\n",
    "    \n",
    "    def compute_best_contract(self, vul=0.5):\n",
    "        sides = ['N', 'S', 'NS']\n",
    "        bc, bc_o = 'PASS', 'PASS'\n",
    "        bs, bs_o = '', ''\n",
    "        for c in contracts:\n",
    "            for s in sides:\n",
    "                if (self.score(bc, bs, vul) - self.score(c, s, vul)) <= 0:\n",
    "                    bc, bs = c, s\n",
    "                if (self.score(bc, bs, vul, with_opps=True) - \n",
    "                    self.score(c, s, vul, with_opps=True)) <= 0:\n",
    "                    bc_o, bs_o = c, s\n",
    "        self.best_c = bc, bs\n",
    "        self.best_s = self.score(bc, bs, vul)\n",
    "        self.best_c_o = bc_o, bs_o\n",
    "        self.best_s_o = self.score(bc, bs, vul, with_opps=True)\n",
    "\n",
    "    #### FUNCTIONS YOU ACTUALLY NEED TO USE\n",
    "    \n",
    "    def score(self, ctr, side='NS', vul=0.5, with_opps=False):\n",
    "        if ctr == 'PASS':\n",
    "            side = ''\n",
    "        if with_opps:\n",
    "            idx = contract_to_index[ctr]\n",
    "            return min(self.scores[ctr][side], (-1) * self.sacs[idx])\n",
    "        return self.scores[ctr][side]\n",
    "        \n",
    "    def ev(self, contract, side='NS', vul=0.5, with_opps=False):\n",
    "        if with_opps:\n",
    "            return points_to_IMPs(self.score(contract, side, vul, with_opps=True)\n",
    "                                  - self.best_s_o)\n",
    "        return points_to_IMPs(self.score(contract, side, vul) - self.best_s)\n",
    "    \n",
    "    def ev_list(self, side='N', vul=0.5, with_opps=False):\n",
    "        return [self.ev(c, side, vul, with_opps=with_opps)\n",
    "                for c in ['PASS'] + contracts]\n",
    "    \n",
    "    def best_contract(self, with_opps=False):\n",
    "        if with_opps:\n",
    "            return self.best_c_o[0]\n",
    "        return self.best_c[0]\n",
    "\n",
    "    def IMP_diff(self, contract1, contract2, side1='NS', side2='NS', vul=0.5):\n",
    "        # positive = first contract is better\n",
    "        return points_to_IMPs(self.score(contract1, side1, vul) - \\\n",
    "                              self.score(contract2, side2, vul))\n",
    "    \n",
    "    def sample_contract(self, par=0.5):\n",
    "        # Generates a contract with probability\n",
    "        p_list = scipy.special.softmax([x * par for x in self.ev_list()])\n",
    "        return np.random.choice(['PASS'] + contracts, p=p_list)\n",
    "    \n",
    "##### INTRODUCING SACRIFICES OR MAKES OVER OUR PASSES\n",
    "        \n",
    "#     def best_contract_with_opps(self, vul=0.5):\n",
    "#         # This is like par score\n",
    "#         bc, bs = self.best_c\n",
    "#         # give opponents a chance to bid over you\n",
    "#         sides = ['EW', 'E', 'W']\n",
    "#         try:\n",
    "#             s_idx = contracts.index(bc) + 1\n",
    "#         except:\n",
    "#             s_idx = 0\n",
    "#         for c in contracts[s_idx:]:\n",
    "#             for s in sides:\n",
    "#                 if (self.score(bc, bs, vul) - self.score(c, s, vul)) >= 0:\n",
    "#                     bc, bs = c, s\n",
    "#         # give NS a chance to sac over their making\n",
    "#         try:\n",
    "#             s_idx = contracts.index(bc) + 1\n",
    "#         except:\n",
    "#             s_idx = 0\n",
    "#         for c in contracts[s_idx:]:\n",
    "#             for s in ['NS', 'N', 'S']:\n",
    "#                 if (self.score(bc, bs, vul) - self.score(c, s, vul)) <= 0:\n",
    "#                     bc, bs = c, s        \n",
    "                \n",
    "#         self.best_c_opps = bc, bs\n",
    "#         self.best_s_opps = self.score(bc, bs, vul)\n",
    "    \n",
    "    \n",
    "#     def ev_with_opps(self, contract, side='NS', vul=0.5):\n",
    "#         if not hasattr(self, 'best_c_opps'):\n",
    "#             self.best_contract_with_opps()\n",
    "#         bc, bs = contract, side\n",
    "#         # give opponents a chance to bid over you\n",
    "#         sides = ['EW', 'E', 'W']\n",
    "#         try:\n",
    "#             s_idx = contracts.index(bc) + 1\n",
    "#         except:\n",
    "#             s_idx = 0\n",
    "#         for c in contracts[s_idx:]:\n",
    "#             for s in sides:\n",
    "#                 if self.score(bc, bs, vul) > self.score(c, s, vul):\n",
    "#                     #print('\\n they were getting ', self.score(bc, bs, vul), ' instead now they have ', self.score(c, s, vul))\n",
    "#                     #print('\\nthey bid over you with', c, s)\n",
    "#                     bc, bs = c, s\n",
    "#         #print ( '\\nyou score ', self.score(bc, bs, vul), 'they get ', (-1)* self.score(self.best_c_opps[0], self.best_c_opps[1], vul))\n",
    "#         return points_to_IMPs(self.score(bc, bs, vul) - \\\n",
    "#                               self.score(self.best_c_opps[0], self.best_c_opps[1], vul))\n",
    "\n",
    "#     def scores_with_opps(self):\n",
    "#         bc, bs = self.best_c_opps\n",
    "#         low = self.ev_with_opps(bc, bs)\n",
    "#         return [IMP_norm(self.ev_with_opps(c), low) for c in contracts]\n"
   ]
  },
  {
   "cell_type": "markdown",
   "metadata": {},
   "source": [
    "# DealsNS class"
   ]
  },
  {
   "cell_type": "code",
   "execution_count": 28,
   "metadata": {
    "ExecuteTime": {
     "end_time": "2019-07-27T09:59:20.867941Z",
     "start_time": "2019-07-27T09:59:20.854661Z"
    }
   },
   "outputs": [],
   "source": [
    "class DealsNS(object):\n",
    "    \n",
    "    def __init__(self, list_of_deals):\n",
    "        self.deals = list_of_deals\n",
    "        self.no_deals = len(self.deals)\n",
    "        self.N, _, self.S, _ = self.deals[0].hands\n",
    "        for d in self.deals:\n",
    "            if d.hands[0] != self.N or d.hands[2] != self.S:\n",
    "                raise ValueError('N/S hands do not match')\n",
    "                \n",
    "    def __repr__(self):\n",
    "        return \"N: \" + self.N.pbn() + \" - S: \" + self.S.pbn() + \"\\n\" + \\\n",
    "                \"Best contract: \" + self.best_contract()[0] + \" - \" + \\\n",
    "                \"With opps: \" + self.best_contract(with_opps=True)[0] + \\\n",
    "                \"\\nComputed over \" + str(self.no_deals) + \" samples\"\n",
    "    \n",
    "    def __len__(self):\n",
    "        return self.no_deals\n",
    "    \n",
    "    def from_lines(list_of_lines):\n",
    "        return DealsNS([Deal.from_line(l) for l in list_of_lines])\n",
    "    \n",
    "    def ev(self, contract, side='NS', vul=0.5, with_opps=False):\n",
    "        rt = 0\n",
    "        for d in self.deals:\n",
    "            rt += d.ev(contract, side, vul, with_opps=with_opps)\n",
    "        return rt / self.no_deals\n",
    "    \n",
    "    def best_contract(self, vul=0.5, with_opps=False):\n",
    "        sides = ['NS', 'N', 'S']\n",
    "        bc = 'PASS'\n",
    "        bs = ''\n",
    "        for c in contracts:\n",
    "            for s in sides:\n",
    "                if self.ev(bc, bs, vul, with_opps=with_opps) < self.ev(c, s, vul, with_opps=with_opps):\n",
    "                    bc, bs = c, s\n",
    "        self.best_c = bc, bs\n",
    "        return bc, bs\n",
    "\n",
    "    def sample(no_samples=5, N=None, S=None):\n",
    "        if N is None or S is None:\n",
    "            N, _, S, _ = Deal().hands\n",
    "        return DealsNS([Deal.from_NS(N, S).solve() for _ in range(no_samples)])\n"
   ]
  },
  {
   "cell_type": "markdown",
   "metadata": {},
   "source": [
    "# Bidding class"
   ]
  },
  {
   "cell_type": "code",
   "execution_count": 106,
   "metadata": {
    "ExecuteTime": {
     "end_time": "2019-07-26T15:12:08.725817Z",
     "start_time": "2019-07-26T15:12:08.707699Z"
    }
   },
   "outputs": [],
   "source": [
    "class Bidding(object):\n",
    "    \n",
    "    def __init__(self, *args):\n",
    "        self.bids = []\n",
    "        self.done = False\n",
    "        for a in args:\n",
    "            if isinstance(a, list):\n",
    "                for it in a:\n",
    "                    if it in valid_bids:\n",
    "                        self.bids.append(valid_bids.index(it))\n",
    "            if a in valid_bids:\n",
    "                self.bids.append(valid_bids.index(a))\n",
    "        self.mask = [-1 for _ in range(len(valid_bids))]\n",
    "        for i, val in enumerate(self.bids):\n",
    "            self.mask[val] = i % 4\n",
    "        self.is_done_check()\n",
    "        \n",
    "    def __repr__(self):\n",
    "        s = ['N: ']\n",
    "        for i, val in enumerate(self.bids):\n",
    "            val = valid_bids[val]\n",
    "            if val == 'PASS':\n",
    "                val = '(P)'\n",
    "            s.append(\"{:>3}\".format(val) + ' - ')\n",
    "            if (i % 4) == 3:\n",
    "                s.append(\"\\n   \")\n",
    "        return ''.join(s)\n",
    "    \n",
    "    def __len__(self):\n",
    "        return len(self.bids)\n",
    "    \n",
    "    def add(self, bid):\n",
    "        if isinstance(bid, str):\n",
    "            bid = valid_bids.index(bid)\n",
    "        self.bids.append(bid)\n",
    "        self.mask[bid] = len(self) % 4\n",
    "        return self.is_done_check()\n",
    "    \n",
    "    def get_pl_bids(self, pl_id):\n",
    "        return [valid_bids[idx] for idx in self.bids[pl_id::4]]\n",
    "    \n",
    "    def partner_bids(self):\n",
    "        return self.get_pl_bids((len(self) + 2) % 4)\n",
    "    \n",
    "    def is_done_check(self):\n",
    "        if len(self) >= 4:\n",
    "            if self.bids[-3:] == [0, 0, 0]:\n",
    "                self.done = True\n",
    "        return self\n",
    "    \n",
    "    def last_bid(self):\n",
    "        for i in self.bids[::-1]:\n",
    "            if 0 < i <= len(contracts):\n",
    "                return i\n",
    "        return 0\n",
    "    \n",
    "    def winning_side(self):\n",
    "        return len(self) % 2\n",
    "    \n",
    "    def result(self):\n",
    "        if not self.done:\n",
    "            raise ValueError('Bidding sequence did not terminate')\n",
    "        if self.last_bid() == 0:\n",
    "            return 'PASS', ''\n",
    "        pl_by = ['NS', 'EW'][self.winning_side()]\n",
    "        for idx, b in enumerate(self.bids[self.winning_side()::2]):\n",
    "            if 0 < b <= len(contracts):\n",
    "                if (b - self.last_bid()) % 5 == 0:\n",
    "                    return valid_bids[self.last_bid()], pl_by[idx % 2]\n"
   ]
  },
  {
   "cell_type": "markdown",
   "metadata": {},
   "source": [
    "# System class"
   ]
  },
  {
   "cell_type": "code",
   "execution_count": null,
   "metadata": {},
   "outputs": [],
   "source": [
    "class System(object):\n",
    "    \n",
    "    def __init__(self, function):\n",
    "        # Takes as an input a function from (Hand, Bidding) -> bid\n",
    "        self.fn = function\n",
    "        \n",
    "    def step(self, hand, bidding):\n",
    "        # In case the bid is invalid, automatically substitute for PASS (idk)\n",
    "        bid = self.fn(hand, bidding)\n",
    "        if isinstance(bid, str):\n",
    "            bid = valid_bids.index(bid)\n",
    "        if 0 < bid <= len(contracts) and bid > bidding.last_bid():\n",
    "            return bidding.add(self.fn(hand, bidding))\n",
    "        return bidding.add(0)\n",
    "    \n",
    "    def evaluate(self, list_of_deals, enemy_s=None, with_opps=True):\n",
    "        if not isinstance(list_of_deals, list):\n",
    "            list_of_deals = [list_of_deals]\n",
    "        if enemy_s is None:\n",
    "            enemy_s = System(pass_function)\n",
    "        rt = 0\n",
    "        for d in list_of_deals:\n",
    "            seq = gen_sequence(d, self, enemy_s, self)\n",
    "            res, side = seq.result()\n",
    "            rt += d.ev(res, side, with_opps=with_opps)\n",
    "        return rt / len(list_of_deals)\n",
    "    \n",
    "    def compare(self, list_of_deals, enemy_s):\n",
    "        if not isinstance(list_of_deals, list):\n",
    "            list_of_deals = [list_of_deals]\n",
    "        rt = 0\n",
    "        for d in list_of_deals:\n",
    "            seq_1, seq_2 = gen_sequence(d, self, enemy_s), gen_sequence(d, enemy_s, self)\n",
    "            res_1, side_1 = seq_1.result()\n",
    "            res_2, side_2 = seq_2.result()\n",
    "            rt += d.IMP_diff(res_1, res_2, side_1, side_2)\n",
    "        return rt / len(list_of_deals)"
   ]
  },
  {
   "cell_type": "code",
   "execution_count": 109,
   "metadata": {
    "ExecuteTime": {
     "end_time": "2019-07-26T15:12:27.183270Z",
     "start_time": "2019-07-26T15:12:27.178349Z"
    }
   },
   "outputs": [
    {
     "name": "stdout",
     "output_type": "stream",
     "text": [
      "('4c', 'N')\n"
     ]
    }
   ],
   "source": [
    "#print(Bidding(['1h', 'PASS', '2h', 'PASS', '3c', 'PASS', '4c', 'PASS', 'PASS', 'PASS']).result())"
   ]
  },
  {
   "cell_type": "code",
   "execution_count": null,
   "metadata": {},
   "outputs": [],
   "source": []
  },
  {
   "cell_type": "code",
   "execution_count": null,
   "metadata": {},
   "outputs": [],
   "source": []
  }
 ],
 "metadata": {
  "kernelspec": {
   "display_name": "Python 3",
   "language": "python",
   "name": "python3"
  },
  "language_info": {
   "codemirror_mode": {
    "name": "ipython",
    "version": 3
   },
   "file_extension": ".py",
   "mimetype": "text/x-python",
   "name": "python",
   "nbconvert_exporter": "python",
   "pygments_lexer": "ipython3",
   "version": "3.7.3"
  },
  "toc": {
   "base_numbering": 1,
   "nav_menu": {},
   "number_sections": true,
   "sideBar": true,
   "skip_h1_title": false,
   "title_cell": "Table of Contents",
   "title_sidebar": "Contents",
   "toc_cell": false,
   "toc_position": {},
   "toc_section_display": true,
   "toc_window_display": false
  }
 },
 "nbformat": 4,
 "nbformat_minor": 2
}
