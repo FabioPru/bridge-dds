{
 "cells": [
  {
   "cell_type": "code",
   "execution_count": 8,
   "metadata": {
    "ExecuteTime": {
     "end_time": "2019-07-26T08:26:02.177059Z",
     "start_time": "2019-07-26T08:26:00.476049Z"
    }
   },
   "outputs": [
    {
     "name": "stderr",
     "output_type": "stream",
     "text": [
      "Using TensorFlow backend.\n"
     ]
    }
   ],
   "source": [
    "import time\n",
    "\n",
    "from keras.models import Sequential\n",
    "from keras.layers import Dense, Dropout, Activation, PReLU\n"
   ]
  },
  {
   "cell_type": "code",
   "execution_count": 1,
   "metadata": {
    "ExecuteTime": {
     "end_time": "2019-07-26T08:21:16.682696Z",
     "start_time": "2019-07-26T08:21:16.677542Z"
    }
   },
   "outputs": [],
   "source": [
    "def round_p(x):\n",
    "    if x < 0:\n",
    "        return 0\n",
    "    if x > 13:\n",
    "        return 13\n",
    "    if x - int(x) > 0.5:\n",
    "        return int(x+1)\n",
    "    else:\n",
    "        return int(x)\n",
    "\n",
    "def round_predictions(a):\n",
    "    return np.array([round_p(x) for x in a])"
   ]
  },
  {
   "cell_type": "code",
   "execution_count": 9,
   "metadata": {
    "ExecuteTime": {
     "end_time": "2019-07-26T08:27:01.603155Z",
     "start_time": "2019-07-26T08:27:01.590904Z"
    }
   },
   "outputs": [],
   "source": [
    "def train_eval_dds(models, features=None, targets=None):\n",
    "    \n",
    "    if features is None:\n",
    "        global X; features = [(np.array(X), 'Globally-defined X')]\n",
    "    if targets is None:\n",
    "        global y; targets = [(np.array(y), 'Globally-defined y')]\n",
    "    \n",
    "    if not isinstance(models, list):\n",
    "        models = [models]\n",
    "    \n",
    "    for X, f_desc in features:\n",
    "        print (\"Features: \" + f_desc)\n",
    "        for y, t_desc in targets:\n",
    "            print (\"    Targets: \" + t_desc + \"\\n\")\n",
    "            X_tr, X_ts, y_tr, y_ts = model_selection.train_test_split(X, y, test_size=0.2, random_state=1)\n",
    "            \n",
    "            for m_d in models:\n",
    "                if 'desc' not in m_d:\n",
    "                    m_d['desc'] = 'unknown m '\n",
    "                for kw in 'bfp':\n",
    "                    if kw+'_args' not in m_d:\n",
    "                        m_d[kw+'_args'] = {}\n",
    "                \n",
    "                if isinstance(m_d['m'], base.BaseEstimator):\n",
    "                    m = m_d['m']\n",
    "                else:\n",
    "                    # Model has to be built\n",
    "                    m = m_d['m'](input_s=X_tr.shape[1], **m_d['b_args'])\n",
    "                \n",
    "                \n",
    "                ts = time.time()\n",
    "                m.fit(X_tr, y_tr, **m_d['f_args'])\n",
    "                print (\"        M: \" + m_d['desc'] + \" # \", end='')\n",
    "                y_pred = round_predictions(m.predict(X_ts, **m_d['p_args']))\n",
    "                y_tr_pred = round_predictions(m.predict(X_tr, **m_d['p_args']))\n",
    "                #print (\"P:\",  y_pred, end='')\n",
    "                print (\" test MAE: \" + \"{0:.2f}\".format(metrics.mean_absolute_error(y_ts, y_pred)), end='' )\n",
    "                print (\" - tr MAE: \" + \"{0:.2f}\".format(metrics.mean_absolute_error(y_tr, y_tr_pred)), end='' )\n",
    "                print (\" T: \" + \"{0:.1f}\".format(time.time() - ts) + \"s\")"
   ]
  },
  {
   "cell_type": "code",
   "execution_count": null,
   "metadata": {},
   "outputs": [],
   "source": [
    "def seq_model(input_s, layers_no=4, layers_s=256, activation='relu', optimizer='sgd', dropout=False, loss='mean_squared_error',\n",
    "              **kwargs):\n",
    "    model = Sequential()\n",
    "    # Dense(64) is a fully-connected layer with 64 hidden units.\n",
    "    # in the first layer, you must specify the expected input data shape:\n",
    "    # here, 20-dimensional vectors.\n",
    "    model.add(Dense(layers_s, activation=activation, input_dim=input_s, **kwargs))\n",
    "    for _ in range(0, layers_no-1):\n",
    "        if dropout:\n",
    "            model.add(Dropout(0.5))\n",
    "        model.add(Dense(layers_s, activation=activation, **kwargs))\n",
    "\n",
    "    model.add(Dense(1, activation='relu', **kwargs))\n",
    "    model.compile(loss=loss, optimizer=optimizer, metrics=['mean_absolute_error'])\n",
    "    return model"
   ]
  }
 ],
 "metadata": {
  "kernelspec": {
   "display_name": "Python 3",
   "language": "python",
   "name": "python3"
  },
  "language_info": {
   "codemirror_mode": {
    "name": "ipython",
    "version": 3
   },
   "file_extension": ".py",
   "mimetype": "text/x-python",
   "name": "python",
   "nbconvert_exporter": "python",
   "pygments_lexer": "ipython3",
   "version": "3.7.3"
  },
  "toc": {
   "base_numbering": 1,
   "nav_menu": {},
   "number_sections": true,
   "sideBar": true,
   "skip_h1_title": false,
   "title_cell": "Table of Contents",
   "title_sidebar": "Contents",
   "toc_cell": false,
   "toc_position": {},
   "toc_section_display": true,
   "toc_window_display": false
  }
 },
 "nbformat": 4,
 "nbformat_minor": 2
}
