{
 "cells": [
  {
   "cell_type": "code",
   "execution_count": 36,
   "metadata": {
    "ExecuteTime": {
     "end_time": "2019-07-26T07:23:56.705222Z",
     "start_time": "2019-07-26T07:23:56.699803Z"
    }
   },
   "outputs": [],
   "source": [
    "def load_deals(no_deals=None):\n",
    "    # Loads > 100k deals, takes 30s\n",
    "    f = open('data/d.txt', 'r')\n",
    "    v = f.read()\n",
    "    f.close()\n",
    "    if no_deals == None:\n",
    "        no_deals = len(v.split('\\n'))\n",
    "    return [Deal.from_line(l) for l in v.split('\\n')[:no_deals] if len(l) == 90]"
   ]
  },
  {
   "cell_type": "code",
   "execution_count": 48,
   "metadata": {
    "ExecuteTime": {
     "end_time": "2019-07-26T07:30:13.367397Z",
     "start_time": "2019-07-26T07:30:13.361324Z"
    }
   },
   "outputs": [],
   "source": [
    "def load_NS(no_deals=None, no_samples=10):\n",
    "    # Loads in 4 min\n",
    "    # Warning: data loaded is for strong club auction (N.hcp > 16 and S.hcp > 8)\n",
    "    f = open('data/dNS.txt', 'r')\n",
    "    v = f.read()\n",
    "    f.close()\n",
    "    deal_list = v.split('\\n')\n",
    "    if no_deals == None:\n",
    "        no_deals = len(deal_list) // no_samples\n",
    "    return [DealsNS([Deal.from_line(l) for l in deal_list[j * no_samples: (j+1) * no_samples]])\n",
    "            for j in range(no_deals)]    "
   ]
  },
  {
   "cell_type": "code",
   "execution_count": null,
   "metadata": {},
   "outputs": [],
   "source": []
  }
 ],
 "metadata": {
  "kernelspec": {
   "display_name": "Python 3",
   "language": "python",
   "name": "python3"
  },
  "language_info": {
   "codemirror_mode": {
    "name": "ipython",
    "version": 3
   },
   "file_extension": ".py",
   "mimetype": "text/x-python",
   "name": "python",
   "nbconvert_exporter": "python",
   "pygments_lexer": "ipython3",
   "version": "3.7.3"
  },
  "toc": {
   "base_numbering": 1,
   "nav_menu": {},
   "number_sections": true,
   "sideBar": true,
   "skip_h1_title": false,
   "title_cell": "Table of Contents",
   "title_sidebar": "Contents",
   "toc_cell": false,
   "toc_position": {},
   "toc_section_display": true,
   "toc_window_display": false
  }
 },
 "nbformat": 4,
 "nbformat_minor": 2
}
