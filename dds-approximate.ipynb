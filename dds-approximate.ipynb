{
 "cells": [
  {
   "cell_type": "code",
   "execution_count": 46,
   "metadata": {
    "ExecuteTime": {
     "end_time": "2019-07-30T18:31:12.095271Z",
     "start_time": "2019-07-30T18:31:11.850914Z"
    }
   },
   "outputs": [],
   "source": [
    "import matplotlib.pyplot as plt\n",
    "import seaborn as sns\n",
    "# Configs\n",
    "%config InlineBackend.figure_format ='retina'\n",
    "%matplotlib inline\n",
    "\n",
    "from sklearn.experimental import enable_hist_gradient_boosting\n",
    "from sklearn import base, neural_network, neighbors, feature_extraction, datasets, linear_model, metrics, model_selection, preprocessing, svm, ensemble, decomposition, feature_extraction, utils\n",
    "\n",
    "import keras\n",
    "import joblib"
   ]
  },
  {
   "cell_type": "code",
   "execution_count": 10,
   "metadata": {
    "ExecuteTime": {
     "end_time": "2019-07-29T16:24:16.666954Z",
     "start_time": "2019-07-29T16:24:16.242701Z"
    }
   },
   "outputs": [],
   "source": [
    "# Load Bridge helper classes\n",
    "%run helpers/bridge.ipynb\n",
    "%run helpers/load-data.ipynb\n",
    "%run helpers/train-eval-utils.ipynb"
   ]
  },
  {
   "cell_type": "code",
   "execution_count": 13,
   "metadata": {
    "ExecuteTime": {
     "end_time": "2019-07-29T16:55:35.356415Z",
     "start_time": "2019-07-29T16:25:14.508627Z"
    }
   },
   "outputs": [],
   "source": [
    "# Loads & precomputes all the data, takes about 2.5min\n",
    "data = load_deals()"
   ]
  },
  {
   "cell_type": "code",
   "execution_count": 170,
   "metadata": {
    "ExecuteTime": {
     "end_time": "2019-07-31T09:16:23.803713Z",
     "start_time": "2019-07-31T09:13:41.575615Z"
    }
   },
   "outputs": [],
   "source": [
    "# Concatenating features\n",
    "X = [np.array([h.feature_array() for h in d.hands]).flatten()\n",
    "     for d in data]\n",
    "\n",
    "# Winners in a particular strain played from N\n",
    "y_NT = [d.wnrs[strains.index('NT')]['N'] for d in data]\n",
    "y_suit = [d.wnrs[strains.index('s')]['N'] for d in data]"
   ]
  },
  {
   "cell_type": "code",
   "execution_count": null,
   "metadata": {},
   "outputs": [],
   "source": [
    "# PREVIOUS PERFORMANCE with old features, smaller dataset\n",
    "\n",
    "# Features: Globally-defined X\n",
    "#     Targets: Globally-defined y\n",
    "\n",
    "\n",
    "#         M: Skl 1layNN #  test MAE: 0.76 - tr MAE: 0.72 - T: 256.4s # 40.2|86.2|97.8\n",
    "#         M: HistGB     #  test MAE: 0.84 - tr MAE: 0.82 - T:   6.6s # 36.3|83.6|97.0\n",
    "#         M: LinearRegr #  test MAE: 0.97 - tr MAE: 0.96 - T:   0.7s # 32.3|77.6|94.8\n"
   ]
  },
  {
   "cell_type": "code",
   "execution_count": null,
   "metadata": {},
   "outputs": [],
   "source": [
    "#   10 iter = 1.5 min\n",
    "#        M: Skl 1layNN #  test MAE: 0.80 - tr MAE: 0.79 - T: 59.6s # 38.0|84.9|97.5\n",
    "\n",
    "#    200 iterations = 45 mins\n",
    "#        M: Skl 1layNN #  test MAE: 0.73 - tr MAE: 0.70 - T: 2753.0s # 41.2|87.9|98.4\n",
    "\n",
    "# 10 iter = 6 min\n",
    "#        M: 4 layer 256 #  test MAE: 0.70 - tr MAE: 0.67 - T: 351.3s # 43.0|88.9|98.4\n",
    "#        M: 7 layer 256 #  test MAE: 0.68 - tr MAE: 0.65 - T: 445.1s # 44.2|89.4|98.5\n",
    "#           12 layer was same as 7, but worse training time\n",
    "\n",
    "## results with mask instead\n",
    "#        M: 7 layer 256 #  test MAE: 0.77 - tr MAE: 0.67 - T: 598.2s # 39.5|85.9|97.6\n",
    "\n",
    "\n",
    "#    convergence = 44 iterations\n",
    "#        M: Sklearn-NN #  test MAE: 0.61 - tr MAE: 0.50 - T: 6613.4s # 49.0|91.8|98.8\n"
   ]
  },
  {
   "cell_type": "code",
   "execution_count": null,
   "metadata": {},
   "outputs": [],
   "source": [
    "# sklearn 2h on NT\n",
    "\n",
    "# Features: Globally-defined X\n",
    "#     Targets: Globally-defined y\n",
    "\n",
    "#         M: Sklearn-NN #  test MAE: 0.61 - tr MAE: 0.50 - T: 6613.4s # 49.0|91.8|98.8\n",
    "            \n",
    "            \n",
    "# sklearn 2h on s\n",
    "# Features: Globally-defined X\n",
    "#     Targets: SPADE WINNERS\n",
    "\n",
    "#         M: Sklearn-NN #  test MAE: 0.45 - tr MAE: 0.37 - T: 5847.6s # 57.4|97.6|99.9\n",
    "\n"
   ]
  },
  {
   "cell_type": "code",
   "execution_count": null,
   "metadata": {
    "ExecuteTime": {
     "start_time": "2019-07-31T09:17:26.117Z"
    }
   },
   "outputs": [
    {
     "name": "stdout",
     "output_type": "stream",
     "text": [
      "Features: Globally-defined X\n",
      "    Targets: NT\n",
      "\n",
      "Train on 303550 samples, validate on 33728 samples\n",
      "Epoch 1/100\n",
      "303550/303550 [==============================] - 198s 653us/step - loss: 1.7451 - mean_absolute_error: 1.0073 - val_loss: 1.2809 - val_mean_absolute_error: 0.8853\n",
      "Epoch 2/100\n",
      "303550/303550 [==============================] - 116s 381us/step - loss: 1.2299 - mean_absolute_error: 0.8668 - val_loss: 1.1385 - val_mean_absolute_error: 0.8330\n",
      "Epoch 3/100\n",
      "303550/303550 [==============================] - 109s 358us/step - loss: 1.1307 - mean_absolute_error: 0.8290 - val_loss: 1.1490 - val_mean_absolute_error: 0.8366\n",
      "Epoch 4/100\n",
      "303550/303550 [==============================] - 108s 357us/step - loss: 1.0722 - mean_absolute_error: 0.8059 - val_loss: 1.0520 - val_mean_absolute_error: 0.7938\n",
      "Epoch 5/100\n",
      "303550/303550 [==============================] - 108s 357us/step - loss: 1.0331 - mean_absolute_error: 0.7897 - val_loss: 1.0326 - val_mean_absolute_error: 0.7894\n",
      "Epoch 6/100\n",
      "303550/303550 [==============================] - 109s 359us/step - loss: 1.0044 - mean_absolute_error: 0.7778 - val_loss: 1.0206 - val_mean_absolute_error: 0.7827\n",
      "Epoch 7/100\n",
      "303550/303550 [==============================] - 108s 357us/step - loss: 0.9808 - mean_absolute_error: 0.7687 - val_loss: 0.9915 - val_mean_absolute_error: 0.7710\n",
      "Epoch 8/100\n",
      "303550/303550 [==============================] - 108s 357us/step - loss: 0.9570 - mean_absolute_error: 0.7593 - val_loss: 0.9765 - val_mean_absolute_error: 0.7648\n",
      "Epoch 9/100\n",
      "303550/303550 [==============================] - 108s 356us/step - loss: 0.9331 - mean_absolute_error: 0.7494 - val_loss: 0.9619 - val_mean_absolute_error: 0.7569\n",
      "Epoch 10/100\n",
      "303550/303550 [==============================] - 108s 357us/step - loss: 0.9100 - mean_absolute_error: 0.7391 - val_loss: 0.9722 - val_mean_absolute_error: 0.7608\n",
      "Epoch 11/100\n",
      "303550/303550 [==============================] - 108s 357us/step - loss: 0.8932 - mean_absolute_error: 0.7319 - val_loss: 0.9472 - val_mean_absolute_error: 0.7509\n",
      "Epoch 12/100\n",
      "303550/303550 [==============================] - 108s 357us/step - loss: 0.8776 - mean_absolute_error: 0.7253 - val_loss: 0.9344 - val_mean_absolute_error: 0.7449\n",
      "Epoch 13/100\n",
      "303550/303550 [==============================] - 108s 357us/step - loss: 0.8658 - mean_absolute_error: 0.7202 - val_loss: 0.8924 - val_mean_absolute_error: 0.7278\n",
      "Epoch 14/100\n",
      "303550/303550 [==============================] - 109s 358us/step - loss: 0.8494 - mean_absolute_error: 0.7131 - val_loss: 0.9123 - val_mean_absolute_error: 0.7314\n",
      "Epoch 15/100\n",
      "303550/303550 [==============================] - 108s 357us/step - loss: 0.8391 - mean_absolute_error: 0.7083 - val_loss: 0.8635 - val_mean_absolute_error: 0.7151\n",
      "Epoch 16/100\n",
      "303550/303550 [==============================] - 109s 358us/step - loss: 0.8280 - mean_absolute_error: 0.7030 - val_loss: 0.8733 - val_mean_absolute_error: 0.7189\n",
      "Epoch 17/100\n",
      "303550/303550 [==============================] - 108s 356us/step - loss: 0.8184 - mean_absolute_error: 0.6982 - val_loss: 0.8682 - val_mean_absolute_error: 0.7170\n",
      "Epoch 18/100\n",
      "303550/303550 [==============================] - 109s 358us/step - loss: 0.8106 - mean_absolute_error: 0.6953 - val_loss: 0.8753 - val_mean_absolute_error: 0.7212\n",
      "Epoch 19/100\n",
      "303550/303550 [==============================] - 155s 512us/step - loss: 0.8152 - mean_absolute_error: 0.6972 - val_loss: 0.9037 - val_mean_absolute_error: 0.7302\n",
      "Epoch 20/100\n",
      "303550/303550 [==============================] - 339s 1ms/step - loss: 0.7945 - mean_absolute_error: 0.6883 - val_loss: 0.8543 - val_mean_absolute_error: 0.7089\n",
      "Epoch 21/100\n",
      "303550/303550 [==============================] - 581s 2ms/step - loss: 0.7910 - mean_absolute_error: 0.6864 - val_loss: 0.8802 - val_mean_absolute_error: 0.7173\n",
      "Epoch 22/100\n",
      "303550/303550 [==============================] - 447s 1ms/step - loss: 0.7922 - mean_absolute_error: 0.6865 - val_loss: 0.8510 - val_mean_absolute_error: 0.7060\n",
      "Epoch 23/100\n",
      "303550/303550 [==============================] - 371s 1ms/step - loss: 0.7796 - mean_absolute_error: 0.6813 - val_loss: 0.8404 - val_mean_absolute_error: 0.7043\n",
      "Epoch 24/100\n",
      "303550/303550 [==============================] - 406s 1ms/step - loss: 0.7719 - mean_absolute_error: 0.6773 - val_loss: 0.8243 - val_mean_absolute_error: 0.6941\n",
      "Epoch 25/100\n",
      "303550/303550 [==============================] - 302s 995us/step - loss: 0.7635 - mean_absolute_error: 0.6739 - val_loss: 0.8274 - val_mean_absolute_error: 0.6963\n",
      "Epoch 26/100\n",
      "303550/303550 [==============================] - 209s 690us/step - loss: 0.7581 - mean_absolute_error: 0.6712 - val_loss: 0.8564 - val_mean_absolute_error: 0.7123\n",
      "Epoch 27/100\n",
      "303550/303550 [==============================] - 172s 568us/step - loss: 0.7537 - mean_absolute_error: 0.6694 - val_loss: 0.8282 - val_mean_absolute_error: 0.6937\n",
      "Epoch 28/100\n",
      "303550/303550 [==============================] - 175s 575us/step - loss: 0.7470 - mean_absolute_error: 0.6663 - val_loss: 0.8122 - val_mean_absolute_error: 0.6924\n",
      "Epoch 29/100\n",
      "303550/303550 [==============================] - 178s 587us/step - loss: 0.7439 - mean_absolute_error: 0.6651 - val_loss: 0.7972 - val_mean_absolute_error: 0.6821\n",
      "Epoch 30/100\n",
      "303550/303550 [==============================] - 185s 611us/step - loss: 0.7362 - mean_absolute_error: 0.6606 - val_loss: 0.8123 - val_mean_absolute_error: 0.6887\n",
      "Epoch 31/100\n",
      "303550/303550 [==============================] - 166s 548us/step - loss: 0.7411 - mean_absolute_error: 0.6637 - val_loss: 0.8022 - val_mean_absolute_error: 0.6849\n",
      "Epoch 32/100\n",
      "303550/303550 [==============================] - 193s 636us/step - loss: 0.7330 - mean_absolute_error: 0.6597 - val_loss: 0.8162 - val_mean_absolute_error: 0.6909\n",
      "Epoch 33/100\n",
      "303550/303550 [==============================] - 159s 525us/step - loss: 0.7348 - mean_absolute_error: 0.6601 - val_loss: 0.8159 - val_mean_absolute_error: 0.6932\n",
      "Epoch 34/100\n",
      "303550/303550 [==============================] - 162s 533us/step - loss: 0.7256 - mean_absolute_error: 0.6558 - val_loss: 0.8011 - val_mean_absolute_error: 0.6843\n",
      "Epoch 35/100\n",
      "303550/303550 [==============================] - 166s 545us/step - loss: 0.7182 - mean_absolute_error: 0.6527 - val_loss: 0.8207 - val_mean_absolute_error: 0.6840\n",
      "Epoch 36/100\n",
      "303550/303550 [==============================] - 178s 587us/step - loss: 0.7145 - mean_absolute_error: 0.6509 - val_loss: 0.7856 - val_mean_absolute_error: 0.6760\n",
      "Epoch 37/100\n",
      "267136/303550 [=========================>....] - ETA: 17s - loss: 0.7089 - mean_absolute_error: 0.6484"
     ]
    }
   ],
   "source": [
    "keras_m = train_eval_dds({'m': seq_model, 'desc': 'MLPNadamTan',\n",
    "            'b_args': {'activation': 'relu', 'optimizer': keras.optimizers.Nadam(),\n",
    "                       'layers_no': 6, 'dropout': False},\n",
    "            'f_args': {'batch_size': 64, 'epochs': 100, 'verbose': 1, 'validation_split': 0.1}}, \n",
    "                         targets=[(y_NT, 'NT')], ret_model=True)  # 3min/epoch on CPU"
   ]
  },
  {
   "cell_type": "code",
   "execution_count": null,
   "metadata": {
    "ExecuteTime": {
     "start_time": "2019-07-31T10:50:18.633Z"
    }
   },
   "outputs": [],
   "source": [
    "joblib.dump(keras_m, 'models/ftarrays_to_dds_NT_keras.pkl') "
   ]
  },
  {
   "cell_type": "code",
   "execution_count": null,
   "metadata": {},
   "outputs": [],
   "source": [
    "# 3 epochs\n",
    "\n",
    "#   nt     M: MLPNadamTan #  test MAE: 0.55 - tr MAE: 0.55 - T: 431.2s # 49.8|95.0|99.8\n",
    "#    s     M: MLPNadamTan #  test MAE: 0.55 - tr MAE: 0.54 - T: 466.5s # 50.2|95.0|99.7\n",
    "\n",
    "# 100 epochs\n",
    "#   nt     M: MLPNadamTan #  test MAE: 0.43 - tr MAE: 0.39 - T: 15855.7s # 59.4|98.1|99.9\n",
    "#    s     M: MLPNadamTan #  test MAE: 0.44 - tr MAE: 0.40 - T: 13424.1s # 57.8|97.9|99.9\n",
    "\n"
   ]
  },
  {
   "cell_type": "code",
   "execution_count": null,
   "metadata": {},
   "outputs": [],
   "source": []
  },
  {
   "cell_type": "code",
   "execution_count": null,
   "metadata": {},
   "outputs": [],
   "source": []
  },
  {
   "cell_type": "code",
   "execution_count": 161,
   "metadata": {
    "ExecuteTime": {
     "end_time": "2019-07-31T09:07:30.459979Z",
     "start_time": "2019-07-31T09:02:05.779634Z"
    }
   },
   "outputs": [
    {
     "name": "stdout",
     "output_type": "stream",
     "text": [
      "Train on 379438 samples, validate on 42160 samples\n",
      "Epoch 1/1\n",
      "379438/379438 [==============================] - 320s 844us/step - loss: 0.3623 - mean_absolute_error: 0.4748 - val_loss: 0.3662 - val_mean_absolute_error: 0.4780\n"
     ]
    },
    {
     "data": {
      "text/plain": [
       "<keras.callbacks.History at 0x1e1cc62390>"
      ]
     },
     "execution_count": 161,
     "metadata": {},
     "output_type": "execute_result"
    }
   ],
   "source": [
    "# how to run more epochs\n",
    "keras_s[0].fit(X, y_suit, validation_split=0.1, epochs=1)"
   ]
  },
  {
   "cell_type": "code",
   "execution_count": null,
   "metadata": {},
   "outputs": [],
   "source": []
  },
  {
   "cell_type": "code",
   "execution_count": null,
   "metadata": {
    "ExecuteTime": {
     "start_time": "2019-07-31T10:50:47.771Z"
    }
   },
   "outputs": [],
   "source": [
    "\n",
    "import matplotlib.pyplot as plt\n",
    "\n",
    "history = keras_m[0].history\n",
    "\n",
    "# Plot training & validation accuracy values\n",
    "plt.plot(history.history['val_mean_absolute_error'])\n",
    "plt.plot(history.history['mean_absolute_error'])\n",
    "plt.title('Model accuracy')\n",
    "plt.ylabel('MAE')\n",
    "plt.xlabel('Epoch')\n",
    "plt.legend(['validation', 'train'], loc='upper left')\n",
    "plt.show()\n"
   ]
  },
  {
   "cell_type": "code",
   "execution_count": null,
   "metadata": {},
   "outputs": [],
   "source": []
  }
 ],
 "metadata": {
  "kernelspec": {
   "display_name": "Python 3",
   "language": "python",
   "name": "python3"
  },
  "language_info": {
   "codemirror_mode": {
    "name": "ipython",
    "version": 3
   },
   "file_extension": ".py",
   "mimetype": "text/x-python",
   "name": "python",
   "nbconvert_exporter": "python",
   "pygments_lexer": "ipython3",
   "version": "3.7.3"
  },
  "toc": {
   "base_numbering": 1,
   "nav_menu": {},
   "number_sections": true,
   "sideBar": true,
   "skip_h1_title": false,
   "title_cell": "Table of Contents",
   "title_sidebar": "Contents",
   "toc_cell": false,
   "toc_position": {},
   "toc_section_display": true,
   "toc_window_display": false
  }
 },
 "nbformat": 4,
 "nbformat_minor": 2
}
