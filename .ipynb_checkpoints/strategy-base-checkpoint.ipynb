{
 "cells": [
  {
   "cell_type": "code",
   "execution_count": 54,
   "metadata": {
    "ExecuteTime": {
     "end_time": "2019-07-31T19:13:23.864999Z",
     "start_time": "2019-07-31T19:13:23.627328Z"
    }
   },
   "outputs": [],
   "source": [
    "import matplotlib.pyplot as plt\n",
    "import seaborn as sns\n",
    "# Configs\n",
    "%config InlineBackend.figure_format ='retina'\n",
    "%matplotlib inline\n",
    "\n",
    "from sklearn.experimental import enable_hist_gradient_boosting\n",
    "from sklearn import externals, base, neural_network, neighbors, feature_extraction, datasets, linear_model, metrics, model_selection, preprocessing, svm, ensemble, decomposition, feature_extraction, utils\n",
    "\n",
    "import keras\n",
    "import scipy\n",
    "import joblib"
   ]
  },
  {
   "cell_type": "code",
   "execution_count": 2,
   "metadata": {
    "ExecuteTime": {
     "end_time": "2019-07-31T17:22:45.542182Z",
     "start_time": "2019-07-31T17:22:38.512689Z"
    }
   },
   "outputs": [
    {
     "name": "stdout",
     "output_type": "stream",
     "text": [
      "WARNING:tensorflow:From /Applications/miniconda3/lib/python3.7/site-packages/tensorflow/python/framework/op_def_library.py:263: colocate_with (from tensorflow.python.framework.ops) is deprecated and will be removed in a future version.\n",
      "Instructions for updating:\n",
      "Colocations handled automatically by placer.\n",
      "WARNING:tensorflow:From /Applications/miniconda3/lib/python3.7/site-packages/tensorflow/python/ops/math_ops.py:3066: to_int32 (from tensorflow.python.ops.math_ops) is deprecated and will be removed in a future version.\n",
      "Instructions for updating:\n",
      "Use tf.cast instead.\n",
      "AJ983.K43.J95.87 Q6.A2.K7643.K965 KT5.JT9.QT8.AQ42 742.Q8765.A2.JT3\n",
      "Best c: ('3s', 'NS') scoring 140.0; with opps ('3s', 'NS')\n"
     ]
    }
   ],
   "source": [
    "# Load Bridge helper classes\n",
    "%run helpers/bridge.ipynb\n",
    "%run helpers/load-data.ipynb\n",
    "%run helpers/train-eval-utils.ipynb\n",
    "\n",
    "# prints a sample call to Deal()"
   ]
  },
  {
   "cell_type": "code",
   "execution_count": 28,
   "metadata": {
    "ExecuteTime": {
     "end_time": "2019-07-31T18:26:11.758410Z",
     "start_time": "2019-07-31T17:30:07.698339Z"
    }
   },
   "outputs": [],
   "source": [
    "data = load_deals()"
   ]
  },
  {
   "cell_type": "markdown",
   "metadata": {},
   "source": [
    "# Helpers"
   ]
  },
  {
   "cell_type": "code",
   "execution_count": 10,
   "metadata": {
    "ExecuteTime": {
     "end_time": "2019-07-31T17:24:01.001984Z",
     "start_time": "2019-07-31T17:24:00.993368Z"
    }
   },
   "outputs": [],
   "source": [
    "def gen_sequence(deal, s1, s2=System(pass_function), s3=None, s4=None):\n",
    "    seq = Bidding()\n",
    "    if s3 is None:\n",
    "        s3 = s1\n",
    "    if s4 is None:\n",
    "        s4 = s2\n",
    "    sgs = [s1, s2, s3, s4]\n",
    "    while not seq.done:\n",
    "        cur_pl = len(seq) % 4\n",
    "        seq = sgs[cur_pl].step(deal.hands[cur_pl], seq)\n",
    "    return seq"
   ]
  },
  {
   "cell_type": "markdown",
   "metadata": {},
   "source": [
    "# Examples"
   ]
  },
  {
   "cell_type": "markdown",
   "metadata": {
    "ExecuteTime": {
     "end_time": "2019-07-27T20:09:10.467522Z",
     "start_time": "2019-07-27T20:09:10.464597Z"
    }
   },
   "source": [
    "## Full knowledge ~ Theoretical limit"
   ]
  },
  {
   "cell_type": "code",
   "execution_count": 29,
   "metadata": {
    "ExecuteTime": {
     "end_time": "2019-07-31T18:47:38.885437Z",
     "start_time": "2019-07-31T18:26:11.811672Z"
    }
   },
   "outputs": [],
   "source": [
    "no_samples = 5 # 2 min per sample\n",
    "\n",
    "X = np.array([np.concatenate((d.N.feature_array(), d.S.feature_array())) for d in data] * no_samples) #only N hand\n",
    "\n",
    "# Sample one of the optimal contracts according to IMP losses from DDS\n",
    "y = []\n",
    "for _ in range(no_samples):\n",
    "    y += [contract_to_index[d.sample_contract()]\n",
    "     for d in data]"
   ]
  },
  {
   "cell_type": "code",
   "execution_count": 162,
   "metadata": {
    "ExecuteTime": {
     "end_time": "2019-07-31T20:06:25.513941Z",
     "start_time": "2019-07-31T20:05:07.872981Z"
    }
   },
   "outputs": [],
   "source": [
    "y_w = np.array([scipy.special.softmax(np.array(d.ev_list()))\n",
    "     for d in data[:200000]])\n"
   ]
  },
  {
   "cell_type": "code",
   "execution_count": 146,
   "metadata": {
    "ExecuteTime": {
     "end_time": "2019-07-31T19:59:58.349575Z",
     "start_time": "2019-07-31T19:59:58.345027Z"
    }
   },
   "outputs": [],
   "source": [
    "from keras import backend as K\n",
    "# computes   y_pred (dot) y_w\n",
    "#  that is, penalizes prediction p_j with \n",
    "def dot_loss(y_true, y_pred):\n",
    "    return (-1) * K.mean(K.dot(y_pred , K.transpose(y_true)), axis=-1)\n"
   ]
  },
  {
   "cell_type": "code",
   "execution_count": null,
   "metadata": {
    "ExecuteTime": {
     "end_time": "2019-07-31T19:27:07.314117Z",
     "start_time": "2019-07-31T19:26:52.978421Z"
    }
   },
   "outputs": [],
   "source": []
  },
  {
   "cell_type": "code",
   "execution_count": 156,
   "metadata": {
    "ExecuteTime": {
     "end_time": "2019-07-31T20:02:31.096199Z",
     "start_time": "2019-07-31T20:02:30.270465Z"
    }
   },
   "outputs": [],
   "source": [
    "model = Sequential()\n",
    "model.add(Dense(256, activation='relu', input_dim=80))\n",
    "model.add(Dense(256, activation='relu'))\n",
    "model.add(Dense(256, activation='relu'))\n",
    "model.add(Dense(256, activation='relu'))\n",
    "model.add(Dense(256, activation='relu'))\n",
    "\n",
    "model.add(Dense(36, activation='softmax'))\n",
    "model.compile(optimizer='sgd',\n",
    "              loss='categorical_crossentropy',\n",
    "              metrics=['accuracy'])\n",
    "              \n",
    "\n",
    "# Convert labels to categorical one-hot encoding\n",
    "one_hot_labels = keras.utils.to_categorical(y, num_classes=36)\n"
   ]
  },
  {
   "cell_type": "code",
   "execution_count": 163,
   "metadata": {
    "ExecuteTime": {
     "end_time": "2019-07-31T20:11:35.868030Z",
     "start_time": "2019-07-31T20:06:25.521840Z"
    }
   },
   "outputs": [
    {
     "name": "stdout",
     "output_type": "stream",
     "text": [
      "Train on 180000 samples, validate on 20000 samples\n",
      "Epoch 1/5\n",
      "180000/180000 [==============================] - 70s 390us/step - loss: 1.7877 - acc: 0.5579 - val_loss: 1.7393 - val_acc: 0.6066\n",
      "Epoch 2/5\n",
      "180000/180000 [==============================] - 60s 333us/step - loss: 1.7168 - acc: 0.5735 - val_loss: 1.7458 - val_acc: 0.5822\n",
      "Epoch 3/5\n",
      "180000/180000 [==============================] - 60s 331us/step - loss: 1.6923 - acc: 0.5808 - val_loss: 1.6774 - val_acc: 0.5997\n",
      "Epoch 4/5\n",
      "180000/180000 [==============================] - 60s 333us/step - loss: 1.6756 - acc: 0.5887 - val_loss: 1.6953 - val_acc: 0.5959\n",
      "Epoch 5/5\n",
      "180000/180000 [==============================] - 61s 337us/step - loss: 1.6643 - acc: 0.5908 - val_loss: 1.6959 - val_acc: 0.5612\n"
     ]
    },
    {
     "data": {
      "text/plain": [
       "<keras.callbacks.History at 0x1a4f6525f8>"
      ]
     },
     "execution_count": 163,
     "metadata": {},
     "output_type": "execute_result"
    }
   ],
   "source": [
    "# 1 epoch = 30 min\n",
    "#model.fit(X[:200000], one_hot_labels[:200000], epochs=1, batch_size=32, validation_split=0.1)\n",
    "\n",
    "model.fit(X[:200000], y_w[:200000], epochs=5, batch_size=32, validation_split=0.1)"
   ]
  },
  {
   "cell_type": "code",
   "execution_count": 165,
   "metadata": {
    "ExecuteTime": {
     "end_time": "2019-07-31T20:20:39.231744Z",
     "start_time": "2019-07-31T20:20:33.465030Z"
    }
   },
   "outputs": [
    {
     "data": {
      "text/plain": [
       "['models/ftarrayNS_to_p.pkl']"
      ]
     },
     "execution_count": 165,
     "metadata": {},
     "output_type": "execute_result"
    }
   ],
   "source": [
    "joblib.dump(model, 'models/ftarrayNS_to_p.pkl') "
   ]
  },
  {
   "cell_type": "code",
   "execution_count": 164,
   "metadata": {
    "ExecuteTime": {
     "end_time": "2019-07-31T20:11:44.039524Z",
     "start_time": "2019-07-31T20:11:40.675509Z"
    }
   },
   "outputs": [
    {
     "name": "stdout",
     "output_type": "stream",
     "text": [
      "-2.0283\n"
     ]
    }
   ],
   "source": [
    "out = np.argmax(model.predict(X[200000:220000]), axis=1)\n",
    "rt = 0\n",
    "for idx, d in enumerate(data[200000:220000]):\n",
    "    rt += d.ev(valid_bids[out[idx]])\n",
    "print (rt/20000)"
   ]
  },
  {
   "cell_type": "code",
   "execution_count": null,
   "metadata": {},
   "outputs": [],
   "source": [
    "# best: -1.90 with y randomly taken with sample_contract()\n",
    "\n",
    "# -2.89 with y_w softmax(ev_list()) e cross_entropy. 1/200 of the data, 5 epochs\n",
    "# -2.02 with 1/10"
   ]
  },
  {
   "cell_type": "markdown",
   "metadata": {},
   "source": [
    "## One hand places the contract"
   ]
  },
  {
   "cell_type": "markdown",
   "metadata": {},
   "source": [
    "### Basic things"
   ]
  },
  {
   "cell_type": "code",
   "execution_count": 5,
   "metadata": {
    "ExecuteTime": {
     "end_time": "2019-07-31T17:23:56.155690Z",
     "start_time": "2019-07-31T17:23:56.151990Z"
    }
   },
   "outputs": [],
   "source": [
    "def const_function(contr):\n",
    "    def fn(hand, bidding):\n",
    "        return contr\n",
    "    return fn"
   ]
  },
  {
   "cell_type": "code",
   "execution_count": 6,
   "metadata": {
    "ExecuteTime": {
     "end_time": "2019-07-31T17:23:56.327909Z",
     "start_time": "2019-07-31T17:23:56.324307Z"
    }
   },
   "outputs": [],
   "source": [
    "def pass_function(hand, bidding):\n",
    "    return 'PASS'"
   ]
  },
  {
   "cell_type": "code",
   "execution_count": 7,
   "metadata": {
    "ExecuteTime": {
     "end_time": "2019-07-31T17:23:56.490268Z",
     "start_time": "2019-07-31T17:23:56.483806Z"
    }
   },
   "outputs": [],
   "source": [
    "def hcp_function(start=14.2, step=3.9):\n",
    "    def fn(hand, bidding):\n",
    "        ft = hand.features\n",
    "        if ft['hcp'] >= start:\n",
    "            lev = min(7, (ft['hcp'] - start) / step + 1)\n",
    "            return str(int(lev)) + 'NT'\n",
    "        return 'PASS'\n",
    "    return fn"
   ]
  },
  {
   "cell_type": "code",
   "execution_count": 8,
   "metadata": {
    "ExecuteTime": {
     "end_time": "2019-07-31T17:23:56.648305Z",
     "start_time": "2019-07-31T17:23:56.631242Z"
    }
   },
   "outputs": [],
   "source": [
    "def suit_function(start=12.8, step=2.6):\n",
    "    def fn(hand, bidding):\n",
    "        ft = hand.features\n",
    "        if ft['hcp'] >= start:\n",
    "            lev = min(7, (ft['hcp'] - start) / step + 1)\n",
    "            strain = 'NT'\n",
    "            bst_len = 4\n",
    "            for s in suits:\n",
    "                if ft[s + '_len'] >= bst_len:\n",
    "                    strain = s\n",
    "                    bst_len = ft[s + '_len']\n",
    "            return str(int(lev)) + strain\n",
    "            #return const_function(str(int(lev)) + strain)(hand, bidding)\n",
    "        return 'PASS'\n",
    "    return fn"
   ]
  },
  {
   "cell_type": "code",
   "execution_count": 185,
   "metadata": {
    "ExecuteTime": {
     "end_time": "2019-07-31T20:36:44.708510Z",
     "start_time": "2019-07-31T20:36:44.698055Z"
    }
   },
   "outputs": [],
   "source": [
    "def system_from_model(model):\n",
    "    def fn(hand, bidding):\n",
    "        bid = model.predict(hand.feature_array().reshape(1, -1))[0]\n",
    "        # If it returns an array of probabilities, return the max\n",
    "        if bid.shape != (1,):\n",
    "            bid = np.argmax(bid, axis=1)\n",
    "            print(bid)\n",
    "        else:\n",
    "            bid = bid[0]\n",
    "        return bid\n",
    "    return fn"
   ]
  },
  {
   "cell_type": "markdown",
   "metadata": {},
   "source": [
    "### Theoretical limit"
   ]
  },
  {
   "cell_type": "code",
   "execution_count": null,
   "metadata": {},
   "outputs": [],
   "source": [
    "# Try to make a NN learn the best contract with_opps"
   ]
  },
  {
   "cell_type": "code",
   "execution_count": 840,
   "metadata": {
    "ExecuteTime": {
     "end_time": "2019-07-29T16:35:34.819975Z",
     "start_time": "2019-07-29T16:35:34.757967Z"
    }
   },
   "outputs": [],
   "source": [
    "# This model overfits terribly"
   ]
  },
  {
   "cell_type": "code",
   "execution_count": 174,
   "metadata": {
    "ExecuteTime": {
     "end_time": "2019-07-31T20:29:39.798407Z",
     "start_time": "2019-07-31T20:29:39.208967Z"
    }
   },
   "outputs": [],
   "source": [
    "model = Sequential()\n",
    "model.add(Dense(256, activation='relu', input_dim=40))\n",
    "model.add(Dense(256, activation='relu'))\n",
    "model.add(Dense(256, activation='relu'))\n",
    "model.add(Dense(256, activation='relu'))\n",
    "model.add(Dense(256, activation='relu'))\n",
    "\n",
    "model.add(Dense(36, activation='softmax'))\n",
    "model.compile(optimizer='sgd',\n",
    "              loss='categorical_crossentropy',\n",
    "              metrics=['accuracy'])\n",
    "              \n",
    "\n",
    "# Convert labels to categorical one-hot encoding\n",
    "one_hot_labels = keras.utils.to_categorical(y, num_classes=36)\n"
   ]
  },
  {
   "cell_type": "code",
   "execution_count": 175,
   "metadata": {
    "ExecuteTime": {
     "end_time": "2019-07-31T20:34:29.671974Z",
     "start_time": "2019-07-31T20:29:39.849229Z"
    }
   },
   "outputs": [
    {
     "name": "stdout",
     "output_type": "stream",
     "text": [
      "Train on 180000 samples, validate on 20000 samples\n",
      "Epoch 1/5\n",
      "180000/180000 [==============================] - 62s 342us/step - loss: 2.8316 - acc: 0.2163 - val_loss: 2.8149 - val_acc: 0.2147\n",
      "Epoch 2/5\n",
      "180000/180000 [==============================] - 56s 314us/step - loss: 2.7930 - acc: 0.2200 - val_loss: 2.8024 - val_acc: 0.2146\n",
      "Epoch 3/5\n",
      "180000/180000 [==============================] - 57s 317us/step - loss: 2.7861 - acc: 0.2210 - val_loss: 2.7969 - val_acc: 0.2162\n",
      "Epoch 4/5\n",
      "180000/180000 [==============================] - 57s 317us/step - loss: 2.7826 - acc: 0.2210 - val_loss: 2.7966 - val_acc: 0.2165\n",
      "Epoch 5/5\n",
      "180000/180000 [==============================] - 57s 319us/step - loss: 2.7797 - acc: 0.2217 - val_loss: 2.8057 - val_acc: 0.2126\n"
     ]
    },
    {
     "data": {
      "text/plain": [
       "<keras.callbacks.History at 0x1a4e8cd2e8>"
      ]
     },
     "execution_count": 175,
     "metadata": {},
     "output_type": "execute_result"
    }
   ],
   "source": [
    "model.fit(X[:200000, :40], one_hot_labels[:200000], epochs=5, batch_size=32, validation_split=0.1)"
   ]
  },
  {
   "cell_type": "code",
   "execution_count": 184,
   "metadata": {
    "ExecuteTime": {
     "end_time": "2019-07-31T20:36:23.098909Z",
     "start_time": "2019-07-31T20:36:23.093527Z"
    }
   },
   "outputs": [
    {
     "data": {
      "text/plain": [
       "-14"
      ]
     },
     "execution_count": 184,
     "metadata": {},
     "output_type": "execute_result"
    }
   ],
   "source": [
    "data[1].ev(valid_bids[18])"
   ]
  },
  {
   "cell_type": "code",
   "execution_count": 183,
   "metadata": {
    "ExecuteTime": {
     "end_time": "2019-07-31T20:36:18.629136Z",
     "start_time": "2019-07-31T20:36:18.621099Z"
    }
   },
   "outputs": [
    {
     "data": {
      "text/plain": [
       "18"
      ]
     },
     "execution_count": 183,
     "metadata": {},
     "output_type": "execute_result"
    }
   ],
   "source": [
    "np.argmax(model.predict(X[1:2, :40]))"
   ]
  },
  {
   "cell_type": "code",
   "execution_count": 176,
   "metadata": {
    "ExecuteTime": {
     "end_time": "2019-07-31T20:34:31.640280Z",
     "start_time": "2019-07-31T20:34:29.675524Z"
    }
   },
   "outputs": [
    {
     "data": {
      "text/plain": [
       "-4.4925"
      ]
     },
     "execution_count": 176,
     "metadata": {},
     "output_type": "execute_result"
    }
   ],
   "source": [
    "System(system_from_model(m)).evaluate(data[200000:200020])"
   ]
  },
  {
   "cell_type": "code",
   "execution_count": 172,
   "metadata": {
    "ExecuteTime": {
     "end_time": "2019-07-31T20:27:56.391695Z",
     "start_time": "2019-07-31T20:27:54.220180Z"
    }
   },
   "outputs": [
    {
     "data": {
      "text/plain": [
       "-4.4925"
      ]
     },
     "execution_count": 172,
     "metadata": {},
     "output_type": "execute_result"
    }
   ],
   "source": [
    "# Care: it's in sample\n",
    "System(system_from_model(m)).evaluate(data[200000:202000])"
   ]
  },
  {
   "cell_type": "markdown",
   "metadata": {
    "heading_collapsed": true
   },
   "source": [
    "## One hand describes, other places"
   ]
  },
  {
   "cell_type": "code",
   "execution_count": 11,
   "metadata": {
    "ExecuteTime": {
     "end_time": "2019-07-31T17:24:07.034314Z",
     "start_time": "2019-07-31T17:24:07.017176Z"
    },
    "code_folding": [
     11,
     27
    ],
    "hidden": true
   },
   "outputs": [],
   "source": [
    "def basic_function(hand, bidding):\n",
    "    bids_made = len(bidding)\n",
    "    # IMPORTANTE: omettere il .copy() fa si che modifichi direttamente data\n",
    "    #     ->>> sputtani tutti i tuoi dati e ottieni errori introvabili\n",
    "    ft = hand.features.copy()\n",
    "    \n",
    "    min_opening_str = 10\n",
    "    hcp_step = 4\n",
    "    card_fit_suit = 8\n",
    "    \n",
    "    # if other hand has not described\n",
    "    if bids_made <= 1:\n",
    "        if ft['hcp'] < min_opening_str:\n",
    "            return 'PASS'\n",
    "        else:\n",
    "            # [10, 13] [14, 17] ...\n",
    "            lev = min(7, (ft['hcp'] - min_opening_str) / hcp_step + 1)\n",
    "            # Bids a 5 card suit if it has it, else NT\n",
    "            strain = 'NT'\n",
    "            bst_len = 5\n",
    "            for s in suits:\n",
    "                if ft[s + '_len'] >= bst_len:\n",
    "                    strain = s\n",
    "                    bst_len = ft[s + '_len']\n",
    "            return str(int(lev)) + strain\n",
    "        \n",
    "    # if other hand has described\n",
    "    if 1 < bids_made <= 3:\n",
    "        p_bid = bidding.partner_bids()[0]\n",
    "        # Estimates hcp\n",
    "        if p_bid == 'PASS':\n",
    "            ft['hcp'] += min_opening_str - 3\n",
    "        else:\n",
    "            ft['hcp'] += min_opening_str - 3 + hcp_step * int(p_bid[0])\n",
    "        # Estimates distribution as 3333 or 5222\n",
    "        if p_bid == 'PASS' or p_bid[1:] == 'NT':\n",
    "            for s in suits:\n",
    "                ft[s + '_len'] += 3\n",
    "        else:\n",
    "            for s in suits:\n",
    "                if s == p_bid[1:]:\n",
    "                    ft[s + '_len'] += 5\n",
    "                else:\n",
    "                    ft[s + '_len'] += 2\n",
    "        # Guesses best contract\n",
    "        # strain = s if >= 8 card fit, else NT\n",
    "        strain = 'NT'\n",
    "        bst_len = card_fit_suit\n",
    "        for s in suits:\n",
    "            if ft[s + '_len'] >= bst_len:\n",
    "                strain = s\n",
    "                bst_len = ft[s + '_len']\n",
    "                \n",
    "        # level for NT 19, 22, 25, 28, 31, 34, 37\n",
    "        if strain == 'NT':\n",
    "            level = (ft['hcp'] - 16) // 3\n",
    "        # level for suit depends on length\n",
    "        else:\n",
    "            # hcp + 2*length >= 25 + 16 for game\n",
    "            level = (ft['hcp'] + 2 * ft[strain + '_len'] - 29) // 3\n",
    "        level = min(7, level)\n",
    "        \n",
    "        # Principle of suit correction:\n",
    "        #  if p made a bid in a NT strain we might wish to raise the level\n",
    "        #  to change that to a suit\n",
    "        if p_bid == '1NT' or p_bid == '2NT':\n",
    "            if strain != 'NT' and level <= int(p_bid[0]):\n",
    "                level = int(p_bid[0]) + 1\n",
    "            \n",
    "        # for minor suits, correct 4m and 5m to 3NT\n",
    "        if strain in ['c', 'd'] and 4 <= level <= 5:\n",
    "            level = 3; strain = 'NT'\n",
    "        # correct non-slams above game\n",
    "        if strain in ['h', 's'] and level == 5:\n",
    "            level = 4\n",
    "        if strain == 'NT' and 4 <= level <= 5:\n",
    "            level = 3\n",
    "\n",
    "\n",
    "        if level <= 0:\n",
    "            return 'PASS'\n",
    "        else:\n",
    "            return str(level) + strain\n",
    "    \n",
    "    # if other hand has placed the contract\n",
    "    if bids_made >= 4:\n",
    "        return 'PASS'"
   ]
  },
  {
   "cell_type": "code",
   "execution_count": null,
   "metadata": {
    "hidden": true
   },
   "outputs": [],
   "source": []
  },
  {
   "cell_type": "markdown",
   "metadata": {},
   "source": [
    "# Evaluations"
   ]
  },
  {
   "cell_type": "code",
   "execution_count": null,
   "metadata": {},
   "outputs": [],
   "source": [
    "# Valori in IMPs"
   ]
  },
  {
   "cell_type": "code",
   "execution_count": 12,
   "metadata": {
    "ExecuteTime": {
     "end_time": "2019-07-31T17:24:09.561702Z",
     "start_time": "2019-07-31T17:24:09.375358Z"
    }
   },
   "outputs": [
    {
     "data": {
      "text/plain": [
       "-4.3624"
      ]
     },
     "execution_count": 12,
     "metadata": {},
     "output_type": "execute_result"
    }
   ],
   "source": [
    "System(pass_function).evaluate(data)"
   ]
  },
  {
   "cell_type": "code",
   "execution_count": 13,
   "metadata": {
    "ExecuteTime": {
     "end_time": "2019-07-31T17:24:10.999569Z",
     "start_time": "2019-07-31T17:24:10.786161Z"
    }
   },
   "outputs": [
    {
     "data": {
      "text/plain": [
       "-4.0814"
      ]
     },
     "execution_count": 13,
     "metadata": {},
     "output_type": "execute_result"
    }
   ],
   "source": [
    "System(hcp_function()).evaluate(data)"
   ]
  },
  {
   "cell_type": "code",
   "execution_count": 14,
   "metadata": {
    "ExecuteTime": {
     "end_time": "2019-07-31T17:24:13.176769Z",
     "start_time": "2019-07-31T17:24:12.918953Z"
    }
   },
   "outputs": [
    {
     "data": {
      "text/plain": [
       "-4.0244"
      ]
     },
     "execution_count": 14,
     "metadata": {},
     "output_type": "execute_result"
    }
   ],
   "source": [
    "System(suit_function()).evaluate(data)"
   ]
  },
  {
   "cell_type": "code",
   "execution_count": 16,
   "metadata": {
    "ExecuteTime": {
     "end_time": "2019-07-31T17:24:21.980346Z",
     "start_time": "2019-07-31T17:24:19.981688Z"
    }
   },
   "outputs": [
    {
     "data": {
      "text/plain": [
       "-4.019"
      ]
     },
     "execution_count": 16,
     "metadata": {},
     "output_type": "execute_result"
    }
   ],
   "source": [
    "# NN that takes North hand and estimates a contract (IN SAMPLE)\n",
    "model_load = joblib.load('models/ftarrayN_to_bestc.pkl') \n",
    "System(system_from_model(model_load)).evaluate(data[:1000])"
   ]
  },
  {
   "cell_type": "code",
   "execution_count": null,
   "metadata": {},
   "outputs": [],
   "source": []
  },
  {
   "cell_type": "code",
   "execution_count": 17,
   "metadata": {
    "ExecuteTime": {
     "end_time": "2019-07-31T17:24:27.403284Z",
     "start_time": "2019-07-31T17:24:26.944033Z"
    }
   },
   "outputs": [
    {
     "data": {
      "text/plain": [
       "-3.2598"
      ]
     },
     "execution_count": 17,
     "metadata": {},
     "output_type": "execute_result"
    }
   ],
   "source": [
    "System(basic_function).evaluate(data)"
   ]
  },
  {
   "cell_type": "code",
   "execution_count": null,
   "metadata": {},
   "outputs": [],
   "source": []
  },
  {
   "cell_type": "code",
   "execution_count": null,
   "metadata": {},
   "outputs": [],
   "source": []
  },
  {
   "cell_type": "code",
   "execution_count": null,
   "metadata": {},
   "outputs": [],
   "source": []
  },
  {
   "cell_type": "code",
   "execution_count": 18,
   "metadata": {
    "ExecuteTime": {
     "end_time": "2019-07-31T17:24:34.064483Z",
     "start_time": "2019-07-31T17:24:33.132289Z"
    }
   },
   "outputs": [
    {
     "data": {
      "text/plain": [
       "0.8675"
      ]
     },
     "execution_count": 18,
     "metadata": {},
     "output_type": "execute_result"
    }
   ],
   "source": [
    "System(basic_function).compare(data, System(suit_function()))"
   ]
  },
  {
   "cell_type": "code",
   "execution_count": null,
   "metadata": {},
   "outputs": [],
   "source": []
  }
 ],
 "metadata": {
  "kernelspec": {
   "display_name": "Python 3",
   "language": "python",
   "name": "python3"
  },
  "language_info": {
   "codemirror_mode": {
    "name": "ipython",
    "version": 3
   },
   "file_extension": ".py",
   "mimetype": "text/x-python",
   "name": "python",
   "nbconvert_exporter": "python",
   "pygments_lexer": "ipython3",
   "version": "3.7.3"
  },
  "toc": {
   "base_numbering": 1,
   "nav_menu": {},
   "number_sections": true,
   "sideBar": true,
   "skip_h1_title": false,
   "title_cell": "Table of Contents",
   "title_sidebar": "Contents",
   "toc_cell": false,
   "toc_position": {},
   "toc_section_display": true,
   "toc_window_display": false
  }
 },
 "nbformat": 4,
 "nbformat_minor": 2
}
