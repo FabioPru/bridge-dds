{
 "cells": [
  {
   "cell_type": "code",
   "execution_count": 133,
   "metadata": {
    "ExecuteTime": {
     "end_time": "2019-07-26T15:28:10.094018Z",
     "start_time": "2019-07-26T15:28:09.943069Z"
    }
   },
   "outputs": [
    {
     "name": "stdout",
     "output_type": "stream",
     "text": [
      "('4c', 'N')\n"
     ]
    }
   ],
   "source": [
    "# Load Bridge helper classes\n",
    "%run helpers/bridge.ipynb\n",
    "%run helpers/load-data.ipynb\n",
    "%run helpers/train-eval-utils.ipynb"
   ]
  },
  {
   "cell_type": "code",
   "execution_count": 182,
   "metadata": {
    "ExecuteTime": {
     "end_time": "2019-07-26T15:42:26.875836Z",
     "start_time": "2019-07-26T15:41:55.460338Z"
    }
   },
   "outputs": [],
   "source": [
    "# Loads all the data, takes about 30s\n",
    "data = load_deals()"
   ]
  },
  {
   "cell_type": "markdown",
   "metadata": {},
   "source": [
    "# Helpers"
   ]
  },
  {
   "cell_type": "code",
   "execution_count": 216,
   "metadata": {
    "ExecuteTime": {
     "end_time": "2019-07-26T17:42:07.137000Z",
     "start_time": "2019-07-26T17:42:07.131067Z"
    }
   },
   "outputs": [],
   "source": [
    "class Strategy(object):\n",
    "    \n",
    "    def __init__(self, function):\n",
    "        # Takes as an input a function from (Hand, Bidding) -> bid\n",
    "        self.fn = function\n",
    "        \n",
    "    def step(self, hand, bidding):\n",
    "        # In case the bid is invalid, automatically substitute for PASS (idk)\n",
    "        bid = self.fn(hand, bidding)\n",
    "        if isinstance(bid, str):\n",
    "            bid = valid_bids.index(bid)\n",
    "        if 0 < bid <= len(contracts) and bid < bidding.last_bid():\n",
    "            return bidding.add(self.fn(hand, bidding))\n",
    "        return bidding.add(0)"
   ]
  },
  {
   "cell_type": "code",
   "execution_count": 121,
   "metadata": {
    "ExecuteTime": {
     "end_time": "2019-07-26T15:23:10.606718Z",
     "start_time": "2019-07-26T15:23:10.600907Z"
    }
   },
   "outputs": [],
   "source": [
    "def gen_sequence(deal, s1, s2=Strategy(pass_function), s3=None, s4=None):\n",
    "    seq = Bidding()\n",
    "    if s3 is None:\n",
    "        s3 = s1\n",
    "    if s4 is None:\n",
    "        s4 = s2\n",
    "    sgs = [s1, s2, s3, s4]\n",
    "    while not seq.done:\n",
    "        cur_pl = len(seq) % 4\n",
    "        seq = sgs[cur_pl].step(deal.hands[cur_pl], seq)\n",
    "    return seq"
   ]
  },
  {
   "cell_type": "code",
   "execution_count": null,
   "metadata": {},
   "outputs": [],
   "source": [
    "def eval_strategy(list_of_deals, strategy, enemy_s=Strategy(pass_function), strategyS=None):\n",
    "    if not isinstance(list_of_deals, list):\n",
    "        list_of_deals = [list_of_deals]\n",
    "    rt = 0\n",
    "    for d in list_of_deals:\n",
    "        seq = gen_sequence(d, strategy, enemy_s, strategyS)\n",
    "        res, side = seq.result()\n",
    "        rt += d.ev(res, side)\n",
    "    return rt / len(list_of_deals)"
   ]
  },
  {
   "cell_type": "markdown",
   "metadata": {},
   "source": [
    "# Examples"
   ]
  },
  {
   "cell_type": "code",
   "execution_count": null,
   "metadata": {},
   "outputs": [],
   "source": [
    "# Full knowledge"
   ]
  },
  {
   "cell_type": "markdown",
   "metadata": {},
   "source": [
    "## One hand places the contract"
   ]
  },
  {
   "cell_type": "code",
   "execution_count": 219,
   "metadata": {
    "ExecuteTime": {
     "end_time": "2019-07-26T17:42:43.936056Z",
     "start_time": "2019-07-26T17:42:43.932039Z"
    }
   },
   "outputs": [],
   "source": [
    "def const_function(contr):\n",
    "    def fn(hand, bidding):\n",
    "        return contr\n",
    "    return fn"
   ]
  },
  {
   "cell_type": "code",
   "execution_count": null,
   "metadata": {},
   "outputs": [],
   "source": [
    "def pass_function(hand, bidding):\n",
    "    return const_function('PASS')"
   ]
  },
  {
   "cell_type": "code",
   "execution_count": 168,
   "metadata": {
    "ExecuteTime": {
     "end_time": "2019-07-26T15:36:20.943793Z",
     "start_time": "2019-07-26T15:36:20.938548Z"
    }
   },
   "outputs": [],
   "source": [
    "def hcp_function(start=15, step=3):\n",
    "    def fn(hand, bidding):\n",
    "        ft = hand.features()\n",
    "        if ft['hcp'] >= start:\n",
    "            lev = min(7, (ft['hcp'] - start) / step + 1)\n",
    "            return const_function(str(int(lev)) + 'NT')(hand, bidding)\n",
    "        return 'PASS'\n",
    "    return fn"
   ]
  },
  {
   "cell_type": "code",
   "execution_count": 210,
   "metadata": {
    "ExecuteTime": {
     "end_time": "2019-07-26T16:04:07.394013Z",
     "start_time": "2019-07-26T16:04:07.387783Z"
    }
   },
   "outputs": [],
   "source": [
    "def suit_function(start=15, step=3):\n",
    "    def fn(hand, bidding):\n",
    "        ft = hand.features()\n",
    "        if ft['hcp'] >= start:\n",
    "            lev = min(7, (ft['hcp'] - start) / step + 1)\n",
    "            strain = 'NT'\n",
    "            bst_len = 4\n",
    "            for s in suits:\n",
    "                if ft[s + '_len'] >= bst_len:\n",
    "                    strain = s\n",
    "                    bst_len = ft[s + '_len']\n",
    "            return str(int(lev)) + strain\n",
    "            #return const_function(str(int(lev)) + strain)(hand, bidding)\n",
    "        return 'PASS'\n",
    "    return fn"
   ]
  },
  {
   "cell_type": "code",
   "execution_count": null,
   "metadata": {},
   "outputs": [],
   "source": []
  },
  {
   "cell_type": "code",
   "execution_count": 222,
   "metadata": {
    "ExecuteTime": {
     "end_time": "2019-07-26T17:46:10.740013Z",
     "start_time": "2019-07-26T17:46:04.111308Z"
    }
   },
   "outputs": [
    {
     "data": {
      "text/plain": [
       "-5.218558023635452"
      ]
     },
     "execution_count": 222,
     "metadata": {},
     "output_type": "execute_result"
    }
   ],
   "source": [
    "eval_strategy(data[:], Strategy(suit_function()))"
   ]
  },
  {
   "cell_type": "markdown",
   "metadata": {},
   "source": [
    "## One hand describes, other places"
   ]
  },
  {
   "cell_type": "code",
   "execution_count": null,
   "metadata": {},
   "outputs": [],
   "source": [
    "def base_function(hand, bidding):\n",
    "    # if other hand has not described\n",
    "    \n",
    "    # if other hand has described"
   ]
  },
  {
   "cell_type": "markdown",
   "metadata": {},
   "source": [
    "# TO RUN TONIGHT"
   ]
  },
  {
   "cell_type": "code",
   "execution_count": null,
   "metadata": {},
   "outputs": [],
   "source": [
    "# Running time: 1hr\n",
    "# Finds best values for bs, step for the hcp function\n",
    "bsf = -100\n",
    "for start in range(65, 90):\n",
    "    for step in range(25, 50):\n",
    "        if bsf < eval_strategy(data, Strategy(hcp_function(start / 5, step / 10))):\n",
    "            bs, bstep = start / 5, step / 10\n",
    "\n",
    "print (bs, bstep)"
   ]
  },
  {
   "cell_type": "code",
   "execution_count": null,
   "metadata": {},
   "outputs": [],
   "source": [
    "def suit_function(start=15, step=3):\n",
    "    def fn(hand, bidding):\n",
    "        if hand.features()['hcp'] >= start:\n",
    "            lev = min(7, (hand.features()['hcp'] - start) / step + 1)\n",
    "            strain = 'NT'\n",
    "            bst_len = 5\n",
    "            for s in suits:\n",
    "                if hand.features()[s + '_len'] >= bst_len:\n",
    "                    strain = s\n",
    "                    bst_len = hand.features()[s + '_len']\n",
    "            return const_function(str(int(lev)) + strain)(hand, bidding)\n",
    "        return 'PASS'\n",
    "    return fn"
   ]
  },
  {
   "cell_type": "code",
   "execution_count": null,
   "metadata": {},
   "outputs": [],
   "source": [
    "# Running time: 3hr\n",
    "# Finds best values for bs, step for the SUIT fn with 5\n",
    "bsf = -100\n",
    "for start in range(30, 90):\n",
    "    for step in range(15, ):\n",
    "        if bsf < eval_strategy(data, Strategy(suit_function(start / 5, step / 10))):\n",
    "            bs, bstep = start / 5, step / 10\n",
    "\n",
    "print (bs, bstep)"
   ]
  },
  {
   "cell_type": "code",
   "execution_count": null,
   "metadata": {},
   "outputs": [],
   "source": [
    "def suit_function(start=15, step=3):\n",
    "    def fn(hand, bidding):\n",
    "        if hand.features()['hcp'] >= start:\n",
    "            lev = min(7, (hand.features()['hcp'] - start) / step + 1)\n",
    "            strain = 'NT'\n",
    "            bst_len = 5\n",
    "            for s in suits:\n",
    "                if hand.features()[s + '_len'] >= bst_len:\n",
    "                    strain = s\n",
    "                    bst_len = hand.features()[s + '_len']\n",
    "            return const_function(str(int(lev)) + strain)(hand, bidding)\n",
    "        return 'PASS'\n",
    "    return fn"
   ]
  },
  {
   "cell_type": "code",
   "execution_count": null,
   "metadata": {},
   "outputs": [],
   "source": [
    "# Running time: 3hr\n",
    "# Finds best values for bs, step for the SUIT fn with 4\n",
    "bsf = -100\n",
    "for start in range(30, 90):\n",
    "    for step in range(15, 50):\n",
    "        if bsf < eval_strategy(data, Strategy(suit_function(start / 5, step / 10))):\n",
    "            bs, bstep = start / 5, step / 10\n",
    "\n",
    "print (bs, bstep)"
   ]
  },
  {
   "cell_type": "code",
   "execution_count": null,
   "metadata": {},
   "outputs": [],
   "source": []
  },
  {
   "cell_type": "code",
   "execution_count": null,
   "metadata": {},
   "outputs": [],
   "source": []
  },
  {
   "cell_type": "code",
   "execution_count": 195,
   "metadata": {
    "ExecuteTime": {
     "end_time": "2019-07-26T15:54:08.696890Z",
     "start_time": "2019-07-26T15:54:08.515445Z"
    }
   },
   "outputs": [
    {
     "data": {
      "text/plain": [
       "-5.1732"
      ]
     },
     "execution_count": 195,
     "metadata": {},
     "output_type": "execute_result"
    }
   ],
   "source": [
    "eval_strategy(data[:10000], Strategy(pass_function))"
   ]
  },
  {
   "cell_type": "code",
   "execution_count": 196,
   "metadata": {
    "ExecuteTime": {
     "end_time": "2019-07-26T15:54:11.374149Z",
     "start_time": "2019-07-26T15:54:10.710978Z"
    }
   },
   "outputs": [
    {
     "data": {
      "text/plain": [
       "-4.9903"
      ]
     },
     "execution_count": 196,
     "metadata": {},
     "output_type": "execute_result"
    }
   ],
   "source": [
    "eval_strategy(data[:10000], Strategy(hcp_function()))"
   ]
  },
  {
   "cell_type": "code",
   "execution_count": 197,
   "metadata": {
    "ExecuteTime": {
     "end_time": "2019-07-26T15:54:13.874120Z",
     "start_time": "2019-07-26T15:54:13.032263Z"
    }
   },
   "outputs": [
    {
     "data": {
      "text/plain": [
       "-4.7446"
      ]
     },
     "execution_count": 197,
     "metadata": {},
     "output_type": "execute_result"
    }
   ],
   "source": [
    "eval_strategy(data[:10000], Strategy(suit_function()))"
   ]
  },
  {
   "cell_type": "code",
   "execution_count": null,
   "metadata": {},
   "outputs": [],
   "source": []
  }
 ],
 "metadata": {
  "kernelspec": {
   "display_name": "Python 3",
   "language": "python",
   "name": "python3"
  },
  "language_info": {
   "codemirror_mode": {
    "name": "ipython",
    "version": 3
   },
   "file_extension": ".py",
   "mimetype": "text/x-python",
   "name": "python",
   "nbconvert_exporter": "python",
   "pygments_lexer": "ipython3",
   "version": "3.7.3"
  },
  "toc": {
   "base_numbering": 1,
   "nav_menu": {},
   "number_sections": true,
   "sideBar": true,
   "skip_h1_title": false,
   "title_cell": "Table of Contents",
   "title_sidebar": "Contents",
   "toc_cell": false,
   "toc_position": {},
   "toc_section_display": true,
   "toc_window_display": false
  }
 },
 "nbformat": 4,
 "nbformat_minor": 2
}
