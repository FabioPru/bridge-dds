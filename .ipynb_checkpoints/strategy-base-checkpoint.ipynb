{
 "cells": [
  {
   "cell_type": "code",
   "execution_count": 1,
   "metadata": {
    "ExecuteTime": {
     "end_time": "2019-07-31T09:54:01.443633Z",
     "start_time": "2019-07-31T09:53:52.867575Z"
    }
   },
   "outputs": [
    {
     "name": "stderr",
     "output_type": "stream",
     "text": [
      "Using TensorFlow backend.\n"
     ]
    }
   ],
   "source": [
    "import matplotlib.pyplot as plt\n",
    "import seaborn as sns\n",
    "# Configs\n",
    "%config InlineBackend.figure_format ='retina'\n",
    "%matplotlib inline\n",
    "\n",
    "from sklearn.experimental import enable_hist_gradient_boosting\n",
    "from sklearn import externals, base, neural_network, neighbors, feature_extraction, datasets, linear_model, metrics, model_selection, preprocessing, svm, ensemble, decomposition, feature_extraction, utils\n",
    "\n",
    "import keras\n",
    "import scipy"
   ]
  },
  {
   "cell_type": "code",
   "execution_count": 2,
   "metadata": {
    "ExecuteTime": {
     "end_time": "2019-07-31T09:54:16.747250Z",
     "start_time": "2019-07-31T09:54:01.448627Z"
    }
   },
   "outputs": [
    {
     "name": "stdout",
     "output_type": "stream",
     "text": [
      "WARNING:tensorflow:From /Applications/miniconda3/lib/python3.7/site-packages/tensorflow/python/framework/op_def_library.py:263: colocate_with (from tensorflow.python.framework.ops) is deprecated and will be removed in a future version.\n",
      "Instructions for updating:\n",
      "Colocations handled automatically by placer.\n",
      "WARNING:tensorflow:From /Applications/miniconda3/lib/python3.7/site-packages/tensorflow/python/ops/math_ops.py:3066: to_int32 (from tensorflow.python.ops.math_ops) is deprecated and will be removed in a future version.\n",
      "Instructions for updating:\n",
      "Use tf.cast instead.\n",
      "QT95.AJ43.72.Q75 AJ7.862.QJ96.862 K42.KQT9.KT5.J93 863.75.A843.AKT4\n",
      "Best c: ('2h', 'S') scoring 17.5; with opps ('2h', 'S')\n"
     ]
    }
   ],
   "source": [
    "# Load Bridge helper classes\n",
    "%run helpers/bridge.ipynb\n",
    "%run helpers/load-data.ipynb\n",
    "%run helpers/train-eval-utils.ipynb\n",
    "\n",
    "# prints a sample call to Deal()"
   ]
  },
  {
   "cell_type": "code",
   "execution_count": null,
   "metadata": {
    "ExecuteTime": {
     "start_time": "2019-07-31T09:55:24.732Z"
    }
   },
   "outputs": [],
   "source": [
    "data = load_deals()"
   ]
  },
  {
   "cell_type": "markdown",
   "metadata": {},
   "source": [
    "# Helpers"
   ]
  },
  {
   "cell_type": "code",
   "execution_count": 14,
   "metadata": {
    "ExecuteTime": {
     "end_time": "2019-07-31T09:55:13.210114Z",
     "start_time": "2019-07-31T09:55:13.202754Z"
    }
   },
   "outputs": [],
   "source": [
    "def gen_sequence(deal, s1, s2=System(pass_function), s3=None, s4=None):\n",
    "    seq = Bidding()\n",
    "    if s3 is None:\n",
    "        s3 = s1\n",
    "    if s4 is None:\n",
    "        s4 = s2\n",
    "    sgs = [s1, s2, s3, s4]\n",
    "    while not seq.done:\n",
    "        cur_pl = len(seq) % 4\n",
    "        seq = sgs[cur_pl].step(deal.hands[cur_pl], seq)\n",
    "    return seq"
   ]
  },
  {
   "cell_type": "markdown",
   "metadata": {},
   "source": [
    "# Examples"
   ]
  },
  {
   "cell_type": "code",
   "execution_count": 692,
   "metadata": {
    "ExecuteTime": {
     "end_time": "2019-07-27T20:09:10.467522Z",
     "start_time": "2019-07-27T20:09:10.464597Z"
    }
   },
   "outputs": [],
   "source": [
    "# Full knowledge ~ Theoretical limit"
   ]
  },
  {
   "cell_type": "code",
   "execution_count": null,
   "metadata": {
    "ExecuteTime": {
     "start_time": "2019-07-31T10:36:28.480Z"
    }
   },
   "outputs": [],
   "source": [
    "no_samples = 5 # 2 min per sample\n",
    "\n",
    "X = np.array([d.N.feature_array() + d.S.feature_array() for d in data] * no_samples) #only N hand\n",
    "\n",
    "# Sample one of the optimal contracts according to IMP losses from DDS\n",
    "y = []\n",
    "for _ in range(no_samples):\n",
    "    y += [contract_to_index[d.sample_contract()]\n",
    "     for d in data]"
   ]
  },
  {
   "cell_type": "code",
   "execution_count": 693,
   "metadata": {
    "ExecuteTime": {
     "end_time": "2019-07-27T20:09:11.490597Z",
     "start_time": "2019-07-27T20:09:11.487413Z"
    }
   },
   "outputs": [],
   "source": [
    "# TODO"
   ]
  },
  {
   "cell_type": "code",
   "execution_count": null,
   "metadata": {},
   "outputs": [],
   "source": [
    "model = Sequential()\n",
    "model.add(Dense(256, activation='relu', input_dim=80))\n",
    "model.add(Dense(256, activation='relu'))\n",
    "model.add(Dense(256, activation='relu'))\n",
    "model.add(Dense(256, activation='relu'))\n",
    "model.add(Dense(256, activation='relu'))\n",
    "\n",
    "model.add(Dense(36, activation='softmax'))\n",
    "model.compile(optimizer=keras.optimizers.Nadam(),\n",
    "              loss='categorical_crossentropy',\n",
    "              metrics=['accuracy'])\n",
    "\n",
    "# Convert labels to categorical one-hot encoding\n",
    "one_hot_labels = keras.utils.to_categorical(y, num_classes=36)\n"
   ]
  },
  {
   "cell_type": "code",
   "execution_count": null,
   "metadata": {},
   "outputs": [],
   "source": [
    "model.fit(X, y, epochs=1, batch_size=32, validation_split=0.1)\n"
   ]
  },
  {
   "cell_type": "code",
   "execution_count": null,
   "metadata": {},
   "outputs": [],
   "source": []
  },
  {
   "cell_type": "code",
   "execution_count": 874,
   "metadata": {
    "ExecuteTime": {
     "end_time": "2019-07-29T20:58:55.386921Z",
     "start_time": "2019-07-29T20:58:54.045674Z"
    }
   },
   "outputs": [
    {
     "data": {
      "text/plain": [
       "0.3764"
      ]
     },
     "execution_count": 874,
     "metadata": {},
     "output_type": "execute_result"
    }
   ],
   "source": [
    "model.score(X[:10000], y[:10000])"
   ]
  },
  {
   "cell_type": "code",
   "execution_count": 875,
   "metadata": {
    "ExecuteTime": {
     "end_time": "2019-07-29T20:59:04.743474Z",
     "start_time": "2019-07-29T20:59:01.677802Z"
    }
   },
   "outputs": [
    {
     "data": {
      "text/plain": [
       "-6.949"
      ]
     },
     "execution_count": 875,
     "metadata": {},
     "output_type": "execute_result"
    }
   ],
   "source": [
    "System(system_from_model(model)).evaluate(data[:1000])"
   ]
  },
  {
   "cell_type": "markdown",
   "metadata": {},
   "source": [
    "## One hand places the contract"
   ]
  },
  {
   "cell_type": "markdown",
   "metadata": {},
   "source": [
    "### Basic things"
   ]
  },
  {
   "cell_type": "code",
   "execution_count": 9,
   "metadata": {
    "ExecuteTime": {
     "end_time": "2019-07-31T09:55:08.793684Z",
     "start_time": "2019-07-31T09:55:08.789526Z"
    }
   },
   "outputs": [],
   "source": [
    "def const_function(contr):\n",
    "    def fn(hand, bidding):\n",
    "        return contr\n",
    "    return fn"
   ]
  },
  {
   "cell_type": "code",
   "execution_count": 10,
   "metadata": {
    "ExecuteTime": {
     "end_time": "2019-07-31T09:55:09.225722Z",
     "start_time": "2019-07-31T09:55:09.221485Z"
    }
   },
   "outputs": [],
   "source": [
    "def pass_function(hand, bidding):\n",
    "    return 'PASS'"
   ]
  },
  {
   "cell_type": "code",
   "execution_count": 11,
   "metadata": {
    "ExecuteTime": {
     "end_time": "2019-07-31T09:55:09.569703Z",
     "start_time": "2019-07-31T09:55:09.562886Z"
    }
   },
   "outputs": [],
   "source": [
    "def hcp_function(start=14.2, step=3.9):\n",
    "    def fn(hand, bidding):\n",
    "        ft = hand.features()\n",
    "        if ft['hcp'] >= start:\n",
    "            lev = min(7, (ft['hcp'] - start) / step + 1)\n",
    "            return str(int(lev)) + 'NT'\n",
    "        return 'PASS'\n",
    "    return fn"
   ]
  },
  {
   "cell_type": "code",
   "execution_count": 12,
   "metadata": {
    "ExecuteTime": {
     "end_time": "2019-07-31T09:55:09.936893Z",
     "start_time": "2019-07-31T09:55:09.926861Z"
    }
   },
   "outputs": [],
   "source": [
    "def suit_function(start=12.8, step=2.6):\n",
    "    def fn(hand, bidding):\n",
    "        ft = hand.features()\n",
    "        if ft['hcp'] >= start:\n",
    "            lev = min(7, (ft['hcp'] - start) / step + 1)\n",
    "            strain = 'NT'\n",
    "            bst_len = 4\n",
    "            for s in suits:\n",
    "                if ft[s + '_len'] >= bst_len:\n",
    "                    strain = s\n",
    "                    bst_len = ft[s + '_len']\n",
    "            return str(int(lev)) + strain\n",
    "            #return const_function(str(int(lev)) + strain)(hand, bidding)\n",
    "        return 'PASS'\n",
    "    return fn"
   ]
  },
  {
   "cell_type": "code",
   "execution_count": 13,
   "metadata": {
    "ExecuteTime": {
     "end_time": "2019-07-31T09:55:10.508752Z",
     "start_time": "2019-07-31T09:55:10.503125Z"
    }
   },
   "outputs": [],
   "source": [
    "def system_from_model(model):\n",
    "    def fn(hand, bidding):\n",
    "        bid = model.predict(hand.feature_array().reshape(1, -1))[0]\n",
    "        return bid\n",
    "    return fn"
   ]
  },
  {
   "cell_type": "markdown",
   "metadata": {},
   "source": [
    "### Theoretical limit"
   ]
  },
  {
   "cell_type": "code",
   "execution_count": null,
   "metadata": {},
   "outputs": [],
   "source": [
    "# Try to make a NN learn the best contract with_opps"
   ]
  },
  {
   "cell_type": "code",
   "execution_count": 839,
   "metadata": {
    "ExecuteTime": {
     "end_time": "2019-07-29T16:35:34.697580Z",
     "start_time": "2019-07-29T16:24:12.048454Z"
    }
   },
   "outputs": [],
   "source": [
    "no_samples = 5 # 2 min per sample\n",
    "\n",
    "X = np.array([d.hands[0].feature_array() for d in data] * no_samples) #only N hand\n",
    "\n",
    "# Winners in a particular strain played from N\n",
    "y = []\n",
    "for _ in range(no_samples):\n",
    "    y += [contract_to_index[d.sample_contract()]\n",
    "     for d in data]"
   ]
  },
  {
   "cell_type": "code",
   "execution_count": 840,
   "metadata": {
    "ExecuteTime": {
     "end_time": "2019-07-29T16:35:34.819975Z",
     "start_time": "2019-07-29T16:35:34.757967Z"
    }
   },
   "outputs": [],
   "source": [
    "# This model overfits terribly"
   ]
  },
  {
   "cell_type": "code",
   "execution_count": 844,
   "metadata": {
    "ExecuteTime": {
     "end_time": "2019-07-29T16:38:44.606265Z",
     "start_time": "2019-07-29T16:38:44.547701Z"
    }
   },
   "outputs": [],
   "source": [
    "model = neural_network.MLPClassifier(hidden_layer_sizes=(256, 256, 256, 256,), \n",
    "                                     max_iter=25, \n",
    "                                     #early_stopping=True, tol=1e-6\n",
    "                                    )"
   ]
  },
  {
   "cell_type": "code",
   "execution_count": 845,
   "metadata": {
    "ExecuteTime": {
     "end_time": "2019-07-29T19:59:54.445838Z",
     "start_time": "2019-07-29T16:38:47.881666Z"
    }
   },
   "outputs": [
    {
     "name": "stdout",
     "output_type": "stream",
     "text": [
      "22\n"
     ]
    },
    {
     "name": "stderr",
     "output_type": "stream",
     "text": [
      "/Applications/miniconda3/lib/python3.7/site-packages/sklearn/neural_network/multilayer_perceptron.py:568: UserWarning: Training interrupted by user.\n",
      "  warnings.warn(\"Training interrupted by user.\")\n"
     ]
    }
   ],
   "source": [
    "# 1 iter = 2.5 mins\n",
    "model.fit(X, y) # 3min\n",
    "print(model.n_iter_)"
   ]
  },
  {
   "cell_type": "code",
   "execution_count": null,
   "metadata": {},
   "outputs": [],
   "source": []
  },
  {
   "cell_type": "code",
   "execution_count": 854,
   "metadata": {
    "ExecuteTime": {
     "end_time": "2019-07-29T20:02:00.489928Z",
     "start_time": "2019-07-29T20:02:00.383343Z"
    }
   },
   "outputs": [
    {
     "data": {
      "text/plain": [
       "['models/ftarrayN_to_bestc.pkl']"
      ]
     },
     "execution_count": 854,
     "metadata": {},
     "output_type": "execute_result"
    }
   ],
   "source": [
    "from sklearn.externals import joblib\n",
    "joblib.dump(model, 'models/ftarrayN_to_bestc.pkl') "
   ]
  },
  {
   "cell_type": "code",
   "execution_count": 572,
   "metadata": {
    "ExecuteTime": {
     "end_time": "2019-07-27T10:50:38.804665Z",
     "start_time": "2019-07-27T10:50:37.919199Z"
    }
   },
   "outputs": [
    {
     "data": {
      "text/plain": [
       "0.96585"
      ]
     },
     "execution_count": 572,
     "metadata": {},
     "output_type": "execute_result"
    }
   ],
   "source": [
    "# Load the pickle file\n",
    "model_load = joblib.load('models/ftarrayN_to_bestc.pkl') "
   ]
  },
  {
   "cell_type": "code",
   "execution_count": 865,
   "metadata": {
    "ExecuteTime": {
     "end_time": "2019-07-29T20:25:34.213771Z",
     "start_time": "2019-07-29T20:25:28.442979Z"
    }
   },
   "outputs": [
    {
     "data": {
      "text/plain": [
       "-4.286"
      ]
     },
     "execution_count": 865,
     "metadata": {},
     "output_type": "execute_result"
    }
   ],
   "source": [
    "# Care: it's in sample\n",
    "System(system_from_model(model)).evaluate(data[:1000])"
   ]
  },
  {
   "cell_type": "markdown",
   "metadata": {},
   "source": [
    "## One hand describes, other places"
   ]
  },
  {
   "cell_type": "code",
   "execution_count": null,
   "metadata": {
    "ExecuteTime": {
     "end_time": "2019-07-31T03:06:02.659234Z",
     "start_time": "2019-07-30T20:55:11.867Z"
    },
    "code_folding": [
     9,
     25
    ]
   },
   "outputs": [],
   "source": [
    "def basic_function(hand, bidding):\n",
    "    bids_made = len(bidding)\n",
    "    ft = hand.features()\n",
    "    \n",
    "    min_opening_str = 10\n",
    "    hcp_step = 4\n",
    "    card_fit_suit = 8\n",
    "    \n",
    "    # if other hand has not described\n",
    "    if bids_made <= 1:\n",
    "        if ft['hcp'] < min_opening_str:\n",
    "            return 'PASS'\n",
    "        else:\n",
    "            # [10, 13] [14, 17] ...\n",
    "            lev = min(7, (ft['hcp'] - min_opening_str) / hcp_step + 1)\n",
    "            # Bids a 5 card suit if it has it, else NT\n",
    "            strain = 'NT'\n",
    "            bst_len = 5\n",
    "            for s in suits:\n",
    "                if ft[s + '_len'] >= bst_len:\n",
    "                    strain = s\n",
    "                    bst_len = ft[s + '_len']\n",
    "            return str(int(lev)) + strain\n",
    "        \n",
    "    # if other hand has described\n",
    "    if 1 < bids_made <= 3:\n",
    "        p_bid = bidding.partner_bids()[0]\n",
    "        # Estimates hcp\n",
    "        if p_bid == 'PASS':\n",
    "            ft['hcp'] += min_opening_str - 3\n",
    "        else:\n",
    "            ft['hcp'] += min_opening_str - 3 + hcp_step * int(p_bid[0])\n",
    "        # Estimates distribution as 3333 or 5222\n",
    "        if p_bid == 'PASS' or p_bid[1:] == 'NT':\n",
    "            for s in suits:\n",
    "                ft[s + '_len'] += 3\n",
    "        else:\n",
    "            for s in suits:\n",
    "                if s == p_bid[1:]:\n",
    "                    ft[s + '_len'] += 5\n",
    "                else:\n",
    "                    ft[s + '_len'] += 2\n",
    "        # Guesses best contract\n",
    "        # strain = s if >= 8 card fit, else NT\n",
    "        strain = 'NT'\n",
    "        bst_len = card_fit_suit\n",
    "        for s in suits:\n",
    "            if ft[s + '_len'] >= bst_len:\n",
    "                strain = s\n",
    "                bst_len = ft[s + '_len']\n",
    "                \n",
    "        # level for NT 19, 22, 25, 28, 31, 34, 37\n",
    "        if strain == 'NT':\n",
    "            level = (ft['hcp'] - 16) // 3\n",
    "        # level for suit depends on length\n",
    "        else:\n",
    "            # hcp + 2*length >= 25 + 16 for game\n",
    "            level = (ft['hcp'] + 2 * ft[strain + '_len'] - 29) // 3\n",
    "        level = min(7, level)\n",
    "\n",
    "        # Principle of suit correction:\n",
    "        #  if p made a bid in a NT strain we might wish to raise the level\n",
    "        #  to change that to a suit\n",
    "        if p_bid == '1NT' or p_bid == '2NT':\n",
    "            if strain != 'NT' and level <= int(p_bid[0]):\n",
    "                level = int(p_bid[0]) + 1\n",
    "            \n",
    "        # for minor suits, correct 4m and 5m to 3NT\n",
    "        if strain in ['c', 'd'] and 4 <= level <= 5:\n",
    "            level = 3; strain = 'NT'\n",
    "        # correct non-slams above game\n",
    "        if strain in ['h', 's'] and level == 5:\n",
    "            level = 4\n",
    "        if strain == 'NT' and 4 <= level <= 5:\n",
    "            level = 3\n",
    "\n",
    "\n",
    "        if level <= 0:\n",
    "            return 'PASS'\n",
    "        else:\n",
    "            return str(level) + strain\n",
    "    \n",
    "    # if other hand has placed the contract\n",
    "    if bids_made >= 4:\n",
    "        return 'PASS'"
   ]
  },
  {
   "cell_type": "code",
   "execution_count": null,
   "metadata": {},
   "outputs": [],
   "source": []
  },
  {
   "cell_type": "markdown",
   "metadata": {},
   "source": [
    "# Evaluations"
   ]
  },
  {
   "cell_type": "code",
   "execution_count": null,
   "metadata": {},
   "outputs": [],
   "source": [
    "# Valori in IMPs"
   ]
  },
  {
   "cell_type": "code",
   "execution_count": null,
   "metadata": {
    "ExecuteTime": {
     "end_time": "2019-07-31T03:06:02.663264Z",
     "start_time": "2019-07-30T20:55:15.066Z"
    }
   },
   "outputs": [],
   "source": [
    "System(pass_function).evaluate(data)"
   ]
  },
  {
   "cell_type": "code",
   "execution_count": null,
   "metadata": {
    "ExecuteTime": {
     "end_time": "2019-07-31T03:06:02.669444Z",
     "start_time": "2019-07-30T20:55:15.610Z"
    }
   },
   "outputs": [],
   "source": [
    "System(hcp_function()).evaluate(data)"
   ]
  },
  {
   "cell_type": "code",
   "execution_count": null,
   "metadata": {
    "ExecuteTime": {
     "end_time": "2019-07-31T03:06:02.675443Z",
     "start_time": "2019-07-30T20:55:15.968Z"
    }
   },
   "outputs": [],
   "source": [
    "System(suit_function()).evaluate(data)"
   ]
  },
  {
   "cell_type": "code",
   "execution_count": null,
   "metadata": {
    "ExecuteTime": {
     "end_time": "2019-07-31T03:06:02.685569Z",
     "start_time": "2019-07-30T20:55:32.934Z"
    }
   },
   "outputs": [],
   "source": [
    "# NN that takes North hand and estimates a contract (IN SAMPLE)\n",
    "model_load = joblib.load('models/ftarrayN_to_bestc.pkl') \n",
    "System(system_from_model(model_load)).evaluate(data[:10000])"
   ]
  },
  {
   "cell_type": "code",
   "execution_count": null,
   "metadata": {},
   "outputs": [],
   "source": []
  },
  {
   "cell_type": "code",
   "execution_count": null,
   "metadata": {
    "ExecuteTime": {
     "end_time": "2019-07-31T03:06:02.689448Z",
     "start_time": "2019-07-30T20:55:33.535Z"
    }
   },
   "outputs": [],
   "source": [
    "System(basic_function).evaluate(data)"
   ]
  },
  {
   "cell_type": "code",
   "execution_count": null,
   "metadata": {},
   "outputs": [],
   "source": []
  },
  {
   "cell_type": "code",
   "execution_count": null,
   "metadata": {},
   "outputs": [],
   "source": []
  },
  {
   "cell_type": "code",
   "execution_count": 755,
   "metadata": {
    "ExecuteTime": {
     "end_time": "2019-07-27T20:29:34.017493Z",
     "start_time": "2019-07-27T20:29:33.621543Z"
    }
   },
   "outputs": [
    {
     "data": {
      "text/plain": [
       "1.011"
      ]
     },
     "execution_count": 755,
     "metadata": {},
     "output_type": "execute_result"
    }
   ],
   "source": [
    "System(basic_function).compare(data[:1000], System(suit_function()))"
   ]
  },
  {
   "cell_type": "code",
   "execution_count": null,
   "metadata": {},
   "outputs": [],
   "source": []
  }
 ],
 "metadata": {
  "kernelspec": {
   "display_name": "Python 3",
   "language": "python",
   "name": "python3"
  },
  "language_info": {
   "codemirror_mode": {
    "name": "ipython",
    "version": 3
   },
   "file_extension": ".py",
   "mimetype": "text/x-python",
   "name": "python",
   "nbconvert_exporter": "python",
   "pygments_lexer": "ipython3",
   "version": "3.7.3"
  },
  "toc": {
   "base_numbering": 1,
   "nav_menu": {},
   "number_sections": true,
   "sideBar": true,
   "skip_h1_title": false,
   "title_cell": "Table of Contents",
   "title_sidebar": "Contents",
   "toc_cell": false,
   "toc_position": {},
   "toc_section_display": true,
   "toc_window_display": false
  }
 },
 "nbformat": 4,
 "nbformat_minor": 2
}
