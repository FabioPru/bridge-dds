{
 "cells": [
  {
   "cell_type": "code",
   "execution_count": 1,
   "metadata": {
    "ExecuteTime": {
     "end_time": "2019-07-30T19:51:09.412029Z",
     "start_time": "2019-07-30T19:51:05.268113Z"
    }
   },
   "outputs": [
    {
     "name": "stderr",
     "output_type": "stream",
     "text": [
      "Using TensorFlow backend.\n"
     ]
    }
   ],
   "source": [
    "import matplotlib.pyplot as plt\n",
    "import seaborn as sns\n",
    "# Configs\n",
    "%config InlineBackend.figure_format ='retina'\n",
    "%matplotlib inline\n",
    "\n",
    "from sklearn.experimental import enable_hist_gradient_boosting\n",
    "from sklearn import externals, base, neural_network, neighbors, feature_extraction, datasets, linear_model, metrics, model_selection, preprocessing, svm, ensemble, decomposition, feature_extraction, utils\n",
    "\n",
    "import keras\n",
    "import scipy"
   ]
  },
  {
   "cell_type": "code",
   "execution_count": 34,
   "metadata": {
    "ExecuteTime": {
     "end_time": "2019-07-30T19:58:31.117497Z",
     "start_time": "2019-07-30T19:58:22.389234Z"
    }
   },
   "outputs": [],
   "source": [
    "# Load Bridge helper classes\n",
    "%run helpers/bridge.ipynb\n",
    "%run helpers/load-data.ipynb\n",
    "%run helpers/train-eval-utils.ipynb"
   ]
  },
  {
   "cell_type": "code",
   "execution_count": 39,
   "metadata": {
    "ExecuteTime": {
     "end_time": "2019-07-30T19:59:00.877904Z",
     "start_time": "2019-07-30T19:58:59.333492Z"
    }
   },
   "outputs": [],
   "source": [
    "# 20x speedup if you don't use original DDS\n",
    "for _ in range(100):\n",
    "    Deal()"
   ]
  },
  {
   "cell_type": "code",
   "execution_count": 40,
   "metadata": {
    "ExecuteTime": {
     "end_time": "2019-07-30T19:59:12.185756Z",
     "start_time": "2019-07-30T19:59:09.081053Z"
    }
   },
   "outputs": [],
   "source": [
    "for _ in range(10):\n",
    "    Deal().solve()"
   ]
  },
  {
   "cell_type": "markdown",
   "metadata": {},
   "source": [
    "# Helpers"
   ]
  },
  {
   "cell_type": "code",
   "execution_count": 716,
   "metadata": {
    "ExecuteTime": {
     "end_time": "2019-07-27T20:20:56.114283Z",
     "start_time": "2019-07-27T20:20:56.108171Z"
    }
   },
   "outputs": [],
   "source": [
    "def gen_sequence(deal, s1, s2=System(pass_function), s3=None, s4=None):\n",
    "    seq = Bidding()\n",
    "    if s3 is None:\n",
    "        s3 = s1\n",
    "    if s4 is None:\n",
    "        s4 = s2\n",
    "    sgs = [s1, s2, s3, s4]\n",
    "    while not seq.done:\n",
    "        cur_pl = len(seq) % 4\n",
    "        seq = sgs[cur_pl].step(deal.hands[cur_pl], seq)\n",
    "    return seq"
   ]
  },
  {
   "cell_type": "markdown",
   "metadata": {},
   "source": [
    "# Examples"
   ]
  },
  {
   "cell_type": "code",
   "execution_count": 692,
   "metadata": {
    "ExecuteTime": {
     "end_time": "2019-07-27T20:09:10.467522Z",
     "start_time": "2019-07-27T20:09:10.464597Z"
    }
   },
   "outputs": [],
   "source": [
    "# Full knowledge ~ Theoretical limit"
   ]
  },
  {
   "cell_type": "code",
   "execution_count": 864,
   "metadata": {
    "ExecuteTime": {
     "end_time": "2019-07-29T20:25:28.291312Z",
     "start_time": "2019-07-29T20:23:58.038427Z"
    }
   },
   "outputs": [],
   "source": [
    "X = np.array([d.N.feature_array() + d.S.feature_array() for d in data] * no_samples) #only N hand\n"
   ]
  },
  {
   "cell_type": "code",
   "execution_count": 693,
   "metadata": {
    "ExecuteTime": {
     "end_time": "2019-07-27T20:09:11.490597Z",
     "start_time": "2019-07-27T20:09:11.487413Z"
    }
   },
   "outputs": [],
   "source": [
    "# TODO"
   ]
  },
  {
   "cell_type": "code",
   "execution_count": 872,
   "metadata": {
    "ExecuteTime": {
     "end_time": "2019-07-29T20:35:48.468739Z",
     "start_time": "2019-07-29T20:35:48.464578Z"
    }
   },
   "outputs": [],
   "source": [
    "model = neural_network.MLPClassifier(hidden_layer_sizes=(256, 256, 256, 256,), \n",
    "                                     max_iter=5, \n",
    "                                     #early_stopping=True, tol=1e-6\n",
    "                                    )"
   ]
  },
  {
   "cell_type": "code",
   "execution_count": 873,
   "metadata": {
    "ExecuteTime": {
     "end_time": "2019-07-29T20:56:36.728732Z",
     "start_time": "2019-07-29T20:35:48.654301Z"
    }
   },
   "outputs": [
    {
     "name": "stderr",
     "output_type": "stream",
     "text": [
      "/Applications/miniconda3/lib/python3.7/site-packages/sklearn/neural_network/multilayer_perceptron.py:566: ConvergenceWarning: Stochastic Optimizer: Maximum iterations (5) reached and the optimization hasn't converged yet.\n",
      "  % self.max_iter, ConvergenceWarning)\n"
     ]
    },
    {
     "data": {
      "text/plain": [
       "MLPClassifier(activation='relu', alpha=0.0001, batch_size='auto', beta_1=0.9,\n",
       "              beta_2=0.999, early_stopping=False, epsilon=1e-08,\n",
       "              hidden_layer_sizes=(256, 256, 256, 256), learning_rate='constant',\n",
       "              learning_rate_init=0.001, max_iter=5, momentum=0.9,\n",
       "              n_iter_no_change=10, nesterovs_momentum=True, power_t=0.5,\n",
       "              random_state=None, shuffle=True, solver='adam', tol=0.0001,\n",
       "              validation_fraction=0.1, verbose=False, warm_start=False)"
      ]
     },
     "execution_count": 873,
     "metadata": {},
     "output_type": "execute_result"
    }
   ],
   "source": [
    "model.fit(X, y) # 3min\n"
   ]
  },
  {
   "cell_type": "code",
   "execution_count": 874,
   "metadata": {
    "ExecuteTime": {
     "end_time": "2019-07-29T20:58:55.386921Z",
     "start_time": "2019-07-29T20:58:54.045674Z"
    }
   },
   "outputs": [
    {
     "data": {
      "text/plain": [
       "0.3764"
      ]
     },
     "execution_count": 874,
     "metadata": {},
     "output_type": "execute_result"
    }
   ],
   "source": [
    "model.score(X[:10000], y[:10000])"
   ]
  },
  {
   "cell_type": "code",
   "execution_count": 875,
   "metadata": {
    "ExecuteTime": {
     "end_time": "2019-07-29T20:59:04.743474Z",
     "start_time": "2019-07-29T20:59:01.677802Z"
    }
   },
   "outputs": [
    {
     "data": {
      "text/plain": [
       "-6.949"
      ]
     },
     "execution_count": 875,
     "metadata": {},
     "output_type": "execute_result"
    }
   ],
   "source": [
    "System(system_from_model(model)).evaluate(data[:1000])"
   ]
  },
  {
   "cell_type": "markdown",
   "metadata": {},
   "source": [
    "## One hand places the contract"
   ]
  },
  {
   "cell_type": "markdown",
   "metadata": {
    "heading_collapsed": true
   },
   "source": [
    "### Basic things"
   ]
  },
  {
   "cell_type": "code",
   "execution_count": 694,
   "metadata": {
    "ExecuteTime": {
     "end_time": "2019-07-27T20:09:12.290927Z",
     "start_time": "2019-07-27T20:09:12.287152Z"
    },
    "hidden": true
   },
   "outputs": [],
   "source": [
    "def const_function(contr):\n",
    "    def fn(hand, bidding):\n",
    "        return contr\n",
    "    return fn"
   ]
  },
  {
   "cell_type": "code",
   "execution_count": 719,
   "metadata": {
    "ExecuteTime": {
     "end_time": "2019-07-27T20:21:59.474551Z",
     "start_time": "2019-07-27T20:21:59.470996Z"
    },
    "hidden": true
   },
   "outputs": [],
   "source": [
    "def pass_function(hand, bidding):\n",
    "    return 'PASS'"
   ]
  },
  {
   "cell_type": "code",
   "execution_count": 696,
   "metadata": {
    "ExecuteTime": {
     "end_time": "2019-07-27T20:09:14.067876Z",
     "start_time": "2019-07-27T20:09:14.062570Z"
    },
    "hidden": true
   },
   "outputs": [],
   "source": [
    "def hcp_function(start=14.2, step=3.9):\n",
    "    def fn(hand, bidding):\n",
    "        ft = hand.features()\n",
    "        if ft['hcp'] >= start:\n",
    "            lev = min(7, (ft['hcp'] - start) / step + 1)\n",
    "            return str(int(lev)) + 'NT'\n",
    "        return 'PASS'\n",
    "    return fn"
   ]
  },
  {
   "cell_type": "code",
   "execution_count": 697,
   "metadata": {
    "ExecuteTime": {
     "end_time": "2019-07-27T20:09:14.341032Z",
     "start_time": "2019-07-27T20:09:14.333622Z"
    },
    "hidden": true
   },
   "outputs": [],
   "source": [
    "def suit_function(start=12.8, step=2.6):\n",
    "    def fn(hand, bidding):\n",
    "        ft = hand.features()\n",
    "        if ft['hcp'] >= start:\n",
    "            lev = min(7, (ft['hcp'] - start) / step + 1)\n",
    "            strain = 'NT'\n",
    "            bst_len = 4\n",
    "            for s in suits:\n",
    "                if ft[s + '_len'] >= bst_len:\n",
    "                    strain = s\n",
    "                    bst_len = ft[s + '_len']\n",
    "            return str(int(lev)) + strain\n",
    "            #return const_function(str(int(lev)) + strain)(hand, bidding)\n",
    "        return 'PASS'\n",
    "    return fn"
   ]
  },
  {
   "cell_type": "code",
   "execution_count": 698,
   "metadata": {
    "ExecuteTime": {
     "end_time": "2019-07-27T20:09:14.747961Z",
     "start_time": "2019-07-27T20:09:14.743858Z"
    },
    "hidden": true
   },
   "outputs": [],
   "source": [
    "def system_from_model(model):\n",
    "    def fn(hand, bidding):\n",
    "        bid = model.predict(hand.feature_array().reshape(1, -1))[0]\n",
    "        return bid\n",
    "    return fn"
   ]
  },
  {
   "cell_type": "markdown",
   "metadata": {},
   "source": [
    "### Theoretical limit"
   ]
  },
  {
   "cell_type": "code",
   "execution_count": null,
   "metadata": {},
   "outputs": [],
   "source": [
    "# Try to make a NN learn the best contract with_opps"
   ]
  },
  {
   "cell_type": "code",
   "execution_count": 839,
   "metadata": {
    "ExecuteTime": {
     "end_time": "2019-07-29T16:35:34.697580Z",
     "start_time": "2019-07-29T16:24:12.048454Z"
    }
   },
   "outputs": [],
   "source": [
    "no_samples = 5 # 2 min per sample\n",
    "\n",
    "X = np.array([d.hands[0].feature_array() for d in data] * no_samples) #only N hand\n",
    "\n",
    "# Winners in a particular strain played from N\n",
    "y = []\n",
    "for _ in range(no_samples):\n",
    "    y += [contract_to_index[d.sample_contract()]\n",
    "     for d in data]"
   ]
  },
  {
   "cell_type": "code",
   "execution_count": 840,
   "metadata": {
    "ExecuteTime": {
     "end_time": "2019-07-29T16:35:34.819975Z",
     "start_time": "2019-07-29T16:35:34.757967Z"
    }
   },
   "outputs": [],
   "source": [
    "# This model overfits terribly"
   ]
  },
  {
   "cell_type": "code",
   "execution_count": 844,
   "metadata": {
    "ExecuteTime": {
     "end_time": "2019-07-29T16:38:44.606265Z",
     "start_time": "2019-07-29T16:38:44.547701Z"
    }
   },
   "outputs": [],
   "source": [
    "model = neural_network.MLPClassifier(hidden_layer_sizes=(256, 256, 256, 256,), \n",
    "                                     max_iter=25, \n",
    "                                     #early_stopping=True, tol=1e-6\n",
    "                                    )"
   ]
  },
  {
   "cell_type": "code",
   "execution_count": 845,
   "metadata": {
    "ExecuteTime": {
     "end_time": "2019-07-29T19:59:54.445838Z",
     "start_time": "2019-07-29T16:38:47.881666Z"
    }
   },
   "outputs": [
    {
     "name": "stdout",
     "output_type": "stream",
     "text": [
      "22\n"
     ]
    },
    {
     "name": "stderr",
     "output_type": "stream",
     "text": [
      "/Applications/miniconda3/lib/python3.7/site-packages/sklearn/neural_network/multilayer_perceptron.py:568: UserWarning: Training interrupted by user.\n",
      "  warnings.warn(\"Training interrupted by user.\")\n"
     ]
    }
   ],
   "source": [
    "# 1 iter = 2.5 mins\n",
    "model.fit(X, y) # 3min\n",
    "print(model.n_iter_)"
   ]
  },
  {
   "cell_type": "code",
   "execution_count": null,
   "metadata": {},
   "outputs": [],
   "source": []
  },
  {
   "cell_type": "code",
   "execution_count": 854,
   "metadata": {
    "ExecuteTime": {
     "end_time": "2019-07-29T20:02:00.489928Z",
     "start_time": "2019-07-29T20:02:00.383343Z"
    }
   },
   "outputs": [
    {
     "data": {
      "text/plain": [
       "['models/ftarrayN_to_bestc.pkl']"
      ]
     },
     "execution_count": 854,
     "metadata": {},
     "output_type": "execute_result"
    }
   ],
   "source": [
    "from sklearn.externals import joblib\n",
    "joblib.dump(model, 'models/ftarrayN_to_bestc.pkl') "
   ]
  },
  {
   "cell_type": "code",
   "execution_count": 572,
   "metadata": {
    "ExecuteTime": {
     "end_time": "2019-07-27T10:50:38.804665Z",
     "start_time": "2019-07-27T10:50:37.919199Z"
    }
   },
   "outputs": [
    {
     "data": {
      "text/plain": [
       "0.96585"
      ]
     },
     "execution_count": 572,
     "metadata": {},
     "output_type": "execute_result"
    }
   ],
   "source": [
    "# Load the pickle file\n",
    "model_load = joblib.load('models/ftarrayN_to_bestc.pkl') "
   ]
  },
  {
   "cell_type": "code",
   "execution_count": 865,
   "metadata": {
    "ExecuteTime": {
     "end_time": "2019-07-29T20:25:34.213771Z",
     "start_time": "2019-07-29T20:25:28.442979Z"
    }
   },
   "outputs": [
    {
     "data": {
      "text/plain": [
       "-4.286"
      ]
     },
     "execution_count": 865,
     "metadata": {},
     "output_type": "execute_result"
    }
   ],
   "source": [
    "# Care: it's in sample\n",
    "System(system_from_model(model)).evaluate(data[:1000])"
   ]
  },
  {
   "cell_type": "markdown",
   "metadata": {},
   "source": [
    "## One hand describes, other places"
   ]
  },
  {
   "cell_type": "code",
   "execution_count": 754,
   "metadata": {
    "ExecuteTime": {
     "end_time": "2019-07-27T20:29:08.299383Z",
     "start_time": "2019-07-27T20:29:08.283184Z"
    },
    "code_folding": [
     9,
     25
    ]
   },
   "outputs": [],
   "source": [
    "def basic_function(hand, bidding):\n",
    "    bids_made = len(bidding)\n",
    "    ft = hand.features()\n",
    "    \n",
    "    min_opening_str = 10\n",
    "    hcp_step = 4\n",
    "    card_fit_suit = 8\n",
    "    \n",
    "    # if other hand has not described\n",
    "    if bids_made <= 1:\n",
    "        if ft['hcp'] < min_opening_str:\n",
    "            return 'PASS'\n",
    "        else:\n",
    "            # [10, 13] [14, 17] ...\n",
    "            lev = min(7, (ft['hcp'] - min_opening_str) / hcp_step + 1)\n",
    "            # Bids a 5 card suit if it has it, else NT\n",
    "            strain = 'NT'\n",
    "            bst_len = 5\n",
    "            for s in suits:\n",
    "                if ft[s + '_len'] >= bst_len:\n",
    "                    strain = s\n",
    "                    bst_len = ft[s + '_len']\n",
    "            return str(int(lev)) + strain\n",
    "        \n",
    "    # if other hand has described\n",
    "    if 1 < bids_made <= 3:\n",
    "        p_bid = bidding.partner_bids()[0]\n",
    "        # Estimates hcp\n",
    "        if p_bid == 'PASS':\n",
    "            ft['hcp'] += min_opening_str - 3\n",
    "        else:\n",
    "            ft['hcp'] += min_opening_str - 3 + hcp_step * int(p_bid[0])\n",
    "        # Estimates distribution as 3333 or 5222\n",
    "        if p_bid == 'PASS' or p_bid[1:] == 'NT':\n",
    "            for s in suits:\n",
    "                ft[s + '_len'] += 3\n",
    "        else:\n",
    "            for s in suits:\n",
    "                if s == p_bid[1:]:\n",
    "                    ft[s + '_len'] += 5\n",
    "                else:\n",
    "                    ft[s + '_len'] += 2\n",
    "        # Guesses best contract\n",
    "        # strain = s if >= 8 card fit, else NT\n",
    "        strain = 'NT'\n",
    "        bst_len = card_fit_suit\n",
    "        for s in suits:\n",
    "            if ft[s + '_len'] >= bst_len:\n",
    "                strain = s\n",
    "                bst_len = ft[s + '_len']\n",
    "                \n",
    "        # level for NT 19, 22, 25, 28, 31, 34, 37\n",
    "        if strain == 'NT':\n",
    "            level = (ft['hcp'] - 16) // 3\n",
    "        # level for suit depends on length\n",
    "        else:\n",
    "            # hcp + 2*length >= 25 + 16 for game\n",
    "            level = (ft['hcp'] + 2 * ft[strain + '_len'] - 29) // 3\n",
    "        level = min(7, level)\n",
    "\n",
    "        # Principle of suit correction:\n",
    "        #  if p made a bid in a NT strain we might wish to raise the level\n",
    "        #  to change that to a suit\n",
    "        if p_bid == '1NT' or p_bid == '2NT':\n",
    "            if strain != 'NT' and level <= int(p_bid[0]):\n",
    "                level = int(p_bid[0]) + 1\n",
    "            \n",
    "        # for minor suits, correct 4m and 5m to 3NT\n",
    "        if strain in ['c', 'd'] and 4 <= level <= 5:\n",
    "            level = 3; strain = 'NT'\n",
    "        # correct non-slams above game\n",
    "        if strain in ['h', 's'] and level == 5:\n",
    "            level = 4\n",
    "        if strain == 'NT' and 4 <= level <= 5:\n",
    "            level = 3\n",
    "\n",
    "\n",
    "        if level <= 0:\n",
    "            return 'PASS'\n",
    "        else:\n",
    "            return str(level) + strain\n",
    "    \n",
    "    # if other hand has placed the contract\n",
    "    if bids_made >= 4:\n",
    "        return 'PASS'"
   ]
  },
  {
   "cell_type": "code",
   "execution_count": null,
   "metadata": {},
   "outputs": [],
   "source": []
  },
  {
   "cell_type": "markdown",
   "metadata": {},
   "source": [
    "# Evaluations"
   ]
  },
  {
   "cell_type": "code",
   "execution_count": 828,
   "metadata": {
    "ExecuteTime": {
     "end_time": "2019-07-29T15:48:31.157390Z",
     "start_time": "2019-07-29T15:48:19.221885Z"
    }
   },
   "outputs": [
    {
     "data": {
      "text/plain": [
       "-4.547764336291191"
      ]
     },
     "execution_count": 828,
     "metadata": {},
     "output_type": "execute_result"
    }
   ],
   "source": [
    "System(pass_function).evaluate(data)"
   ]
  },
  {
   "cell_type": "code",
   "execution_count": 671,
   "metadata": {
    "ExecuteTime": {
     "end_time": "2019-07-27T19:54:54.364319Z",
     "start_time": "2019-07-27T19:54:27.963469Z"
    }
   },
   "outputs": [
    {
     "data": {
      "text/plain": [
       "-4.334017286610689"
      ]
     },
     "execution_count": 671,
     "metadata": {},
     "output_type": "execute_result"
    }
   ],
   "source": [
    "System(hcp_function()).evaluate(data)"
   ]
  },
  {
   "cell_type": "code",
   "execution_count": 672,
   "metadata": {
    "ExecuteTime": {
     "end_time": "2019-07-27T19:55:24.742246Z",
     "start_time": "2019-07-27T19:54:54.370503Z"
    }
   },
   "outputs": [
    {
     "data": {
      "text/plain": [
       "-4.248439517422304"
      ]
     },
     "execution_count": 672,
     "metadata": {},
     "output_type": "execute_result"
    }
   ],
   "source": [
    "System(suit_function()).evaluate(data)"
   ]
  },
  {
   "cell_type": "code",
   "execution_count": 866,
   "metadata": {
    "ExecuteTime": {
     "end_time": "2019-07-29T20:28:40.467267Z",
     "start_time": "2019-07-29T20:28:03.921364Z"
    }
   },
   "outputs": [
    {
     "data": {
      "text/plain": [
       "-4.673"
      ]
     },
     "execution_count": 866,
     "metadata": {},
     "output_type": "execute_result"
    }
   ],
   "source": [
    "# NN that takes North hand and estimates a contract (IN SAMPLE)\n",
    "model_load = joblib.load('models/ftarrayN_to_bestc.pkl') \n",
    "System(system_from_model(model_load)).evaluate(data[:10000])"
   ]
  },
  {
   "cell_type": "code",
   "execution_count": null,
   "metadata": {},
   "outputs": [],
   "source": []
  },
  {
   "cell_type": "code",
   "execution_count": 673,
   "metadata": {
    "ExecuteTime": {
     "end_time": "2019-07-27T19:56:05.775000Z",
     "start_time": "2019-07-27T19:55:24.748264Z"
    }
   },
   "outputs": [
    {
     "data": {
      "text/plain": [
       "-3.595602687566305"
      ]
     },
     "execution_count": 673,
     "metadata": {},
     "output_type": "execute_result"
    }
   ],
   "source": [
    "System(basic_function).evaluate(data)"
   ]
  },
  {
   "cell_type": "code",
   "execution_count": null,
   "metadata": {},
   "outputs": [],
   "source": []
  },
  {
   "cell_type": "code",
   "execution_count": null,
   "metadata": {},
   "outputs": [],
   "source": []
  },
  {
   "cell_type": "code",
   "execution_count": 755,
   "metadata": {
    "ExecuteTime": {
     "end_time": "2019-07-27T20:29:34.017493Z",
     "start_time": "2019-07-27T20:29:33.621543Z"
    }
   },
   "outputs": [
    {
     "data": {
      "text/plain": [
       "1.011"
      ]
     },
     "execution_count": 755,
     "metadata": {},
     "output_type": "execute_result"
    }
   ],
   "source": [
    "System(basic_function).compare(data[:1000], System(suit_function()))"
   ]
  },
  {
   "cell_type": "code",
   "execution_count": null,
   "metadata": {},
   "outputs": [],
   "source": []
  }
 ],
 "metadata": {
  "kernelspec": {
   "display_name": "Python 3",
   "language": "python",
   "name": "python3"
  },
  "language_info": {
   "codemirror_mode": {
    "name": "ipython",
    "version": 3
   },
   "file_extension": ".py",
   "mimetype": "text/x-python",
   "name": "python",
   "nbconvert_exporter": "python",
   "pygments_lexer": "ipython3",
   "version": "3.7.3"
  },
  "toc": {
   "base_numbering": 1,
   "nav_menu": {},
   "number_sections": true,
   "sideBar": true,
   "skip_h1_title": false,
   "title_cell": "Table of Contents",
   "title_sidebar": "Contents",
   "toc_cell": false,
   "toc_position": {},
   "toc_section_display": true,
   "toc_window_display": false
  }
 },
 "nbformat": 4,
 "nbformat_minor": 2
}
