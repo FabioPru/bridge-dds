{
 "cells": [
  {
   "cell_type": "code",
   "execution_count": 534,
   "metadata": {
    "ExecuteTime": {
     "end_time": "2019-07-25T19:02:58.135256Z",
     "start_time": "2019-07-25T19:02:57.248224Z"
    }
   },
   "outputs": [],
   "source": [
    "import random, os\n",
    "import numpy as np"
   ]
  },
  {
   "cell_type": "markdown",
   "metadata": {},
   "source": [
    "# Constants of bridge"
   ]
  },
  {
   "cell_type": "code",
   "execution_count": 595,
   "metadata": {
    "ExecuteTime": {
     "end_time": "2019-07-25T19:27:04.727361Z",
     "start_time": "2019-07-25T19:27:04.722997Z"
    }
   },
   "outputs": [],
   "source": [
    "suits = 'cdhs'\n",
    "card_vals = 'AKQJT98765432'\n",
    "\n",
    "strains = ['NT', 's', 'h', 'd', 'c']\n",
    "levels = '01234567'\n",
    "\n",
    "played_from = ['S', 'E', 'N', 'W']\n",
    "players = ['N', 'S']"
   ]
  },
  {
   "cell_type": "code",
   "execution_count": 754,
   "metadata": {
    "ExecuteTime": {
     "end_time": "2019-07-25T20:12:13.307012Z",
     "start_time": "2019-07-25T20:12:13.301876Z"
    }
   },
   "outputs": [],
   "source": [
    "contracts = sorted([l + s for s in strains for l in levels[1:]])\n",
    "useful_contracts = sorted(['3NT', '4s', '4h', '5d', '5c'] + [l + s for s in strains for l in '67'])"
   ]
  },
  {
   "cell_type": "code",
   "execution_count": 597,
   "metadata": {
    "ExecuteTime": {
     "end_time": "2019-07-25T19:27:05.218121Z",
     "start_time": "2019-07-25T19:27:05.205595Z"
    }
   },
   "outputs": [],
   "source": [
    "#penalties[0] = NV; penalties[1] = Vul\n",
    "\n",
    "penalties = [[0, -50, -150, -400, -800, -1100, -1400, -1700, -2000, -2300, -2600, -2900, -3200, -3500],\n",
    "             [0, -100, -350, -700, -1100, -1400, -1700, -2000, -2300, -2600, -2900, -3200, -3500, -3800]]\n",
    "\n",
    "base_scores = [[[0, 60, 60, 310, 310, 310, 810, 1310],\n",
    "               [0, 50, 50, 50, 300, 300, 800, 1300],\n",
    "               [0, 50, 50, 50, 300, 300, 800, 1300],\n",
    "               [0, 50, 50, 50, 50, 300, 800, 1300],\n",
    "               [0, 50, 50, 50, 50, 300, 800, 1300]],\n",
    "               \n",
    "               [[0, 60, 60, 510, 510, 510, 1260, 2010],\n",
    "               [0, 50, 50, 50, 500, 500, 1250, 2000],\n",
    "               [0, 50, 50, 50, 500, 500, 1250, 2000],\n",
    "               [0, 50, 50, 50, 50, 500, 1250, 2000],\n",
    "               [0, 50, 50, 50, 50, 500, 1250, 2000]]]\n",
    "\n",
    "incr = [30, 30, 30, 20, 20]"
   ]
  },
  {
   "cell_type": "code",
   "execution_count": 598,
   "metadata": {
    "ExecuteTime": {
     "end_time": "2019-07-25T19:27:05.369644Z",
     "start_time": "2019-07-25T19:27:05.361353Z"
    }
   },
   "outputs": [],
   "source": [
    "def score_contract(contr, made, vul=0.5):\n",
    "    diff = int(made) - int(contr[0])\n",
    "    if diff < 0:\n",
    "        return (vul) * penalties[1][-diff] + (1 - vul) * penalties[0][-diff]\n",
    "    else:\n",
    "        str_i = strains.index(contr[1:])\n",
    "        return made * incr[str_i] + (vul) * base_scores[1][str_i][int(contr[0])] + (1 - vul) * base_scores[0][str_i][int(contr[0])]\n"
   ]
  },
  {
   "cell_type": "code",
   "execution_count": 599,
   "metadata": {
    "ExecuteTime": {
     "end_time": "2019-07-25T19:27:05.514634Z",
     "start_time": "2019-07-25T19:27:05.511630Z"
    }
   },
   "outputs": [],
   "source": [
    "#score_contract('1NT', 3, 0)\n",
    "#    output: 150"
   ]
  },
  {
   "cell_type": "code",
   "execution_count": 600,
   "metadata": {
    "ExecuteTime": {
     "end_time": "2019-07-25T19:27:05.667923Z",
     "start_time": "2019-07-25T19:27:05.660674Z"
    }
   },
   "outputs": [],
   "source": [
    "IMPscale = [15, 45, 85, 125, 165, 215, 265, 315, 365, 425, 495, 595, 745, 895, 1095, 1295, 1495, 1745, 1995, 2245, 2495, 2995, 3495, 3995, 99999]\n",
    "\n",
    "def points_to_IMPs(pt_diff):\n",
    "    if pt_diff < 0:\n",
    "        return -points_to_IMPs(-pt_diff)\n",
    "    for j in range(0, len(IMPscale)):\n",
    "        if pt_diff < IMPscale[j]:\n",
    "            return j"
   ]
  },
  {
   "cell_type": "code",
   "execution_count": 601,
   "metadata": {
    "ExecuteTime": {
     "end_time": "2019-07-25T19:27:05.812343Z",
     "start_time": "2019-07-25T19:27:05.809299Z"
    }
   },
   "outputs": [],
   "source": [
    "#points_to_IMPs(score_contract('3NT', 3, 0) - score_contract('1NT', 3, 0))\n",
    "#    output: 6"
   ]
  },
  {
   "cell_type": "markdown",
   "metadata": {},
   "source": [
    "# Double dummy solver and utilities"
   ]
  },
  {
   "cell_type": "code",
   "execution_count": 602,
   "metadata": {
    "ExecuteTime": {
     "end_time": "2019-07-25T19:27:06.102410Z",
     "start_time": "2019-07-25T19:27:06.097518Z"
    }
   },
   "outputs": [],
   "source": [
    "# To generate and solve a random deal: Deal().solve()"
   ]
  },
  {
   "cell_type": "code",
   "execution_count": 603,
   "metadata": {
    "ExecuteTime": {
     "end_time": "2019-07-25T19:27:06.254703Z",
     "start_time": "2019-07-25T19:27:06.250496Z"
    }
   },
   "outputs": [],
   "source": [
    "def solveDD(pbn):\n",
    "    #pbn = 'AKJ852.AKT3..KT9 T3.Q62.5.AQJ8763 Q764.98754.J872. 9.J.AKQT9643.542'\n",
    "    os.system('echo \\\"1\\n' + pbn + '\\n\\\" > myd.txt')\n",
    "    out = os.popen('./dds-master/examples/CalcAllTablesPBN < myd.txt').read()\n",
    "    return out[70:-1]"
   ]
  },
  {
   "cell_type": "code",
   "execution_count": 681,
   "metadata": {
    "ExecuteTime": {
     "end_time": "2019-07-25T19:53:38.059328Z",
     "start_time": "2019-07-25T19:53:38.053829Z"
    }
   },
   "outputs": [],
   "source": [
    "def decode_hex(x):\n",
    "    if x == 'A':\n",
    "        return 10.0\n",
    "    if x == 'B':\n",
    "        return 11.0\n",
    "    if x == 'C':\n",
    "        return 12.0\n",
    "    if x == 'D':\n",
    "        return 13.0\n",
    "    return float(x)"
   ]
  },
  {
   "cell_type": "code",
   "execution_count": 682,
   "metadata": {
    "ExecuteTime": {
     "end_time": "2019-07-25T19:53:38.189012Z",
     "start_time": "2019-07-25T19:53:38.183629Z"
    }
   },
   "outputs": [],
   "source": [
    "def decode_winners(sol):\n",
    "    wnrs = [{} for _ in range(0, len(strains))]\n",
    "    for s_idx in range(len(strains)):\n",
    "        wnrs[s_idx] = {played_from[pl]: 13 - decode_hex(sol[4*s_idx + pl]) \\\n",
    "                        for pl in range(len(played_from))}\n",
    "    return wnrs"
   ]
  },
  {
   "cell_type": "markdown",
   "metadata": {},
   "source": [
    "# Classes"
   ]
  },
  {
   "cell_type": "code",
   "execution_count": 605,
   "metadata": {
    "ExecuteTime": {
     "end_time": "2019-07-25T19:27:06.723473Z",
     "start_time": "2019-07-25T19:27:06.709416Z"
    }
   },
   "outputs": [],
   "source": [
    "class Card(tuple):\n",
    "    '''Buidable both as Card('Ad'), Card('5', 'd') or Card(12, 3) (2s).\n",
    "    [0] and [1] return integers, .val() and .suit() return 1-length str\n",
    "    '''\n",
    "    \n",
    "    # Represents card as a pair val, suit in [0, 12] x [0, 3]\n",
    "    def __new__(self, *args):\n",
    "        if len(args) == 1:\n",
    "            val, suit = args[0][0], args[0][1]\n",
    "        elif len(args) == 2:\n",
    "            val, suit = args[0], args[1]\n",
    "        else:\n",
    "            raise TypeError('Invalid number of arguments')\n",
    "            \n",
    "        if isinstance(suit, str):\n",
    "            suit = suits.find(suit)\n",
    "            if suit == -1:\n",
    "                raise ValueError(\"Invalid suit\")\n",
    "        if isinstance(val, str):\n",
    "            val = card_vals.find(val)\n",
    "            if val == -1:\n",
    "                raise ValueError(\"Invalid card\")\n",
    "        if type(val) != int or type(suit) != int:\n",
    "            raise TypeError\n",
    "        if val < 0 or val >= len(card_vals) or suit < 0 or suit >= len(suits):\n",
    "            raise ValueError('Value out of bounds')\n",
    "            \n",
    "        return tuple.__new__(self, (val, suit))\n",
    "    \n",
    "    def val(self):\n",
    "        return card_vals[self[0]]\n",
    "    \n",
    "    def suit(self):\n",
    "        return suits[self[1]]\n",
    "    \n",
    "    def pos(self):\n",
    "        #position in deck\n",
    "        return self[0] + 13 * (3 - self[1])\n",
    "    \n",
    "    def __repr__(self):\n",
    "        return self.val() + self.suit()\n",
    "    \n",
    "    def __lt__(self, other):\n",
    "        if self[1] == other[1]:\n",
    "            return self[0] < other[0]\n",
    "        return self[1] > other[1]\n",
    "\n",
    "    def __le__(self, other):\n",
    "        if self[1] == other[1]:\n",
    "            return self[0] <= other[0]\n",
    "        return self[1] > other[1]\n"
   ]
  },
  {
   "cell_type": "code",
   "execution_count": 863,
   "metadata": {
    "ExecuteTime": {
     "end_time": "2019-07-25T20:41:55.065047Z",
     "start_time": "2019-07-25T20:41:55.060574Z"
    }
   },
   "outputs": [],
   "source": [
    "deck = [Card(c, s) for c in range(len(card_vals)) for s in range(len(suits))]\n",
    "deck = sorted(deck)"
   ]
  },
  {
   "cell_type": "code",
   "execution_count": 864,
   "metadata": {
    "ExecuteTime": {
     "end_time": "2019-07-25T20:41:55.408383Z",
     "start_time": "2019-07-25T20:41:55.393905Z"
    }
   },
   "outputs": [],
   "source": [
    "class Hand(tuple):\n",
    "    '''Accepts either lists of Cards or Cards themselves.\n",
    "    Hand() generates a random hand.\n",
    "    \n",
    "    Attributes: self (tuple of length 13), .cards() (list), .pbn()\n",
    "    '''\n",
    "    \n",
    "    def __new__(self, *args):\n",
    "        cds = []\n",
    "        if args:\n",
    "            for a in args:\n",
    "                if isinstance(a, Card):\n",
    "                    cds.append(a)\n",
    "                else:\n",
    "                    try:\n",
    "                        cds += [c for c in a if isinstance(c, Card)]\n",
    "                    except TypeError:\n",
    "                        raise TypeError('Invalid constructor argument type')\n",
    "            if len(cds) != len(card_vals):\n",
    "                raise ValueError('Too few/many cards (' + str(len(cds)) + ')')\n",
    "        else:\n",
    "            # Generates a random hand\n",
    "            cds = random.sample(deck, len(card_vals))\n",
    "        \n",
    "        return tuple.__new__(self, sorted(cds))\n",
    "\n",
    "    def cards(self):\n",
    "        return list(self)\n",
    "    \n",
    "    def pbn(self):\n",
    "        s = []\n",
    "        c_suit = 3\n",
    "        for c in self:\n",
    "            while c_suit != c[1]:\n",
    "                s.append('.')\n",
    "                c_suit -= 1\n",
    "            s.append(card_vals[c[0]])\n",
    "        while c_suit != 0:\n",
    "            s.append('.')\n",
    "            c_suit -= 1\n",
    "        return ''.join(s)\n",
    "    \n",
    "    def from_pbn(pbn):\n",
    "        return Hand()\n",
    "    \n",
    "    def from_pbn(pbn):\n",
    "        c_suit = 3\n",
    "        cds = []\n",
    "        for c in pbn:\n",
    "            if c == '.':\n",
    "                c_suit -= 1\n",
    "            else:\n",
    "                cds.append(Card(c + suits[c_suit]))\n",
    "        return Hand(cds)\n",
    "    \n",
    "    def mask(self):\n",
    "        mask = np.zeros(len(deck))\n",
    "        mask[[c.pos() for c in self]] = 1\n",
    "        return mask\n",
    "    \n",
    "    def from_mask(mask):\n",
    "        cds = []\n",
    "        for i, x in enumerate(mask):\n",
    "            if x == 1:\n",
    "                cds.append(deck[i])\n",
    "        return Hand(cds)"
   ]
  },
  {
   "cell_type": "code",
   "execution_count": 871,
   "metadata": {
    "ExecuteTime": {
     "end_time": "2019-07-25T20:42:12.850243Z",
     "start_time": "2019-07-25T20:42:12.823132Z"
    }
   },
   "outputs": [],
   "source": [
    "class Deal(object):\n",
    "    '''Accepts four Hands\n",
    "    '''\n",
    "    \n",
    "    def __init__(self, *args):\n",
    "        hds = []\n",
    "        if args:\n",
    "            for a in args:\n",
    "                if isinstance(a, Hand):\n",
    "                    hds.append(a)\n",
    "                else:\n",
    "                    try:\n",
    "                        hds += [c for c in a if isinstance(c, Hand)]\n",
    "                    except TypeError:\n",
    "                        raise TypeError('Invalid constructor argument type')\n",
    "            if len(hds) != len(played_from):\n",
    "                raise ValueError('Too few/many hands (' + str(len(hds)) + ')')\n",
    "        else:\n",
    "            # Generates a random deal\n",
    "            dck = [Card(c, s) for c in range(len(card_vals)) for s in range(len(suits))]\n",
    "            random.shuffle(dck)\n",
    "            hds = [Hand(sorted(dck[len(card_vals) * j: len(card_vals) * (j+1)])) \\\n",
    "                   for j in range(len(played_from))]\n",
    "            \n",
    "        msk_sum = np.zeros(len(deck))\n",
    "        for h in hds:\n",
    "            msk_sum += h.mask()\n",
    "        if (msk_sum != np.ones(len(deck))).any():\n",
    "            raise ValueError('Wrong cards supplied')\n",
    "        \n",
    "        self.hands = hds\n",
    "    \n",
    "    def from_NS(handN, handS):\n",
    "        msk_left = np.ones(len(deck)) - handN.mask() - handS.mask()\n",
    "        dck_left = [deck[i] for i, x in enumerate(msk_left) if x == 1]\n",
    "        random.shuffle(dck_left)\n",
    "        return Deal(handN, Hand(dck_left[:13]), handS, Hand(dck_left[13:]))\n",
    "    \n",
    "    def pbn(self):\n",
    "        return ' '.join([h.pbn() for h in self.hands])\n",
    "    \n",
    "    def from_pbn(pbn):\n",
    "        len_pbn = (len(card_vals) + 4)\n",
    "        return Deal([Hand.from_pbn(pbn[j * len_pbn:j * len_pbn + 16]) \\\n",
    "                     for j in range(len(played_from))])\n",
    "    \n",
    "    def set_wnrs(self, wnrs):\n",
    "        self.wnrs = wnrs\n",
    "        return self\n",
    "    \n",
    "    def from_line(pbn):\n",
    "        return Deal.from_pbn(pbn[2:69]).set_wnrs(decode_winners(pbn[70:90]))\n",
    "    \n",
    "    def solve(self):\n",
    "        '''Fills the .wnrs table'''\n",
    "        if not hasattr(self, 'wnrs'):\n",
    "            sol = solveDD(self.pbn())\n",
    "            self.wnrs = decode_winners(sol)\n",
    "        return self\n",
    "    \n",
    "    def score(self, contract, side='NS', vul=0.5):\n",
    "        # To be played from e.g. north, set side = 'N'\n",
    "        self.solve()\n",
    "        sum_s = 0\n",
    "        for sd in side:\n",
    "            s_idx = strains.index(contract[1:])\n",
    "            sum_s += score_contract(contract, self.wnrs[s_idx][sd] - 6, vul)\n",
    "        return sum_s / len(side)\n",
    "    \n",
    "    def IMP_diff(self, contract1, contract2, side1='NS', side2='NS', vul=0.5):\n",
    "        # positive = first contract is better\n",
    "        return points_to_IMPs(self.score(contract1, side1, vul) - \\\n",
    "                              self.score(contract2, side2, vul))\n",
    "    \n",
    "    def best_contract(self, vul=0.5):\n",
    "        sides = ['NS', 'N', 'S']\n",
    "        bc = '1NT'\n",
    "        bs = 'NS'\n",
    "        for c in contracts:\n",
    "            for s in sides:\n",
    "                if self.IMP_diff(bc, c, bs, s, vul) < 0:\n",
    "                    bc, bs = c, s\n",
    "        self.best_c = bc, bs\n",
    "        return bc, bs\n",
    "    \n",
    "    def ev(self, contract, side='NS', vul=0.5):\n",
    "        if not hasattr(self, 'best_c'):\n",
    "            self.best_contract()\n",
    "        return points_to_IMPs(self.score(contract, side, vul) - \\\n",
    "                              self.score(self.best_c[0], self.best_c[1], vul))"
   ]
  },
  {
   "cell_type": "code",
   "execution_count": 876,
   "metadata": {
    "ExecuteTime": {
     "end_time": "2019-07-25T20:44:07.437135Z",
     "start_time": "2019-07-25T20:44:07.432216Z"
    }
   },
   "outputs": [],
   "source": [
    "def score(h1, h2, contract, side='NS', vul=0.5, batch_size=5):\n",
    "    # approx 0.5 sec per simulated deal\n",
    "    rt = 0\n",
    "    for i in range(batch_size):\n",
    "        newDeal = Deal.from_NS(h1, h2)\n",
    "        rt += newDeal.ev(contract, side, vul)\n",
    "    return rt / batch_size"
   ]
  },
  {
   "cell_type": "code",
   "execution_count": 882,
   "metadata": {
    "ExecuteTime": {
     "end_time": "2019-07-25T20:44:58.786361Z",
     "start_time": "2019-07-25T20:44:53.963375Z"
    }
   },
   "outputs": [
    {
     "data": {
      "text/plain": [
       "-5.0"
      ]
     },
     "execution_count": 882,
     "metadata": {},
     "output_type": "execute_result"
    }
   ],
   "source": [
    "score(h1, h2, '1NT')"
   ]
  },
  {
   "cell_type": "code",
   "execution_count": 872,
   "metadata": {
    "ExecuteTime": {
     "end_time": "2019-07-25T20:42:13.269014Z",
     "start_time": "2019-07-25T20:42:13.265486Z"
    }
   },
   "outputs": [],
   "source": [
    "myd = Deal()"
   ]
  },
  {
   "cell_type": "code",
   "execution_count": 875,
   "metadata": {
    "ExecuteTime": {
     "end_time": "2019-07-25T20:42:14.471064Z",
     "start_time": "2019-07-25T20:42:14.465122Z"
    },
    "scrolled": true
   },
   "outputs": [
    {
     "data": {
      "text/plain": [
       "<__main__.Deal at 0x102f313c8>"
      ]
     },
     "execution_count": 875,
     "metadata": {},
     "output_type": "execute_result"
    }
   ],
   "source": [
    "Deal.from_NS(h1, h2)"
   ]
  },
  {
   "cell_type": "code",
   "execution_count": 815,
   "metadata": {
    "ExecuteTime": {
     "end_time": "2019-07-25T20:22:13.816372Z",
     "start_time": "2019-07-25T20:22:13.812505Z"
    }
   },
   "outputs": [],
   "source": [
    "myd = Deal()"
   ]
  },
  {
   "cell_type": "code",
   "execution_count": 820,
   "metadata": {
    "ExecuteTime": {
     "end_time": "2019-07-25T20:30:17.197645Z",
     "start_time": "2019-07-25T20:30:17.191571Z"
    }
   },
   "outputs": [
    {
     "data": {
      "text/plain": [
       "('1s', 'NS')"
      ]
     },
     "execution_count": 820,
     "metadata": {},
     "output_type": "execute_result"
    }
   ],
   "source": [
    "myd.best_contract()"
   ]
  },
  {
   "cell_type": "code",
   "execution_count": 821,
   "metadata": {
    "ExecuteTime": {
     "end_time": "2019-07-25T20:30:20.796801Z",
     "start_time": "2019-07-25T20:30:20.791728Z"
    },
    "scrolled": true
   },
   "outputs": [
    {
     "data": {
      "text/plain": [
       "-12"
      ]
     },
     "execution_count": 821,
     "metadata": {},
     "output_type": "execute_result"
    }
   ],
   "source": [
    "myd.ev('1c')"
   ]
  },
  {
   "cell_type": "code",
   "execution_count": 755,
   "metadata": {
    "ExecuteTime": {
     "end_time": "2019-07-25T20:12:19.203009Z",
     "start_time": "2019-07-25T20:12:19.197177Z"
    }
   },
   "outputs": [
    {
     "data": {
      "text/plain": [
       "['1NT',\n",
       " '1c',\n",
       " '1d',\n",
       " '1h',\n",
       " '1s',\n",
       " '2NT',\n",
       " '2c',\n",
       " '2d',\n",
       " '2h',\n",
       " '2s',\n",
       " '3NT',\n",
       " '3c',\n",
       " '3d',\n",
       " '3h',\n",
       " '3s',\n",
       " '4NT',\n",
       " '4c',\n",
       " '4d',\n",
       " '4h',\n",
       " '4s',\n",
       " '5NT',\n",
       " '5c',\n",
       " '5d',\n",
       " '5h',\n",
       " '5s',\n",
       " '6NT',\n",
       " '6c',\n",
       " '6d',\n",
       " '6h',\n",
       " '6s',\n",
       " '7NT',\n",
       " '7c',\n",
       " '7d',\n",
       " '7h',\n",
       " '7s']"
      ]
     },
     "execution_count": 755,
     "metadata": {},
     "output_type": "execute_result"
    }
   ],
   "source": [
    "contracts"
   ]
  },
  {
   "cell_type": "code",
   "execution_count": 742,
   "metadata": {
    "ExecuteTime": {
     "end_time": "2019-07-25T20:09:30.769255Z",
     "start_time": "2019-07-25T20:09:30.762401Z"
    }
   },
   "outputs": [
    {
     "data": {
      "text/plain": [
       "520"
      ]
     },
     "execution_count": 742,
     "metadata": {},
     "output_type": "execute_result"
    }
   ],
   "source": [
    "score_contract('3NT', 7, 0)"
   ]
  },
  {
   "cell_type": "code",
   "execution_count": 753,
   "metadata": {
    "ExecuteTime": {
     "end_time": "2019-07-25T20:11:32.399326Z",
     "start_time": "2019-07-25T20:11:32.220238Z"
    }
   },
   "outputs": [
    {
     "data": {
      "text/plain": [
       "-8"
      ]
     },
     "execution_count": 753,
     "metadata": {},
     "output_type": "execute_result"
    }
   ],
   "source": [
    "Deal().IMP_diff('3NT', '1NT')"
   ]
  },
  {
   "cell_type": "code",
   "execution_count": 700,
   "metadata": {
    "ExecuteTime": {
     "end_time": "2019-07-25T20:02:13.996455Z",
     "start_time": "2019-07-25T20:02:13.986938Z"
    }
   },
   "outputs": [
    {
     "ename": "TypeError",
     "evalue": "unsupported operand type(s) for -: 'list' and 'list'",
     "output_type": "error",
     "traceback": [
      "\u001b[0;31m---------------------------------------------------------------------------\u001b[0m",
      "\u001b[0;31mTypeError\u001b[0m                                 Traceback (most recent call last)",
      "\u001b[0;32m<ipython-input-700-f132cb7d1da3>\u001b[0m in \u001b[0;36m<module>\u001b[0;34m\u001b[0m\n\u001b[0;32m----> 1\u001b[0;31m \u001b[0mplayed_from\u001b[0m \u001b[0;34m-\u001b[0m \u001b[0mplayers\u001b[0m\u001b[0;34m\u001b[0m\u001b[0;34m\u001b[0m\u001b[0m\n\u001b[0m",
      "\u001b[0;31mTypeError\u001b[0m: unsupported operand type(s) for -: 'list' and 'list'"
     ]
    }
   ],
   "source": [
    "played_from - players"
   ]
  },
  {
   "cell_type": "code",
   "execution_count": 696,
   "metadata": {
    "ExecuteTime": {
     "end_time": "2019-07-25T19:58:24.643468Z",
     "start_time": "2019-07-25T19:58:24.638530Z"
    }
   },
   "outputs": [
    {
     "data": {
      "text/plain": [
       "'AAAA9898AAAAA9A9A9A9'"
      ]
     },
     "execution_count": 696,
     "metadata": {},
     "output_type": "execute_result"
    }
   ],
   "source": [
    "'N:J.KQ63.KJ82.K652 AK7.J9.A654.AJ74 T96542.54.T3.T98 Q83.AT872.Q97.Q3:AAAA9898AAAAA9A9A9A9'[70:90]"
   ]
  },
  {
   "cell_type": "code",
   "execution_count": 699,
   "metadata": {
    "ExecuteTime": {
     "end_time": "2019-07-25T19:58:33.190398Z",
     "start_time": "2019-07-25T19:58:33.184340Z"
    }
   },
   "outputs": [
    {
     "data": {
      "text/plain": [
       "'J.KQ63.KJ82.K652 AK7.J9.A654.AJ74 T96542.54.T3.T98 Q83.AT872.Q97.Q3'"
      ]
     },
     "execution_count": 699,
     "metadata": {},
     "output_type": "execute_result"
    }
   ],
   "source": [
    "Deal.from_line('N:J.KQ63.KJ82.K652 AK7.J9.A654.AJ74 T96542.54.T3.T98 Q83.AT872.Q97.Q3:AAAA9898AAAAA9A9A9A9')\n"
   ]
  },
  {
   "cell_type": "code",
   "execution_count": 685,
   "metadata": {
    "ExecuteTime": {
     "end_time": "2019-07-25T19:54:11.850119Z",
     "start_time": "2019-07-25T19:54:11.843928Z"
    }
   },
   "outputs": [
    {
     "data": {
      "text/plain": [
       "<__main__.Deal at 0x112a7ef60>"
      ]
     },
     "execution_count": 685,
     "metadata": {},
     "output_type": "execute_result"
    }
   ],
   "source": [
    "Deal.from_pbn(Deal().pbn())"
   ]
  },
  {
   "cell_type": "code",
   "execution_count": 687,
   "metadata": {
    "ExecuteTime": {
     "end_time": "2019-07-25T19:54:26.361460Z",
     "start_time": "2019-07-25T19:54:24.549977Z"
    }
   },
   "outputs": [
    {
     "data": {
      "text/plain": [
       "[{'S': 5.0, 'E': 5.0, 'N': 5.0, 'W': 5.0},\n",
       " {'S': 6.0, 'E': 6.0, 'N': 6.0, 'W': 6.0},\n",
       " {'S': 4.0, 'E': 4.0, 'N': 4.0, 'W': 4.0},\n",
       " {'S': 4.0, 'E': 4.0, 'N': 4.0, 'W': 4.0},\n",
       " {'S': 3.0, 'E': 4.0, 'N': 3.0, 'W': 3.0}]"
      ]
     },
     "execution_count": 687,
     "metadata": {},
     "output_type": "execute_result"
    }
   ],
   "source": [
    "Deal().solve().wnrs"
   ]
  },
  {
   "cell_type": "code",
   "execution_count": null,
   "metadata": {},
   "outputs": [],
   "source": []
  }
 ],
 "metadata": {
  "kernelspec": {
   "display_name": "Python 3",
   "language": "python",
   "name": "python3"
  },
  "language_info": {
   "codemirror_mode": {
    "name": "ipython",
    "version": 3
   },
   "file_extension": ".py",
   "mimetype": "text/x-python",
   "name": "python",
   "nbconvert_exporter": "python",
   "pygments_lexer": "ipython3",
   "version": "3.7.3"
  },
  "toc": {
   "base_numbering": 1,
   "nav_menu": {},
   "number_sections": true,
   "sideBar": true,
   "skip_h1_title": false,
   "title_cell": "Table of Contents",
   "title_sidebar": "Contents",
   "toc_cell": false,
   "toc_position": {},
   "toc_section_display": true,
   "toc_window_display": false
  }
 },
 "nbformat": 4,
 "nbformat_minor": 2
}
