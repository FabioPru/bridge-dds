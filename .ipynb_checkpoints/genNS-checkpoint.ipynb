{
 "cells": [
  {
   "cell_type": "code",
   "execution_count": 2,
   "metadata": {
    "ExecuteTime": {
     "end_time": "2019-06-12T20:57:32.467526Z",
     "start_time": "2019-06-12T20:57:32.464281Z"
    }
   },
   "outputs": [],
   "source": [
    "cards = \"ABCDE98765432\"\n",
    "suits = \"shdc\""
   ]
  },
  {
   "cell_type": "code",
   "execution_count": 3,
   "metadata": {
    "ExecuteTime": {
     "end_time": "2019-06-12T20:57:32.687459Z",
     "start_time": "2019-06-12T20:57:32.683271Z"
    }
   },
   "outputs": [],
   "source": [
    "def fix(x):\n",
    "    if x == 'A':\n",
    "        return 'T'\n",
    "    if x == 'B':\n",
    "        return 'J'\n",
    "    if x == 'C':\n",
    "        return 'Q'\n",
    "    if x == 'D':\n",
    "        return 'K'\n",
    "    if x == 'E':\n",
    "        return 'A'\n",
    "    return x"
   ]
  },
  {
   "cell_type": "code",
   "execution_count": 4,
   "metadata": {
    "ExecuteTime": {
     "end_time": "2019-06-12T20:57:32.887224Z",
     "start_time": "2019-06-12T20:57:32.883810Z"
    }
   },
   "outputs": [],
   "source": [
    "deck = []\n",
    "for c in cards:\n",
    "    for s in suits:\n",
    "        deck.append(c+s)"
   ]
  },
  {
   "cell_type": "code",
   "execution_count": 5,
   "metadata": {
    "ExecuteTime": {
     "end_time": "2019-06-12T20:57:33.088795Z",
     "start_time": "2019-06-12T20:57:33.085564Z"
    }
   },
   "outputs": [],
   "source": [
    "import random, sys\n"
   ]
  },
  {
   "cell_type": "code",
   "execution_count": 2,
   "metadata": {
    "ExecuteTime": {
     "end_time": "2019-06-18T14:20:31.391549Z",
     "start_time": "2019-06-18T14:20:30.959678Z"
    }
   },
   "outputs": [
    {
     "name": "stdout",
     "output_type": "stream",
     "text": [
      "100\n",
      "J.A73.T8.AQJ9543 AKQ2.T64.KQ62.K8 965.Q98.AJ75.762 T8743.KJ52.943.T\n",
      "J.A73.T8.AQJ9543 7432.K6542.Q962. 965.Q98.AJ75.762 AKQT8.JT.K43.KT8\n",
      "J.A73.T8.AQJ9543 AKT7.KJ642.KQ9.K 965.Q98.AJ75.762 Q8432.T5.6432.T8\n",
      "J.A73.T8.AQJ9543 AKT73.KJ2.432.KT 965.Q98.AJ75.762 Q842.T654.KQ96.8\n",
      "J.A73.T8.AQJ9543 KQT.KJ62.KQ62.T8 965.Q98.AJ75.762 A87432.T54.943.K\n",
      "J.A73.T8.AQJ9543 KQ82.K42.6432.T8 965.Q98.AJ75.762 AT743.JT65.KQ9.K\n",
      "J.A73.T8.AQJ9543 K73.JT542.K963.K 965.Q98.AJ75.762 AQT842.K6.Q42.T8\n",
      "J.A73.T8.AQJ9543 Q32.KJ542.KQ432. 965.Q98.AJ75.762 AKT874.T6.96.KT8\n",
      "J.A73.T8.AQJ9543 AKQ2.KJ6542.Q32. 965.Q98.AJ75.762 T8743.T.K964.KT8\n",
      "J.A73.T8.AQJ9543 AQ8732.KJ.Q9432. 965.Q98.AJ75.762 KT4.T6542.K6.KT8\n",
      "J.A73.T8.AQJ9543 QT73.J42.Q94.KT8 965.Q98.AJ75.762 AK842.KT65.K632.\n",
      "J.A73.T8.AQJ9543 8432.62.K9643.K8 965.Q98.AJ75.762 AKQT7.KJT54.Q2.T\n",
      "J.A73.T8.AQJ9543 AK732.KJT65.Q3.T 965.Q98.AJ75.762 QT84.42.K9642.K8\n",
      "J.A73.T8.AQJ9543 QT43.KJ42.Q643.K 965.Q98.AJ75.762 AK872.T65.K92.T8\n",
      "J.A73.T8.AQJ9543 AKT72.KT65.K9.K8 965.Q98.AJ75.762 Q843.J42.Q6432.T\n",
      "J.A73.T8.AQJ9543 AQT32.KJT4.62.KT 965.Q98.AJ75.762 K874.652.KQ943.8\n",
      "J.A73.T8.AQJ9543 AKQT4.KJ652.KQ9. 965.Q98.AJ75.762 8732.T4.6432.KT8\n",
      "J.A73.T8.AQJ9543 AQ2.JT65.932.KT8 965.Q98.AJ75.762 KT8743.K42.KQ64.\n",
      "J.A73.T8.AQJ9543 T82.JT642.KQ963. 965.Q98.AJ75.762 AKQ743.K5.42.KT8\n",
      "J.A73.T8.AQJ9543 AK82.KT6.642.KT8 965.Q98.AJ75.762 QT743.J542.KQ93.\n",
      "Q76.QT6.AQJ96.75 9842.KJ3.42.AQ83 J5.7542.T83.JT64 AKT3.A98.K75.K92\n",
      "Q76.QT6.AQJ96.75 T98.AJ3.4.AKQ932 J5.7542.T83.JT64 AK432.K98.K752.8\n",
      "Q76.QT6.AQJ96.75 AT98.A8.K754.KQ9 J5.7542.T83.JT64 K432.KJ93.2.A832\n",
      "Q76.QT6.AQJ96.75 432.AK9.742.AQ32 J5.7542.T83.JT64 AKT98.J83.K5.K98\n",
      "Q76.QT6.AQJ96.75 AT98.AJ3.K2.AQ92 J5.7542.T83.JT64 K432.K98.754.K83\n",
      "Q76.QT6.AQJ96.75 94.A983.754.KQ83 J5.7542.T83.JT64 AKT832.KJ.K2.A92\n",
      "Q76.QT6.AQJ96.75 AK9843.93.K.KQ32 J5.7542.T83.JT64 T2.AKJ8.7542.A98\n",
      "Q76.QT6.AQJ96.75 KT9432.93.72.K83 J5.7542.T83.JT64 A8.AKJ8.K54.AQ92\n",
      "Q76.QT6.AQJ96.75 AKT93.J3.7.AK982 J5.7542.T83.JT64 842.AK98.K542.Q3\n",
      "Q76.QT6.AQJ96.75 932.KJ983.742.A2 J5.7542.T83.JT64 AKT84.A.K5.KQ983\n",
      "Q76.QT6.AQJ96.75 A94.AKJ3.742.932 J5.7542.T83.JT64 KT832.98.K5.AKQ8\n",
      "Q76.QT6.AQJ96.75 AT8.AJ8.75.Q9832 J5.7542.T83.JT64 K9432.K93.K42.AK\n",
      "Q76.QT6.AQJ96.75 KT84.A83.K542.AK J5.7542.T83.JT64 A932.KJ9.7.Q9832\n",
      "Q76.QT6.AQJ96.75 AK432.A3.7542.K9 J5.7542.T83.JT64 T98.KJ98.K.AQ832\n",
      "Q76.QT6.AQJ96.75 K32.KJ9.K7.AQ932 J5.7542.T83.JT64 AT984.A83.542.K8\n",
      "Q76.QT6.AQJ96.75 A43.AKJ8.2.AKQ93 J5.7542.T83.JT64 KT982.93.K754.82\n",
      "Q76.QT6.AQJ96.75 T432.AKJ8.54.AK2 J5.7542.T83.JT64 AK98.93.K72.Q983\n",
      "Q76.QT6.AQJ96.75 AK3.K8.542.KQ832 J5.7542.T83.JT64 T9842.AJ93.K7.A9\n",
      "Q76.QT6.AQJ96.75 K9842.AKJ9.K52.2 J5.7542.T83.JT64 AT3.83.74.AKQ983\n",
      "Q76.QT6.AQJ96.75 AKT8.K98.K2.AKQ3 J5.7542.T83.JT64 9432.AJ3.754.982\n",
      "53.AKT43.J4.KT42 42.65.A962.AQJ76 A86.Q87.KT73.985 KQJT97.J92.Q85.3\n",
      "53.AKT43.J4.KT42 JT9742.J65.985.6 A86.Q87.KT73.985 KQ.92.AQ62.AQJ73\n",
      "53.AKT43.J4.KT42 T4.96.AQ986.AJ73 A86.Q87.KT73.985 KQJ972.J52.52.Q6\n",
      "53.AKT43.J4.KT42 QJT94.96.A6.A763 A86.Q87.KT73.985 K72.J52.Q9852.QJ\n",
      "53.AKT43.J4.KT42 KQ92.J2.Q962.763 A86.Q87.KT73.985 JT74.965.A85.AQJ\n",
      "53.AKT43.J4.KT42 942.J5.A85.AQJ63 A86.Q87.KT73.985 KQJT7.962.Q962.7\n",
      "53.AKT43.J4.KT42 9742.2.Q9865.A63 A86.Q87.KT73.985 KQJT.J965.A2.QJ7\n",
      "53.AKT43.J4.KT42 KJ92.965.A95.AQ6 A86.Q87.KT73.985 QT74.J2.Q862.J73\n",
      "53.AKT43.J4.KT42 KQT742.5.AQ95.73 A86.Q87.KT73.985 J9.J962.862.AQJ6\n",
      "53.AKT43.J4.KT42 QJ94.J65.Q952.QJ A86.Q87.KT73.985 KT72.92.A86.A763\n",
      "53.AKT43.J4.KT42 J92.J6.AQ8652.63 A86.Q87.KT73.985 KQT74.952.9.AQJ7\n",
      "53.AKT43.J4.KT42 KJT942.65.A8.J63 A86.Q87.KT73.985 Q7.J92.Q9652.AQ7\n",
      "53.AKT43.J4.KT42 KQ97.J96.A52.QJ3 A86.Q87.KT73.985 JT42.52.Q986.A76\n",
      "53.AKT43.J4.KT42 KQJ.962.Q952.A76 A86.Q87.KT73.985 T9742.J5.A86.QJ3\n",
      "53.AKT43.J4.KT42 94.652.A9652.Q63 A86.Q87.KT73.985 KQJT72.J9.Q8.AJ7\n",
      "53.AKT43.J4.KT42 KQ72.J96.Q96.A73 A86.Q87.KT73.985 JT94.52.A852.QJ6\n",
      "53.AKT43.J4.KT42 KQJ74.J96.A9.J76 A86.Q87.KT73.985 T92.52.Q8652.AQ3\n",
      "53.AKT43.J4.KT42 KJT.J62.AQ5.AQ73 A86.Q87.KT73.985 Q9742.95.9862.J6\n",
      "53.AKT43.J4.KT42 T.J965.986.AQJ73 A86.Q87.KT73.985 KQJ9742.2.AQ52.6\n",
      "53.AKT43.J4.KT42 KT97.92.952.AJ73 A86.Q87.KT73.985 QJ42.J65.AQ86.Q6\n",
      "Q8742.T98.A4.Q87 A965.652.KQ973.2 KJ3.AQ73.J652.T9 T.KJ4.T8.AKJ6543\n",
      "Q8742.T98.A4.Q87 T65.KJ.Q83.AJ532 KJ3.AQ73.J652.T9 A9.6542.KT97.K64\n",
      "Q8742.T98.A4.Q87 T965.K54.KT97.52 KJ3.AQ73.J652.T9 A.J62.Q83.AKJ643\n",
      "Q8742.T98.A4.Q87 T9.6542.T987.AJ6 KJ3.AQ73.J652.T9 A65.KJ.KQ3.K5432\n",
      "Q8742.T98.A4.Q87 T65.5.T98.A65432 KJ3.AQ73.J652.T9 A9.KJ642.KQ73.KJ\n",
      "Q8742.T98.A4.Q87 T6.K52.873.K6543 KJ3.AQ73.J652.T9 A95.J64.KQT9.AJ2\n",
      "Q8742.T98.A4.Q87 AT6.K4.KT3.AK432 KJ3.AQ73.J652.T9 95.J652.Q987.J65\n",
      "Q8742.T98.A4.Q87 965.64.K93.AK643 KJ3.AQ73.J652.T9 AT.KJ52.QT87.J52\n",
      "Q8742.T98.A4.Q87 96.KJ54.KT973.52 KJ3.AQ73.J652.T9 AT5.62.Q8.AKJ643\n",
      "Q8742.T98.A4.Q87 9.K62.9873.K6532 KJ3.AQ73.J652.T9 AT65.J54.KQT.AJ4\n",
      "Q8742.T98.A4.Q87 A9.64.KQ973.AKJ5 KJ3.AQ73.J652.T9 T65.KJ52.T8.6432\n",
      "Q8742.T98.A4.Q87 T6.J642.KQ873.A6 KJ3.AQ73.J652.T9 A95.K5.T9.KJ5432\n",
      "Q8742.T98.A4.Q87 T9.4.873.AKJ6532 KJ3.AQ73.J652.T9 A65.KJ652.KQT9.4\n",
      "Q8742.T98.A4.Q87 T.J64.KQT98.A432 KJ3.AQ73.J652.T9 A965.K52.73.KJ65\n",
      "Q8742.T98.A4.Q87 65.K54.KQT93.J63 KJ3.AQ73.J652.T9 AT9.J62.87.AK542\n",
      "Q8742.T98.A4.Q87 AT5.KJ4.QT7.AK32 KJ3.AQ73.J652.T9 96.652.K983.J654\n",
      "Q8742.T98.A4.Q87 T5.J642.KQ987.A3 KJ3.AQ73.J652.T9 A96.K5.T3.KJ6542\n",
      "Q8742.T98.A4.Q87 T5.J542.87.KJ542 KJ3.AQ73.J652.T9 A96.K6.KQT93.A63\n",
      "Q8742.T98.A4.Q87 96.KJ.KQT9873.32 KJ3.AQ73.J652.T9 AT5.6542..AKJ654\n",
      "Q8742.T98.A4.Q87 A.K64.QT873.A642 KJ3.AQ73.J652.T9 T965.J52.K9.KJ53\n",
      "A863.AK82.53.Q53 QJ75.Q6.QJ.KT942 KT94.J93.A97.J86 2.T754.KT8642.A7\n",
      "A863.AK82.53.Q53 Q5.T764.KQJT8.A2 KT94.J93.A97.J86 J72.Q5.642.KT974\n",
      "A863.AK82.53.Q53 Q752.Q6.QJT2.T92 KT94.J93.A97.J86 J.T754.K864.AK74\n",
      "A863.AK82.53.Q53 Q5.64.KT4.AKT942 KT94.J93.A97.J86 J72.QT75.QJ862.7\n",
      "A863.AK82.53.Q53 Q752.T75.862.K74 KT94.J93.A97.J86 J.Q64.KQJT4.AT92\n",
      "A863.AK82.53.Q53 Q52.QT65.KQT2.K4 KT94.J93.A97.J86 J7.74.J864.AT972\n",
      "A863.AK82.53.Q53 J.Q76.KQ864.KT92 KT94.J93.A97.J86 Q752.T54.JT2.A74\n",
      "A863.AK82.53.Q53 7.T65.KJT842.A42 KT94.J93.A97.J86 QJ52.Q74.Q6.KT97\n",
      "A863.AK82.53.Q53 J5.Q754.QJT82.K7 KT94.J93.A97.J86 Q72.T6.K64.AT942\n",
      "A863.AK82.53.Q53 Q72.T.KQJ862.A94 KT94.J93.A97.J86 J5.Q7654.T4.KT72\n",
      "A863.AK82.53.Q53 Q72.764.JT42.A92 KT94.J93.A97.J86 J5.QT5.KQ86.KT74\n",
      "A863.AK82.53.Q53 QJ2.QT4.J42.K742 KT94.J93.A97.J86 75.765.KQT86.AT9\n",
      "A863.AK82.53.Q53 72.QT7.KJT2.AT74 KT94.J93.A97.J86 QJ5.654.Q864.K92\n",
      "A863.AK82.53.Q53 QJ72.Q76.T.AKT92 KT94.J93.A97.J86 5.T54.KQJ8642.74\n",
      "A863.AK82.53.Q53 QJ7.Q5.JT864.974 KT94.J93.A97.J86 52.T764.KQ2.AKT2\n",
      "A863.AK82.53.Q53 J5.QT7.T84.KT972 KT94.J93.A97.J86 Q72.654.KQJ62.A4\n",
      "A863.AK82.53.Q53 Q.QT754.JT62.AT9 KT94.J93.A97.J86 J752.6.KQ84.K742\n",
      "A863.AK82.53.Q53 QJ72.Q75.KQ8.T92 KT94.J93.A97.J86 5.T64.JT642.AK74\n",
      "A863.AK82.53.Q53 752.QT7.KQJ2.K74 KT94.J93.A97.J86 QJ.654.T864.AT92\n",
      "A863.AK82.53.Q53 J75.QT654.QT8.T4 KT94.J93.A97.J86 Q2.7.KJ642.AK972\n"
     ]
    }
   ],
   "source": [
    "cards = \"ABCDE98765432\"\n",
    "suits = \"shdc\"\n",
    "\n",
    "def fix(x):\n",
    "    if x == 'A':\n",
    "        return 'T'\n",
    "    if x == 'B':\n",
    "        return 'J'\n",
    "    if x == 'C':\n",
    "        return 'Q'\n",
    "    if x == 'D':\n",
    "        return 'K'\n",
    "    if x == 'E':\n",
    "        return 'A'\n",
    "    return x\n",
    "\n",
    "def HCP(deck):\n",
    "    cnt = 0\n",
    "    print (deck)\n",
    "    return cnt\n",
    "\n",
    "deck = []\n",
    "for c in cards:\n",
    "    for s in suits:\n",
    "        deck.append(c+s)\n",
    "\n",
    "import random, sys\n",
    "\n",
    "print (100)\n",
    "\n",
    "for t in range(0, 100):\n",
    "\n",
    "    if (t % 20) == 0:\n",
    "        random.shuffle(deck)\n",
    "        \n",
    "    d1 = deck[:13] + deck[26:39]\n",
    "    d2 = deck[13:26] + deck[39:]\n",
    "    random.shuffle(d2)\n",
    "    deck = d1[:13] + d2[:13] + d1[13:] + d2[13:]\n",
    "\n",
    "    p = [[], [], [], []]\n",
    "    for i in range(0,4):\n",
    "        for s in suits:\n",
    "            ps = ''\n",
    "            for j in range(13 * i, 13 * (i + 1)):\n",
    "                if deck[j][1] == s:\n",
    "                    ps += deck[j][0]\n",
    "            ps = sorted(ps, reverse=True)\n",
    "            p[i] += ps\n",
    "            if s != \"c\":\n",
    "                p[i] += [\".\"]\n",
    "\n",
    "    for i in range(0, 4):\n",
    "        if i == 0:\n",
    "            sys.stdout.write('')\n",
    "        else:\n",
    "            sys.stdout.write(' ')\n",
    "        for j in p[i]:\n",
    "            sys.stdout.write(fix(j))\n",
    "    sys.stdout.write(\"\\n\")"
   ]
  },
  {
   "cell_type": "code",
   "execution_count": null,
   "metadata": {},
   "outputs": [],
   "source": []
  }
 ],
 "metadata": {
  "kernelspec": {
   "display_name": "Python 3",
   "language": "python",
   "name": "python3"
  },
  "language_info": {
   "codemirror_mode": {
    "name": "ipython",
    "version": 3
   },
   "file_extension": ".py",
   "mimetype": "text/x-python",
   "name": "python",
   "nbconvert_exporter": "python",
   "pygments_lexer": "ipython3",
   "version": "3.6.8"
  },
  "toc": {
   "base_numbering": 1,
   "nav_menu": {},
   "number_sections": true,
   "sideBar": true,
   "skip_h1_title": false,
   "title_cell": "Table of Contents",
   "title_sidebar": "Contents",
   "toc_cell": false,
   "toc_position": {},
   "toc_section_display": true,
   "toc_window_display": false
  },
  "varInspector": {
   "cols": {
    "lenName": 16,
    "lenType": 16,
    "lenVar": 40
   },
   "kernels_config": {
    "python": {
     "delete_cmd_postfix": "",
     "delete_cmd_prefix": "del ",
     "library": "var_list.py",
     "varRefreshCmd": "print(var_dic_list())"
    },
    "r": {
     "delete_cmd_postfix": ") ",
     "delete_cmd_prefix": "rm(",
     "library": "var_list.r",
     "varRefreshCmd": "cat(var_dic_list()) "
    }
   },
   "types_to_exclude": [
    "module",
    "function",
    "builtin_function_or_method",
    "instance",
    "_Feature"
   ],
   "window_display": false
  }
 },
 "nbformat": 4,
 "nbformat_minor": 2
}
