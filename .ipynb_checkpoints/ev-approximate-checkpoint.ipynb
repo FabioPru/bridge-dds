{
 "cells": [
  {
   "cell_type": "code",
   "execution_count": 17,
   "metadata": {
    "ExecuteTime": {
     "end_time": "2019-07-26T20:33:23.074516Z",
     "start_time": "2019-07-26T20:33:23.039090Z"
    }
   },
   "outputs": [],
   "source": [
    "import matplotlib.pyplot as plt\n",
    "import seaborn as sns\n",
    "# Configs\n",
    "%config InlineBackend.figure_format ='retina'\n",
    "%matplotlib inline\n",
    "\n",
    "from sklearn.experimental import enable_hist_gradient_boosting\n",
    "from sklearn import base, neural_network, neighbors, feature_extraction, datasets, linear_model, metrics, model_selection, preprocessing, svm, ensemble, decomposition, feature_extraction, utils\n",
    "\n",
    "import keras\n"
   ]
  },
  {
   "cell_type": "code",
   "execution_count": 18,
   "metadata": {
    "ExecuteTime": {
     "end_time": "2019-07-26T20:33:23.672264Z",
     "start_time": "2019-07-26T20:33:23.290512Z"
    }
   },
   "outputs": [],
   "source": [
    "# Load Bridge helper classes\n",
    "%run helpers/bridge.ipynb\n",
    "%run helpers/load-data.ipynb\n",
    "%run helpers/train-eval-utils.ipynb"
   ]
  },
  {
   "cell_type": "code",
   "execution_count": 19,
   "metadata": {
    "ExecuteTime": {
     "end_time": "2019-07-26T20:33:23.842461Z",
     "start_time": "2019-07-26T20:33:23.754381Z"
    }
   },
   "outputs": [],
   "source": [
    "# Loads all the data, takes about 30s\n",
    "data = load_deals(100)"
   ]
  },
  {
   "cell_type": "code",
   "execution_count": 21,
   "metadata": {
    "ExecuteTime": {
     "end_time": "2019-07-26T20:33:47.507919Z",
     "start_time": "2019-07-26T20:33:47.346004Z"
    }
   },
   "outputs": [],
   "source": [
    "# Concatenating features for N and S only\n",
    "X = [np.array([h.feature_array() for h in [d.hands[0], d.hands[2]]]).flatten()\n",
    "     for d in data]\n",
    "\n",
    "# List of IMP diffs from best contract for all 36 possible results\n",
    "y = [np.array(d.precompute().ev_list(with_opps=True))\n",
    "    for d in data]"
   ]
  },
  {
   "cell_type": "code",
   "execution_count": 23,
   "metadata": {
    "ExecuteTime": {
     "end_time": "2019-07-26T20:34:01.756496Z",
     "start_time": "2019-07-26T20:34:01.752909Z"
    }
   },
   "outputs": [],
   "source": [
    "a = linear_model.LinearRegression()"
   ]
  },
  {
   "cell_type": "code",
   "execution_count": 24,
   "metadata": {
    "ExecuteTime": {
     "end_time": "2019-07-26T20:34:02.222788Z",
     "start_time": "2019-07-26T20:34:02.211590Z"
    }
   },
   "outputs": [
    {
     "data": {
      "text/plain": [
       "LinearRegression(copy_X=True, fit_intercept=True, n_jobs=None, normalize=False)"
      ]
     },
     "execution_count": 24,
     "metadata": {},
     "output_type": "execute_result"
    }
   ],
   "source": [
    "a.fit(X, y)"
   ]
  },
  {
   "cell_type": "code",
   "execution_count": null,
   "metadata": {},
   "outputs": [],
   "source": []
  }
 ],
 "metadata": {
  "kernelspec": {
   "display_name": "Python 3",
   "language": "python",
   "name": "python3"
  },
  "language_info": {
   "codemirror_mode": {
    "name": "ipython",
    "version": 3
   },
   "file_extension": ".py",
   "mimetype": "text/x-python",
   "name": "python",
   "nbconvert_exporter": "python",
   "pygments_lexer": "ipython3",
   "version": "3.7.3"
  },
  "toc": {
   "base_numbering": 1,
   "nav_menu": {},
   "number_sections": true,
   "sideBar": true,
   "skip_h1_title": false,
   "title_cell": "Table of Contents",
   "title_sidebar": "Contents",
   "toc_cell": false,
   "toc_position": {},
   "toc_section_display": true,
   "toc_window_display": false
  }
 },
 "nbformat": 4,
 "nbformat_minor": 2
}
