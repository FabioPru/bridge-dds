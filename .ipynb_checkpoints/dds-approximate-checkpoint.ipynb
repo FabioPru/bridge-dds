{
 "cells": [
  {
   "cell_type": "code",
   "execution_count": null,
   "metadata": {},
   "outputs": [],
   "source": [
    "from sklearn.experimental import enable_hist_gradient_boosting\n",
    "\n",
    "import matplotlib.pyplot as plt\n",
    "import seaborn as sns\n",
    "# Configs\n",
    "%config InlineBackend.figure_format ='retina'\n",
    "%matplotlib inline\n",
    "\n",
    "import time\n",
    "\n",
    "from sklearn import base, neural_network, neighbors, feature_extraction, datasets, linear_model, metrics, model_selection, preprocessing, svm, ensemble, decomposition, feature_extraction, utils\n"
   ]
  },
  {
   "cell_type": "code",
   "execution_count": 1,
   "metadata": {
    "ExecuteTime": {
     "end_time": "2019-07-26T08:02:53.292406Z",
     "start_time": "2019-07-26T08:02:52.462022Z"
    }
   },
   "outputs": [],
   "source": [
    "# Load Bridge helper classes\n",
    "%run load-data.ipynb\n",
    "\n",
    "data = load_deals(1000)"
   ]
  },
  {
   "cell_type": "code",
   "execution_count": null,
   "metadata": {},
   "outputs": [],
   "source": [
    "# Concatenating features\n",
    "X = [np.array([h.feature_array() for h in d.hands]).flatten()\n",
    "     for d in data]\n",
    "\n",
    "# Winners in a particular strain played from N\n",
    "y = [d.wnrs[strains.index('NT')]['N'] for d in data]"
   ]
  },
  {
   "cell_type": "code",
   "execution_count": null,
   "metadata": {},
   "outputs": [],
   "source": []
  },
  {
   "cell_type": "code",
   "execution_count": null,
   "metadata": {},
   "outputs": [],
   "source": []
  },
  {
   "cell_type": "code",
   "execution_count": 16,
   "metadata": {
    "ExecuteTime": {
     "end_time": "2019-07-26T08:07:09.369975Z",
     "start_time": "2019-07-26T08:07:09.249498Z"
    }
   },
   "outputs": [],
   "source": []
  },
  {
   "cell_type": "code",
   "execution_count": null,
   "metadata": {},
   "outputs": [],
   "source": [
    "from keras.models import Sequential\n",
    "from keras.layers import Dense, Dropout, Activation, PReLU\n",
    "\n",
    "def seq_model(input_s, layers_no=4, layers_s=256, activation='relu', optimizer='sgd', dropout=False, loss='mean_squared_error',\n",
    "              **kwargs):\n",
    "    model = Sequential()\n",
    "    # Dense(64) is a fully-connected layer with 64 hidden units.\n",
    "    # in the first layer, you must specify the expected input data shape:\n",
    "    # here, 20-dimensional vectors.\n",
    "    model.add(Dense(layers_s, activation=activation, input_dim=input_s, **kwargs))\n",
    "    for _ in range(0, layers_no-1):\n",
    "        if dropout:\n",
    "            model.add(Dropout(0.5))\n",
    "        model.add(Dense(layers_s, activation=activation, **kwargs))\n",
    "\n",
    "    model.add(Dense(1, activation='relu', **kwargs))\n",
    "    model.compile(loss=loss, optimizer=optimizer, metrics=['mean_absolute_error'])\n",
    "    return model"
   ]
  },
  {
   "cell_type": "code",
   "execution_count": null,
   "metadata": {},
   "outputs": [],
   "source": [
    "def train_eval(models,\n",
    "               features=[(is_NS, '52-vector with 0/1 if it belongs to NS')], \n",
    "               targets=[(imp_diff_900_6NT, 'IMP-difference for playing 6NT vs 900-score')]):\n",
    "    \n",
    "    if not isinstance(models, list):\n",
    "        models = [models]\n",
    "    \n",
    "    for X, f_desc in features:\n",
    "        print (\"Features: \" + f_desc + \"\\n\")\n",
    "        for y, t_desc in targets:\n",
    "            print (\"    Targets: \" + t_desc)\n",
    "            ts = time.time(); accuracies = []\n",
    "            X_tr, X_ts, y_tr, y_ts = model_selection.train_test_split(X, y, test_size=0.2, random_state=1)\n",
    "            \n",
    "            for m_d in models:\n",
    "                if 'desc' not in m_d:\n",
    "                    m_d['desc'] = 'unknown m '\n",
    "                for kw in 'bfp':\n",
    "                    if kw+'_args' not in m_d:\n",
    "                        m_d[kw+'_args'] = {}\n",
    "                \n",
    "                if isinstance(m_d['m'], base.BaseEstimator):\n",
    "                    m = m_d['m']\n",
    "                else:\n",
    "                    # Model has to be built\n",
    "                    m = m_d['m'](input_s=X_tr.shape[1], **m_d['b_args'])\n",
    "                \n",
    "                ts = time.time()\n",
    "                m.fit(X_tr, y_tr, **m_d['f_args'])\n",
    "                print (\"        M: \" + m_d['desc'] + \" # \", end='')\n",
    "                y_pred = m.predict(X_ts, **m_d['p_args'])\n",
    "                y_tr_pred = m.predict(X_tr, **m_d['p_args'])\n",
    "                #print (\"P:\",  y_pred, end='')\n",
    "                print (\" test MAE: \" + \"{0:.2f}\".format(metrics.mean_absolute_error(y_ts, y_pred)), end='' )\n",
    "                print (\" - tr MAE: \" + \"{0:.2f}\".format(metrics.mean_absolute_error(y_tr, y_tr_pred)), end='' )\n",
    "                print (\" T: \" + \"{0:.1f}\".format(time.time() - ts) + \"s\")\n",
    "                "
   ]
  },
  {
   "cell_type": "code",
   "execution_count": null,
   "metadata": {},
   "outputs": [],
   "source": [
    "train_eval({'m': linear_model.LinearRegression(), 'desc': 'LinearRegr'})  # 1 min on GPU"
   ]
  },
  {
   "cell_type": "code",
   "execution_count": null,
   "metadata": {},
   "outputs": [],
   "source": [
    "train_eval({'m': seq_model, 'desc': 'MLPNadamTan',\n",
    "            'b_args': {'activation': 'tanh', 'optimizer': keras.optimizers.Nadam()},\n",
    "            'f_args': {'batch_size': 32, 'epochs': 4, 'verbose': 2}})  # 1 min on GPU"
   ]
  }
 ],
 "metadata": {
  "kernelspec": {
   "display_name": "Python 3",
   "language": "python",
   "name": "python3"
  },
  "language_info": {
   "codemirror_mode": {
    "name": "ipython",
    "version": 3
   },
   "file_extension": ".py",
   "mimetype": "text/x-python",
   "name": "python",
   "nbconvert_exporter": "python",
   "pygments_lexer": "ipython3",
   "version": "3.7.3"
  },
  "toc": {
   "base_numbering": 1,
   "nav_menu": {},
   "number_sections": true,
   "sideBar": true,
   "skip_h1_title": false,
   "title_cell": "Table of Contents",
   "title_sidebar": "Contents",
   "toc_cell": false,
   "toc_position": {},
   "toc_section_display": true,
   "toc_window_display": false
  }
 },
 "nbformat": 4,
 "nbformat_minor": 2
}
