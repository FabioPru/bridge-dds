{
 "cells": [
  {
   "cell_type": "code",
   "execution_count": 46,
   "metadata": {
    "ExecuteTime": {
     "end_time": "2019-07-30T18:31:12.095271Z",
     "start_time": "2019-07-30T18:31:11.850914Z"
    }
   },
   "outputs": [],
   "source": [
    "import matplotlib.pyplot as plt\n",
    "import seaborn as sns\n",
    "# Configs\n",
    "%config InlineBackend.figure_format ='retina'\n",
    "%matplotlib inline\n",
    "\n",
    "from sklearn.experimental import enable_hist_gradient_boosting\n",
    "from sklearn import base, neural_network, neighbors, feature_extraction, datasets, linear_model, metrics, model_selection, preprocessing, svm, ensemble, decomposition, feature_extraction, utils\n",
    "\n",
    "import keras\n",
    "import joblib"
   ]
  },
  {
   "cell_type": "code",
   "execution_count": 10,
   "metadata": {
    "ExecuteTime": {
     "end_time": "2019-07-29T16:24:16.666954Z",
     "start_time": "2019-07-29T16:24:16.242701Z"
    }
   },
   "outputs": [],
   "source": [
    "# Load Bridge helper classes\n",
    "%run helpers/bridge.ipynb\n",
    "%run helpers/load-data.ipynb\n",
    "%run helpers/train-eval-utils.ipynb"
   ]
  },
  {
   "cell_type": "code",
   "execution_count": 13,
   "metadata": {
    "ExecuteTime": {
     "end_time": "2019-07-29T16:55:35.356415Z",
     "start_time": "2019-07-29T16:25:14.508627Z"
    }
   },
   "outputs": [],
   "source": [
    "# Loads & precomputes all the data, takes about 2.5min\n",
    "data = load_deals()"
   ]
  },
  {
   "cell_type": "code",
   "execution_count": 26,
   "metadata": {
    "ExecuteTime": {
     "end_time": "2019-07-29T21:05:20.064309Z",
     "start_time": "2019-07-29T21:02:23.553139Z"
    }
   },
   "outputs": [],
   "source": [
    "# Concatenating features\n",
    "X = [np.array([h.feature_array() for h in d.hands]).flatten()\n",
    "     for d in data]\n",
    "\n",
    "# Winners in a particular strain played from N\n",
    "y = [d.wnrs[strains.index('NT')]['N'] for d in data]\n",
    "y_suit = [d.wnrs[strains.index('s')]['N'] for d in data]"
   ]
  },
  {
   "cell_type": "code",
   "execution_count": null,
   "metadata": {},
   "outputs": [],
   "source": [
    "# PREVIOUS PERFORMANCE with old features, smaller dataset\n",
    "\n",
    "# Features: Globally-defined X\n",
    "#     Targets: Globally-defined y\n",
    "\n",
    "\n",
    "#         M: Skl 1layNN #  test MAE: 0.76 - tr MAE: 0.72 - T: 256.4s # 40.2|86.2|97.8\n",
    "#         M: HistGB     #  test MAE: 0.84 - tr MAE: 0.82 - T:   6.6s # 36.3|83.6|97.0\n",
    "#         M: LinearRegr #  test MAE: 0.97 - tr MAE: 0.96 - T:   0.7s # 32.3|77.6|94.8\n"
   ]
  },
  {
   "cell_type": "code",
   "execution_count": null,
   "metadata": {},
   "outputs": [],
   "source": [
    "#   10 iter = 1.5 min\n",
    "#        M: Skl 1layNN #  test MAE: 0.80 - tr MAE: 0.79 - T: 59.6s # 38.0|84.9|97.5\n",
    "\n",
    "#    200 iterations = 45 mins\n",
    "#        M: Skl 1layNN #  test MAE: 0.73 - tr MAE: 0.70 - T: 2753.0s # 41.2|87.9|98.4\n",
    "\n",
    "# 10 iter = 6 min\n",
    "#        M: 4 layer 256 #  test MAE: 0.70 - tr MAE: 0.67 - T: 351.3s # 43.0|88.9|98.4\n",
    "#        M: 7 layer 256 #  test MAE: 0.68 - tr MAE: 0.65 - T: 445.1s # 44.2|89.4|98.5\n",
    "#           12 layer was same as 7, but worse training time\n",
    "\n",
    "## results with mask instead\n",
    "#        M: 7 layer 256 #  test MAE: 0.77 - tr MAE: 0.67 - T: 598.2s # 39.5|85.9|97.6\n",
    "\n",
    "\n",
    "#    convergence = 44 iterations\n",
    "#        M: Sklearn-NN #  test MAE: 0.61 - tr MAE: 0.50 - T: 6613.4s # 49.0|91.8|98.8\n"
   ]
  },
  {
   "cell_type": "code",
   "execution_count": null,
   "metadata": {},
   "outputs": [],
   "source": [
    "# sklearn 2h on NT\n",
    "\n",
    "# Features: Globally-defined X\n",
    "#     Targets: Globally-defined y\n",
    "\n",
    "#         M: Sklearn-NN #  test MAE: 0.61 - tr MAE: 0.50 - T: 6613.4s # 49.0|91.8|98.8\n",
    "            \n",
    "            \n",
    "# sklearn 2h on s\n",
    "# Features: Globally-defined X\n",
    "#     Targets: SPADE WINNERS\n",
    "\n",
    "#         M: Sklearn-NN #  test MAE: 0.45 - tr MAE: 0.37 - T: 5847.6s # 57.4|97.6|99.9\n",
    "\n"
   ]
  },
  {
   "cell_type": "code",
   "execution_count": 144,
   "metadata": {
    "ExecuteTime": {
     "end_time": "2019-07-31T01:16:00.683333Z",
     "start_time": "2019-07-30T20:51:35.558622Z"
    }
   },
   "outputs": [
    {
     "name": "stdout",
     "output_type": "stream",
     "text": [
      "Features: Globally-defined X\n",
      "    Targets: NT\n",
      "\n",
      "Epoch 1/100\n",
      "337278/337278 [==============================] - 214s 635us/step - loss: 1.1066 - mean_absolute_error: 0.7854\n",
      "Epoch 2/100\n",
      "337278/337278 [==============================] - 179s 532us/step - loss: 0.6393 - mean_absolute_error: 0.6307\n",
      "Epoch 3/100\n",
      "337278/337278 [==============================] - 180s 534us/step - loss: 0.5770 - mean_absolute_error: 0.6001\n",
      "Epoch 4/100\n",
      "337278/337278 [==============================] - 180s 535us/step - loss: 0.5455 - mean_absolute_error: 0.5831\n",
      "Epoch 5/100\n",
      "337278/337278 [==============================] - 182s 539us/step - loss: 0.5226 - mean_absolute_error: 0.5710\n",
      "Epoch 6/100\n",
      "337278/337278 [==============================] - 182s 540us/step - loss: 0.5055 - mean_absolute_error: 0.5618\n",
      "Epoch 7/100\n",
      "337278/337278 [==============================] - 168s 497us/step - loss: 0.4919 - mean_absolute_error: 0.5540\n",
      "Epoch 8/100\n",
      "337278/337278 [==============================] - 155s 459us/step - loss: 0.4804 - mean_absolute_error: 0.5477\n",
      "Epoch 9/100\n",
      "337278/337278 [==============================] - 155s 460us/step - loss: 0.4697 - mean_absolute_error: 0.5419\n",
      "Epoch 10/100\n",
      "337278/337278 [==============================] - 155s 460us/step - loss: 0.4609 - mean_absolute_error: 0.5360\n",
      "Epoch 11/100\n",
      "337278/337278 [==============================] - 154s 458us/step - loss: 0.4603 - mean_absolute_error: 0.5352\n",
      "Epoch 12/100\n",
      "337278/337278 [==============================] - 155s 459us/step - loss: 0.4462 - mean_absolute_error: 0.5275\n",
      "Epoch 13/100\n",
      "337278/337278 [==============================] - 155s 460us/step - loss: 0.4395 - mean_absolute_error: 0.5234\n",
      "Epoch 14/100\n",
      "337278/337278 [==============================] - 155s 459us/step - loss: 0.4343 - mean_absolute_error: 0.5210\n",
      "Epoch 15/100\n",
      "337278/337278 [==============================] - 155s 458us/step - loss: 0.4287 - mean_absolute_error: 0.5173\n",
      "Epoch 16/100\n",
      "337278/337278 [==============================] - 155s 460us/step - loss: 0.4250 - mean_absolute_error: 0.5149\n",
      "Epoch 17/100\n",
      "337278/337278 [==============================] - 155s 460us/step - loss: 0.4205 - mean_absolute_error: 0.5120\n",
      "Epoch 18/100\n",
      "337278/337278 [==============================] - 155s 459us/step - loss: 0.4171 - mean_absolute_error: 0.5098\n",
      "Epoch 19/100\n",
      "337278/337278 [==============================] - 155s 460us/step - loss: 0.4136 - mean_absolute_error: 0.5079\n",
      "Epoch 20/100\n",
      "337278/337278 [==============================] - 155s 459us/step - loss: 0.4090 - mean_absolute_error: 0.5054\n",
      "Epoch 21/100\n",
      "337278/337278 [==============================] - 155s 460us/step - loss: 0.4116 - mean_absolute_error: 0.5066s - loss: 0.4117 - mean_absolute_\n",
      "Epoch 22/100\n",
      "337278/337278 [==============================] - 155s 460us/step - loss: 0.4036 - mean_absolute_error: 0.5024\n",
      "Epoch 23/100\n",
      "337278/337278 [==============================] - 155s 459us/step - loss: 0.4017 - mean_absolute_error: 0.5005\n",
      "Epoch 24/100\n",
      "337278/337278 [==============================] - 155s 459us/step - loss: 0.3996 - mean_absolute_error: 0.4993\n",
      "Epoch 25/100\n",
      "337278/337278 [==============================] - 156s 461us/step - loss: 0.3977 - mean_absolute_error: 0.4976s - loss: 0.3977 - mean_absolute_error:\n",
      "Epoch 26/100\n",
      "337278/337278 [==============================] - 155s 460us/step - loss: 0.3938 - mean_absolute_error: 0.4957\n",
      "Epoch 27/100\n",
      "337278/337278 [==============================] - 155s 460us/step - loss: 0.3927 - mean_absolute_error: 0.4950\n",
      "Epoch 28/100\n",
      "337278/337278 [==============================] - 155s 460us/step - loss: 0.3913 - mean_absolute_error: 0.4941\n",
      "Epoch 29/100\n",
      "337278/337278 [==============================] - 155s 460us/step - loss: 0.3885 - mean_absolute_error: 0.4924\n",
      "Epoch 30/100\n",
      "337278/337278 [==============================] - 157s 464us/step - loss: 0.3867 - mean_absolute_error: 0.4913\n",
      "Epoch 31/100\n",
      "337278/337278 [==============================] - 155s 459us/step - loss: 0.3955 - mean_absolute_error: 0.4957\n",
      "Epoch 32/100\n",
      "337278/337278 [==============================] - 156s 462us/step - loss: 0.3836 - mean_absolute_error: 0.4896\n",
      "Epoch 33/100\n",
      "337278/337278 [==============================] - 155s 459us/step - loss: 0.3812 - mean_absolute_error: 0.4876\n",
      "Epoch 34/100\n",
      "337278/337278 [==============================] - 155s 461us/step - loss: 0.3821 - mean_absolute_error: 0.4880\n",
      "Epoch 35/100\n",
      "337278/337278 [==============================] - 155s 460us/step - loss: 0.3884 - mean_absolute_error: 0.4917\n",
      "Epoch 36/100\n",
      "337278/337278 [==============================] - 155s 459us/step - loss: 0.3774 - mean_absolute_error: 0.4850\n",
      "Epoch 37/100\n",
      "337278/337278 [==============================] - 155s 459us/step - loss: 0.3801 - mean_absolute_error: 0.4865\n",
      "Epoch 38/100\n",
      "337278/337278 [==============================] - 162s 480us/step - loss: 0.3761 - mean_absolute_error: 0.4846\n",
      "Epoch 39/100\n",
      "337278/337278 [==============================] - 156s 463us/step - loss: 0.3761 - mean_absolute_error: 0.4840\n",
      "Epoch 40/100\n",
      "337278/337278 [==============================] - 155s 460us/step - loss: 0.3715 - mean_absolute_error: 0.4815\n",
      "Epoch 41/100\n",
      "337278/337278 [==============================] - 155s 460us/step - loss: 0.3712 - mean_absolute_error: 0.4812\n",
      "Epoch 42/100\n",
      "337278/337278 [==============================] - 155s 461us/step - loss: 0.3746 - mean_absolute_error: 0.4827\n",
      "Epoch 43/100\n",
      "337278/337278 [==============================] - 155s 459us/step - loss: 0.3700 - mean_absolute_error: 0.4804\n",
      "Epoch 44/100\n",
      "337278/337278 [==============================] - 155s 460us/step - loss: 0.3718 - mean_absolute_error: 0.4813\n",
      "Epoch 45/100\n",
      "337278/337278 [==============================] - 155s 459us/step - loss: 0.3693 - mean_absolute_error: 0.4803\n",
      "Epoch 46/100\n",
      "337278/337278 [==============================] - 155s 459us/step - loss: 0.3671 - mean_absolute_error: 0.4778\n",
      "Epoch 47/100\n",
      "337278/337278 [==============================] - 155s 460us/step - loss: 0.3752 - mean_absolute_error: 0.4828\n",
      "Epoch 48/100\n",
      "337278/337278 [==============================] - 155s 459us/step - loss: 0.3650 - mean_absolute_error: 0.4766\n",
      "Epoch 49/100\n",
      "337278/337278 [==============================] - 155s 459us/step - loss: 0.3637 - mean_absolute_error: 0.4763\n",
      "Epoch 50/100\n",
      "337278/337278 [==============================] - 155s 458us/step - loss: 0.3619 - mean_absolute_error: 0.4750\n",
      "Epoch 51/100\n",
      "337278/337278 [==============================] - 155s 459us/step - loss: 0.3763 - mean_absolute_error: 0.4825\n",
      "Epoch 52/100\n",
      "337278/337278 [==============================] - 155s 458us/step - loss: 0.3603 - mean_absolute_error: 0.4739\n",
      "Epoch 53/100\n",
      "337278/337278 [==============================] - 156s 462us/step - loss: 0.3599 - mean_absolute_error: 0.4736\n",
      "Epoch 54/100\n",
      "337278/337278 [==============================] - 155s 459us/step - loss: 0.3585 - mean_absolute_error: 0.4728\n",
      "Epoch 55/100\n",
      "337278/337278 [==============================] - 180s 532us/step - loss: 0.3613 - mean_absolute_error: 0.4745\n",
      "Epoch 56/100\n",
      "337278/337278 [==============================] - 161s 478us/step - loss: 0.3590 - mean_absolute_error: 0.4733\n",
      "Epoch 57/100\n",
      "337278/337278 [==============================] - 154s 455us/step - loss: 0.3595 - mean_absolute_error: 0.4732\n",
      "Epoch 58/100\n",
      "337278/337278 [==============================] - 154s 457us/step - loss: 0.3597 - mean_absolute_error: 0.4735\n",
      "Epoch 59/100\n",
      "337278/337278 [==============================] - 153s 454us/step - loss: 0.3544 - mean_absolute_error: 0.4703\n",
      "Epoch 60/100\n",
      "337278/337278 [==============================] - 154s 456us/step - loss: 0.3564 - mean_absolute_error: 0.4709\n",
      "Epoch 61/100\n",
      "337278/337278 [==============================] - 153s 454us/step - loss: 0.3534 - mean_absolute_error: 0.4694\n",
      "Epoch 62/100\n",
      "337278/337278 [==============================] - 154s 455us/step - loss: 0.3528 - mean_absolute_error: 0.4691\n",
      "Epoch 63/100\n",
      "337278/337278 [==============================] - 153s 453us/step - loss: 0.3526 - mean_absolute_error: 0.4693\n",
      "Epoch 64/100\n",
      "337278/337278 [==============================] - 153s 455us/step - loss: 0.3519 - mean_absolute_error: 0.4685\n",
      "Epoch 65/100\n",
      "337278/337278 [==============================] - 153s 453us/step - loss: 0.3555 - mean_absolute_error: 0.4705\n",
      "Epoch 66/100\n"
     ]
    },
    {
     "name": "stdout",
     "output_type": "stream",
     "text": [
      "337278/337278 [==============================] - 152s 451us/step - loss: 0.3490 - mean_absolute_error: 0.4667\n",
      "Epoch 67/100\n",
      "337278/337278 [==============================] - 158s 468us/step - loss: 0.3572 - mean_absolute_error: 0.4709\n",
      "Epoch 68/100\n",
      "337278/337278 [==============================] - 155s 459us/step - loss: 0.3491 - mean_absolute_error: 0.4657\n",
      "Epoch 69/100\n",
      "337278/337278 [==============================] - 152s 451us/step - loss: 0.3486 - mean_absolute_error: 0.4656\n",
      "Epoch 70/100\n",
      "337278/337278 [==============================] - 152s 451us/step - loss: 0.3659 - mean_absolute_error: 0.4760\n",
      "Epoch 71/100\n",
      "337278/337278 [==============================] - 154s 456us/step - loss: 0.3497 - mean_absolute_error: 0.4667\n",
      "Epoch 72/100\n",
      "337278/337278 [==============================] - 153s 452us/step - loss: 0.3643 - mean_absolute_error: 0.4728\n",
      "Epoch 73/100\n",
      "337278/337278 [==============================] - 152s 451us/step - loss: 0.3555 - mean_absolute_error: 0.4707\n",
      "Epoch 74/100\n",
      "337278/337278 [==============================] - 154s 457us/step - loss: 0.3470 - mean_absolute_error: 0.4646\n",
      "Epoch 75/100\n",
      "337278/337278 [==============================] - 153s 453us/step - loss: 0.3492 - mean_absolute_error: 0.4661\n",
      "Epoch 76/100\n",
      "337278/337278 [==============================] - 196s 582us/step - loss: 0.3594 - mean_absolute_error: 0.4726\n",
      "Epoch 77/100\n",
      "337278/337278 [==============================] - 159s 472us/step - loss: 0.3554 - mean_absolute_error: 0.4693\n",
      "Epoch 78/100\n",
      "337278/337278 [==============================] - 154s 457us/step - loss: 0.3518 - mean_absolute_error: 0.4686\n",
      "Epoch 79/100\n",
      "337278/337278 [==============================] - 154s 457us/step - loss: 0.3526 - mean_absolute_error: 0.4677\n",
      "Epoch 80/100\n",
      "337278/337278 [==============================] - 154s 457us/step - loss: 0.3559 - mean_absolute_error: 0.4690\n",
      "Epoch 81/100\n",
      "337278/337278 [==============================] - 154s 458us/step - loss: 0.3557 - mean_absolute_error: 0.4704\n",
      "Epoch 82/100\n",
      "337278/337278 [==============================] - 154s 457us/step - loss: 0.3443 - mean_absolute_error: 0.4633\n",
      "Epoch 83/100\n",
      "337278/337278 [==============================] - 154s 458us/step - loss: 0.3435 - mean_absolute_error: 0.4627\n",
      "Epoch 84/100\n",
      "337278/337278 [==============================] - 155s 458us/step - loss: 0.3519 - mean_absolute_error: 0.4672\n",
      "Epoch 85/100\n",
      "337278/337278 [==============================] - 155s 458us/step - loss: 0.3420 - mean_absolute_error: 0.4616\n",
      "Epoch 86/100\n",
      "337278/337278 [==============================] - 162s 482us/step - loss: 0.3414 - mean_absolute_error: 0.4615\n",
      "Epoch 87/100\n",
      "337278/337278 [==============================] - 155s 458us/step - loss: 0.3447 - mean_absolute_error: 0.4636\n",
      "Epoch 88/100\n",
      "337278/337278 [==============================] - 155s 459us/step - loss: 0.3453 - mean_absolute_error: 0.4640\n",
      "Epoch 89/100\n",
      "337278/337278 [==============================] - 154s 457us/step - loss: 0.3443 - mean_absolute_error: 0.4635\n",
      "Epoch 90/100\n",
      "337278/337278 [==============================] - 155s 461us/step - loss: 0.3394 - mean_absolute_error: 0.4605\n",
      "Epoch 91/100\n",
      "337278/337278 [==============================] - 154s 458us/step - loss: 0.3392 - mean_absolute_error: 0.4599\n",
      "Epoch 92/100\n",
      "337278/337278 [==============================] - 155s 459us/step - loss: 0.3386 - mean_absolute_error: 0.4594\n",
      "Epoch 93/100\n",
      "337278/337278 [==============================] - 155s 459us/step - loss: 0.3386 - mean_absolute_error: 0.4590\n",
      "Epoch 94/100\n",
      "337278/337278 [==============================] - 167s 497us/step - loss: 0.3384 - mean_absolute_error: 0.4593\n",
      "Epoch 95/100\n",
      "337278/337278 [==============================] - 191s 566us/step - loss: 0.3393 - mean_absolute_error: 0.4596\n",
      "Epoch 96/100\n",
      "337278/337278 [==============================] - 154s 456us/step - loss: 0.3427 - mean_absolute_error: 0.4614\n",
      "Epoch 97/100\n",
      "337278/337278 [==============================] - 152s 450us/step - loss: 0.3485 - mean_absolute_error: 0.4640\n",
      "Epoch 98/100\n",
      "337278/337278 [==============================] - 152s 449us/step - loss: 0.3415 - mean_absolute_error: 0.4617\n",
      "Epoch 99/100\n",
      "337278/337278 [==============================] - 154s 457us/step - loss: 0.3385 - mean_absolute_error: 0.4599\n",
      "Epoch 100/100\n",
      "337278/337278 [==============================] - 157s 465us/step - loss: 0.3512 - mean_absolute_error: 0.4656\n",
      "        M: MLPNadamTan #  test MAE: 0.43 - tr MAE: 0.39 - T: 15855.7s # 59.4|98.1|99.9\n"
     ]
    }
   ],
   "source": [
    "keras_m = train_eval_dds({'m': seq_model, 'desc': 'MLPNadamTan',\n",
    "            'b_args': {'activation': 'relu', 'optimizer': keras.optimizers.Nadam(),\n",
    "                       'layers_no': 6, 'dropout': False},\n",
    "            'f_args': {'batch_size': 64, 'epochs': 100, 'verbose': 1}}, \n",
    "                         targets=[(y, 'NT')], ret_model=True)  # 3min/epoch on CPU"
   ]
  },
  {
   "cell_type": "code",
   "execution_count": null,
   "metadata": {},
   "outputs": [],
   "source": []
  },
  {
   "cell_type": "code",
   "execution_count": 145,
   "metadata": {
    "ExecuteTime": {
     "end_time": "2019-07-31T04:59:50.759809Z",
     "start_time": "2019-07-31T01:16:00.702709Z"
    }
   },
   "outputs": [
    {
     "name": "stdout",
     "output_type": "stream",
     "text": [
      "Features: Globally-defined X\n",
      "    Targets: SPADES\n",
      "\n",
      "Epoch 1/100\n",
      "337278/337278 [==============================] - 171s 507us/step - loss: 1.0789 - mean_absolute_error: 0.7889\n",
      "Epoch 2/100\n",
      "337278/337278 [==============================] - 153s 452us/step - loss: 0.6379 - mean_absolute_error: 0.6309\n",
      "Epoch 3/100\n",
      "337278/337278 [==============================] - 151s 448us/step - loss: 0.5795 - mean_absolute_error: 0.6015\n",
      "Epoch 4/100\n",
      "337278/337278 [==============================] - 152s 450us/step - loss: 0.5504 - mean_absolute_error: 0.5861\n",
      "Epoch 5/100\n",
      "337278/337278 [==============================] - 151s 448us/step - loss: 0.5300 - mean_absolute_error: 0.5752\n",
      "Epoch 6/100\n",
      "337278/337278 [==============================] - 152s 451us/step - loss: 0.5144 - mean_absolute_error: 0.5665\n",
      "Epoch 7/100\n",
      "337278/337278 [==============================] - 151s 448us/step - loss: 0.5015 - mean_absolute_error: 0.5594\n",
      "Epoch 8/100\n",
      "337278/337278 [==============================] - 152s 450us/step - loss: 0.4905 - mean_absolute_error: 0.5535\n",
      "Epoch 9/100\n",
      "337278/337278 [==============================] - 151s 449us/step - loss: 0.4806 - mean_absolute_error: 0.5477\n",
      "Epoch 10/100\n",
      "337278/337278 [==============================] - 152s 449us/step - loss: 0.4726 - mean_absolute_error: 0.5434\n",
      "Epoch 11/100\n",
      "337278/337278 [==============================] - 151s 449us/step - loss: 0.4653 - mean_absolute_error: 0.5395\n",
      "Epoch 12/100\n",
      "337278/337278 [==============================] - 152s 450us/step - loss: 0.4593 - mean_absolute_error: 0.5363\n",
      "Epoch 13/100\n",
      "337278/337278 [==============================] - 152s 451us/step - loss: 0.4544 - mean_absolute_error: 0.5329\n",
      "Epoch 14/100\n",
      "337278/337278 [==============================] - 151s 449us/step - loss: 0.4500 - mean_absolute_error: 0.5307\n",
      "Epoch 15/100\n",
      "337278/337278 [==============================] - 152s 450us/step - loss: 0.4457 - mean_absolute_error: 0.5279\n",
      "Epoch 16/100\n",
      "337278/337278 [==============================] - 151s 449us/step - loss: 0.4399 - mean_absolute_error: 0.5245\n",
      "Epoch 17/100\n",
      "337278/337278 [==============================] - 152s 450us/step - loss: 0.4370 - mean_absolute_error: 0.5227\n",
      "Epoch 18/100\n",
      "337278/337278 [==============================] - 152s 450us/step - loss: 0.4330 - mean_absolute_error: 0.5204\n",
      "Epoch 19/100\n",
      "337278/337278 [==============================] - 151s 449us/step - loss: 0.4283 - mean_absolute_error: 0.5176\n",
      "Epoch 20/100\n",
      "337278/337278 [==============================] - 158s 467us/step - loss: 0.4269 - mean_absolute_error: 0.5171\n",
      "Epoch 21/100\n",
      "337278/337278 [==============================] - 151s 449us/step - loss: 0.4223 - mean_absolute_error: 0.5142\n",
      "Epoch 22/100\n",
      "337278/337278 [==============================] - 154s 455us/step - loss: 0.4202 - mean_absolute_error: 0.5131\n",
      "Epoch 23/100\n",
      "337278/337278 [==============================] - 222s 657us/step - loss: 0.4172 - mean_absolute_error: 0.5109\n",
      "Epoch 24/100\n",
      "337278/337278 [==============================] - 213s 632us/step - loss: 0.4147 - mean_absolute_error: 0.5093\n",
      "Epoch 25/100\n",
      "337278/337278 [==============================] - 165s 490us/step - loss: 0.4130 - mean_absolute_error: 0.5082\n",
      "Epoch 26/100\n",
      "337278/337278 [==============================] - 152s 449us/step - loss: 0.4098 - mean_absolute_error: 0.5066\n",
      "Epoch 27/100\n",
      "337278/337278 [==============================] - 152s 451us/step - loss: 0.4081 - mean_absolute_error: 0.5055\n",
      "Epoch 28/100\n",
      "337278/337278 [==============================] - 152s 450us/step - loss: 0.4062 - mean_absolute_error: 0.5041\n",
      "Epoch 29/100\n",
      "337278/337278 [==============================] - 152s 450us/step - loss: 0.4048 - mean_absolute_error: 0.5030\n",
      "Epoch 30/100\n",
      "337278/337278 [==============================] - 152s 450us/step - loss: 0.4028 - mean_absolute_error: 0.5017\n",
      "Epoch 31/100\n",
      "337278/337278 [==============================] - 152s 451us/step - loss: 0.4007 - mean_absolute_error: 0.5005\n",
      "Epoch 32/100\n",
      "337278/337278 [==============================] - 152s 449us/step - loss: 0.4001 - mean_absolute_error: 0.5000\n",
      "Epoch 33/100\n",
      "337278/337278 [==============================] - 152s 450us/step - loss: 0.3972 - mean_absolute_error: 0.4986\n",
      "Epoch 34/100\n",
      "337278/337278 [==============================] - 152s 449us/step - loss: 0.3959 - mean_absolute_error: 0.4978\n",
      "Epoch 35/100\n",
      "337278/337278 [==============================] - 152s 450us/step - loss: 0.3951 - mean_absolute_error: 0.4977\n",
      "Epoch 36/100\n",
      "337278/337278 [==============================] - 152s 452us/step - loss: 0.3943 - mean_absolute_error: 0.4970\n",
      "Epoch 37/100\n",
      "337278/337278 [==============================] - 152s 451us/step - loss: 0.3920 - mean_absolute_error: 0.4958\n",
      "Epoch 38/100\n",
      "337278/337278 [==============================] - 157s 467us/step - loss: 0.3902 - mean_absolute_error: 0.4941\n",
      "Epoch 39/100\n",
      "337278/337278 [==============================] - 154s 457us/step - loss: 0.3888 - mean_absolute_error: 0.4932\n",
      "Epoch 40/100\n",
      "337278/337278 [==============================] - 152s 452us/step - loss: 0.3877 - mean_absolute_error: 0.4926\n",
      "Epoch 41/100\n",
      "337278/337278 [==============================] - 153s 454us/step - loss: 0.4051 - mean_absolute_error: 0.5029\n",
      "Epoch 42/100\n",
      "337278/337278 [==============================] - 152s 450us/step - loss: 0.3895 - mean_absolute_error: 0.4936\n",
      "Epoch 43/100\n",
      "337278/337278 [==============================] - 150s 444us/step - loss: 0.3853 - mean_absolute_error: 0.4912\n",
      "Epoch 44/100\n",
      "337278/337278 [==============================] - 118s 349us/step - loss: 0.3844 - mean_absolute_error: 0.4905\n",
      "Epoch 45/100\n",
      "337278/337278 [==============================] - 118s 351us/step - loss: 0.3829 - mean_absolute_error: 0.4893\n",
      "Epoch 46/100\n",
      "337278/337278 [==============================] - 117s 347us/step - loss: 0.3816 - mean_absolute_error: 0.4884\n",
      "Epoch 47/100\n",
      "337278/337278 [==============================] - 118s 349us/step - loss: 0.3835 - mean_absolute_error: 0.4892\n",
      "Epoch 48/100\n",
      "337278/337278 [==============================] - 117s 348us/step - loss: 0.3792 - mean_absolute_error: 0.4869\n",
      "Epoch 49/100\n",
      "337278/337278 [==============================] - 117s 348us/step - loss: 0.3861 - mean_absolute_error: 0.4905\n",
      "Epoch 50/100\n",
      "337278/337278 [==============================] - 117s 348us/step - loss: 0.3786 - mean_absolute_error: 0.4864\n",
      "Epoch 51/100\n",
      "337278/337278 [==============================] - 118s 348us/step - loss: 0.3780 - mean_absolute_error: 0.4862\n",
      "Epoch 52/100\n",
      "337278/337278 [==============================] - 117s 348us/step - loss: 0.3780 - mean_absolute_error: 0.4861\n",
      "Epoch 53/100\n",
      "337278/337278 [==============================] - 117s 348us/step - loss: 0.3755 - mean_absolute_error: 0.4850\n",
      "Epoch 54/100\n",
      "337278/337278 [==============================] - 118s 350us/step - loss: 0.3745 - mean_absolute_error: 0.4845\n",
      "Epoch 55/100\n",
      "337278/337278 [==============================] - 118s 349us/step - loss: 0.3743 - mean_absolute_error: 0.4840\n",
      "Epoch 56/100\n",
      "337278/337278 [==============================] - 117s 347us/step - loss: 0.3807 - mean_absolute_error: 0.4872\n",
      "Epoch 57/100\n",
      "337278/337278 [==============================] - 117s 347us/step - loss: 0.3761 - mean_absolute_error: 0.4846\n",
      "Epoch 58/100\n",
      "337278/337278 [==============================] - 117s 348us/step - loss: 0.3735 - mean_absolute_error: 0.4832\n",
      "Epoch 59/100\n",
      "337278/337278 [==============================] - 117s 347us/step - loss: 0.3716 - mean_absolute_error: 0.4818\n",
      "Epoch 60/100\n",
      "337278/337278 [==============================] - 117s 348us/step - loss: 0.3740 - mean_absolute_error: 0.4833\n",
      "Epoch 61/100\n",
      "337278/337278 [==============================] - 117s 347us/step - loss: 0.3710 - mean_absolute_error: 0.4816\n",
      "Epoch 62/100\n",
      "337278/337278 [==============================] - 117s 347us/step - loss: 0.3691 - mean_absolute_error: 0.4805\n",
      "Epoch 63/100\n",
      "337278/337278 [==============================] - 117s 348us/step - loss: 0.3708 - mean_absolute_error: 0.4814\n",
      "Epoch 64/100\n",
      "337278/337278 [==============================] - 118s 349us/step - loss: 0.3733 - mean_absolute_error: 0.4823\n",
      "Epoch 65/100\n",
      "337278/337278 [==============================] - 117s 348us/step - loss: 0.3676 - mean_absolute_error: 0.4791\n",
      "Epoch 66/100\n",
      "337278/337278 [==============================] - 117s 348us/step - loss: 0.3676 - mean_absolute_error: 0.4790\n",
      "Epoch 67/100\n"
     ]
    },
    {
     "name": "stdout",
     "output_type": "stream",
     "text": [
      "337278/337278 [==============================] - 117s 346us/step - loss: 0.3663 - mean_absolute_error: 0.4783\n",
      "Epoch 68/100\n",
      "337278/337278 [==============================] - 117s 346us/step - loss: 0.3703 - mean_absolute_error: 0.4806\n",
      "Epoch 69/100\n",
      "337278/337278 [==============================] - 117s 346us/step - loss: 0.3659 - mean_absolute_error: 0.4779\n",
      "Epoch 70/100\n",
      "337278/337278 [==============================] - 117s 346us/step - loss: 0.3648 - mean_absolute_error: 0.4772\n",
      "Epoch 71/100\n",
      "337278/337278 [==============================] - 117s 346us/step - loss: 0.3653 - mean_absolute_error: 0.4772\n",
      "Epoch 72/100\n",
      "337278/337278 [==============================] - 117s 346us/step - loss: 0.3657 - mean_absolute_error: 0.4778\n",
      "Epoch 73/100\n",
      "337278/337278 [==============================] - 117s 346us/step - loss: 0.3656 - mean_absolute_error: 0.4783\n",
      "Epoch 74/100\n",
      "337278/337278 [==============================] - 117s 346us/step - loss: 0.3638 - mean_absolute_error: 0.4770\n",
      "Epoch 75/100\n",
      "337278/337278 [==============================] - 117s 346us/step - loss: 0.3616 - mean_absolute_error: 0.4759\n",
      "Epoch 76/100\n",
      "337278/337278 [==============================] - 118s 349us/step - loss: 0.3650 - mean_absolute_error: 0.4780\n",
      "Epoch 77/100\n",
      "337278/337278 [==============================] - 117s 346us/step - loss: 0.3678 - mean_absolute_error: 0.4791\n",
      "Epoch 78/100\n",
      "337278/337278 [==============================] - 117s 346us/step - loss: 0.3612 - mean_absolute_error: 0.4755\n",
      "Epoch 79/100\n",
      "337278/337278 [==============================] - 117s 346us/step - loss: 0.3606 - mean_absolute_error: 0.4748\n",
      "Epoch 80/100\n",
      "337278/337278 [==============================] - 118s 350us/step - loss: 0.3610 - mean_absolute_error: 0.4757\n",
      "Epoch 81/100\n",
      "337278/337278 [==============================] - 117s 346us/step - loss: 0.3620 - mean_absolute_error: 0.4758\n",
      "Epoch 82/100\n",
      "337278/337278 [==============================] - 117s 346us/step - loss: 0.3602 - mean_absolute_error: 0.4747\n",
      "Epoch 83/100\n",
      "337278/337278 [==============================] - 117s 347us/step - loss: 0.3694 - mean_absolute_error: 0.4791\n",
      "Epoch 84/100\n",
      "337278/337278 [==============================] - 117s 347us/step - loss: 0.3584 - mean_absolute_error: 0.4735\n",
      "Epoch 85/100\n",
      "337278/337278 [==============================] - 117s 347us/step - loss: 0.3593 - mean_absolute_error: 0.4744\n",
      "Epoch 86/100\n",
      "337278/337278 [==============================] - 117s 346us/step - loss: 0.3582 - mean_absolute_error: 0.4736\n",
      "Epoch 87/100\n",
      "337278/337278 [==============================] - 117s 346us/step - loss: 0.4492 - mean_absolute_error: 0.4853\n",
      "Epoch 88/100\n",
      "337278/337278 [==============================] - 117s 346us/step - loss: 0.3643 - mean_absolute_error: 0.4768\n",
      "Epoch 89/100\n",
      "337278/337278 [==============================] - 117s 347us/step - loss: 0.3599 - mean_absolute_error: 0.4742\n",
      "Epoch 90/100\n",
      "337278/337278 [==============================] - 117s 346us/step - loss: 0.3580 - mean_absolute_error: 0.4731\n",
      "Epoch 91/100\n",
      "337278/337278 [==============================] - 117s 347us/step - loss: 0.3572 - mean_absolute_error: 0.4725\n",
      "Epoch 92/100\n",
      "337278/337278 [==============================] - 117s 346us/step - loss: 0.3584 - mean_absolute_error: 0.4734\n",
      "Epoch 93/100\n",
      "337278/337278 [==============================] - 117s 346us/step - loss: 0.3560 - mean_absolute_error: 0.4714\n",
      "Epoch 94/100\n",
      "337278/337278 [==============================] - 117s 347us/step - loss: 0.3558 - mean_absolute_error: 0.4711\n",
      "Epoch 95/100\n",
      "337278/337278 [==============================] - 117s 348us/step - loss: 0.3545 - mean_absolute_error: 0.4710\n",
      "Epoch 96/100\n",
      "337278/337278 [==============================] - 117s 348us/step - loss: 0.3574 - mean_absolute_error: 0.4727\n",
      "Epoch 97/100\n",
      "337278/337278 [==============================] - 117s 346us/step - loss: 0.3542 - mean_absolute_error: 0.4707\n",
      "Epoch 98/100\n",
      "337278/337278 [==============================] - 117s 346us/step - loss: 0.3535 - mean_absolute_error: 0.4704\n",
      "Epoch 99/100\n",
      "337278/337278 [==============================] - 117s 347us/step - loss: 0.3593 - mean_absolute_error: 0.4728\n",
      "Epoch 100/100\n",
      "337278/337278 [==============================] - 117s 347us/step - loss: 0.3692 - mean_absolute_error: 0.4783\n",
      "        M: MLPNadamTan #  test MAE: 0.44 - tr MAE: 0.40 - T: 13424.1s # 57.8|97.9|99.9\n"
     ]
    }
   ],
   "source": [
    "keras_s = train_eval_dds({'m': seq_model, 'desc': 'MLPNadamTan',\n",
    "            'b_args': {'activation': 'relu', 'optimizer': keras.optimizers.Nadam(),\n",
    "                       'layers_no': 6, 'dropout': False},\n",
    "            'f_args': {'batch_size': 64, 'epochs': 100, 'verbose': 1}}, \n",
    "                         targets=[(y_suit, 'SPADES')], ret_model=True)  # 3min/epoch on CPU"
   ]
  },
  {
   "cell_type": "code",
   "execution_count": null,
   "metadata": {},
   "outputs": [],
   "source": []
  },
  {
   "cell_type": "code",
   "execution_count": 146,
   "metadata": {
    "ExecuteTime": {
     "end_time": "2019-07-31T04:59:55.501558Z",
     "start_time": "2019-07-31T04:59:50.773291Z"
    }
   },
   "outputs": [
    {
     "data": {
      "text/plain": [
       "['models/ftarrays_to_dds_NT_keras.pkl']"
      ]
     },
     "execution_count": 146,
     "metadata": {},
     "output_type": "execute_result"
    }
   ],
   "source": [
    "joblib.dump(keras_m, 'models/ftarrays_to_dds_NT_keras.pkl') "
   ]
  },
  {
   "cell_type": "code",
   "execution_count": 147,
   "metadata": {
    "ExecuteTime": {
     "end_time": "2019-07-31T04:59:58.545857Z",
     "start_time": "2019-07-31T04:59:55.504713Z"
    }
   },
   "outputs": [
    {
     "data": {
      "text/plain": [
       "['models/ftarrays_to_dds_s_keras.pkl']"
      ]
     },
     "execution_count": 147,
     "metadata": {},
     "output_type": "execute_result"
    }
   ],
   "source": [
    "joblib.dump(keras_s, 'models/ftarrays_to_dds_s_keras.pkl') "
   ]
  },
  {
   "cell_type": "code",
   "execution_count": null,
   "metadata": {},
   "outputs": [],
   "source": []
  },
  {
   "cell_type": "code",
   "execution_count": null,
   "metadata": {},
   "outputs": [],
   "source": [
    "# 3 epochs\n",
    "\n",
    "#   nt     M: MLPNadamTan #  test MAE: 0.55 - tr MAE: 0.55 - T: 431.2s # 49.8|95.0|99.8\n",
    "#    s     M: MLPNadamTan #  test MAE: 0.55 - tr MAE: 0.54 - T: 466.5s # 50.2|95.0|99.7\n",
    "\n",
    "# 100 epochs\n",
    "#   nt     M: MLPNadamTan #  test MAE: 0.43 - tr MAE: 0.39 - T: 15855.7s # 59.4|98.1|99.9\n",
    "#    s     M: MLPNadamTan #  test MAE: 0.44 - tr MAE: 0.40 - T: 13424.1s # 57.8|97.9|99.9\n",
    "\n"
   ]
  },
  {
   "cell_type": "code",
   "execution_count": 149,
   "metadata": {
    "ExecuteTime": {
     "end_time": "2019-07-31T08:55:38.691448Z",
     "start_time": "2019-07-31T08:48:35.559065Z"
    }
   },
   "outputs": [
    {
     "name": "stdout",
     "output_type": "stream",
     "text": [
      "Epoch 1/1\n",
      "421598/421598 [==============================] - 419s 994us/step - loss: 0.3664 - mean_absolute_error: 0.4773\n"
     ]
    },
    {
     "data": {
      "text/plain": [
       "<keras.callbacks.History at 0x1e2bead7f0>"
      ]
     },
     "execution_count": 149,
     "metadata": {},
     "output_type": "execute_result"
    }
   ],
   "source": [
    "keras_m[0].fit(X, y, epochs=1)"
   ]
  },
  {
   "cell_type": "code",
   "execution_count": 160,
   "metadata": {
    "ExecuteTime": {
     "end_time": "2019-07-31T08:59:30.172212Z",
     "start_time": "2019-07-31T08:59:29.873805Z"
    }
   },
   "outputs": [
    {
     "data": {
      "image/png": "[encoded data removed]",
      "text/plain": [
       "<Figure size 432x288 with 1 Axes>"
      ]
     },
     "metadata": {
      "image/png": {
       "height": 277,
       "width": 385
      },
      "needs_background": "light"
     },
     "output_type": "display_data"
    }
   ],
   "source": [
    "\n",
    "import matplotlib.pyplot as plt\n",
    "\n",
    "history = keras_s[0].history\n",
    "\n",
    "# Plot training & validation accuracy values\n",
    "plt.plot(history.history['loss'])\n",
    "plt.plot(history.history['mean_absolute_error'])\n",
    "plt.title('Model accuracy')\n",
    "plt.ylabel('Loss')\n",
    "plt.xlabel('Epoch')\n",
    "plt.legend(['loss', 'MAE'], loc='upper left')\n",
    "plt.show()\n"
   ]
  },
  {
   "cell_type": "code",
   "execution_count": null,
   "metadata": {},
   "outputs": [],
   "source": []
  }
 ],
 "metadata": {
  "kernelspec": {
   "display_name": "Python 3",
   "language": "python",
   "name": "python3"
  },
  "language_info": {
   "codemirror_mode": {
    "name": "ipython",
    "version": 3
   },
   "file_extension": ".py",
   "mimetype": "text/x-python",
   "name": "python",
   "nbconvert_exporter": "python",
   "pygments_lexer": "ipython3",
   "version": "3.7.3"
  },
  "toc": {
   "base_numbering": 1,
   "nav_menu": {},
   "number_sections": true,
   "sideBar": true,
   "skip_h1_title": false,
   "title_cell": "Table of Contents",
   "title_sidebar": "Contents",
   "toc_cell": false,
   "toc_position": {},
   "toc_section_display": true,
   "toc_window_display": false
  }
 },
 "nbformat": 4,
 "nbformat_minor": 2
}
