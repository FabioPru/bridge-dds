{
 "cells": [
  {
   "cell_type": "code",
   "execution_count": 1,
   "metadata": {
    "ExecuteTime": {
     "end_time": "2019-07-31T11:12:26.806036Z",
     "start_time": "2019-07-31T11:12:16.571720Z"
    }
   },
   "outputs": [
    {
     "name": "stderr",
     "output_type": "stream",
     "text": [
      "Using TensorFlow backend.\n"
     ]
    }
   ],
   "source": [
    "import matplotlib.pyplot as plt\n",
    "import seaborn as sns\n",
    "# Configs\n",
    "%config InlineBackend.figure_format ='retina'\n",
    "%matplotlib inline\n",
    "\n",
    "from sklearn.experimental import enable_hist_gradient_boosting\n",
    "from sklearn import externals, base, neural_network, neighbors, feature_extraction, datasets, linear_model, metrics, model_selection, preprocessing, svm, ensemble, decomposition, feature_extraction, utils\n",
    "\n",
    "import keras\n",
    "import scipy"
   ]
  },
  {
   "cell_type": "code",
   "execution_count": 3,
   "metadata": {
    "ExecuteTime": {
     "end_time": "2019-07-31T11:13:13.758195Z",
     "start_time": "2019-07-31T11:13:05.706509Z"
    }
   },
   "outputs": [
    {
     "name": "stdout",
     "output_type": "stream",
     "text": [
      "WARNING:tensorflow:From /Applications/miniconda3/lib/python3.7/site-packages/tensorflow/python/framework/op_def_library.py:263: colocate_with (from tensorflow.python.framework.ops) is deprecated and will be removed in a future version.\n",
      "Instructions for updating:\n",
      "Colocations handled automatically by placer.\n",
      "WARNING:tensorflow:From /Applications/miniconda3/lib/python3.7/site-packages/tensorflow/python/ops/math_ops.py:3066: to_int32 (from tensorflow.python.ops.math_ops) is deprecated and will be removed in a future version.\n",
      "Instructions for updating:\n",
      "Use tf.cast instead.\n",
      "98.KQJ.AT93.JT86 J73.A7653.4.K953 AQ542.2.QJ75.A42 KT6.T984.K862.Q7\n",
      "Best c: ('4d', 'N') scoring 27.5; with opps ('4d', 'N')\n"
     ]
    }
   ],
   "source": [
    "# Load Bridge helper classes\n",
    "%run helpers/bridge.ipynb\n",
    "%run helpers/load-data.ipynb\n",
    "%run helpers/train-eval-utils.ipynb\n",
    "\n",
    "# prints a sample call to Deal()"
   ]
  },
  {
   "cell_type": "code",
   "execution_count": null,
   "metadata": {},
   "outputs": [],
   "source": [
    "# Scope of this:\n",
    "#  currently a hand is represented either as a vector in {0, 1}^52 \n",
    "#    which is 4 x 10^15 possibilities\n",
    "#  or as a vector in {0,..,40} x {0,..,12}^5 x {0,..,13}^5 x {0,..,5}^8 x {0,1}^24\n",
    "#    which is around 10^27\n",
    "\n",
    "#  in contrast, the amount of reasonable bidding sequences is  around 10^3 (uncontested)\n",
    "#       or around 20 - 100 (contested)\n",
    "\n",
    "#  is it possible to preserve most information while lowering the dimension of the array?\n",
    "\n",
    "# can we cluster hands with some criteria up to a small number of clusters?\n",
    "\n",
    "#sample: the bidding goes 1h - (1s) - 2h to you.\n",
    "#you have ~10 possible options, and even speaking again can decribe at most ~50 hands, but probably less\n",
    "#would like to cluster according to human criterias\n",
    "\n"
   ]
  },
  {
   "cell_type": "code",
   "execution_count": 5,
   "metadata": {
    "ExecuteTime": {
     "end_time": "2019-07-31T11:13:54.070583Z",
     "start_time": "2019-07-31T11:13:54.063249Z"
    }
   },
   "outputs": [
    {
     "data": {
      "text/plain": [
       "{'hcp': 11,\n",
       " 'ctrl_p': 3,\n",
       " 'losers': 10,\n",
       " 'dist': 1.0,\n",
       " 'c_len': 2,\n",
       " 'c_losers': 2,\n",
       " 'c_A': 0,\n",
       " 'c_K': 0,\n",
       " 'c_Q': 0,\n",
       " 'c_J': 1,\n",
       " 'c_T': 1,\n",
       " 'c_hns': 2,\n",
       " 'c_stop': 0,\n",
       " 'd_len': 5,\n",
       " 'd_losers': 2,\n",
       " 'd_A': 1,\n",
       " 'd_K': 1,\n",
       " 'd_Q': 0,\n",
       " 'd_J': 0,\n",
       " 'd_T': 0,\n",
       " 'd_hns': 2,\n",
       " 'd_stop': 1,\n",
       " 'h_len': 2,\n",
       " 'h_losers': 2,\n",
       " 'h_A': 0,\n",
       " 'h_K': 0,\n",
       " 'h_Q': 1,\n",
       " 'h_J': 0,\n",
       " 'h_T': 0,\n",
       " 'h_hns': 1,\n",
       " 'h_stop': 0,\n",
       " 's_len': 4,\n",
       " 's_losers': 4,\n",
       " 's_A': 0,\n",
       " 's_K': 0,\n",
       " 's_Q': 0,\n",
       " 's_J': 1,\n",
       " 's_T': 0,\n",
       " 's_hns': 1,\n",
       " 's_stop': 0}"
      ]
     },
     "execution_count": 5,
     "metadata": {},
     "output_type": "execute_result"
    }
   ],
   "source": [
    "Hand().features"
   ]
  },
  {
   "cell_type": "code",
   "execution_count": null,
   "metadata": {},
   "outputs": [],
   "source": []
  }
 ],
 "metadata": {
  "kernelspec": {
   "display_name": "Python 3",
   "language": "python",
   "name": "python3"
  },
  "language_info": {
   "codemirror_mode": {
    "name": "ipython",
    "version": 3
   },
   "file_extension": ".py",
   "mimetype": "text/x-python",
   "name": "python",
   "nbconvert_exporter": "python",
   "pygments_lexer": "ipython3",
   "version": "3.7.3"
  },
  "toc": {
   "base_numbering": 1,
   "nav_menu": {},
   "number_sections": true,
   "sideBar": true,
   "skip_h1_title": false,
   "title_cell": "Table of Contents",
   "title_sidebar": "Contents",
   "toc_cell": false,
   "toc_position": {},
   "toc_section_display": true,
   "toc_window_display": false
  }
 },
 "nbformat": 4,
 "nbformat_minor": 2
}
